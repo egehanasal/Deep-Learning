{
 "cells": [
  {
   "cell_type": "markdown",
   "metadata": {},
   "source": [
    "## Data Preparation and Processing"
   ]
  },
  {
   "cell_type": "code",
   "execution_count": 1,
   "metadata": {},
   "outputs": [],
   "source": [
    "import numpy as np\n",
    "import tensorflow as tf\n",
    "from tensorflow import keras\n",
    "from tensorflow.keras.models import Sequential\n",
    "from tensorflow.keras.layers import Activation, Dense\n",
    "from tensorflow.keras.optimizers import Adam\n",
    "from tensorflow.keras.metrics import categorical_crossentropy\n",
    "from sklearn.utils import shuffle\n",
    "from sklearn.preprocessing import MinMaxScaler\n",
    "from sklearn.metrics import confusion_matrix\n",
    "from random import randint\n",
    "import matplotlib.pyplot as plt\n",
    "import itertools"
   ]
  },
  {
   "cell_type": "code",
   "execution_count": 2,
   "metadata": {},
   "outputs": [],
   "source": [
    "%matplotlib inline"
   ]
  },
  {
   "cell_type": "markdown",
   "metadata": {},
   "source": [
    "About the data:   2000 students, if 30% of midterm1 + 30% of midterm2 + 40% of final >= 50: pass"
   ]
  },
  {
   "cell_type": "markdown",
   "metadata": {},
   "source": [
    "### Creating the data"
   ]
  },
  {
   "cell_type": "code",
   "execution_count": 3,
   "metadata": {},
   "outputs": [],
   "source": [
    "train_data = []\n",
    "train_labels = []"
   ]
  },
  {
   "cell_type": "code",
   "execution_count": 4,
   "metadata": {},
   "outputs": [],
   "source": [
    "for i in range(2000):\n",
    "    mid1 = randint(0, 100)\n",
    "    mid2 = randint(0, 100)\n",
    "    final = randint(0, 100)\n",
    "    train_data.append([mid1, mid2, final])\n",
    "    avg = mid1*30/100 + mid2* 30/100 + final*40/100\n",
    "    train_labels.append(1 if avg >= 50 else 0)"
   ]
  },
  {
   "cell_type": "code",
   "execution_count": 5,
   "metadata": {},
   "outputs": [],
   "source": [
    "test_data = []\n",
    "test_labels = []"
   ]
  },
  {
   "cell_type": "code",
   "execution_count": 6,
   "metadata": {},
   "outputs": [],
   "source": [
    "for i in range(200):\n",
    "    mid1 = randint(0, 100)\n",
    "    mid2 = randint(0, 100)\n",
    "    final = randint(0, 100)\n",
    "    test_data.append([mid1, mid2, final])\n",
    "    avg = mid1*30/100 + mid2* 30/100 + final*40/100\n",
    "    test_labels.append(1 if avg >= 50 else 0)"
   ]
  },
  {
   "cell_type": "code",
   "execution_count": 7,
   "metadata": {},
   "outputs": [],
   "source": [
    "train_data = np.array(train_data)\n",
    "train_labels = np.array(train_labels)\n",
    "test_data = np.array(test_data)\n",
    "test_labels = np.array(test_labels)"
   ]
  },
  {
   "cell_type": "code",
   "execution_count": 8,
   "metadata": {},
   "outputs": [],
   "source": [
    "train_data = train_data/100.0\n",
    "test_data = test_data/100.0"
   ]
  },
  {
   "cell_type": "code",
   "execution_count": 9,
   "metadata": {},
   "outputs": [
    {
     "data": {
      "text/plain": [
       "((2000, 3), (200, 3))"
      ]
     },
     "execution_count": 9,
     "metadata": {},
     "output_type": "execute_result"
    }
   ],
   "source": [
    "train_data.shape, test_data.shape"
   ]
  },
  {
   "cell_type": "markdown",
   "metadata": {},
   "source": [
    "## tf.keras Sequential Model"
   ]
  },
  {
   "cell_type": "markdown",
   "metadata": {},
   "source": [
    "For the input shape,\n",
    "\n",
    "   The number of rows in the training set is not part of the input shape of the network because the training process feeds\n",
    "   the network one sample per batch (or, more precisely, batch_size samples per batch) and in input shape, the batch\n",
    "   dimension is not included for the first layer "
   ]
  },
  {
   "cell_type": "code",
   "execution_count": 10,
   "metadata": {},
   "outputs": [],
   "source": [
    "model = Sequential([\n",
    "    Dense(16, input_shape=(3,), activation='relu'),\n",
    "    Dense(32, activation='relu'),\n",
    "    Dense(2, activation='softmax')\n",
    "])"
   ]
  },
  {
   "cell_type": "code",
   "execution_count": 11,
   "metadata": {},
   "outputs": [],
   "source": [
    "model.compile(optimizer=Adam(learning_rate=0.0001), loss='sparse_categorical_crossentropy', metrics=['accuracy'])"
   ]
  },
  {
   "cell_type": "code",
   "execution_count": 12,
   "metadata": {},
   "outputs": [
    {
     "name": "stdout",
     "output_type": "stream",
     "text": [
      "Epoch 1/100\n",
      "180/180 - 1s - loss: 0.6786 - accuracy: 0.5272 - val_loss: 0.6831 - val_accuracy: 0.4550\n",
      "Epoch 2/100\n",
      "180/180 - 0s - loss: 0.6616 - accuracy: 0.5283 - val_loss: 0.6704 - val_accuracy: 0.4750\n",
      "Epoch 3/100\n",
      "180/180 - 0s - loss: 0.6454 - accuracy: 0.5639 - val_loss: 0.6549 - val_accuracy: 0.5400\n",
      "Epoch 4/100\n",
      "180/180 - 0s - loss: 0.6276 - accuracy: 0.6311 - val_loss: 0.6355 - val_accuracy: 0.6200\n",
      "Epoch 5/100\n",
      "180/180 - 0s - loss: 0.6063 - accuracy: 0.6961 - val_loss: 0.6115 - val_accuracy: 0.6900\n",
      "Epoch 6/100\n",
      "180/180 - 0s - loss: 0.5814 - accuracy: 0.7422 - val_loss: 0.5830 - val_accuracy: 0.7250\n",
      "Epoch 7/100\n",
      "180/180 - 0s - loss: 0.5547 - accuracy: 0.7761 - val_loss: 0.5529 - val_accuracy: 0.7550\n",
      "Epoch 8/100\n",
      "180/180 - 0s - loss: 0.5275 - accuracy: 0.7922 - val_loss: 0.5221 - val_accuracy: 0.7850\n",
      "Epoch 9/100\n",
      "180/180 - 0s - loss: 0.5004 - accuracy: 0.8039 - val_loss: 0.4902 - val_accuracy: 0.8150\n",
      "Epoch 10/100\n",
      "180/180 - 0s - loss: 0.4738 - accuracy: 0.8278 - val_loss: 0.4610 - val_accuracy: 0.8150\n",
      "Epoch 11/100\n",
      "180/180 - 0s - loss: 0.4470 - accuracy: 0.8372 - val_loss: 0.4323 - val_accuracy: 0.8350\n",
      "Epoch 12/100\n",
      "180/180 - 0s - loss: 0.4204 - accuracy: 0.8556 - val_loss: 0.4040 - val_accuracy: 0.8550\n",
      "Epoch 13/100\n",
      "180/180 - 0s - loss: 0.3948 - accuracy: 0.8700 - val_loss: 0.3797 - val_accuracy: 0.8650\n",
      "Epoch 14/100\n",
      "180/180 - 0s - loss: 0.3713 - accuracy: 0.8811 - val_loss: 0.3532 - val_accuracy: 0.8750\n",
      "Epoch 15/100\n",
      "180/180 - 0s - loss: 0.3499 - accuracy: 0.8928 - val_loss: 0.3344 - val_accuracy: 0.8850\n",
      "Epoch 16/100\n",
      "180/180 - 0s - loss: 0.3302 - accuracy: 0.8961 - val_loss: 0.3130 - val_accuracy: 0.8900\n",
      "Epoch 17/100\n",
      "180/180 - 0s - loss: 0.3129 - accuracy: 0.9033 - val_loss: 0.2978 - val_accuracy: 0.8950\n",
      "Epoch 18/100\n",
      "180/180 - 0s - loss: 0.2974 - accuracy: 0.9072 - val_loss: 0.2819 - val_accuracy: 0.9000\n",
      "Epoch 19/100\n",
      "180/180 - 0s - loss: 0.2823 - accuracy: 0.9128 - val_loss: 0.2680 - val_accuracy: 0.9000\n",
      "Epoch 20/100\n",
      "180/180 - 0s - loss: 0.2692 - accuracy: 0.9178 - val_loss: 0.2566 - val_accuracy: 0.9050\n",
      "Epoch 21/100\n",
      "180/180 - 0s - loss: 0.2569 - accuracy: 0.9206 - val_loss: 0.2442 - val_accuracy: 0.9100\n",
      "Epoch 22/100\n",
      "180/180 - 0s - loss: 0.2453 - accuracy: 0.9278 - val_loss: 0.2369 - val_accuracy: 0.9100\n",
      "Epoch 23/100\n",
      "180/180 - 0s - loss: 0.2350 - accuracy: 0.9311 - val_loss: 0.2255 - val_accuracy: 0.9150\n",
      "Epoch 24/100\n",
      "180/180 - 0s - loss: 0.2253 - accuracy: 0.9322 - val_loss: 0.2157 - val_accuracy: 0.9200\n",
      "Epoch 25/100\n",
      "180/180 - 0s - loss: 0.2160 - accuracy: 0.9356 - val_loss: 0.2060 - val_accuracy: 0.9150\n",
      "Epoch 26/100\n",
      "180/180 - 0s - loss: 0.2082 - accuracy: 0.9372 - val_loss: 0.2002 - val_accuracy: 0.9200\n",
      "Epoch 27/100\n",
      "180/180 - 0s - loss: 0.2000 - accuracy: 0.9417 - val_loss: 0.1930 - val_accuracy: 0.9250\n",
      "Epoch 28/100\n",
      "180/180 - 0s - loss: 0.1924 - accuracy: 0.9439 - val_loss: 0.1893 - val_accuracy: 0.9350\n",
      "Epoch 29/100\n",
      "180/180 - 0s - loss: 0.1858 - accuracy: 0.9450 - val_loss: 0.1816 - val_accuracy: 0.9450\n",
      "Epoch 30/100\n",
      "180/180 - 0s - loss: 0.1792 - accuracy: 0.9472 - val_loss: 0.1742 - val_accuracy: 0.9500\n",
      "Epoch 31/100\n",
      "180/180 - 0s - loss: 0.1731 - accuracy: 0.9494 - val_loss: 0.1693 - val_accuracy: 0.9550\n",
      "Epoch 32/100\n",
      "180/180 - 0s - loss: 0.1674 - accuracy: 0.9517 - val_loss: 0.1646 - val_accuracy: 0.9550\n",
      "Epoch 33/100\n",
      "180/180 - 0s - loss: 0.1618 - accuracy: 0.9550 - val_loss: 0.1598 - val_accuracy: 0.9550\n",
      "Epoch 34/100\n",
      "180/180 - 0s - loss: 0.1568 - accuracy: 0.9556 - val_loss: 0.1558 - val_accuracy: 0.9550\n",
      "Epoch 35/100\n",
      "180/180 - 0s - loss: 0.1521 - accuracy: 0.9567 - val_loss: 0.1508 - val_accuracy: 0.9550\n",
      "Epoch 36/100\n",
      "180/180 - 0s - loss: 0.1475 - accuracy: 0.9606 - val_loss: 0.1483 - val_accuracy: 0.9550\n",
      "Epoch 37/100\n",
      "180/180 - 0s - loss: 0.1434 - accuracy: 0.9622 - val_loss: 0.1419 - val_accuracy: 0.9600\n",
      "Epoch 38/100\n",
      "180/180 - 0s - loss: 0.1396 - accuracy: 0.9622 - val_loss: 0.1397 - val_accuracy: 0.9600\n",
      "Epoch 39/100\n",
      "180/180 - 0s - loss: 0.1356 - accuracy: 0.9661 - val_loss: 0.1365 - val_accuracy: 0.9600\n",
      "Epoch 40/100\n",
      "180/180 - 0s - loss: 0.1322 - accuracy: 0.9672 - val_loss: 0.1328 - val_accuracy: 0.9600\n",
      "Epoch 41/100\n",
      "180/180 - 0s - loss: 0.1293 - accuracy: 0.9689 - val_loss: 0.1294 - val_accuracy: 0.9650\n",
      "Epoch 42/100\n",
      "180/180 - 0s - loss: 0.1259 - accuracy: 0.9683 - val_loss: 0.1287 - val_accuracy: 0.9600\n",
      "Epoch 43/100\n",
      "180/180 - 0s - loss: 0.1228 - accuracy: 0.9711 - val_loss: 0.1262 - val_accuracy: 0.9600\n",
      "Epoch 44/100\n",
      "180/180 - 0s - loss: 0.1200 - accuracy: 0.9733 - val_loss: 0.1214 - val_accuracy: 0.9650\n",
      "Epoch 45/100\n",
      "180/180 - 0s - loss: 0.1176 - accuracy: 0.9744 - val_loss: 0.1191 - val_accuracy: 0.9650\n",
      "Epoch 46/100\n",
      "180/180 - 0s - loss: 0.1147 - accuracy: 0.9733 - val_loss: 0.1191 - val_accuracy: 0.9600\n",
      "Epoch 47/100\n",
      "180/180 - 0s - loss: 0.1124 - accuracy: 0.9756 - val_loss: 0.1139 - val_accuracy: 0.9650\n",
      "Epoch 48/100\n",
      "180/180 - 0s - loss: 0.1097 - accuracy: 0.9750 - val_loss: 0.1141 - val_accuracy: 0.9650\n",
      "Epoch 49/100\n",
      "180/180 - 0s - loss: 0.1076 - accuracy: 0.9772 - val_loss: 0.1087 - val_accuracy: 0.9700\n",
      "Epoch 50/100\n",
      "180/180 - 0s - loss: 0.1058 - accuracy: 0.9778 - val_loss: 0.1085 - val_accuracy: 0.9650\n",
      "Epoch 51/100\n",
      "180/180 - 0s - loss: 0.1034 - accuracy: 0.9789 - val_loss: 0.1050 - val_accuracy: 0.9650\n",
      "Epoch 52/100\n",
      "180/180 - 0s - loss: 0.1015 - accuracy: 0.9783 - val_loss: 0.1039 - val_accuracy: 0.9650\n",
      "Epoch 53/100\n",
      "180/180 - 0s - loss: 0.0993 - accuracy: 0.9800 - val_loss: 0.1061 - val_accuracy: 0.9650\n",
      "Epoch 54/100\n",
      "180/180 - 0s - loss: 0.0978 - accuracy: 0.9794 - val_loss: 0.0989 - val_accuracy: 0.9750\n",
      "Epoch 55/100\n",
      "180/180 - 0s - loss: 0.0960 - accuracy: 0.9794 - val_loss: 0.0999 - val_accuracy: 0.9650\n",
      "Epoch 56/100\n",
      "180/180 - 0s - loss: 0.0942 - accuracy: 0.9800 - val_loss: 0.0962 - val_accuracy: 0.9700\n",
      "Epoch 57/100\n",
      "180/180 - 0s - loss: 0.0930 - accuracy: 0.9778 - val_loss: 0.0948 - val_accuracy: 0.9700\n",
      "Epoch 58/100\n",
      "180/180 - 0s - loss: 0.0913 - accuracy: 0.9806 - val_loss: 0.0929 - val_accuracy: 0.9750\n",
      "Epoch 59/100\n",
      "180/180 - 0s - loss: 0.0899 - accuracy: 0.9806 - val_loss: 0.0905 - val_accuracy: 0.9800\n",
      "Epoch 60/100\n",
      "180/180 - 0s - loss: 0.0885 - accuracy: 0.9806 - val_loss: 0.0894 - val_accuracy: 0.9750\n",
      "Epoch 61/100\n",
      "180/180 - 0s - loss: 0.0867 - accuracy: 0.9828 - val_loss: 0.0897 - val_accuracy: 0.9700\n",
      "Epoch 62/100\n",
      "180/180 - 0s - loss: 0.0855 - accuracy: 0.9822 - val_loss: 0.0875 - val_accuracy: 0.9750\n",
      "Epoch 63/100\n",
      "180/180 - 0s - loss: 0.0844 - accuracy: 0.9833 - val_loss: 0.0856 - val_accuracy: 0.9750\n",
      "Epoch 64/100\n",
      "180/180 - 0s - loss: 0.0825 - accuracy: 0.9850 - val_loss: 0.0889 - val_accuracy: 0.9750\n",
      "Epoch 65/100\n",
      "180/180 - 0s - loss: 0.0817 - accuracy: 0.9828 - val_loss: 0.0826 - val_accuracy: 0.9800\n",
      "Epoch 66/100\n",
      "180/180 - 0s - loss: 0.0807 - accuracy: 0.9839 - val_loss: 0.0821 - val_accuracy: 0.9750\n",
      "Epoch 67/100\n",
      "180/180 - 0s - loss: 0.0793 - accuracy: 0.9850 - val_loss: 0.0808 - val_accuracy: 0.9750\n",
      "Epoch 68/100\n",
      "180/180 - 0s - loss: 0.0779 - accuracy: 0.9839 - val_loss: 0.0805 - val_accuracy: 0.9750\n",
      "Epoch 69/100\n",
      "180/180 - 0s - loss: 0.0769 - accuracy: 0.9850 - val_loss: 0.0813 - val_accuracy: 0.9750\n",
      "Epoch 70/100\n",
      "180/180 - 0s - loss: 0.0761 - accuracy: 0.9839 - val_loss: 0.0793 - val_accuracy: 0.9750\n",
      "Epoch 71/100\n",
      "180/180 - 0s - loss: 0.0748 - accuracy: 0.9861 - val_loss: 0.0757 - val_accuracy: 0.9850\n",
      "Epoch 72/100\n",
      "180/180 - 0s - loss: 0.0739 - accuracy: 0.9850 - val_loss: 0.0765 - val_accuracy: 0.9800\n",
      "Epoch 73/100\n",
      "180/180 - 0s - loss: 0.0733 - accuracy: 0.9872 - val_loss: 0.0751 - val_accuracy: 0.9800\n",
      "Epoch 74/100\n",
      "180/180 - 0s - loss: 0.0722 - accuracy: 0.9867 - val_loss: 0.0750 - val_accuracy: 0.9800\n",
      "Epoch 75/100\n",
      "180/180 - 0s - loss: 0.0716 - accuracy: 0.9861 - val_loss: 0.0752 - val_accuracy: 0.9750\n",
      "Epoch 76/100\n",
      "180/180 - 0s - loss: 0.0705 - accuracy: 0.9883 - val_loss: 0.0724 - val_accuracy: 0.9800\n",
      "Epoch 77/100\n",
      "180/180 - 0s - loss: 0.0695 - accuracy: 0.9894 - val_loss: 0.0719 - val_accuracy: 0.9800\n",
      "Epoch 78/100\n",
      "180/180 - 0s - loss: 0.0688 - accuracy: 0.9872 - val_loss: 0.0726 - val_accuracy: 0.9750\n",
      "Epoch 79/100\n",
      "180/180 - 0s - loss: 0.0680 - accuracy: 0.9867 - val_loss: 0.0693 - val_accuracy: 0.9850\n",
      "Epoch 80/100\n",
      "180/180 - 0s - loss: 0.0673 - accuracy: 0.9889 - val_loss: 0.0718 - val_accuracy: 0.9800\n",
      "Epoch 81/100\n",
      "180/180 - 0s - loss: 0.0664 - accuracy: 0.9872 - val_loss: 0.0684 - val_accuracy: 0.9800\n"
     ]
    },
    {
     "name": "stdout",
     "output_type": "stream",
     "text": [
      "Epoch 82/100\n",
      "180/180 - 0s - loss: 0.0658 - accuracy: 0.9883 - val_loss: 0.0689 - val_accuracy: 0.9800\n",
      "Epoch 83/100\n",
      "180/180 - 0s - loss: 0.0650 - accuracy: 0.9867 - val_loss: 0.0678 - val_accuracy: 0.9800\n",
      "Epoch 84/100\n",
      "180/180 - 0s - loss: 0.0644 - accuracy: 0.9878 - val_loss: 0.0679 - val_accuracy: 0.9850\n",
      "Epoch 85/100\n",
      "180/180 - 0s - loss: 0.0636 - accuracy: 0.9867 - val_loss: 0.0679 - val_accuracy: 0.9850\n",
      "Epoch 86/100\n",
      "180/180 - 0s - loss: 0.0630 - accuracy: 0.9872 - val_loss: 0.0667 - val_accuracy: 0.9850\n",
      "Epoch 87/100\n",
      "180/180 - 0s - loss: 0.0624 - accuracy: 0.9878 - val_loss: 0.0672 - val_accuracy: 0.9850\n",
      "Epoch 88/100\n",
      "180/180 - 0s - loss: 0.0617 - accuracy: 0.9889 - val_loss: 0.0664 - val_accuracy: 0.9850\n",
      "Epoch 89/100\n",
      "180/180 - 0s - loss: 0.0610 - accuracy: 0.9883 - val_loss: 0.0640 - val_accuracy: 0.9800\n",
      "Epoch 90/100\n",
      "180/180 - 0s - loss: 0.0605 - accuracy: 0.9889 - val_loss: 0.0651 - val_accuracy: 0.9850\n",
      "Epoch 91/100\n",
      "180/180 - 0s - loss: 0.0597 - accuracy: 0.9878 - val_loss: 0.0627 - val_accuracy: 0.9800\n",
      "Epoch 92/100\n",
      "180/180 - 0s - loss: 0.0592 - accuracy: 0.9894 - val_loss: 0.0637 - val_accuracy: 0.9900\n",
      "Epoch 93/100\n",
      "180/180 - 0s - loss: 0.0589 - accuracy: 0.9872 - val_loss: 0.0627 - val_accuracy: 0.9850\n",
      "Epoch 94/100\n",
      "180/180 - 0s - loss: 0.0580 - accuracy: 0.9906 - val_loss: 0.0607 - val_accuracy: 0.9800\n",
      "Epoch 95/100\n",
      "180/180 - 0s - loss: 0.0575 - accuracy: 0.9906 - val_loss: 0.0605 - val_accuracy: 0.9800\n",
      "Epoch 96/100\n",
      "180/180 - 0s - loss: 0.0573 - accuracy: 0.9889 - val_loss: 0.0606 - val_accuracy: 0.9850\n",
      "Epoch 97/100\n",
      "180/180 - 0s - loss: 0.0564 - accuracy: 0.9867 - val_loss: 0.0610 - val_accuracy: 0.9900\n",
      "Epoch 98/100\n",
      "180/180 - 0s - loss: 0.0560 - accuracy: 0.9906 - val_loss: 0.0625 - val_accuracy: 0.9850\n",
      "Epoch 99/100\n",
      "180/180 - 0s - loss: 0.0556 - accuracy: 0.9889 - val_loss: 0.0594 - val_accuracy: 0.9850\n",
      "Epoch 100/100\n",
      "180/180 - 0s - loss: 0.0550 - accuracy: 0.9883 - val_loss: 0.0605 - val_accuracy: 0.9900\n"
     ]
    }
   ],
   "source": [
    "hist = model.fit(x=train_data, y=train_labels, validation_split=0.1, batch_size=10, epochs=100, shuffle=True, verbose=2)"
   ]
  },
  {
   "cell_type": "code",
   "execution_count": 13,
   "metadata": {},
   "outputs": [
    {
     "name": "stdout",
     "output_type": "stream",
     "text": [
      "7/7 [==============================] - 0s 2ms/step - loss: 0.0712 - accuracy: 0.9800\n"
     ]
    }
   ],
   "source": [
    "test_loss, test_acc = model.evaluate(test_data, test_labels)"
   ]
  },
  {
   "cell_type": "code",
   "execution_count": 14,
   "metadata": {},
   "outputs": [
    {
     "data": {
      "image/png": "[encoded data removed]",
      "text/plain": [
       "<Figure size 432x288 with 1 Axes>"
      ]
     },
     "metadata": {
      "needs_background": "light"
     },
     "output_type": "display_data"
    }
   ],
   "source": [
    "plt.figure()\n",
    "\n",
    "plt.plot(range(len(hist.history['loss'])), hist.history['loss'], 'b', label='Training loss')\n",
    "plt.plot(range(len(hist.history['val_loss'])), hist.history['val_loss'], 'r', label='Validation loss')\n",
    "plt.title('Training History')\n",
    "plt.xlabel(\"Epochs\")\n",
    "plt.ylabel(\"Sparse Categorical Crossentropy\")\n",
    "plt.legend()\n",
    "\n",
    "plt.show()"
   ]
  },
  {
   "cell_type": "markdown",
   "metadata": {},
   "source": [
    "## Predict"
   ]
  },
  {
   "cell_type": "code",
   "execution_count": 15,
   "metadata": {},
   "outputs": [],
   "source": [
    "predictions = model.predict(test_data)"
   ]
  },
  {
   "cell_type": "code",
   "execution_count": 16,
   "metadata": {},
   "outputs": [
    {
     "name": "stdout",
     "output_type": "stream",
     "text": [
      "Prob of fail: 0.76333433 Prob of pass: 0.2366656\n",
      "Prob of fail: 8.9138325e-07 Prob of pass: 0.99999917\n",
      "Prob of fail: 0.8994047 Prob of pass: 0.1005953\n",
      "Prob of fail: 0.99973613 Prob of pass: 0.0002638796\n",
      "Prob of fail: 0.00044880388 Prob of pass: 0.9995511\n",
      "Prob of fail: 0.9972836 Prob of pass: 0.002716437\n",
      "Prob of fail: 0.49484903 Prob of pass: 0.5051509\n",
      "Prob of fail: 0.9999987 Prob of pass: 1.3392911e-06\n",
      "Prob of fail: 0.13859166 Prob of pass: 0.86140835\n",
      "Prob of fail: 0.9901002 Prob of pass: 0.009899821\n"
     ]
    }
   ],
   "source": [
    "for i in range(10):\n",
    "    print(\"Prob of fail: \" + str(predictions[i][0]) + \" Prob of pass: \" + str(predictions[i][1]))"
   ]
  },
  {
   "cell_type": "code",
   "execution_count": 17,
   "metadata": {},
   "outputs": [],
   "source": [
    "rounded_predictions = np.argmax(predictions, axis=-1)"
   ]
  },
  {
   "cell_type": "code",
   "execution_count": 18,
   "metadata": {},
   "outputs": [
    {
     "name": "stdout",
     "output_type": "stream",
     "text": [
      "Prediction: 0 Actual label: 0\n",
      "Prediction: 1 Actual label: 1\n",
      "Prediction: 0 Actual label: 0\n",
      "Prediction: 0 Actual label: 0\n",
      "Prediction: 1 Actual label: 1\n",
      "Prediction: 0 Actual label: 0\n",
      "Prediction: 1 Actual label: 0\n",
      "Prediction: 0 Actual label: 0\n",
      "Prediction: 1 Actual label: 1\n",
      "Prediction: 0 Actual label: 0\n"
     ]
    }
   ],
   "source": [
    "for i in range(10):\n",
    "    print(\"Prediction: \" + str(rounded_predictions[i]) + \" Actual label: \" + str(test_labels[i]))"
   ]
  },
  {
   "cell_type": "markdown",
   "metadata": {},
   "source": [
    "## Confusion Matrix"
   ]
  },
  {
   "cell_type": "code",
   "execution_count": 19,
   "metadata": {},
   "outputs": [],
   "source": [
    "cm = confusion_matrix(y_true=test_labels, y_pred=rounded_predictions)"
   ]
  },
  {
   "cell_type": "code",
   "execution_count": 20,
   "metadata": {},
   "outputs": [],
   "source": [
    "def plot_confusion_matrix(cm, classes,\n",
    "                          normalize=False,\n",
    "                          title='Confusion matrix',\n",
    "                          cmap=plt.cm.Blues):\n",
    "    \"\"\"\n",
    "    This function prints and plots the confusion matrix.\n",
    "    Normalization can be applied by setting `normalize=True`.\n",
    "    \"\"\"\n",
    "    plt.imshow(cm, interpolation='nearest', cmap=cmap)\n",
    "    plt.title(title)\n",
    "    plt.colorbar()\n",
    "    tick_marks = np.arange(len(classes))\n",
    "    plt.xticks(tick_marks, classes, rotation=45)\n",
    "    plt.yticks(tick_marks, classes)\n",
    "\n",
    "    if normalize:\n",
    "        cm = cm.astype('float') / cm.sum(axis=1)[:, np.newaxis]\n",
    "        print(\"Normalized confusion matrix\")\n",
    "    else:\n",
    "        print('Confusion matrix, without normalization')\n",
    "\n",
    "    print(cm)\n",
    "\n",
    "    thresh = cm.max() / 2.\n",
    "    for i, j in itertools.product(range(cm.shape[0]), range(cm.shape[1])):\n",
    "        plt.text(j, i, cm[i, j],\n",
    "                 horizontalalignment=\"center\",\n",
    "                 color=\"white\" if cm[i, j] > thresh else \"black\")\n",
    "\n",
    "    plt.tight_layout()\n",
    "    plt.ylabel('True label')\n",
    "    plt.xlabel('Predicted label')"
   ]
  },
  {
   "cell_type": "code",
   "execution_count": 21,
   "metadata": {},
   "outputs": [
    {
     "name": "stdout",
     "output_type": "stream",
     "text": [
      "Confusion matrix, without normalization\n",
      "[[ 92   3]\n",
      " [  1 104]]\n"
     ]
    },
    {
     "data": {
      "image/png": "[encoded data removed]",
      "text/plain": [
       "<Figure size 432x288 with 2 Axes>"
      ]
     },
     "metadata": {
      "needs_background": "light"
     },
     "output_type": "display_data"
    }
   ],
   "source": [
    "cm_plot_labels = ['failed','passed']\n",
    "plot_confusion_matrix(cm, cm_plot_labels, title='Confusion Matrix')"
   ]
  },
  {
   "cell_type": "markdown",
   "metadata": {},
   "source": [
    "## Saving the model"
   ]
  },
  {
   "cell_type": "code",
   "execution_count": 22,
   "metadata": {},
   "outputs": [],
   "source": [
    "import os.path\n",
    "if os.path.isfile(\"models/pass_fail_model.h5\") is False:\n",
    "    model.save(\"models/pass_fail_model.h5\")"
   ]
  }
 ],
 "metadata": {
  "kernelspec": {
   "display_name": "Python 3",
   "language": "python",
   "name": "python3"
  },
  "language_info": {
   "codemirror_mode": {
    "name": "ipython",
    "version": 3
   },
   "file_extension": ".py",
   "mimetype": "text/x-python",
   "name": "python",
   "nbconvert_exporter": "python",
   "pygments_lexer": "ipython3",
   "version": "3.8.1"
  }
 },
 "nbformat": 4,
 "nbformat_minor": 4
}
