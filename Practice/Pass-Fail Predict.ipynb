{
 "cells": [
  {
   "cell_type": "markdown",
   "metadata": {},
   "source": [
    "## Data Preparation and Processing"
   ]
  },
  {
   "cell_type": "code",
   "execution_count": 1,
   "metadata": {},
   "outputs": [],
   "source": [
    "import numpy as np\n",
    "import tensorflow as tf\n",
    "from tensorflow import keras\n",
    "from tensorflow.keras.models import Sequential\n",
    "from tensorflow.keras.layers import Activation, Dense\n",
    "from tensorflow.keras.optimizers import Adam\n",
    "from tensorflow.keras.metrics import categorical_crossentropy\n",
    "from sklearn.utils import shuffle\n",
    "from sklearn.preprocessing import MinMaxScaler\n",
    "from sklearn.metrics import confusion_matrix\n",
    "from random import randint\n",
    "import matplotlib.pyplot as plt\n",
    "import itertools"
   ]
  },
  {
   "cell_type": "code",
   "execution_count": 2,
   "metadata": {},
   "outputs": [],
   "source": [
    "%matplotlib inline"
   ]
  },
  {
   "cell_type": "markdown",
   "metadata": {},
   "source": [
    "About the data:   2000 students, if 30% of midterm1 + 30% of midterm2 + 40% of final >= 50: pass"
   ]
  },
  {
   "cell_type": "markdown",
   "metadata": {},
   "source": [
    "### Creating the data"
   ]
  },
  {
   "cell_type": "code",
   "execution_count": 3,
   "metadata": {},
   "outputs": [],
   "source": [
    "train_data = []\n",
    "train_labels = []"
   ]
  },
  {
   "cell_type": "code",
   "execution_count": 4,
   "metadata": {},
   "outputs": [],
   "source": [
    "for i in range(2000):\n",
    "    mid1 = randint(0, 100)\n",
    "    mid2 = randint(0, 100)\n",
    "    final = randint(0, 100)\n",
    "    train_data.append([mid1, mid2, final])\n",
    "    avg = mid1*30/100 + mid2* 30/100 + final*40/100\n",
    "    train_labels.append(1 if avg >= 50 else 0)"
   ]
  },
  {
   "cell_type": "code",
   "execution_count": 5,
   "metadata": {},
   "outputs": [],
   "source": [
    "test_data = []\n",
    "test_labels = []"
   ]
  },
  {
   "cell_type": "code",
   "execution_count": 6,
   "metadata": {},
   "outputs": [],
   "source": [
    "for i in range(200):\n",
    "    mid1 = randint(0, 100)\n",
    "    mid2 = randint(0, 100)\n",
    "    final = randint(0, 100)\n",
    "    test_data.append([mid1, mid2, final])\n",
    "    avg = mid1*30/100 + mid2* 30/100 + final*40/100\n",
    "    test_labels.append(1 if avg >= 50 else 0)"
   ]
  },
  {
   "cell_type": "code",
   "execution_count": 7,
   "metadata": {},
   "outputs": [],
   "source": [
    "train_data = np.array(train_data)\n",
    "train_labels = np.array(train_labels)\n",
    "test_data = np.array(test_data)\n",
    "test_labels = np.array(test_labels)"
   ]
  },
  {
   "cell_type": "code",
   "execution_count": 8,
   "metadata": {},
   "outputs": [],
   "source": [
    "train_data = train_data/100.0\n",
    "test_data = test_data/100.0"
   ]
  },
  {
   "cell_type": "code",
   "execution_count": 9,
   "metadata": {},
   "outputs": [
    {
     "data": {
      "text/plain": [
       "((2000, 3), (200, 3))"
      ]
     },
     "execution_count": 9,
     "metadata": {},
     "output_type": "execute_result"
    }
   ],
   "source": [
    "train_data.shape, test_data.shape"
   ]
  },
  {
   "cell_type": "markdown",
   "metadata": {},
   "source": [
    "## tf.keras Sequential Model"
   ]
  },
  {
   "cell_type": "markdown",
   "metadata": {},
   "source": [
    "For the input shape,\n",
    "\n",
    "   The number of rows in the training set is not part of the input shape of the network because the training process feeds\n",
    "   the network one sample per batch (or, more precisely, batch_size samples per batch) and in input shape, the batch\n",
    "   dimension is not included for the first layer "
   ]
  },
  {
   "cell_type": "code",
   "execution_count": 10,
   "metadata": {},
   "outputs": [],
   "source": [
    "model = Sequential([\n",
    "    Dense(16, input_shape=(3,), activation='relu'),\n",
    "    Dense(32, activation='relu'),\n",
    "    Dense(2, activation='softmax')\n",
    "])"
   ]
  },
  {
   "cell_type": "code",
   "execution_count": 11,
   "metadata": {},
   "outputs": [],
   "source": [
    "model.compile(optimizer=Adam(learning_rate=0.0001), loss='sparse_categorical_crossentropy', metrics=['accuracy'])"
   ]
  },
  {
   "cell_type": "code",
   "execution_count": 12,
   "metadata": {},
   "outputs": [
    {
     "name": "stdout",
     "output_type": "stream",
     "text": [
      "Epoch 1/40\n",
      "180/180 - 1s - loss: 0.6970 - accuracy: 0.5100 - val_loss: 0.6855 - val_accuracy: 0.5700\n",
      "Epoch 2/40\n",
      "180/180 - 0s - loss: 0.6835 - accuracy: 0.5961 - val_loss: 0.6696 - val_accuracy: 0.6600\n",
      "Epoch 3/40\n",
      "180/180 - 0s - loss: 0.6717 - accuracy: 0.6189 - val_loss: 0.6544 - val_accuracy: 0.6850\n",
      "Epoch 4/40\n",
      "180/180 - 0s - loss: 0.6599 - accuracy: 0.6333 - val_loss: 0.6398 - val_accuracy: 0.7050\n",
      "Epoch 5/40\n",
      "180/180 - 0s - loss: 0.6472 - accuracy: 0.6572 - val_loss: 0.6245 - val_accuracy: 0.7450\n",
      "Epoch 6/40\n",
      "180/180 - 0s - loss: 0.6332 - accuracy: 0.6761 - val_loss: 0.6073 - val_accuracy: 0.7650\n",
      "Epoch 7/40\n",
      "180/180 - 0s - loss: 0.6174 - accuracy: 0.6950 - val_loss: 0.5881 - val_accuracy: 0.7750\n",
      "Epoch 8/40\n",
      "180/180 - 0s - loss: 0.5993 - accuracy: 0.7211 - val_loss: 0.5649 - val_accuracy: 0.7950\n",
      "Epoch 9/40\n",
      "180/180 - 0s - loss: 0.5743 - accuracy: 0.7539 - val_loss: 0.5355 - val_accuracy: 0.8200\n",
      "Epoch 10/40\n",
      "180/180 - 0s - loss: 0.5491 - accuracy: 0.7933 - val_loss: 0.5071 - val_accuracy: 0.8450\n",
      "Epoch 11/40\n",
      "180/180 - 0s - loss: 0.5232 - accuracy: 0.8167 - val_loss: 0.4775 - val_accuracy: 0.8650\n",
      "Epoch 12/40\n",
      "180/180 - 0s - loss: 0.4957 - accuracy: 0.8433 - val_loss: 0.4469 - val_accuracy: 0.8950\n",
      "Epoch 13/40\n",
      "180/180 - 0s - loss: 0.4668 - accuracy: 0.8678 - val_loss: 0.4176 - val_accuracy: 0.9200\n",
      "Epoch 14/40\n",
      "180/180 - 0s - loss: 0.4381 - accuracy: 0.8889 - val_loss: 0.3861 - val_accuracy: 0.9250\n",
      "Epoch 15/40\n",
      "180/180 - 0s - loss: 0.4103 - accuracy: 0.9011 - val_loss: 0.3579 - val_accuracy: 0.9400\n",
      "Epoch 16/40\n",
      "180/180 - 0s - loss: 0.3831 - accuracy: 0.9128 - val_loss: 0.3343 - val_accuracy: 0.9450\n",
      "Epoch 17/40\n",
      "180/180 - 0s - loss: 0.3587 - accuracy: 0.9272 - val_loss: 0.3080 - val_accuracy: 0.9600\n",
      "Epoch 18/40\n",
      "180/180 - 0s - loss: 0.3358 - accuracy: 0.9322 - val_loss: 0.2877 - val_accuracy: 0.9600\n",
      "Epoch 19/40\n",
      "180/180 - 0s - loss: 0.3149 - accuracy: 0.9356 - val_loss: 0.2672 - val_accuracy: 0.9600\n",
      "Epoch 20/40\n",
      "180/180 - 0s - loss: 0.2962 - accuracy: 0.9400 - val_loss: 0.2513 - val_accuracy: 0.9750\n",
      "Epoch 21/40\n",
      "180/180 - 0s - loss: 0.2795 - accuracy: 0.9444 - val_loss: 0.2361 - val_accuracy: 0.9650\n",
      "Epoch 22/40\n",
      "180/180 - 0s - loss: 0.2643 - accuracy: 0.9511 - val_loss: 0.2214 - val_accuracy: 0.9700\n",
      "Epoch 23/40\n",
      "180/180 - 0s - loss: 0.2505 - accuracy: 0.9544 - val_loss: 0.2113 - val_accuracy: 0.9650\n",
      "Epoch 24/40\n",
      "180/180 - 0s - loss: 0.2386 - accuracy: 0.9544 - val_loss: 0.2000 - val_accuracy: 0.9700\n",
      "Epoch 25/40\n",
      "180/180 - 0s - loss: 0.2274 - accuracy: 0.9578 - val_loss: 0.1890 - val_accuracy: 0.9700\n",
      "Epoch 26/40\n",
      "180/180 - 0s - loss: 0.2172 - accuracy: 0.9600 - val_loss: 0.1797 - val_accuracy: 0.9750\n",
      "Epoch 27/40\n",
      "180/180 - 0s - loss: 0.2078 - accuracy: 0.9617 - val_loss: 0.1719 - val_accuracy: 0.9750\n",
      "Epoch 28/40\n",
      "180/180 - 0s - loss: 0.1998 - accuracy: 0.9617 - val_loss: 0.1639 - val_accuracy: 0.9750\n",
      "Epoch 29/40\n",
      "180/180 - 0s - loss: 0.1919 - accuracy: 0.9656 - val_loss: 0.1571 - val_accuracy: 0.9750\n",
      "Epoch 30/40\n",
      "180/180 - 0s - loss: 0.1851 - accuracy: 0.9661 - val_loss: 0.1508 - val_accuracy: 0.9750\n",
      "Epoch 31/40\n",
      "180/180 - 0s - loss: 0.1786 - accuracy: 0.9672 - val_loss: 0.1446 - val_accuracy: 0.9700\n",
      "Epoch 32/40\n",
      "180/180 - 0s - loss: 0.1728 - accuracy: 0.9672 - val_loss: 0.1394 - val_accuracy: 0.9750\n",
      "Epoch 33/40\n",
      "180/180 - 0s - loss: 0.1673 - accuracy: 0.9694 - val_loss: 0.1344 - val_accuracy: 0.9750\n",
      "Epoch 34/40\n",
      "180/180 - 0s - loss: 0.1625 - accuracy: 0.9683 - val_loss: 0.1300 - val_accuracy: 0.9750\n",
      "Epoch 35/40\n",
      "180/180 - 0s - loss: 0.1576 - accuracy: 0.9694 - val_loss: 0.1255 - val_accuracy: 0.9750\n",
      "Epoch 36/40\n",
      "180/180 - 0s - loss: 0.1532 - accuracy: 0.9689 - val_loss: 0.1217 - val_accuracy: 0.9800\n",
      "Epoch 37/40\n",
      "180/180 - 0s - loss: 0.1491 - accuracy: 0.9722 - val_loss: 0.1178 - val_accuracy: 0.9750\n",
      "Epoch 38/40\n",
      "180/180 - 0s - loss: 0.1451 - accuracy: 0.9706 - val_loss: 0.1146 - val_accuracy: 0.9800\n",
      "Epoch 39/40\n",
      "180/180 - 0s - loss: 0.1416 - accuracy: 0.9761 - val_loss: 0.1113 - val_accuracy: 0.9800\n",
      "Epoch 40/40\n",
      "180/180 - 0s - loss: 0.1380 - accuracy: 0.9750 - val_loss: 0.1078 - val_accuracy: 0.9800\n"
     ]
    }
   ],
   "source": [
    "hist = model.fit(x=train_data, y=train_labels, validation_split=0.1, batch_size=10, epochs=40, shuffle=True, verbose=2)"
   ]
  },
  {
   "cell_type": "code",
   "execution_count": 13,
   "metadata": {},
   "outputs": [
    {
     "name": "stdout",
     "output_type": "stream",
     "text": [
      "7/7 [==============================] - 0s 2ms/step - loss: 0.1432 - accuracy: 0.9750\n"
     ]
    }
   ],
   "source": [
    "test_loss, test_acc = model.evaluate(test_data, test_labels)"
   ]
  },
  {
   "cell_type": "code",
   "execution_count": 14,
   "metadata": {},
   "outputs": [
    {
     "data": {
      "image/png": "[encoded data removed]",
      "text/plain": [
       "<Figure size 432x288 with 1 Axes>"
      ]
     },
     "metadata": {
      "needs_background": "light"
     },
     "output_type": "display_data"
    }
   ],
   "source": [
    "plt.figure()\n",
    "\n",
    "plt.plot(range(len(hist.history['loss'])), hist.history['loss'], 'b', label='Training loss')\n",
    "plt.plot(range(len(hist.history['val_loss'])), hist.history['val_loss'], 'r', label='Validation loss')\n",
    "plt.title('Training History')\n",
    "plt.xlabel(\"Epochs\")\n",
    "plt.ylabel(\"Sparse Categorical Crossentropy\")\n",
    "plt.legend()\n",
    "\n",
    "plt.show()"
   ]
  },
  {
   "cell_type": "markdown",
   "metadata": {},
   "source": [
    "## Predict"
   ]
  },
  {
   "cell_type": "code",
   "execution_count": 15,
   "metadata": {},
   "outputs": [],
   "source": [
    "predictions = model.predict(test_data)"
   ]
  },
  {
   "cell_type": "code",
   "execution_count": 16,
   "metadata": {},
   "outputs": [
    {
     "name": "stdout",
     "output_type": "stream",
     "text": [
      "Prob of fail: 0.98811626 Prob of pass: 0.011883732\n",
      "Prob of fail: 0.9992926 Prob of pass: 0.00070731394\n",
      "Prob of fail: 0.9413091 Prob of pass: 0.058690935\n",
      "Prob of fail: 0.35271156 Prob of pass: 0.64728844\n",
      "Prob of fail: 0.21405247 Prob of pass: 0.7859475\n",
      "Prob of fail: 0.00031020006 Prob of pass: 0.9996898\n",
      "Prob of fail: 0.09647856 Prob of pass: 0.9035214\n",
      "Prob of fail: 0.012408366 Prob of pass: 0.9875916\n",
      "Prob of fail: 0.3769977 Prob of pass: 0.62300223\n",
      "Prob of fail: 0.0026396099 Prob of pass: 0.9973604\n"
     ]
    }
   ],
   "source": [
    "for i in range(10):\n",
    "    print(\"Prob of fail: \" + str(predictions[i][0]) + \" Prob of pass: \" + str(predictions[i][1]))"
   ]
  },
  {
   "cell_type": "code",
   "execution_count": 17,
   "metadata": {},
   "outputs": [],
   "source": [
    "rounded_predictions = np.argmax(predictions, axis=-1)"
   ]
  },
  {
   "cell_type": "code",
   "execution_count": 18,
   "metadata": {},
   "outputs": [
    {
     "name": "stdout",
     "output_type": "stream",
     "text": [
      "Prediction: 0 Actual label: 0\n",
      "Prediction: 0 Actual label: 0\n",
      "Prediction: 0 Actual label: 0\n",
      "Prediction: 1 Actual label: 1\n",
      "Prediction: 1 Actual label: 1\n",
      "Prediction: 1 Actual label: 1\n",
      "Prediction: 1 Actual label: 1\n",
      "Prediction: 1 Actual label: 1\n",
      "Prediction: 1 Actual label: 1\n",
      "Prediction: 1 Actual label: 1\n"
     ]
    }
   ],
   "source": [
    "for i in range(10):\n",
    "    print(\"Prediction: \" + str(rounded_predictions[i]) + \" Actual label: \" + str(test_labels[i]))"
   ]
  },
  {
   "cell_type": "markdown",
   "metadata": {},
   "source": [
    "## Confusion Matrix"
   ]
  },
  {
   "cell_type": "code",
   "execution_count": 19,
   "metadata": {},
   "outputs": [],
   "source": [
    "cm = confusion_matrix(y_true=test_labels, y_pred=rounded_predictions)"
   ]
  },
  {
   "cell_type": "code",
   "execution_count": 20,
   "metadata": {},
   "outputs": [],
   "source": [
    "def plot_confusion_matrix(cm, classes,\n",
    "                          normalize=False,\n",
    "                          title='Confusion matrix',\n",
    "                          cmap=plt.cm.Blues):\n",
    "    \"\"\"\n",
    "    This function prints and plots the confusion matrix.\n",
    "    Normalization can be applied by setting `normalize=True`.\n",
    "    \"\"\"\n",
    "    plt.imshow(cm, interpolation='nearest', cmap=cmap)\n",
    "    plt.title(title)\n",
    "    plt.colorbar()\n",
    "    tick_marks = np.arange(len(classes))\n",
    "    plt.xticks(tick_marks, classes, rotation=45)\n",
    "    plt.yticks(tick_marks, classes)\n",
    "\n",
    "    if normalize:\n",
    "        cm = cm.astype('float') / cm.sum(axis=1)[:, np.newaxis]\n",
    "        print(\"Normalized confusion matrix\")\n",
    "    else:\n",
    "        print('Confusion matrix, without normalization')\n",
    "\n",
    "    print(cm)\n",
    "\n",
    "    thresh = cm.max() / 2.\n",
    "    for i, j in itertools.product(range(cm.shape[0]), range(cm.shape[1])):\n",
    "        plt.text(j, i, cm[i, j],\n",
    "                 horizontalalignment=\"center\",\n",
    "                 color=\"white\" if cm[i, j] > thresh else \"black\")\n",
    "\n",
    "    plt.tight_layout()\n",
    "    plt.ylabel('True label')\n",
    "    plt.xlabel('Predicted label')"
   ]
  },
  {
   "cell_type": "code",
   "execution_count": 21,
   "metadata": {},
   "outputs": [
    {
     "name": "stdout",
     "output_type": "stream",
     "text": [
      "Confusion matrix, without normalization\n",
      "[[ 93   2]\n",
      " [  3 102]]\n"
     ]
    },
    {
     "data": {
      "image/png": "[encoded data removed]",
      "text/plain": [
       "<Figure size 432x288 with 2 Axes>"
      ]
     },
     "metadata": {
      "needs_background": "light"
     },
     "output_type": "display_data"
    }
   ],
   "source": [
    "cm_plot_labels = ['failed','passed']\n",
    "plot_confusion_matrix(cm, cm_plot_labels, title='Confusion Matrix')"
   ]
  },
  {
   "cell_type": "markdown",
   "metadata": {},
   "source": [
    "## Saving the model"
   ]
  },
  {
   "cell_type": "code",
   "execution_count": 22,
   "metadata": {},
   "outputs": [],
   "source": [
    "import os.path\n",
    "if os.path.isfile(\"models/pass_fail_model.h5\") is False:\n",
    "    model.save(\"models/pass_fail_model.h5\")"
   ]
  }
 ],
 "metadata": {
  "kernelspec": {
   "display_name": "Python 3",
   "language": "python",
   "name": "python3"
  },
  "language_info": {
   "codemirror_mode": {
    "name": "ipython",
    "version": 3
   },
   "file_extension": ".py",
   "mimetype": "text/x-python",
   "name": "python",
   "nbconvert_exporter": "python",
   "pygments_lexer": "ipython3",
   "version": "3.8.1"
  }
 },
 "nbformat": 4,
 "nbformat_minor": 4
}
