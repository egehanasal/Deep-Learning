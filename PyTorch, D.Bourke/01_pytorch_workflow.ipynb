{
  "nbformat": 4,
  "nbformat_minor": 0,
  "metadata": {
    "colab": {
      "provenance": [],
      "collapsed_sections": []
    },
    "kernelspec": {
      "name": "python3",
      "display_name": "Python 3"
    },
    "language_info": {
      "name": "python"
    }
  },
  "cells": [
    {
      "cell_type": "markdown",
      "source": [
        "# PyTorch Workflow"
      ],
      "metadata": {
        "id": "ETc6_SbZ3iRA"
      }
    },
    {
      "cell_type": "markdown",
      "source": [
        "What we're covering:\n",
        "  \n",
        "  - Data (prepare and load)\n",
        "  - Build model \n",
        "  - Fitting the model to data (training)\n",
        "  - Making predictions and evaluating a model (inference)\n",
        "  - Saving and loading a model\n",
        "  - Putting it all together "
      ],
      "metadata": {
        "id": "aQtqLZRD3vhc"
      }
    },
    {
      "cell_type": "code",
      "source": [
        "import torch\n",
        "from torch import nn # nn contains all of PyTorch's building blocks for neural networks\n",
        "import matplotlib.pyplot as pyplot\n",
        "\n",
        "# Check PyTorch version\n",
        "torch.__version__"
      ],
      "metadata": {
        "colab": {
          "base_uri": "https://localhost:8080/",
          "height": 36
        },
        "id": "S38YU20b4YGT",
        "outputId": "2cfa3937-2642-437f-9af6-bd0d16ddc6e0"
      },
      "execution_count": 1,
      "outputs": [
        {
          "output_type": "execute_result",
          "data": {
            "text/plain": [
              "'1.12.1+cu113'"
            ],
            "application/vnd.google.colaboratory.intrinsic+json": {
              "type": "string"
            }
          },
          "metadata": {},
          "execution_count": 1
        }
      ]
    },
    {
      "cell_type": "markdown",
      "source": [
        "## 1. Data (preparing and loading)\n",
        "\n"
      ],
      "metadata": {
        "id": "2f7syYnt4z4P"
      }
    },
    {
      "cell_type": "markdown",
      "source": [
        "We'll use a linear regression formula to make a straight line with known `parameters`"
      ],
      "metadata": {
        "id": "EfxracVo40lW"
      }
    },
    {
      "cell_type": "code",
      "source": [
        "# Create *known* parameters\n",
        "weight = 0.7\n",
        "bias = 0.3"
      ],
      "metadata": {
        "id": "o99rk4O340pL"
      },
      "execution_count": null,
      "outputs": []
    }
  ]
}