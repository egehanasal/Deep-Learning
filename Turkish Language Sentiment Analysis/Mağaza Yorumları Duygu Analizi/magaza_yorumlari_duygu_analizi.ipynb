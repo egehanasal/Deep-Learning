{
  "cells": [
    {
      "cell_type": "markdown",
      "metadata": {
        "id": "wWAM-m35Xoer"
      },
      "source": [
        "Data: https://www.kaggle.com/mustfkeskin/turkish-movie-sentiment-analysis-dataset/code"
      ]
    },
    {
      "cell_type": "code",
      "execution_count": 69,
      "metadata": {
        "colab": {
          "base_uri": "https://localhost:8080/"
        },
        "id": "U1mt-K5Ahn_y",
        "outputId": "681c5f92-c569-4606-abb3-5ffe82af3102"
      },
      "outputs": [
        {
          "name": "stdout",
          "output_type": "stream",
          "text": [
            "GPU 0: Tesla K80 (UUID: GPU-e85f8ac8-83fd-f2d6-7ffb-2671f4409588)\n"
          ]
        }
      ],
      "source": [
        "!nvidia-smi -L"
      ]
    },
    {
      "cell_type": "code",
      "execution_count": 70,
      "metadata": {
        "colab": {
          "base_uri": "https://localhost:8080/",
          "height": 206
        },
        "id": "XV_OgZRK7tT0",
        "outputId": "131bc733-0b52-4a59-8fad-a52b1ab7a56e"
      },
      "outputs": [
        {
          "data": {
            "text/html": [
              "<div>\n",
              "<style scoped>\n",
              "    .dataframe tbody tr th:only-of-type {\n",
              "        vertical-align: middle;\n",
              "    }\n",
              "\n",
              "    .dataframe tbody tr th {\n",
              "        vertical-align: top;\n",
              "    }\n",
              "\n",
              "    .dataframe thead th {\n",
              "        text-align: right;\n",
              "    }\n",
              "</style>\n",
              "<table border=\"1\" class=\"dataframe\">\n",
              "  <thead>\n",
              "    <tr style=\"text-align: right;\">\n",
              "      <th></th>\n",
              "      <th>Görüş</th>\n",
              "      <th>Durum</th>\n",
              "    </tr>\n",
              "  </thead>\n",
              "  <tbody>\n",
              "    <tr>\n",
              "      <th>0</th>\n",
              "      <td>ses kalitesi ve ergonomisi rezalet, sony olduğ...</td>\n",
              "      <td>Olumsuz</td>\n",
              "    </tr>\n",
              "    <tr>\n",
              "      <th>1</th>\n",
              "      <td>hizli teslimat tesekkürler</td>\n",
              "      <td>Tarafsız</td>\n",
              "    </tr>\n",
              "    <tr>\n",
              "      <th>2</th>\n",
              "      <td>ses olayı süper....gece çalıştır sıkıntı yok.....</td>\n",
              "      <td>Olumlu</td>\n",
              "    </tr>\n",
              "    <tr>\n",
              "      <th>3</th>\n",
              "      <td>geldi bigün kullandık hemen bozoldu hiçtavsiye...</td>\n",
              "      <td>Olumsuz</td>\n",
              "    </tr>\n",
              "    <tr>\n",
              "      <th>4</th>\n",
              "      <td>Kulaklığın sesi kaliteli falan değil. Aleti öv...</td>\n",
              "      <td>Olumsuz</td>\n",
              "    </tr>\n",
              "  </tbody>\n",
              "</table>\n",
              "</div>"
            ],
            "text/plain": [
              "                                               Görüş     Durum\n",
              "0  ses kalitesi ve ergonomisi rezalet, sony olduğ...   Olumsuz\n",
              "1                         hizli teslimat tesekkürler  Tarafsız\n",
              "2  ses olayı süper....gece çalıştır sıkıntı yok.....    Olumlu\n",
              "3  geldi bigün kullandık hemen bozoldu hiçtavsiye...   Olumsuz\n",
              "4  Kulaklığın sesi kaliteli falan değil. Aleti öv...   Olumsuz"
            ]
          },
          "execution_count": 70,
          "metadata": {},
          "output_type": "execute_result"
        }
      ],
      "source": [
        "import pandas as pd\n",
        "\n",
        "df = pd.read_csv(\"data/magaza_yorumlari_duygu_analizi.csv\", encoding=\"utf-16\")\n",
        "df.head()"
      ]
    },
    {
      "cell_type": "code",
      "execution_count": 71,
      "metadata": {
        "colab": {
          "base_uri": "https://localhost:8080/"
        },
        "id": "sJkz-Qoohn_1",
        "outputId": "45911455-d026-44bb-d11c-84c237b6866b"
      },
      "outputs": [
        {
          "data": {
            "text/plain": [
              "Olumlu      4253\n",
              "Olumsuz     4238\n",
              "Tarafsız    2938\n",
              "Name: Durum, dtype: int64"
            ]
          },
          "execution_count": 71,
          "metadata": {},
          "output_type": "execute_result"
        }
      ],
      "source": [
        "df.Durum.value_counts()"
      ]
    },
    {
      "cell_type": "code",
      "execution_count": 72,
      "metadata": {
        "colab": {
          "base_uri": "https://localhost:8080/"
        },
        "id": "CqG7iax5hn_4",
        "outputId": "e1fd9dec-6f0d-4d2c-dbc8-6a6aa7a56b27"
      },
      "outputs": [
        {
          "name": "stdout",
          "output_type": "stream",
          "text": [
            "<class 'pandas.core.frame.DataFrame'>\n",
            "RangeIndex: 11429 entries, 0 to 11428\n",
            "Data columns (total 2 columns):\n",
            " #   Column  Non-Null Count  Dtype \n",
            "---  ------  --------------  ----- \n",
            " 0   Görüş   11426 non-null  object\n",
            " 1   Durum   11429 non-null  object\n",
            "dtypes: object(2)\n",
            "memory usage: 178.7+ KB\n"
          ]
        }
      ],
      "source": [
        "df.info()"
      ]
    },
    {
      "cell_type": "code",
      "execution_count": 73,
      "metadata": {
        "colab": {
          "base_uri": "https://localhost:8080/"
        },
        "id": "qzcdGXAsiIQX",
        "outputId": "f9d694b6-c89e-4ebf-b6be-2954388c6bd8"
      },
      "outputs": [
        {
          "name": "stdout",
          "output_type": "stream",
          "text": [
            "<class 'pandas.core.frame.DataFrame'>\n",
            "Int64Index: 11426 entries, 0 to 11428\n",
            "Data columns (total 2 columns):\n",
            " #   Column  Non-Null Count  Dtype \n",
            "---  ------  --------------  ----- \n",
            " 0   Görüş   11426 non-null  object\n",
            " 1   Durum   11426 non-null  object\n",
            "dtypes: object(2)\n",
            "memory usage: 267.8+ KB\n"
          ]
        }
      ],
      "source": [
        "df.dropna(inplace=True)\n",
        "df.info()"
      ]
    },
    {
      "cell_type": "markdown",
      "metadata": {
        "id": "rMc2XrZVOBBw"
      },
      "source": [
        "## Preprocess"
      ]
    },
    {
      "cell_type": "code",
      "execution_count": 74,
      "metadata": {
        "colab": {
          "base_uri": "https://localhost:8080/",
          "height": 35
        },
        "id": "iKKReIECiMyw",
        "outputId": "1ebbebe6-4ee1-44bf-dcb9-0a951995e901"
      },
      "outputs": [
        {
          "data": {
            "application/vnd.google.colaboratory.intrinsic+json": {
              "type": "string"
            },
            "text/plain": [
              "\"ses kalitesi ve ergonomisi rezalet, sony olduğu için aldım ama 4'de 1 fiyatına çin replika ürün alsaydım çok çok daha iyiydi, kesinlikle tavsiye etmiyorum.\""
            ]
          },
          "execution_count": 74,
          "metadata": {},
          "output_type": "execute_result"
        }
      ],
      "source": [
        "df.Görüş[0]"
      ]
    },
    {
      "cell_type": "markdown",
      "metadata": {
        "id": "TW8tI7pnhn_5"
      },
      "source": [
        "### Preprocessing guide:\n",
        "\n",
        "* 1: Organize the dataset and comment column\n",
        "* 2: Drop film_name column\n",
        "* 3: Change point column's rows to integers\n",
        "* 4: Remove punctuation (comment column) and lower the inputs\n",
        "* 5: Remove stopwords and make sentences lower(comment column)\n",
        "* 6: Stemming (comment column)"
      ]
    },
    {
      "cell_type": "markdown",
      "metadata": {
        "id": "w_vvmT_uOf7c"
      },
      "source": [
        "### Remove punctuation"
      ]
    },
    {
      "cell_type": "code",
      "execution_count": 75,
      "metadata": {
        "colab": {
          "base_uri": "https://localhost:8080/",
          "height": 35
        },
        "id": "9icG6wCiOhvW",
        "outputId": "392eda9b-1646-42b0-d486-8222ac8fbb85"
      },
      "outputs": [
        {
          "data": {
            "application/vnd.google.colaboratory.intrinsic+json": {
              "type": "string"
            },
            "text/plain": [
              "'ses kalitesi ve ergonomisi rezalet sony olduğu için aldım ama 4de 1 fiyatına çin replika ürün alsaydım çok çok daha iyiydi kesinlikle tavsiye etmiyorum'"
            ]
          },
          "execution_count": 75,
          "metadata": {},
          "output_type": "execute_result"
        }
      ],
      "source": [
        "df['Görüş'] = df['Görüş'].str.replace(r'[^\\w\\s]+', '')\n",
        "df.Görüş[0]"
      ]
    },
    {
      "cell_type": "markdown",
      "metadata": {
        "id": "uBaPEI0fhn_7"
      },
      "source": [
        "### Lower the inputs"
      ]
    },
    {
      "cell_type": "code",
      "execution_count": 76,
      "metadata": {
        "colab": {
          "base_uri": "https://localhost:8080/",
          "height": 206
        },
        "id": "2S1vGEachn_7",
        "outputId": "06012f6c-50a9-4be9-f365-4b79579eb90d"
      },
      "outputs": [
        {
          "data": {
            "text/html": [
              "<div>\n",
              "<style scoped>\n",
              "    .dataframe tbody tr th:only-of-type {\n",
              "        vertical-align: middle;\n",
              "    }\n",
              "\n",
              "    .dataframe tbody tr th {\n",
              "        vertical-align: top;\n",
              "    }\n",
              "\n",
              "    .dataframe thead th {\n",
              "        text-align: right;\n",
              "    }\n",
              "</style>\n",
              "<table border=\"1\" class=\"dataframe\">\n",
              "  <thead>\n",
              "    <tr style=\"text-align: right;\">\n",
              "      <th></th>\n",
              "      <th>Görüş</th>\n",
              "      <th>Durum</th>\n",
              "    </tr>\n",
              "  </thead>\n",
              "  <tbody>\n",
              "    <tr>\n",
              "      <th>0</th>\n",
              "      <td>ses kalitesi ve ergonomisi rezalet sony olduğu...</td>\n",
              "      <td>Olumsuz</td>\n",
              "    </tr>\n",
              "    <tr>\n",
              "      <th>1</th>\n",
              "      <td>hizli teslimat tesekkürler</td>\n",
              "      <td>Tarafsız</td>\n",
              "    </tr>\n",
              "    <tr>\n",
              "      <th>2</th>\n",
              "      <td>ses olayı süpergece çalıştır sıkıntı yokkablo ...</td>\n",
              "      <td>Olumlu</td>\n",
              "    </tr>\n",
              "    <tr>\n",
              "      <th>3</th>\n",
              "      <td>geldi bigün kullandık hemen bozoldu hiçtavsiye...</td>\n",
              "      <td>Olumsuz</td>\n",
              "    </tr>\n",
              "    <tr>\n",
              "      <th>4</th>\n",
              "      <td>kulaklığın sesi kaliteli falan değil aleti öve...</td>\n",
              "      <td>Olumsuz</td>\n",
              "    </tr>\n",
              "  </tbody>\n",
              "</table>\n",
              "</div>"
            ],
            "text/plain": [
              "                                               Görüş     Durum\n",
              "0  ses kalitesi ve ergonomisi rezalet sony olduğu...   Olumsuz\n",
              "1                         hizli teslimat tesekkürler  Tarafsız\n",
              "2  ses olayı süpergece çalıştır sıkıntı yokkablo ...    Olumlu\n",
              "3  geldi bigün kullandık hemen bozoldu hiçtavsiye...   Olumsuz\n",
              "4  kulaklığın sesi kaliteli falan değil aleti öve...   Olumsuz"
            ]
          },
          "execution_count": 76,
          "metadata": {},
          "output_type": "execute_result"
        }
      ],
      "source": [
        "df[\"Görüş\"] = df[\"Görüş\"].str.lower()\n",
        "df.head()"
      ]
    },
    {
      "cell_type": "markdown",
      "metadata": {
        "id": "r70zl5-xhn_8"
      },
      "source": [
        "### Stopwords"
      ]
    },
    {
      "cell_type": "code",
      "execution_count": 77,
      "metadata": {
        "colab": {
          "base_uri": "https://localhost:8080/"
        },
        "id": "jFl75kfdHK_L",
        "outputId": "0dbbe062-c9fe-4315-9a22-c73ce2297f1f"
      },
      "outputs": [
        {
          "name": "stdout",
          "output_type": "stream",
          "text": [
            "[nltk_data] Downloading package stopwords to /root/nltk_data...\n",
            "[nltk_data]   Package stopwords is already up-to-date!\n"
          ]
        },
        {
          "data": {
            "text/plain": [
              "True"
            ]
          },
          "execution_count": 77,
          "metadata": {},
          "output_type": "execute_result"
        }
      ],
      "source": [
        "# Import the nltk library and download stopwords\n",
        "import nltk\n",
        "\n",
        "nltk.download(\"stopwords\")"
      ]
    },
    {
      "cell_type": "code",
      "execution_count": 78,
      "metadata": {
        "colab": {
          "base_uri": "https://localhost:8080/"
        },
        "id": "g9FMp5AfHK2a",
        "outputId": "bf2a0fdc-08e9-4cab-80cc-ed5d91e3e785"
      },
      "outputs": [
        {
          "data": {
            "text/plain": [
              "['acaba',\n",
              " 'ama',\n",
              " 'aslında',\n",
              " 'az',\n",
              " 'bazı',\n",
              " 'belki',\n",
              " 'biri',\n",
              " 'birkaç',\n",
              " 'birşey',\n",
              " 'biz']"
            ]
          },
          "execution_count": 78,
          "metadata": {},
          "output_type": "execute_result"
        }
      ],
      "source": [
        "# Get the stopwords\n",
        "from nltk.corpus import stopwords\n",
        "\n",
        "stop_words = stopwords.words(\"turkish\")\n",
        "stop_words[:10]"
      ]
    },
    {
      "cell_type": "code",
      "execution_count": 79,
      "metadata": {
        "id": "rnmHDrDDHK0E"
      },
      "outputs": [],
      "source": [
        "# Remove stopwords from each line and check the lines\n",
        "#stop_words = set(stop_words)\n",
        "#df['Görüş'] = df['Görüş'].apply(lambda x: ' '.join([word for word in x.split() if word not in (stop_words)]))\n",
        "#\n",
        "#df.Görüş[0]"
      ]
    },
    {
      "cell_type": "markdown",
      "metadata": {
        "id": "oVKVfJsShn_9"
      },
      "source": [
        "### Stemmer"
      ]
    },
    {
      "cell_type": "code",
      "execution_count": 81,
      "metadata": {
        "id": "MiZSi75iJ0tb"
      },
      "outputs": [],
      "source": [
        "# Import the library and get the stemmer for Turkish Language\n",
        "from TurkishStemmer import TurkishStemmer\n",
        "\n",
        "stemmer = TurkishStemmer()"
      ]
    },
    {
      "cell_type": "code",
      "execution_count": 82,
      "metadata": {
        "id": "RHfTMHtRhn_-"
      },
      "outputs": [],
      "source": [
        "# To use stemmer on each word, turn each line into a list\n",
        "#df['Görüş'] = df['Görüş'].str.split()\n",
        "#df.head()"
      ]
    },
    {
      "cell_type": "code",
      "execution_count": 83,
      "metadata": {
        "id": "CJikCDNehn_-"
      },
      "outputs": [],
      "source": [
        "# Apply stemmer\n",
        "#df['Görüş'] = df['Görüş'].apply(lambda x: [stemmer.stem(y) for y in x])\n",
        "#\n",
        "#df.head()"
      ]
    },
    {
      "cell_type": "code",
      "execution_count": 84,
      "metadata": {
        "colab": {
          "base_uri": "https://localhost:8080/",
          "height": 35
        },
        "id": "RdGGI9shhn_-",
        "outputId": "683b55ac-1774-44e7-fd61-cfc6a8d81b9d"
      },
      "outputs": [
        {
          "data": {
            "application/vnd.google.colaboratory.intrinsic+json": {
              "type": "string"
            },
            "text/plain": [
              "'ses kalitesi ve ergonomisi rezalet sony olduğu için aldım ama 4de 1 fiyatına çin replika ürün alsaydım çok çok daha iyiydi kesinlikle tavsiye etmiyorum'"
            ]
          },
          "execution_count": 84,
          "metadata": {},
          "output_type": "execute_result"
        }
      ],
      "source": [
        "df.Görüş[0]"
      ]
    },
    {
      "cell_type": "code",
      "execution_count": 85,
      "metadata": {
        "id": "Qh4uP4FiMZlq"
      },
      "outputs": [],
      "source": [
        "# Turn back each line to a string (from list)\n",
        "#df['Görüş'] = df['Görüş'].apply(lambda x: ' '.join(word for word in x))\n",
        "#\n",
        "#df.head()"
      ]
    },
    {
      "cell_type": "code",
      "execution_count": 86,
      "metadata": {
        "colab": {
          "base_uri": "https://localhost:8080/",
          "height": 35
        },
        "id": "YOhGxXOOhn__",
        "outputId": "d063b55d-55b4-4fb3-e802-e202065c97bd"
      },
      "outputs": [
        {
          "data": {
            "application/vnd.google.colaboratory.intrinsic+json": {
              "type": "string"
            },
            "text/plain": [
              "'ses kalitesi ve ergonomisi rezalet sony olduğu için aldım ama 4de 1 fiyatına çin replika ürün alsaydım çok çok daha iyiydi kesinlikle tavsiye etmiyorum'"
            ]
          },
          "execution_count": 86,
          "metadata": {},
          "output_type": "execute_result"
        }
      ],
      "source": [
        "# Get train sentences from df.comment\n",
        "train_sentences = df[\"Görüş\"].tolist()\n",
        "\n",
        "train_sentences[0]"
      ]
    },
    {
      "cell_type": "code",
      "execution_count": 87,
      "metadata": {
        "colab": {
          "base_uri": "https://localhost:8080/",
          "height": 206
        },
        "id": "7qyLG-0JhoAA",
        "outputId": "90c2b2a2-ec23-4e13-f49a-b5cf95021f8e"
      },
      "outputs": [
        {
          "data": {
            "text/html": [
              "<div>\n",
              "<style scoped>\n",
              "    .dataframe tbody tr th:only-of-type {\n",
              "        vertical-align: middle;\n",
              "    }\n",
              "\n",
              "    .dataframe tbody tr th {\n",
              "        vertical-align: top;\n",
              "    }\n",
              "\n",
              "    .dataframe thead th {\n",
              "        text-align: right;\n",
              "    }\n",
              "</style>\n",
              "<table border=\"1\" class=\"dataframe\">\n",
              "  <thead>\n",
              "    <tr style=\"text-align: right;\">\n",
              "      <th></th>\n",
              "      <th>Görüş</th>\n",
              "      <th>Durum</th>\n",
              "    </tr>\n",
              "  </thead>\n",
              "  <tbody>\n",
              "    <tr>\n",
              "      <th>7060</th>\n",
              "      <td>kargo hızlıydıürün kullanışlı ve ücretine göre...</td>\n",
              "      <td>Tarafsız</td>\n",
              "    </tr>\n",
              "    <tr>\n",
              "      <th>6747</th>\n",
              "      <td>yüksek performans beklemeyin evde internet öde...</td>\n",
              "      <td>Tarafsız</td>\n",
              "    </tr>\n",
              "    <tr>\n",
              "      <th>10998</th>\n",
              "      <td>kargo fırmaları yüzünde biçok kez siparışı ipt...</td>\n",
              "      <td>Tarafsız</td>\n",
              "    </tr>\n",
              "    <tr>\n",
              "      <th>7549</th>\n",
              "      <td>fiyat performans çok dengeli üründen memnumun ...</td>\n",
              "      <td>Olumlu</td>\n",
              "    </tr>\n",
              "    <tr>\n",
              "      <th>1801</th>\n",
              "      <td>hayır beğenmedim  deforma olan ürünleri gönder...</td>\n",
              "      <td>Olumsuz</td>\n",
              "    </tr>\n",
              "  </tbody>\n",
              "</table>\n",
              "</div>"
            ],
            "text/plain": [
              "                                                   Görüş     Durum\n",
              "7060   kargo hızlıydıürün kullanışlı ve ücretine göre...  Tarafsız\n",
              "6747   yüksek performans beklemeyin evde internet öde...  Tarafsız\n",
              "10998  kargo fırmaları yüzünde biçok kez siparışı ipt...  Tarafsız\n",
              "7549   fiyat performans çok dengeli üründen memnumun ...    Olumlu\n",
              "1801   hayır beğenmedim  deforma olan ürünleri gönder...   Olumsuz"
            ]
          },
          "execution_count": 87,
          "metadata": {},
          "output_type": "execute_result"
        }
      ],
      "source": [
        "df = df.sample(frac=1)\n",
        "df.head()"
      ]
    },
    {
      "cell_type": "code",
      "execution_count": 88,
      "metadata": {
        "colab": {
          "base_uri": "https://localhost:8080/"
        },
        "id": "B00Rhz5QhoAA",
        "outputId": "69220f18-eb58-4760-a6b4-f03bdac2a322"
      },
      "outputs": [
        {
          "name": "stdout",
          "output_type": "stream",
          "text": [
            "<class 'pandas.core.frame.DataFrame'>\n",
            "Int64Index: 11426 entries, 7060 to 3752\n",
            "Data columns (total 2 columns):\n",
            " #   Column  Non-Null Count  Dtype \n",
            "---  ------  --------------  ----- \n",
            " 0   Görüş   11426 non-null  object\n",
            " 1   Durum   11426 non-null  object\n",
            "dtypes: object(2)\n",
            "memory usage: 267.8+ KB\n"
          ]
        }
      ],
      "source": [
        "df.info()"
      ]
    },
    {
      "cell_type": "code",
      "execution_count": 89,
      "metadata": {
        "colab": {
          "base_uri": "https://localhost:8080/"
        },
        "id": "CGIK7G8FhoAA",
        "outputId": "211b7c91-005c-40e8-f074-5636e12bc550"
      },
      "outputs": [
        {
          "data": {
            "text/plain": [
              "(21.72378785226676, 422)"
            ]
          },
          "execution_count": 89,
          "metadata": {},
          "output_type": "execute_result"
        }
      ],
      "source": [
        "# Get the average and the max length of the inputs\n",
        "import numpy as np\n",
        "\n",
        "sent_lens = [len(sentence.split()) for sentence in train_sentences]\n",
        "avg_sent_len = np.mean(sent_lens)\n",
        "max_sent_len = np.max(sent_lens)\n",
        "avg_sent_len, max_sent_len"
      ]
    },
    {
      "cell_type": "code",
      "execution_count": 90,
      "metadata": {
        "colab": {
          "base_uri": "https://localhost:8080/"
        },
        "id": "jWQtwElghoAA",
        "outputId": "73f00993-5147-4c50-a78a-34b1c6d573e4"
      },
      "outputs": [
        {
          "data": {
            "text/plain": [
              "64"
            ]
          },
          "execution_count": 90,
          "metadata": {},
          "output_type": "execute_result"
        }
      ],
      "source": [
        "# How long of a sentence lenght covers 95% of examples?\n",
        "output_seq_len = int(np.percentile(sent_lens, 95))\n",
        "\n",
        "output_seq_len"
      ]
    },
    {
      "cell_type": "code",
      "execution_count": 91,
      "metadata": {
        "colab": {
          "base_uri": "https://localhost:8080/"
        },
        "id": "87wN7TqYhoAA",
        "outputId": "03b07718-3409-4c53-9112-a681539f5560"
      },
      "outputs": [
        {
          "data": {
            "text/plain": [
              "78"
            ]
          },
          "execution_count": 91,
          "metadata": {},
          "output_type": "execute_result"
        }
      ],
      "source": [
        "# How long of a sentence lenght covers 97% of examples?\n",
        "x = int(np.percentile(sent_lens, 97))\n",
        "\n",
        "x"
      ]
    },
    {
      "cell_type": "code",
      "execution_count": 92,
      "metadata": {
        "colab": {
          "base_uri": "https://localhost:8080/"
        },
        "id": "6PQ19VcfjOdL",
        "outputId": "7e135667-206f-449e-b19f-e8f82ce60a59"
      },
      "outputs": [
        {
          "data": {
            "text/plain": [
              "120"
            ]
          },
          "execution_count": 92,
          "metadata": {},
          "output_type": "execute_result"
        }
      ],
      "source": [
        "# How long of a sentence lenght covers 99% of examples?\n",
        "x = int(np.percentile(sent_lens, 99))\n",
        "\n",
        "x"
      ]
    },
    {
      "cell_type": "code",
      "execution_count": 27,
      "metadata": {
        "id": "Z1ssprrMhoAB"
      },
      "outputs": [],
      "source": [
        "# Setting it 160 instead of 159 since 160 is divisible to 8.\n",
        "output_seq_len = 120"
      ]
    },
    {
      "cell_type": "code",
      "execution_count": 93,
      "metadata": {
        "id": "_IGlN6Z5hoAB"
      },
      "outputs": [],
      "source": [
        "# Import AutoTokenizer\n",
        "from transformers import AutoTokenizer\n",
        "# Initialize tokenizer\n",
        "tokenizer = AutoTokenizer.from_pretrained(\"dbmdz/bert-base-turkish-128k-uncased\")"
      ]
    },
    {
      "cell_type": "markdown",
      "metadata": {
        "id": "Okyr-dZIhoAB"
      },
      "source": [
        "### Test the tokizer on a sample sentence "
      ]
    },
    {
      "cell_type": "code",
      "execution_count": 94,
      "metadata": {
        "colab": {
          "base_uri": "https://localhost:8080/"
        },
        "id": "bPa1PPcchoAB",
        "outputId": "38deb176-d38e-402b-f338-f14a40554921"
      },
      "outputs": [
        {
          "data": {
            "text/plain": [
              "['bu',\n",
              " 'film',\n",
              " 'berbat',\n",
              " '.',\n",
              " 'cidden',\n",
              " 'en',\n",
              " 'kotu',\n",
              " 'film',\n",
              " 'ama',\n",
              " 'izlenir',\n",
              " 'yine',\n",
              " 'de']"
            ]
          },
          "execution_count": 94,
          "metadata": {},
          "output_type": "execute_result"
        }
      ],
      "source": [
        "# Convert tokens to ids\n",
        "sample_sentence = \"Bu film berbat. Cidden en kötü film ama izlenir yine de\"\n",
        "sample_tokenized_sentence = tokenizer.tokenize(sample_sentence)\n",
        "sample_tokenized_sentence"
      ]
    },
    {
      "cell_type": "code",
      "execution_count": 95,
      "metadata": {
        "colab": {
          "base_uri": "https://localhost:8080/"
        },
        "id": "eEliWa3RhoAB",
        "outputId": "69b805da-6398-4597-ab0f-f4e76b7dfded"
      },
      "outputs": [
        {
          "data": {
            "text/plain": [
              "[1964, 2767, 13686, 18, 17081, 2064, 36007, 2767, 2156, 41667, 3000, 1961]"
            ]
          },
          "execution_count": 95,
          "metadata": {},
          "output_type": "execute_result"
        }
      ],
      "source": [
        "# Convert ids to tokens\n",
        "sample_ids = tokenizer.convert_tokens_to_ids(sample_tokenized_sentence)\n",
        "sample_ids"
      ]
    },
    {
      "cell_type": "code",
      "execution_count": 96,
      "metadata": {
        "colab": {
          "base_uri": "https://localhost:8080/"
        },
        "id": "l8V6Xn52hoAB",
        "outputId": "8d50f26c-c369-483c-8b34-e8f0f03133f5"
      },
      "outputs": [
        {
          "name": "stderr",
          "output_type": "stream",
          "text": [
            "/usr/local/lib/python3.7/dist-packages/transformers/tokenization_utils_base.py:2218: FutureWarning: The `pad_to_max_length` argument is deprecated and will be removed in a future version, use `padding=True` or `padding='longest'` to pad to the longest sequence in the batch, or use `padding='max_length'` to pad to a max length. In this case, you can give a specific length with `max_length` (e.g. `max_length=45`) or leave max_length to None to pad to the maximal input size of the model (e.g. 512 for Bert).\n",
            "  FutureWarning,\n"
          ]
        }
      ],
      "source": [
        "sample_encoded_sentence = tokenizer.encode_plus(\n",
        "    text=sample_sentence, \n",
        "    add_special_tokens=True,\n",
        "    max_length=32,\n",
        "    truncation=True,\n",
        "    pad_to_max_length=True,\n",
        "    return_attention_mask=True,\n",
        "    return_tensors=\"np\"\n",
        ")"
      ]
    },
    {
      "cell_type": "code",
      "execution_count": 97,
      "metadata": {
        "colab": {
          "base_uri": "https://localhost:8080/"
        },
        "id": "JMleRryyhoAC",
        "outputId": "616b317f-301f-4f72-a1da-039b32e68a65"
      },
      "outputs": [
        {
          "data": {
            "text/plain": [
              "dict_keys(['input_ids', 'token_type_ids', 'attention_mask'])"
            ]
          },
          "execution_count": 97,
          "metadata": {},
          "output_type": "execute_result"
        }
      ],
      "source": [
        "# Get keys for the sample encoded sentence\n",
        "sample_encoded_sentence.keys()"
      ]
    },
    {
      "cell_type": "code",
      "execution_count": 98,
      "metadata": {
        "id": "UL-8uc0dhoAC"
      },
      "outputs": [],
      "source": [
        "sample_input_ids = sample_encoded_sentence[\"input_ids\"]\n",
        "sample_attention_mask = sample_encoded_sentence[\"attention_mask\"]"
      ]
    },
    {
      "cell_type": "code",
      "execution_count": 99,
      "metadata": {
        "colab": {
          "base_uri": "https://localhost:8080/"
        },
        "id": "zs5bmPtahoAC",
        "outputId": "66d3870b-1abb-433d-a10f-5971346f215d"
      },
      "outputs": [
        {
          "data": {
            "text/plain": [
              "array([[    2,  1964,  2767, 13686,    18, 17081,  2064, 36007,  2767,\n",
              "         2156, 41667,  3000,  1961,     3,     0,     0,     0,     0,\n",
              "            0,     0,     0,     0,     0,     0,     0,     0,     0,\n",
              "            0,     0,     0,     0,     0]])"
            ]
          },
          "execution_count": 99,
          "metadata": {},
          "output_type": "execute_result"
        }
      ],
      "source": [
        "sample_input_ids[:1]"
      ]
    },
    {
      "cell_type": "code",
      "execution_count": 100,
      "metadata": {
        "colab": {
          "base_uri": "https://localhost:8080/"
        },
        "id": "OVn7VxMLhoAC",
        "outputId": "96b9efed-f74e-4edf-813e-2cd08fd866b7"
      },
      "outputs": [
        {
          "data": {
            "text/plain": [
              "['[CLS]',\n",
              " 'bu',\n",
              " 'film',\n",
              " 'berbat',\n",
              " '.',\n",
              " 'cidden',\n",
              " 'en',\n",
              " 'kotu',\n",
              " 'film',\n",
              " 'ama',\n",
              " 'izlenir',\n",
              " 'yine',\n",
              " 'de',\n",
              " '[SEP]',\n",
              " '[PAD]',\n",
              " '[PAD]',\n",
              " '[PAD]',\n",
              " '[PAD]',\n",
              " '[PAD]',\n",
              " '[PAD]',\n",
              " '[PAD]',\n",
              " '[PAD]',\n",
              " '[PAD]',\n",
              " '[PAD]',\n",
              " '[PAD]',\n",
              " '[PAD]',\n",
              " '[PAD]',\n",
              " '[PAD]',\n",
              " '[PAD]',\n",
              " '[PAD]',\n",
              " '[PAD]',\n",
              " '[PAD]']"
            ]
          },
          "execution_count": 100,
          "metadata": {},
          "output_type": "execute_result"
        }
      ],
      "source": [
        "tokenizer.convert_ids_to_tokens(sample_input_ids[0])"
      ]
    },
    {
      "cell_type": "code",
      "execution_count": 37,
      "metadata": {
        "colab": {
          "base_uri": "https://localhost:8080/"
        },
        "id": "LtA_kBnYhoAD",
        "outputId": "42ad6d92-6dca-4dd0-849c-16a8f61ddb70"
      },
      "outputs": [
        {
          "name": "stdout",
          "output_type": "stream",
          "text": [
            "<class 'pandas.core.frame.DataFrame'>\n",
            "Int64Index: 11426 entries, 3382 to 4293\n",
            "Data columns (total 2 columns):\n",
            " #   Column  Non-Null Count  Dtype \n",
            "---  ------  --------------  ----- \n",
            " 0   Görüş   11426 non-null  object\n",
            " 1   Durum   11426 non-null  object\n",
            "dtypes: object(2)\n",
            "memory usage: 267.8+ KB\n"
          ]
        }
      ],
      "source": [
        "df.info()"
      ]
    },
    {
      "cell_type": "code",
      "execution_count": 101,
      "metadata": {
        "colab": {
          "base_uri": "https://localhost:8080/"
        },
        "id": "0LU1qagVhoAD",
        "outputId": "e5479182-ea0c-487e-8ad1-10d4623cc6fe"
      },
      "outputs": [
        {
          "name": "stdout",
          "output_type": "stream",
          "text": [
            "<class 'pandas.core.frame.DataFrame'>\n",
            "Int64Index: 11426 entries, 7060 to 3752\n",
            "Data columns (total 2 columns):\n",
            " #   Column  Non-Null Count  Dtype \n",
            "---  ------  --------------  ----- \n",
            " 0   Görüş   11426 non-null  object\n",
            " 1   Durum   11426 non-null  object\n",
            "dtypes: object(2)\n",
            "memory usage: 267.8+ KB\n"
          ]
        }
      ],
      "source": [
        "df.dropna(axis=0, inplace=True)\n",
        "df.info()"
      ]
    },
    {
      "cell_type": "markdown",
      "metadata": {
        "id": "5VmbJwcqhoAD"
      },
      "source": [
        "## Encode inputs\n",
        "\n",
        "After experimenting the encoding operation on the sample sentence, now we're ready to encode our inputs (tf.comments)"
      ]
    },
    {
      "cell_type": "code",
      "execution_count": 39,
      "metadata": {
        "id": "4nf6_PQBhoAD"
      },
      "outputs": [],
      "source": [
        "#df.comment.tolist()"
      ]
    },
    {
      "cell_type": "code",
      "execution_count": 102,
      "metadata": {
        "colab": {
          "base_uri": "https://localhost:8080/"
        },
        "id": "W2V5ILnRhoAD",
        "outputId": "76d63b0d-d360-4420-ab9f-07c1dee39ef4"
      },
      "outputs": [
        {
          "name": "stderr",
          "output_type": "stream",
          "text": [
            "/usr/local/lib/python3.7/dist-packages/transformers/tokenization_utils_base.py:2218: FutureWarning: The `pad_to_max_length` argument is deprecated and will be removed in a future version, use `padding=True` or `padding='longest'` to pad to the longest sequence in the batch, or use `padding='max_length'` to pad to a max length. In this case, you can give a specific length with `max_length` (e.g. `max_length=45`) or leave max_length to None to pad to the maximal input size of the model (e.g. 512 for Bert).\n",
            "  FutureWarning,\n"
          ]
        },
        {
          "name": "stdout",
          "output_type": "stream",
          "text": [
            "Original:  kargo hızlıydıürün kullanışlı ve ücretine göre güzelürünün\n",
            "paketlenmesi gelişi güzel bir şekilde yapılmıştıo kadar özendiydi ki\n",
            "süt kutusu ile paketlemişti\n",
            "Token IDs:  tf.Tensor(\n",
            "[     2   7061 119514  32480   3868  16285   1022   1946  45298   2004\n",
            "  22586  14368  32480   1941  91446  31009   1010  14368   1947  18011\n",
            "   2658  92227   1008   2185  10785  61706   8637   2354  20753  13383\n",
            "   2037  88660  34737      3      0      0      0      0      0      0\n",
            "      0      0      0      0      0      0      0      0      0      0\n",
            "      0      0      0      0      0      0      0      0      0      0\n",
            "      0      0      0      0      0      0      0      0      0      0\n",
            "      0      0      0      0      0      0      0      0      0      0\n",
            "      0      0      0      0      0      0      0      0      0      0\n",
            "      0      0      0      0      0      0      0      0      0      0\n",
            "      0      0      0      0      0      0      0      0      0      0\n",
            "      0      0      0      0      0      0      0      0      0      0], shape=(120,), dtype=int32)\n"
          ]
        }
      ],
      "source": [
        "import tensorflow as tf\n",
        "\n",
        "input_ids = []\n",
        "attention_mask = []\n",
        "\n",
        "for txt in df.Görüş.values:\n",
        "    encoded = tokenizer.encode_plus(\n",
        "        text=txt, # the sentence to be encoded \n",
        "        add_special_tokens=True, # Add [CLS] and [SEP]\n",
        "        max_length=120, # max length of a sentence\n",
        "        truncation=True, # truncate if sentence length is bigger than max_length\n",
        "        pad_to_max_length=True, # Add [PAD]s\n",
        "        return_attention_mask=True, # Generate attention mask\n",
        "        return_tensors=\"tf\" # return TensorFlow tensors\n",
        "    )\n",
        "\n",
        "    # Append input_ids and attention_masks to their own lists\n",
        "    input_ids.append(encoded[\"input_ids\"])\n",
        "    attention_mask.append(encoded[\"attention_mask\"])\n",
        "\n",
        "# Concatenate\n",
        "input_ids = tf.concat(input_ids, 0)\n",
        "attention_mask = tf.concat(attention_mask, 0)\n",
        "\n",
        "print(\"Original: \", df.Görüş.values[0])\n",
        "print(\"Token IDs: \", input_ids[0])"
      ]
    },
    {
      "cell_type": "code",
      "execution_count": 103,
      "metadata": {
        "colab": {
          "base_uri": "https://localhost:8080/"
        },
        "id": "Glifs9muhoAD",
        "outputId": "4d9b8cdd-c7af-441f-8b2e-03a564c8d429"
      },
      "outputs": [
        {
          "data": {
            "text/plain": [
              "['[CLS]',\n",
              " 'kargo',\n",
              " 'hızlıydı',\n",
              " '##urun',\n",
              " 'kullanı',\n",
              " '##sl',\n",
              " '##ı',\n",
              " 've',\n",
              " 'ucret',\n",
              " '##ine',\n",
              " 'gore',\n",
              " 'guzel',\n",
              " '##urun',\n",
              " '##un',\n",
              " 'paketlenmesi',\n",
              " 'gelis',\n",
              " '##i',\n",
              " 'guzel',\n",
              " 'bir',\n",
              " 'sekilde',\n",
              " 'yapıl',\n",
              " '##mıstı',\n",
              " '##o',\n",
              " 'kadar',\n",
              " 'oz',\n",
              " '##endi',\n",
              " '##ydi',\n",
              " 'ki',\n",
              " 'sut',\n",
              " 'kutusu',\n",
              " 'ile',\n",
              " 'paketle',\n",
              " '##misti',\n",
              " '[SEP]',\n",
              " '[PAD]',\n",
              " '[PAD]',\n",
              " '[PAD]',\n",
              " '[PAD]',\n",
              " '[PAD]',\n",
              " '[PAD]',\n",
              " '[PAD]',\n",
              " '[PAD]',\n",
              " '[PAD]',\n",
              " '[PAD]',\n",
              " '[PAD]',\n",
              " '[PAD]',\n",
              " '[PAD]',\n",
              " '[PAD]',\n",
              " '[PAD]',\n",
              " '[PAD]',\n",
              " '[PAD]',\n",
              " '[PAD]',\n",
              " '[PAD]',\n",
              " '[PAD]',\n",
              " '[PAD]',\n",
              " '[PAD]',\n",
              " '[PAD]',\n",
              " '[PAD]',\n",
              " '[PAD]',\n",
              " '[PAD]',\n",
              " '[PAD]',\n",
              " '[PAD]',\n",
              " '[PAD]',\n",
              " '[PAD]',\n",
              " '[PAD]',\n",
              " '[PAD]',\n",
              " '[PAD]',\n",
              " '[PAD]',\n",
              " '[PAD]',\n",
              " '[PAD]',\n",
              " '[PAD]',\n",
              " '[PAD]',\n",
              " '[PAD]',\n",
              " '[PAD]',\n",
              " '[PAD]',\n",
              " '[PAD]',\n",
              " '[PAD]',\n",
              " '[PAD]',\n",
              " '[PAD]',\n",
              " '[PAD]',\n",
              " '[PAD]',\n",
              " '[PAD]',\n",
              " '[PAD]',\n",
              " '[PAD]',\n",
              " '[PAD]',\n",
              " '[PAD]',\n",
              " '[PAD]',\n",
              " '[PAD]',\n",
              " '[PAD]',\n",
              " '[PAD]',\n",
              " '[PAD]',\n",
              " '[PAD]',\n",
              " '[PAD]',\n",
              " '[PAD]',\n",
              " '[PAD]',\n",
              " '[PAD]',\n",
              " '[PAD]',\n",
              " '[PAD]',\n",
              " '[PAD]',\n",
              " '[PAD]',\n",
              " '[PAD]',\n",
              " '[PAD]',\n",
              " '[PAD]',\n",
              " '[PAD]',\n",
              " '[PAD]',\n",
              " '[PAD]',\n",
              " '[PAD]',\n",
              " '[PAD]',\n",
              " '[PAD]',\n",
              " '[PAD]',\n",
              " '[PAD]',\n",
              " '[PAD]',\n",
              " '[PAD]',\n",
              " '[PAD]',\n",
              " '[PAD]',\n",
              " '[PAD]',\n",
              " '[PAD]',\n",
              " '[PAD]',\n",
              " '[PAD]',\n",
              " '[PAD]']"
            ]
          },
          "execution_count": 103,
          "metadata": {},
          "output_type": "execute_result"
        }
      ],
      "source": [
        "# Convert tokens to ids to check\n",
        "tokenizer.convert_ids_to_tokens(input_ids[0])"
      ]
    },
    {
      "cell_type": "code",
      "execution_count": 104,
      "metadata": {
        "colab": {
          "base_uri": "https://localhost:8080/"
        },
        "id": "LiKh0E1vhoAD",
        "outputId": "f73d34cc-d387-4f6a-81c9-5b69be441e1d"
      },
      "outputs": [
        {
          "data": {
            "text/plain": [
              "(<tf.Tensor: shape=(11426, 120), dtype=int32, numpy=\n",
              " array([[     2,   7061, 119514, ...,      0,      0,      0],\n",
              "        [     2,  42064,   5308, ...,      0,      0,      0],\n",
              "        [     2,   7061,   3151, ...,      0,      0,      0],\n",
              "        ...,\n",
              "        [     2, 106798,  48790, ...,      0,      0,      0],\n",
              "        [     2,  36664,   2789, ...,      0,      0,      0],\n",
              "        [     2,  26965,   2821, ...,      0,      0,      0]], dtype=int32)>,\n",
              " TensorShape([11426, 120]))"
            ]
          },
          "execution_count": 104,
          "metadata": {},
          "output_type": "execute_result"
        }
      ],
      "source": [
        "# Check input_ids and shape of input_ids\n",
        "input_ids, input_ids.shape"
      ]
    },
    {
      "cell_type": "code",
      "execution_count": 105,
      "metadata": {
        "colab": {
          "base_uri": "https://localhost:8080/"
        },
        "id": "mH94giL4hoAE",
        "outputId": "9a1b53a7-16fa-4c40-a48b-19c9df2bc795"
      },
      "outputs": [
        {
          "data": {
            "text/plain": [
              "(<tf.Tensor: shape=(11426, 120), dtype=int32, numpy=\n",
              " array([[1, 1, 1, ..., 0, 0, 0],\n",
              "        [1, 1, 1, ..., 0, 0, 0],\n",
              "        [1, 1, 1, ..., 0, 0, 0],\n",
              "        ...,\n",
              "        [1, 1, 1, ..., 0, 0, 0],\n",
              "        [1, 1, 1, ..., 0, 0, 0],\n",
              "        [1, 1, 1, ..., 0, 0, 0]], dtype=int32)>, TensorShape([11426, 120]))"
            ]
          },
          "execution_count": 105,
          "metadata": {},
          "output_type": "execute_result"
        }
      ],
      "source": [
        "# Check attention_mask and shape of attention_mask\n",
        "attention_mask, attention_mask.shape"
      ]
    },
    {
      "cell_type": "code",
      "execution_count": 106,
      "metadata": {
        "colab": {
          "base_uri": "https://localhost:8080/"
        },
        "id": "JVSarlxQhoAE",
        "outputId": "fae3ffda-841e-4eac-e960-8d0e3a5e73b4"
      },
      "outputs": [
        {
          "data": {
            "text/plain": [
              "(<tf.Tensor: shape=(120,), dtype=int32, numpy=\n",
              " array([1, 1, 1, 1, 1, 1, 1, 1, 1, 1, 1, 1, 1, 1, 1, 1, 1, 1, 1, 1, 1, 1,\n",
              "        1, 1, 1, 1, 1, 1, 1, 1, 1, 1, 1, 1, 0, 0, 0, 0, 0, 0, 0, 0, 0, 0,\n",
              "        0, 0, 0, 0, 0, 0, 0, 0, 0, 0, 0, 0, 0, 0, 0, 0, 0, 0, 0, 0, 0, 0,\n",
              "        0, 0, 0, 0, 0, 0, 0, 0, 0, 0, 0, 0, 0, 0, 0, 0, 0, 0, 0, 0, 0, 0,\n",
              "        0, 0, 0, 0, 0, 0, 0, 0, 0, 0, 0, 0, 0, 0, 0, 0, 0, 0, 0, 0, 0, 0,\n",
              "        0, 0, 0, 0, 0, 0, 0, 0, 0, 0], dtype=int32)>, TensorShape([120]))"
            ]
          },
          "execution_count": 106,
          "metadata": {},
          "output_type": "execute_result"
        }
      ],
      "source": [
        "attention_mask[1], attention_mask[1].shape"
      ]
    },
    {
      "cell_type": "markdown",
      "metadata": {
        "id": "US7HIPHLhoAE"
      },
      "source": [
        "## One-hot-encode labels    "
      ]
    },
    {
      "cell_type": "code",
      "execution_count": 107,
      "metadata": {
        "colab": {
          "base_uri": "https://localhost:8080/",
          "height": 206
        },
        "id": "KAPQu7VvWQkl",
        "outputId": "3b5c39b1-5846-4e44-cee1-a3434478d20d"
      },
      "outputs": [
        {
          "data": {
            "text/html": [
              "<div>\n",
              "<style scoped>\n",
              "    .dataframe tbody tr th:only-of-type {\n",
              "        vertical-align: middle;\n",
              "    }\n",
              "\n",
              "    .dataframe tbody tr th {\n",
              "        vertical-align: top;\n",
              "    }\n",
              "\n",
              "    .dataframe thead th {\n",
              "        text-align: right;\n",
              "    }\n",
              "</style>\n",
              "<table border=\"1\" class=\"dataframe\">\n",
              "  <thead>\n",
              "    <tr style=\"text-align: right;\">\n",
              "      <th></th>\n",
              "      <th>Görüş</th>\n",
              "      <th>Durum</th>\n",
              "    </tr>\n",
              "  </thead>\n",
              "  <tbody>\n",
              "    <tr>\n",
              "      <th>7060</th>\n",
              "      <td>kargo hızlıydıürün kullanışlı ve ücretine göre...</td>\n",
              "      <td>Tarafsız</td>\n",
              "    </tr>\n",
              "    <tr>\n",
              "      <th>6747</th>\n",
              "      <td>yüksek performans beklemeyin evde internet öde...</td>\n",
              "      <td>Tarafsız</td>\n",
              "    </tr>\n",
              "    <tr>\n",
              "      <th>10998</th>\n",
              "      <td>kargo fırmaları yüzünde biçok kez siparışı ipt...</td>\n",
              "      <td>Tarafsız</td>\n",
              "    </tr>\n",
              "    <tr>\n",
              "      <th>7549</th>\n",
              "      <td>fiyat performans çok dengeli üründen memnumun ...</td>\n",
              "      <td>Olumlu</td>\n",
              "    </tr>\n",
              "    <tr>\n",
              "      <th>1801</th>\n",
              "      <td>hayır beğenmedim  deforma olan ürünleri gönder...</td>\n",
              "      <td>Olumsuz</td>\n",
              "    </tr>\n",
              "  </tbody>\n",
              "</table>\n",
              "</div>"
            ],
            "text/plain": [
              "                                                   Görüş     Durum\n",
              "7060   kargo hızlıydıürün kullanışlı ve ücretine göre...  Tarafsız\n",
              "6747   yüksek performans beklemeyin evde internet öde...  Tarafsız\n",
              "10998  kargo fırmaları yüzünde biçok kez siparışı ipt...  Tarafsız\n",
              "7549   fiyat performans çok dengeli üründen memnumun ...    Olumlu\n",
              "1801   hayır beğenmedim  deforma olan ürünleri gönder...   Olumsuz"
            ]
          },
          "execution_count": 107,
          "metadata": {},
          "output_type": "execute_result"
        }
      ],
      "source": [
        "df.head()"
      ]
    },
    {
      "cell_type": "code",
      "execution_count": 110,
      "metadata": {
        "colab": {
          "base_uri": "https://localhost:8080/"
        },
        "id": "wHOfBbPlhoAE",
        "outputId": "c50d25c0-c6ad-493e-9b1a-7061786d60a7"
      },
      "outputs": [
        {
          "data": {
            "text/plain": [
              "array([[0., 0., 1.],\n",
              "       [0., 0., 1.],\n",
              "       [0., 0., 1.],\n",
              "       ...,\n",
              "       [1., 0., 0.],\n",
              "       [0., 0., 1.],\n",
              "       [1., 0., 0.]])"
            ]
          },
          "execution_count": 110,
          "metadata": {},
          "output_type": "execute_result"
        }
      ],
      "source": [
        "from sklearn.preprocessing import OneHotEncoder\n",
        "one_hot_encoder = OneHotEncoder(sparse=False)\n",
        "labels_one_hot = one_hot_encoder.fit_transform(df[\"Durum\"].to_numpy().reshape(-1,1))\n",
        "labels_one_hot"
      ]
    },
    {
      "cell_type": "code",
      "execution_count": 111,
      "metadata": {
        "colab": {
          "base_uri": "https://localhost:8080/"
        },
        "id": "TIKTKY3qVO0s",
        "outputId": "af030f9e-0c09-427f-872a-9b7c7db64ae1"
      },
      "outputs": [
        {
          "data": {
            "text/plain": [
              "<TakeDataset shapes: ((120,), (120,), (3,)), types: (tf.int32, tf.int32, tf.float64)>"
            ]
          },
          "execution_count": 111,
          "metadata": {},
          "output_type": "execute_result"
        }
      ],
      "source": [
        "dataset = tf.data.Dataset.from_tensor_slices((input_ids, attention_mask, labels_one_hot))\n",
        "dataset.take(1)"
      ]
    },
    {
      "cell_type": "code",
      "execution_count": 112,
      "metadata": {
        "id": "kBAAlyR2VP_6"
      },
      "outputs": [],
      "source": [
        "def map_func(input_ids, masks, labels):\n",
        "    # we convert our three-item tuple into a two-item tuple where the input item is a dictionary\n",
        "    return {\"input_ids\": input_ids,\n",
        "            \"attention_mask\": masks}, labels"
      ]
    },
    {
      "cell_type": "code",
      "execution_count": 113,
      "metadata": {
        "colab": {
          "base_uri": "https://localhost:8080/"
        },
        "id": "6y7qmFLgVP9n",
        "outputId": "9655652d-4f81-4797-c126-064754aa185e"
      },
      "outputs": [
        {
          "data": {
            "text/plain": [
              "<TakeDataset shapes: ({input_ids: (120,), attention_mask: (120,)}, (3,)), types: ({input_ids: tf.int32, attention_mask: tf.int32}, tf.float64)>"
            ]
          },
          "execution_count": 113,
          "metadata": {},
          "output_type": "execute_result"
        }
      ],
      "source": [
        "dataset = dataset.map(map_func)\n",
        "dataset.take(1)"
      ]
    },
    {
      "cell_type": "code",
      "execution_count": 114,
      "metadata": {
        "id": "P3Br5uE2VP66"
      },
      "outputs": [],
      "source": [
        "from tensorflow.keras.optimizers.schedules import PolynomialDecay\n",
        "\n",
        "x = len(dataset)*0.85\n",
        "\n",
        "num_epochs = 3\n",
        "num_train_steps = x * num_epochs\n",
        "lr_scheduler = PolynomialDecay(\n",
        "    initial_learning_rate=5e-5,\n",
        "    end_learning_rate=0.,\n",
        "    decay_steps=num_train_steps\n",
        ")"
      ]
    },
    {
      "cell_type": "code",
      "execution_count": 115,
      "metadata": {
        "colab": {
          "base_uri": "https://localhost:8080/"
        },
        "id": "90lz2XbdVP4Z",
        "outputId": "f1d5da83-47b4-4949-bfeb-76728c8e3859"
      },
      "outputs": [
        {
          "data": {
            "text/plain": [
              "<TakeDataset shapes: ({input_ids: (32, 120), attention_mask: (32, 120)}, (32, 3)), types: ({input_ids: tf.int32, attention_mask: tf.int32}, tf.float64)>"
            ]
          },
          "execution_count": 115,
          "metadata": {},
          "output_type": "execute_result"
        }
      ],
      "source": [
        "batch_size=32\n",
        "dataset = dataset.shuffle(10000).batch(batch_size, drop_remainder=True)\n",
        "\n",
        "dataset.take(1)"
      ]
    },
    {
      "cell_type": "code",
      "execution_count": 116,
      "metadata": {
        "colab": {
          "base_uri": "https://localhost:8080/"
        },
        "id": "mew1swI6VP11",
        "outputId": "1543c756-dfda-4e90-a2ae-b2e922d16c62"
      },
      "outputs": [
        {
          "data": {
            "text/plain": [
              "(<tf.Tensor: shape=(120,), dtype=int32, numpy=\n",
              " array([     2,   7061, 119514,  32480,   3868,  16285,   1022,   1946,\n",
              "         45298,   2004,  22586,  14368,  32480,   1941,  91446,  31009,\n",
              "          1010,  14368,   1947,  18011,   2658,  92227,   1008,   2185,\n",
              "         10785,  61706,   8637,   2354,  20753,  13383,   2037,  88660,\n",
              "         34737,      3,      0,      0,      0,      0,      0,      0,\n",
              "             0,      0,      0,      0,      0,      0,      0,      0,\n",
              "             0,      0,      0,      0,      0,      0,      0,      0,\n",
              "             0,      0,      0,      0,      0,      0,      0,      0,\n",
              "             0,      0,      0,      0,      0,      0,      0,      0,\n",
              "             0,      0,      0,      0,      0,      0,      0,      0,\n",
              "             0,      0,      0,      0,      0,      0,      0,      0,\n",
              "             0,      0,      0,      0,      0,      0,      0,      0,\n",
              "             0,      0,      0,      0,      0,      0,      0,      0,\n",
              "             0,      0,      0,      0,      0,      0,      0,      0,\n",
              "             0,      0,      0,      0,      0,      0,      0,      0],\n",
              "       dtype=int32)>, TensorShape([120]))"
            ]
          },
          "execution_count": 116,
          "metadata": {},
          "output_type": "execute_result"
        }
      ],
      "source": [
        "input_ids[0], input_ids[0].shape"
      ]
    },
    {
      "cell_type": "code",
      "execution_count": 117,
      "metadata": {
        "colab": {
          "base_uri": "https://localhost:8080/"
        },
        "id": "PFd6-m8uVShW",
        "outputId": "5e038220-46a6-4a86-a473-a0c61c14a9a1"
      },
      "outputs": [
        {
          "data": {
            "text/plain": [
              "303"
            ]
          },
          "execution_count": 117,
          "metadata": {},
          "output_type": "execute_result"
        }
      ],
      "source": [
        "split = 0.85\n",
        "size = int((input_ids.shape[0] / batch_size) * split)\n",
        "size"
      ]
    },
    {
      "cell_type": "code",
      "execution_count": 118,
      "metadata": {
        "colab": {
          "base_uri": "https://localhost:8080/"
        },
        "id": "nV-l87svVSfP",
        "outputId": "3abf300f-b3ff-4e8e-a81a-3c120e0ad976"
      },
      "outputs": [
        {
          "data": {
            "text/plain": [
              "(357, 303, 54)"
            ]
          },
          "execution_count": 118,
          "metadata": {},
          "output_type": "execute_result"
        }
      ],
      "source": [
        "train_ds = dataset.take(size)\n",
        "val_ds = dataset.skip(size)\n",
        "\n",
        "len(dataset), len(train_ds), len(val_ds)"
      ]
    },
    {
      "cell_type": "code",
      "execution_count": 119,
      "metadata": {
        "colab": {
          "base_uri": "https://localhost:8080/"
        },
        "id": "Ov5QgOsEVSc3",
        "outputId": "3291af8e-125c-4cb4-dd6b-ab9c4bd359d2"
      },
      "outputs": [
        {
          "name": "stderr",
          "output_type": "stream",
          "text": [
            "Some layers from the model checkpoint at dbmdz/bert-base-turkish-128k-uncased were not used when initializing TFBertModel: ['mlm___cls', 'nsp___cls']\n",
            "- This IS expected if you are initializing TFBertModel from the checkpoint of a model trained on another task or with another architecture (e.g. initializing a BertForSequenceClassification model from a BertForPreTraining model).\n",
            "- This IS NOT expected if you are initializing TFBertModel from the checkpoint of a model that you expect to be exactly identical (initializing a BertForSequenceClassification model from a BertForSequenceClassification model).\n",
            "All the layers of TFBertModel were initialized from the model checkpoint at dbmdz/bert-base-turkish-128k-uncased.\n",
            "If your task is similar to the task the model of the checkpoint was trained on, you can already use TFBertModel for predictions without further training.\n"
          ]
        }
      ],
      "source": [
        "from transformers import TFAutoModel\n",
        "from transformers import BertTokenizer\n",
        "\n",
        "bert128k = TFAutoModel.from_pretrained(\"dbmdz/bert-base-turkish-128k-uncased\")\n",
        "#bert = TFAutoModel.from_pretrained(\"dbmdz/bert-base-turkish-uncased\")\n",
        "#distilbert = TFAutoModel.from_pretrained(\"dbmdz/distilbert-base-turkish-cased\")"
      ]
    },
    {
      "cell_type": "code",
      "execution_count": 120,
      "metadata": {
        "id": "84ENq3wQVSaV"
      },
      "outputs": [],
      "source": [
        "import tensorflow as tf\n",
        "\n",
        "# two input layers, we ensure layer name variables match to dictionary keys in TF dataset\n",
        "input_ids = tf.keras.layers.Input(shape=(120,), name='input_ids', dtype='int32')\n",
        "mask = tf.keras.layers.Input(shape=(120,), name='attention_mask', dtype='int32')\n",
        "\n",
        "# we access the transformer model within our bert object using the bert attribute (eg bert.bert instead of bert)\n",
        "embeddings = bert128k.bert(input_ids, attention_mask=mask)[1]  # access final activations (already max-pooled) [1]\n",
        "# convert bert embeddings into 6 output classes\n",
        "#x = tf.keras.layers.Dropout(0.1)(embeddings)\n",
        "x = tf.keras.layers.Dense(1024, activation='relu')(embeddings)\n",
        "outputs = tf.keras.layers.Dense(3, activation='softmax', name='outputs')(x)\n",
        "\n",
        "# model\n",
        "model = tf.keras.Model(inputs=[input_ids, mask], outputs=outputs)"
      ]
    },
    {
      "cell_type": "code",
      "execution_count": 61,
      "metadata": {
        "colab": {
          "base_uri": "https://localhost:8080/",
          "height": 369
        },
        "id": "VTQErSteXMZh",
        "outputId": "c2e0462b-bd5e-4ced-a458-995d1b9719d1"
      },
      "outputs": [
        {
          "data": {
            "image/png": "[encoded data removed]",
            "text/plain": [
              "<IPython.core.display.Image object>"
            ]
          },
          "execution_count": 61,
          "metadata": {},
          "output_type": "execute_result"
        }
      ],
      "source": [
        "from tensorflow.keras.utils import plot_model\n",
        "plot_model(model, show_shapes=False)"
      ]
    },
    {
      "cell_type": "code",
      "execution_count": 121,
      "metadata": {
        "colab": {
          "base_uri": "https://localhost:8080/"
        },
        "id": "ef65gdxpVYd9",
        "outputId": "bb855691-6b21-4f07-e822-ac7e339fef4c"
      },
      "outputs": [
        {
          "name": "stdout",
          "output_type": "stream",
          "text": [
            "Model: \"model_2\"\n",
            "__________________________________________________________________________________________________\n",
            " Layer (type)                   Output Shape         Param #     Connected to                     \n",
            "==================================================================================================\n",
            " input_ids (InputLayer)         [(None, 120)]        0           []                               \n",
            "                                                                                                  \n",
            " attention_mask (InputLayer)    [(None, 120)]        0           []                               \n",
            "                                                                                                  \n",
            " bert (TFBertMainLayer)         TFBaseModelOutputWi  184345344   ['input_ids[0][0]',              \n",
            "                                thPoolingAndCrossAt               'attention_mask[0][0]']         \n",
            "                                tentions(last_hidde                                               \n",
            "                                n_state=(None, 120,                                               \n",
            "                                 768),                                                            \n",
            "                                 pooler_output=(Non                                               \n",
            "                                e, 768),                                                          \n",
            "                                 past_key_values=No                                               \n",
            "                                ne, hidden_states=N                                               \n",
            "                                one, attentions=Non                                               \n",
            "                                e, cross_attentions                                               \n",
            "                                =None)                                                            \n",
            "                                                                                                  \n",
            " dense_2 (Dense)                (None, 1024)         787456      ['bert[0][1]']                   \n",
            "                                                                                                  \n",
            " outputs (Dense)                (None, 3)            3075        ['dense_2[0][0]']                \n",
            "                                                                                                  \n",
            "==================================================================================================\n",
            "Total params: 185,135,875\n",
            "Trainable params: 185,135,875\n",
            "Non-trainable params: 0\n",
            "__________________________________________________________________________________________________\n"
          ]
        }
      ],
      "source": [
        "#model.layers[2].trainable=False\n",
        "model.summary()"
      ]
    },
    {
      "cell_type": "code",
      "execution_count": 122,
      "metadata": {
        "id": "evtW9s40VYbs"
      },
      "outputs": [],
      "source": [
        "optimizer = tf.keras.optimizers.Adam(learning_rate=lr_scheduler) # lr=2e-5, decay=1e-6\n",
        "loss = tf.keras.losses.CategoricalCrossentropy()\n",
        "acc = tf.keras.metrics.CategoricalAccuracy('accuracy')\n",
        "\n",
        "model.compile(optimizer=optimizer, \n",
        "              loss=loss, \n",
        "              metrics=[acc])"
      ]
    },
    {
      "cell_type": "code",
      "execution_count": 123,
      "metadata": {
        "colab": {
          "base_uri": "https://localhost:8080/"
        },
        "id": "JztqDQSWVYZS",
        "outputId": "720fcf8a-084c-435c-ac6a-33bd83e062a3"
      },
      "outputs": [
        {
          "data": {
            "text/plain": [
              "(<TakeDataset shapes: ({input_ids: (32, 120), attention_mask: (32, 120)}, (32, 3)), types: ({input_ids: tf.int32, attention_mask: tf.int32}, tf.float64)>,\n",
              " <SkipDataset shapes: ({input_ids: (32, 120), attention_mask: (32, 120)}, (32, 3)), types: ({input_ids: tf.int32, attention_mask: tf.int32}, tf.float64)>)"
            ]
          },
          "execution_count": 123,
          "metadata": {},
          "output_type": "execute_result"
        }
      ],
      "source": [
        "train_ds, val_ds"
      ]
    },
    {
      "cell_type": "code",
      "execution_count": 124,
      "metadata": {
        "colab": {
          "base_uri": "https://localhost:8080/"
        },
        "id": "MPHt0g7NVYWh",
        "outputId": "8e0efb39-bf4d-426f-8478-fd0bfce5432e"
      },
      "outputs": [
        {
          "name": "stdout",
          "output_type": "stream",
          "text": [
            "Epoch 1/4\n",
            "303/303 [==============================] - 614s 2s/step - loss: 0.7592 - accuracy: 0.6597 - val_loss: 0.5551 - val_accuracy: 0.7795\n",
            "Epoch 2/4\n",
            "303/303 [==============================] - 601s 2s/step - loss: 0.5781 - accuracy: 0.7693 - val_loss: 0.4422 - val_accuracy: 0.8287\n",
            "Epoch 3/4\n",
            "303/303 [==============================] - 604s 2s/step - loss: 0.4791 - accuracy: 0.8108 - val_loss: 0.3461 - val_accuracy: 0.8675\n",
            "Epoch 4/4\n",
            "303/303 [==============================] - 611s 2s/step - loss: 0.3728 - accuracy: 0.8614 - val_loss: 0.2483 - val_accuracy: 0.9219\n"
          ]
        }
      ],
      "source": [
        "history = model.fit(\n",
        "    train_ds,\n",
        "    validation_data=val_ds,\n",
        "    epochs=4,\n",
        "    verbose=1\n",
        ")"
      ]
    }
  ],
  "metadata": {
    "accelerator": "GPU",
    "colab": {
      "collapsed_sections": [],
      "name": "Preprocessing.ipynb",
      "provenance": []
    },
    "kernelspec": {
      "display_name": "Python 3",
      "name": "python3"
    },
    "language_info": {
      "codemirror_mode": {
        "name": "ipython",
        "version": 3
      },
      "file_extension": ".py",
      "mimetype": "text/x-python",
      "name": "python",
      "nbconvert_exporter": "python",
      "pygments_lexer": "ipython3",
      "version": "3.9.7"
    }
  },
  "nbformat": 4,
  "nbformat_minor": 0
}
