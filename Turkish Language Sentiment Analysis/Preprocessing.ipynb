{
  "cells": [
    {
      "cell_type": "markdown",
      "metadata": {
        "id": "wWAM-m35Xoer"
      },
      "source": [
        "Data: https://www.kaggle.com/mustfkeskin/turkish-movie-sentiment-analysis-dataset/code"
      ]
    },
    {
      "cell_type": "markdown",
      "metadata": {
        "id": "dypfExbANT2z"
      },
      "source": [
        "Preprocessing guide:\n",
        "\n",
        "* 1: Organize the dataset and comment column\n",
        "* 2: Drop film_name column\n",
        "* 3: Change point column's rows to integers\n",
        "* 4: Remove punctuation (comment column)\n",
        "* 5: Remove stopwords and make sentences lower(comment column)\n",
        "* 6: Stemming (comment column)"
      ]
    },
    {
      "cell_type": "code",
      "execution_count": 4,
      "metadata": {},
      "outputs": [
        {
          "name": "stdout",
          "output_type": "stream",
          "text": [
            "GPU 0: NVIDIA GeForce GTX 1050 Ti (UUID: GPU-ada268bc-35a4-5a51-f812-70e7584578bb)\n"
          ]
        }
      ],
      "source": [
        "!nvidia-smi -L"
      ]
    },
    {
      "cell_type": "code",
      "execution_count": 5,
      "metadata": {
        "colab": {
          "base_uri": "https://localhost:8080/",
          "height": 206
        },
        "id": "XV_OgZRK7tT0",
        "outputId": "186a6ee6-aaa9-4386-fe20-be0b6cf1b935"
      },
      "outputs": [
        {
          "data": {
            "text/html": [
              "<div>\n",
              "<style scoped>\n",
              "    .dataframe tbody tr th:only-of-type {\n",
              "        vertical-align: middle;\n",
              "    }\n",
              "\n",
              "    .dataframe tbody tr th {\n",
              "        vertical-align: top;\n",
              "    }\n",
              "\n",
              "    .dataframe thead th {\n",
              "        text-align: right;\n",
              "    }\n",
              "</style>\n",
              "<table border=\"1\" class=\"dataframe\">\n",
              "  <thead>\n",
              "    <tr style=\"text-align: right;\">\n",
              "      <th></th>\n",
              "      <th>comment</th>\n",
              "      <th>film_name</th>\n",
              "      <th>point</th>\n",
              "    </tr>\n",
              "  </thead>\n",
              "  <tbody>\n",
              "    <tr>\n",
              "      <th>0</th>\n",
              "      <td>\\n                      Jean Reno denince zate...</td>\n",
              "      <td>Sevginin Gücü</td>\n",
              "      <td>5,0</td>\n",
              "    </tr>\n",
              "    <tr>\n",
              "      <th>1</th>\n",
              "      <td>\\n                      Ekşın falan izlemek is...</td>\n",
              "      <td>Sevginin Gücü</td>\n",
              "      <td>5,0</td>\n",
              "    </tr>\n",
              "    <tr>\n",
              "      <th>2</th>\n",
              "      <td>\\n                      Bu yapım hakkında öyle...</td>\n",
              "      <td>Sevginin Gücü</td>\n",
              "      <td>5,0</td>\n",
              "    </tr>\n",
              "    <tr>\n",
              "      <th>3</th>\n",
              "      <td>\\n                      finali yeter... (sting...</td>\n",
              "      <td>Sevginin Gücü</td>\n",
              "      <td>5,0</td>\n",
              "    </tr>\n",
              "    <tr>\n",
              "      <th>4</th>\n",
              "      <td>\\n                      Jean Reno..\\r\\nbu adam...</td>\n",
              "      <td>Sevginin Gücü</td>\n",
              "      <td>5,0</td>\n",
              "    </tr>\n",
              "  </tbody>\n",
              "</table>\n",
              "</div>"
            ],
            "text/plain": [
              "                                             comment      film_name point\n",
              "0  \\n                      Jean Reno denince zate...  Sevginin Gücü   5,0\n",
              "1  \\n                      Ekşın falan izlemek is...  Sevginin Gücü   5,0\n",
              "2  \\n                      Bu yapım hakkında öyle...  Sevginin Gücü   5,0\n",
              "3  \\n                      finali yeter... (sting...  Sevginin Gücü   5,0\n",
              "4  \\n                      Jean Reno..\\r\\nbu adam...  Sevginin Gücü   5,0"
            ]
          },
          "execution_count": 5,
          "metadata": {},
          "output_type": "execute_result"
        }
      ],
      "source": [
        "import pandas as pd\n",
        "\n",
        "df = pd.read_csv(\"data/turkish_movie_sentiment_dataset.csv\")\n",
        "df.head()"
      ]
    },
    {
      "cell_type": "code",
      "execution_count": 6,
      "metadata": {
        "colab": {
          "base_uri": "https://localhost:8080/"
        },
        "id": "kSLTSmUj7tRD",
        "outputId": "5dd88d6b-8d30-4d9a-8d73-d36ec3c7a166"
      },
      "outputs": [
        {
          "name": "stdout",
          "output_type": "stream",
          "text": [
            "<class 'pandas.core.frame.DataFrame'>\n",
            "RangeIndex: 83227 entries, 0 to 83226\n",
            "Data columns (total 3 columns):\n",
            " #   Column     Non-Null Count  Dtype \n",
            "---  ------     --------------  ----- \n",
            " 0   comment    83227 non-null  object\n",
            " 1   film_name  83227 non-null  object\n",
            " 2   point      83227 non-null  object\n",
            "dtypes: object(3)\n",
            "memory usage: 1.9+ MB\n"
          ]
        }
      ],
      "source": [
        "df.info()"
      ]
    },
    {
      "cell_type": "code",
      "execution_count": 7,
      "metadata": {},
      "outputs": [
        {
          "name": "stdout",
          "output_type": "stream",
          "text": [
            "<class 'pandas.core.frame.DataFrame'>\n",
            "RangeIndex: 83227 entries, 0 to 83226\n",
            "Data columns (total 3 columns):\n",
            " #   Column     Non-Null Count  Dtype \n",
            "---  ------     --------------  ----- \n",
            " 0   comment    83227 non-null  object\n",
            " 1   film_name  83227 non-null  object\n",
            " 2   point      83227 non-null  object\n",
            "dtypes: object(3)\n",
            "memory usage: 1.9+ MB\n"
          ]
        }
      ],
      "source": [
        "df.info()"
      ]
    },
    {
      "cell_type": "markdown",
      "metadata": {
        "id": "rMc2XrZVOBBw"
      },
      "source": [
        "## Preprocess"
      ]
    },
    {
      "cell_type": "code",
      "execution_count": 8,
      "metadata": {
        "id": "EfW7r5LW7tOD"
      },
      "outputs": [],
      "source": [
        "# Drop the unnecessary characters (space chars, \\n and etc.) from the beginning and the end\n",
        "df[\"comment\"] = df[\"comment\"].str[23:-22]"
      ]
    },
    {
      "cell_type": "code",
      "execution_count": 9,
      "metadata": {
        "colab": {
          "base_uri": "https://localhost:8080/",
          "height": 206
        },
        "id": "iZwa0G8b989J",
        "outputId": "152f9969-f8aa-4233-e7bb-9861bec7a917"
      },
      "outputs": [
        {
          "data": {
            "text/html": [
              "<div>\n",
              "<style scoped>\n",
              "    .dataframe tbody tr th:only-of-type {\n",
              "        vertical-align: middle;\n",
              "    }\n",
              "\n",
              "    .dataframe tbody tr th {\n",
              "        vertical-align: top;\n",
              "    }\n",
              "\n",
              "    .dataframe thead th {\n",
              "        text-align: right;\n",
              "    }\n",
              "</style>\n",
              "<table border=\"1\" class=\"dataframe\">\n",
              "  <thead>\n",
              "    <tr style=\"text-align: right;\">\n",
              "      <th></th>\n",
              "      <th>comment</th>\n",
              "      <th>film_name</th>\n",
              "      <th>point</th>\n",
              "    </tr>\n",
              "  </thead>\n",
              "  <tbody>\n",
              "    <tr>\n",
              "      <th>0</th>\n",
              "      <td>Jean Reno denince zaten leon filmi gelir akla ...</td>\n",
              "      <td>Sevginin Gücü</td>\n",
              "      <td>5,0</td>\n",
              "    </tr>\n",
              "    <tr>\n",
              "      <th>1</th>\n",
              "      <td>Ekşın falan izlemek istiyorsanız eğer bunu izl...</td>\n",
              "      <td>Sevginin Gücü</td>\n",
              "      <td>5,0</td>\n",
              "    </tr>\n",
              "    <tr>\n",
              "      <th>2</th>\n",
              "      <td>Bu yapım hakkında öyle çok şey yazabilirim ki ...</td>\n",
              "      <td>Sevginin Gücü</td>\n",
              "      <td>5,0</td>\n",
              "    </tr>\n",
              "    <tr>\n",
              "      <th>3</th>\n",
              "      <td>finali yeter... (sting - shape of my heart)\\r\\...</td>\n",
              "      <td>Sevginin Gücü</td>\n",
              "      <td>5,0</td>\n",
              "    </tr>\n",
              "    <tr>\n",
              "      <th>4</th>\n",
              "      <td>Jean Reno..\\r\\nbu adam kusursuz biri..\\r\\nve o...</td>\n",
              "      <td>Sevginin Gücü</td>\n",
              "      <td>5,0</td>\n",
              "    </tr>\n",
              "  </tbody>\n",
              "</table>\n",
              "</div>"
            ],
            "text/plain": [
              "                                             comment      film_name point\n",
              "0  Jean Reno denince zaten leon filmi gelir akla ...  Sevginin Gücü   5,0\n",
              "1  Ekşın falan izlemek istiyorsanız eğer bunu izl...  Sevginin Gücü   5,0\n",
              "2  Bu yapım hakkında öyle çok şey yazabilirim ki ...  Sevginin Gücü   5,0\n",
              "3  finali yeter... (sting - shape of my heart)\\r\\...  Sevginin Gücü   5,0\n",
              "4  Jean Reno..\\r\\nbu adam kusursuz biri..\\r\\nve o...  Sevginin Gücü   5,0"
            ]
          },
          "execution_count": 9,
          "metadata": {},
          "output_type": "execute_result"
        }
      ],
      "source": [
        "df.head()"
      ]
    },
    {
      "cell_type": "code",
      "execution_count": 10,
      "metadata": {
        "colab": {
          "base_uri": "https://localhost:8080/",
          "height": 206
        },
        "id": "a00-2ThQHLBV",
        "outputId": "9eda65e8-5613-4080-c3fa-20e4f9874d47"
      },
      "outputs": [
        {
          "data": {
            "text/html": [
              "<div>\n",
              "<style scoped>\n",
              "    .dataframe tbody tr th:only-of-type {\n",
              "        vertical-align: middle;\n",
              "    }\n",
              "\n",
              "    .dataframe tbody tr th {\n",
              "        vertical-align: top;\n",
              "    }\n",
              "\n",
              "    .dataframe thead th {\n",
              "        text-align: right;\n",
              "    }\n",
              "</style>\n",
              "<table border=\"1\" class=\"dataframe\">\n",
              "  <thead>\n",
              "    <tr style=\"text-align: right;\">\n",
              "      <th></th>\n",
              "      <th>comment</th>\n",
              "      <th>point</th>\n",
              "    </tr>\n",
              "  </thead>\n",
              "  <tbody>\n",
              "    <tr>\n",
              "      <th>0</th>\n",
              "      <td>Jean Reno denince zaten leon filmi gelir akla ...</td>\n",
              "      <td>5,0</td>\n",
              "    </tr>\n",
              "    <tr>\n",
              "      <th>1</th>\n",
              "      <td>Ekşın falan izlemek istiyorsanız eğer bunu izl...</td>\n",
              "      <td>5,0</td>\n",
              "    </tr>\n",
              "    <tr>\n",
              "      <th>2</th>\n",
              "      <td>Bu yapım hakkında öyle çok şey yazabilirim ki ...</td>\n",
              "      <td>5,0</td>\n",
              "    </tr>\n",
              "    <tr>\n",
              "      <th>3</th>\n",
              "      <td>finali yeter... (sting - shape of my heart)\\r\\...</td>\n",
              "      <td>5,0</td>\n",
              "    </tr>\n",
              "    <tr>\n",
              "      <th>4</th>\n",
              "      <td>Jean Reno..\\r\\nbu adam kusursuz biri..\\r\\nve o...</td>\n",
              "      <td>5,0</td>\n",
              "    </tr>\n",
              "  </tbody>\n",
              "</table>\n",
              "</div>"
            ],
            "text/plain": [
              "                                             comment point\n",
              "0  Jean Reno denince zaten leon filmi gelir akla ...   5,0\n",
              "1  Ekşın falan izlemek istiyorsanız eğer bunu izl...   5,0\n",
              "2  Bu yapım hakkında öyle çok şey yazabilirim ki ...   5,0\n",
              "3  finali yeter... (sting - shape of my heart)\\r\\...   5,0\n",
              "4  Jean Reno..\\r\\nbu adam kusursuz biri..\\r\\nve o...   5,0"
            ]
          },
          "execution_count": 10,
          "metadata": {},
          "output_type": "execute_result"
        }
      ],
      "source": [
        "df.drop(\"film_name\", axis=1, inplace=True)\n",
        "df.head()"
      ]
    },
    {
      "cell_type": "markdown",
      "metadata": {
        "id": "w_vvmT_uOf7c"
      },
      "source": [
        "### Remove punctuation"
      ]
    },
    {
      "cell_type": "code",
      "execution_count": 11,
      "metadata": {
        "id": "9icG6wCiOhvW"
      },
      "outputs": [
        {
          "name": "stderr",
          "output_type": "stream",
          "text": [
            "C:\\Users\\egehan\\AppData\\Local\\Temp/ipykernel_7132/2654021393.py:1: FutureWarning: The default value of regex will change from True to False in a future version.\n",
            "  df['comment'] = df['comment'].str.replace(r'[^\\w\\s]+', '')\n"
          ]
        },
        {
          "data": {
            "text/html": [
              "<div>\n",
              "<style scoped>\n",
              "    .dataframe tbody tr th:only-of-type {\n",
              "        vertical-align: middle;\n",
              "    }\n",
              "\n",
              "    .dataframe tbody tr th {\n",
              "        vertical-align: top;\n",
              "    }\n",
              "\n",
              "    .dataframe thead th {\n",
              "        text-align: right;\n",
              "    }\n",
              "</style>\n",
              "<table border=\"1\" class=\"dataframe\">\n",
              "  <thead>\n",
              "    <tr style=\"text-align: right;\">\n",
              "      <th></th>\n",
              "      <th>comment</th>\n",
              "      <th>point</th>\n",
              "    </tr>\n",
              "  </thead>\n",
              "  <tbody>\n",
              "    <tr>\n",
              "      <th>0</th>\n",
              "      <td>Jean Reno denince zaten leon filmi gelir akla ...</td>\n",
              "      <td>5,0</td>\n",
              "    </tr>\n",
              "    <tr>\n",
              "      <th>1</th>\n",
              "      <td>Ekşın falan izlemek istiyorsanız eğer bunu izl...</td>\n",
              "      <td>5,0</td>\n",
              "    </tr>\n",
              "    <tr>\n",
              "      <th>2</th>\n",
              "      <td>Bu yapım hakkında öyle çok şey yazabilirim ki ...</td>\n",
              "      <td>5,0</td>\n",
              "    </tr>\n",
              "    <tr>\n",
              "      <th>3</th>\n",
              "      <td>finali yeter sting  shape of my heart\\r\\n\\r\\nb...</td>\n",
              "      <td>5,0</td>\n",
              "    </tr>\n",
              "    <tr>\n",
              "      <th>4</th>\n",
              "      <td>Jean Reno\\r\\nbu adam kusursuz biri\\r\\nve oyunc...</td>\n",
              "      <td>5,0</td>\n",
              "    </tr>\n",
              "  </tbody>\n",
              "</table>\n",
              "</div>"
            ],
            "text/plain": [
              "                                             comment point\n",
              "0  Jean Reno denince zaten leon filmi gelir akla ...   5,0\n",
              "1  Ekşın falan izlemek istiyorsanız eğer bunu izl...   5,0\n",
              "2  Bu yapım hakkında öyle çok şey yazabilirim ki ...   5,0\n",
              "3  finali yeter sting  shape of my heart\\r\\n\\r\\nb...   5,0\n",
              "4  Jean Reno\\r\\nbu adam kusursuz biri\\r\\nve oyunc...   5,0"
            ]
          },
          "execution_count": 11,
          "metadata": {},
          "output_type": "execute_result"
        }
      ],
      "source": [
        "df['comment'] = df['comment'].str.replace(r'[^\\w\\s]+', '')\n",
        "df.head()"
      ]
    },
    {
      "cell_type": "code",
      "execution_count": 12,
      "metadata": {},
      "outputs": [
        {
          "data": {
            "text/html": [
              "<div>\n",
              "<style scoped>\n",
              "    .dataframe tbody tr th:only-of-type {\n",
              "        vertical-align: middle;\n",
              "    }\n",
              "\n",
              "    .dataframe tbody tr th {\n",
              "        vertical-align: top;\n",
              "    }\n",
              "\n",
              "    .dataframe thead th {\n",
              "        text-align: right;\n",
              "    }\n",
              "</style>\n",
              "<table border=\"1\" class=\"dataframe\">\n",
              "  <thead>\n",
              "    <tr style=\"text-align: right;\">\n",
              "      <th></th>\n",
              "      <th>comment</th>\n",
              "      <th>point</th>\n",
              "    </tr>\n",
              "  </thead>\n",
              "  <tbody>\n",
              "    <tr>\n",
              "      <th>0</th>\n",
              "      <td>jean reno denince zaten leon filmi gelir akla ...</td>\n",
              "      <td>5,0</td>\n",
              "    </tr>\n",
              "    <tr>\n",
              "      <th>1</th>\n",
              "      <td>ekşın falan izlemek istiyorsanız eğer bunu izl...</td>\n",
              "      <td>5,0</td>\n",
              "    </tr>\n",
              "    <tr>\n",
              "      <th>2</th>\n",
              "      <td>bu yapım hakkında öyle çok şey yazabilirim ki ...</td>\n",
              "      <td>5,0</td>\n",
              "    </tr>\n",
              "    <tr>\n",
              "      <th>3</th>\n",
              "      <td>finali yeter sting  shape of my heart\\r\\n\\r\\nb...</td>\n",
              "      <td>5,0</td>\n",
              "    </tr>\n",
              "    <tr>\n",
              "      <th>4</th>\n",
              "      <td>jean reno\\r\\nbu adam kusursuz biri\\r\\nve oyunc...</td>\n",
              "      <td>5,0</td>\n",
              "    </tr>\n",
              "  </tbody>\n",
              "</table>\n",
              "</div>"
            ],
            "text/plain": [
              "                                             comment point\n",
              "0  jean reno denince zaten leon filmi gelir akla ...   5,0\n",
              "1  ekşın falan izlemek istiyorsanız eğer bunu izl...   5,0\n",
              "2  bu yapım hakkında öyle çok şey yazabilirim ki ...   5,0\n",
              "3  finali yeter sting  shape of my heart\\r\\n\\r\\nb...   5,0\n",
              "4  jean reno\\r\\nbu adam kusursuz biri\\r\\nve oyunc...   5,0"
            ]
          },
          "execution_count": 12,
          "metadata": {},
          "output_type": "execute_result"
        }
      ],
      "source": [
        "df[\"comment\"] = df[\"comment\"].str.lower()\n",
        "df.head()"
      ]
    },
    {
      "cell_type": "code",
      "execution_count": 13,
      "metadata": {
        "id": "jFl75kfdHK_L"
      },
      "outputs": [
        {
          "name": "stderr",
          "output_type": "stream",
          "text": [
            "[nltk_data] Downloading package stopwords to\n",
            "[nltk_data]     C:\\Users\\egehan\\AppData\\Roaming\\nltk_data...\n",
            "[nltk_data]   Package stopwords is already up-to-date!\n"
          ]
        },
        {
          "data": {
            "text/plain": [
              "True"
            ]
          },
          "execution_count": 13,
          "metadata": {},
          "output_type": "execute_result"
        }
      ],
      "source": [
        "import nltk\n",
        "\n",
        "nltk.download(\"stopwords\")"
      ]
    },
    {
      "cell_type": "code",
      "execution_count": 14,
      "metadata": {
        "id": "g9FMp5AfHK2a"
      },
      "outputs": [
        {
          "data": {
            "text/plain": [
              "['acaba',\n",
              " 'ama',\n",
              " 'aslında',\n",
              " 'az',\n",
              " 'bazı',\n",
              " 'belki',\n",
              " 'biri',\n",
              " 'birkaç',\n",
              " 'birşey',\n",
              " 'biz']"
            ]
          },
          "execution_count": 14,
          "metadata": {},
          "output_type": "execute_result"
        }
      ],
      "source": [
        "from nltk.corpus import stopwords\n",
        "\n",
        "stop_words = stopwords.words(\"turkish\")\n",
        "stop_words[:10]"
      ]
    },
    {
      "cell_type": "code",
      "execution_count": 15,
      "metadata": {},
      "outputs": [
        {
          "name": "stdout",
          "output_type": "stream",
          "text": [
            "jean reno denince zaten leon filmi gelir akla izlemeyen kalmamıştır ama kaldıysada ee ne duruyorsun hemen izle \n",
            "########\n",
            "\n",
            "ekşın falan izlemek istiyorsanız eğer bunu izlemeyiin dostlarım keza ilk sahne hariç ekşın filmde yerini gittikçe duygusallığa bırakır mathildanın leonun evine geldiğinde ağladığı sahnede ben de ağlamış olabilirim tamam olabilirim değil ağladım ama sen de izle ağlarsın dostooom \n",
            "etkileyici bir film sıkmıyor hiçbir salise boyunca sizi\n",
            " ben artık büyüdüm leon yaşlanıyorum \n",
            " hayat hep böyle zor mu yoksa sadece çocukken mi \n",
            "########\n",
            "\n",
            "bu yapım hakkında öyle çok şey yazabilirim ki kitap olur o yüzden kısa kesmem lazım bir kere ağladığım iki filmden birisidirdiğeri  yeşil yol i̇zlediğim en iyi film midir karar veremeyeceğim ama izlediğim en sanatsal sahneleri barındıran luc besson harikası olduğu kesindir \n",
            "\n",
            "oyunculardan sıkça bahseldilmiş o konuya girmeyeceğim ama luc besson abi sen de ne cevher varmış demekten kendimi alamıyorum yönetmenlikten çabuk çekilerek kıytırık aksiyon filmlerine senaryo yazman çok yazık oldu gerçekten tüm bu övgülerim eric serra içinde geçerlidir nitekim hiç abartmıyorum filmin  50 si eric serra nın hakkıdır muhteşem melodilerine hayranım \n",
            "\n",
            "son olarak natalie portman a değineyim sen ne kadar tatlı munis bir şeymişsin yahu küçükken ayrı bir havan şimdi ayrı bir havan var az yazalım dedik ama döktürmüşüm görüyorumki buradan da anlayabilirsiniz hayatımın filmi olduğunu\n",
            "########\n",
            "\n"
          ]
        }
      ],
      "source": [
        "def print_lines(column, n): \n",
        "    counter = 0\n",
        "    for i in column:\n",
        "        print(i)\n",
        "        print(\"########\\n\")\n",
        "        counter+=1\n",
        "        if counter == n:\n",
        "            break\n",
        "\n",
        "print_lines(df[\"comment\"], 3)"
      ]
    },
    {
      "cell_type": "code",
      "execution_count": 16,
      "metadata": {
        "id": "rnmHDrDDHK0E"
      },
      "outputs": [],
      "source": [
        "stop_words = set(stop_words)\n",
        "df['comment'] = df['comment'].apply(lambda x: ' '.join([word for word in x.split() if word not in (stop_words)]))\n",
        "#no_stopwords = [word for word in line if word not in stop_words]"
      ]
    },
    {
      "cell_type": "code",
      "execution_count": 17,
      "metadata": {},
      "outputs": [
        {
          "name": "stdout",
          "output_type": "stream",
          "text": [
            "jean reno denince zaten leon filmi gelir akla izlemeyen kalmamıştır kaldıysada ee duruyorsun hemen izle\n",
            "########\n",
            "\n",
            "ekşın falan izlemek istiyorsanız bunu izlemeyiin dostlarım keza ilk sahne hariç ekşın filmde yerini gittikçe duygusallığa bırakır mathildanın leonun evine geldiğinde ağladığı sahnede ben ağlamış olabilirim tamam olabilirim değil ağladım sen izle ağlarsın dostooom etkileyici bir film sıkmıyor hiçbir salise boyunca sizi ben artık büyüdüm leon yaşlanıyorum hayat böyle zor yoksa sadece çocukken mi\n",
            "########\n",
            "\n",
            "yapım hakkında öyle yazabilirim kitap olur yüzden kısa kesmem lazım bir kere ağladığım iki filmden birisidirdiğeri yeşil yol i̇zlediğim iyi film midir karar veremeyeceğim izlediğim sanatsal sahneleri barındıran luc besson harikası olduğu kesindir oyunculardan sıkça bahseldilmiş konuya girmeyeceğim luc besson abi sen cevher varmış demekten kendimi alamıyorum yönetmenlikten çabuk çekilerek kıytırık aksiyon filmlerine senaryo yazman yazık oldu gerçekten övgülerim eric serra içinde geçerlidir nitekim abartmıyorum filmin 50 si eric serra nın hakkıdır muhteşem melodilerine hayranım son olarak natalie portman a değineyim sen kadar tatlı munis bir şeymişsin yahu küçükken ayrı bir havan şimdi ayrı bir havan var yazalım dedik döktürmüşüm görüyorumki buradan anlayabilirsiniz hayatımın filmi olduğunu\n",
            "########\n",
            "\n"
          ]
        }
      ],
      "source": [
        "print_lines(df[\"comment\"], 3)"
      ]
    },
    {
      "cell_type": "code",
      "execution_count": 18,
      "metadata": {
        "id": "MiZSi75iJ0tb"
      },
      "outputs": [],
      "source": [
        "from TurkishStemmer import TurkishStemmer\n",
        "\n",
        "stemmer = TurkishStemmer()"
      ]
    },
    {
      "cell_type": "code",
      "execution_count": 19,
      "metadata": {},
      "outputs": [
        {
          "data": {
            "text/html": [
              "<div>\n",
              "<style scoped>\n",
              "    .dataframe tbody tr th:only-of-type {\n",
              "        vertical-align: middle;\n",
              "    }\n",
              "\n",
              "    .dataframe tbody tr th {\n",
              "        vertical-align: top;\n",
              "    }\n",
              "\n",
              "    .dataframe thead th {\n",
              "        text-align: right;\n",
              "    }\n",
              "</style>\n",
              "<table border=\"1\" class=\"dataframe\">\n",
              "  <thead>\n",
              "    <tr style=\"text-align: right;\">\n",
              "      <th></th>\n",
              "      <th>comment</th>\n",
              "      <th>point</th>\n",
              "    </tr>\n",
              "  </thead>\n",
              "  <tbody>\n",
              "    <tr>\n",
              "      <th>0</th>\n",
              "      <td>[jean, reno, denince, zaten, leon, filmi, geli...</td>\n",
              "      <td>5,0</td>\n",
              "    </tr>\n",
              "    <tr>\n",
              "      <th>1</th>\n",
              "      <td>[ekşın, falan, izlemek, istiyorsanız, bunu, iz...</td>\n",
              "      <td>5,0</td>\n",
              "    </tr>\n",
              "    <tr>\n",
              "      <th>2</th>\n",
              "      <td>[yapım, hakkında, öyle, yazabilirim, kitap, ol...</td>\n",
              "      <td>5,0</td>\n",
              "    </tr>\n",
              "    <tr>\n",
              "      <th>3</th>\n",
              "      <td>[finali, yeter, sting, shape, of, my, heart, b...</td>\n",
              "      <td>5,0</td>\n",
              "    </tr>\n",
              "    <tr>\n",
              "      <th>4</th>\n",
              "      <td>[jean, reno, adam, kusursuz, oyunculugu, müthi...</td>\n",
              "      <td>5,0</td>\n",
              "    </tr>\n",
              "  </tbody>\n",
              "</table>\n",
              "</div>"
            ],
            "text/plain": [
              "                                             comment point\n",
              "0  [jean, reno, denince, zaten, leon, filmi, geli...   5,0\n",
              "1  [ekşın, falan, izlemek, istiyorsanız, bunu, iz...   5,0\n",
              "2  [yapım, hakkında, öyle, yazabilirim, kitap, ol...   5,0\n",
              "3  [finali, yeter, sting, shape, of, my, heart, b...   5,0\n",
              "4  [jean, reno, adam, kusursuz, oyunculugu, müthi...   5,0"
            ]
          },
          "execution_count": 19,
          "metadata": {},
          "output_type": "execute_result"
        }
      ],
      "source": [
        "df['comment'] = df['comment'].str.split()\n",
        "df.head()"
      ]
    },
    {
      "cell_type": "code",
      "execution_count": 20,
      "metadata": {},
      "outputs": [],
      "source": [
        "df['comment'] = df['comment'].apply(lambda x: [stemmer.stem(y) for y in x])"
      ]
    },
    {
      "cell_type": "code",
      "execution_count": 21,
      "metadata": {},
      "outputs": [
        {
          "data": {
            "text/html": [
              "<div>\n",
              "<style scoped>\n",
              "    .dataframe tbody tr th:only-of-type {\n",
              "        vertical-align: middle;\n",
              "    }\n",
              "\n",
              "    .dataframe tbody tr th {\n",
              "        vertical-align: top;\n",
              "    }\n",
              "\n",
              "    .dataframe thead th {\n",
              "        text-align: right;\n",
              "    }\n",
              "</style>\n",
              "<table border=\"1\" class=\"dataframe\">\n",
              "  <thead>\n",
              "    <tr style=\"text-align: right;\">\n",
              "      <th></th>\n",
              "      <th>comment</th>\n",
              "      <th>point</th>\n",
              "    </tr>\n",
              "  </thead>\n",
              "  <tbody>\n",
              "    <tr>\n",
              "      <th>0</th>\n",
              "      <td>[jean, reno, deni, zaten, leon, film, gelir, a...</td>\n",
              "      <td>5,0</td>\n",
              "    </tr>\n",
              "    <tr>\n",
              "      <th>1</th>\n",
              "      <td>[ekşı, falan, izlemek, istiyor, bun, izlemey, ...</td>\n",
              "      <td>5,0</td>\n",
              "    </tr>\n",
              "    <tr>\n",
              "      <th>2</th>\n",
              "      <td>[yap, hakk, öyl, yazabilir, kitap, olur, yüz, ...</td>\n",
              "      <td>5,0</td>\n",
              "    </tr>\n",
              "    <tr>\n",
              "      <th>3</th>\n",
              "      <td>[finali, yeter, sting, shape, of, my, heart, b...</td>\n",
              "      <td>5,0</td>\n",
              "    </tr>\n",
              "    <tr>\n",
              "      <th>4</th>\n",
              "      <td>[jean, reno, ada, kusurs, oyunculug, müthiş, f...</td>\n",
              "      <td>5,0</td>\n",
              "    </tr>\n",
              "  </tbody>\n",
              "</table>\n",
              "</div>"
            ],
            "text/plain": [
              "                                             comment point\n",
              "0  [jean, reno, deni, zaten, leon, film, gelir, a...   5,0\n",
              "1  [ekşı, falan, izlemek, istiyor, bun, izlemey, ...   5,0\n",
              "2  [yap, hakk, öyl, yazabilir, kitap, olur, yüz, ...   5,0\n",
              "3  [finali, yeter, sting, shape, of, my, heart, b...   5,0\n",
              "4  [jean, reno, ada, kusurs, oyunculug, müthiş, f...   5,0"
            ]
          },
          "execution_count": 21,
          "metadata": {},
          "output_type": "execute_result"
        }
      ],
      "source": [
        "df.head()"
      ]
    },
    {
      "cell_type": "code",
      "execution_count": 22,
      "metadata": {},
      "outputs": [
        {
          "name": "stdout",
          "output_type": "stream",
          "text": [
            "['jean', 'reno', 'deni', 'zaten', 'leon', 'film', 'gelir', 'akl', 'izlemeyen', 'kalm', 'kaldıysa', 'e', 'duruyor', 'hemen', 'izl']\n",
            "########\n",
            "\n",
            "['ekşı', 'falan', 'izlemek', 'istiyor', 'bun', 'izlemey', 'dost', 'keza', 'ilk', 'sahne', 'hariç', 'ekşı', 'film', 'yer', 'gittikç', 'duygusallık', 'bırakır', 'mathilda', 'leon', 'ev', 'geldik', 'ağladık', 'sahne', 'ben', 'ağla', 'olabilir', 'tama', 'olabilir', 'değil', 'ağla', 'sen', 'izl', 'ağlar', 'dostooom', 'etkileyiç', 'bir', 'film', 'sıkmıyor', 'hiçbir', 'sali', 'boyu', 'siz', 'ben', 'ar', 'büyü', 'leon', 'yaşlanıyor', 'hayat', 'böyl', 'zor', 'yoks', 'sade', 'çocukken', 'mi']\n",
            "########\n",
            "\n",
            "['yap', 'hakk', 'öyl', 'yazabilir', 'kitap', 'olur', 'yüz', 'kıs', 'kesme', 'lazım', 'bir', 'ker', 'ağladık', 'ik', 'film', 'birisidirdiğer', 'yeşil', 'yol', 'i̇zlediğim', 'iyi', 'film', 'mi', 'karar', 'veremeyecek', 'izledik', 'sanatsal', 'sahne', 'barındıran', 'luc', 'besson', 'harika', 'olduk', 'kes', 'oyuncu', 'sıkç', 'bahseldil', 'konu', 'girmeyecek', 'luc', 'besson', 'abi', 'sen', 'cevher', 'var', 'demek', 'kent', 'alamıyor', 'yönetmenlik', 'çabuk', 'çekilerek', 'kıytırık', 'aksiyon', 'film', 'senaryo', 'yazman', 'yazık', 'olt', 'gerçek', 'övgü', 'eric', 'serra', 'iç', 'geçer', 'nitek', 'abartmıyor', 'film', '50', 'si', 'eric', 'serra', 'nın', 'hakk', 'muhteşe', 'melodi', 'hayran', 'son', 'olarak', 'natali', 'portman', 'a', 'dek', 'sen', 'kadar', 'tatl', 'munis', 'bir', 'şe', 'yahu', 'küçük', 'ayr', 'bir', 'havan', 'şimt', 'ayr', 'bir', 'havan', 'var', 'yazal', 'de', 'döktür', 'görüyorumki', 'bura', 'anlayabilir', 'hayat', 'film', 'olduk']\n",
            "########\n",
            "\n"
          ]
        }
      ],
      "source": [
        "print_lines(df[\"comment\"], 3)"
      ]
    },
    {
      "cell_type": "code",
      "execution_count": 23,
      "metadata": {
        "id": "Qh4uP4FiMZlq"
      },
      "outputs": [],
      "source": [
        "df['comment'] = df['comment'].apply(lambda x: ' '.join(word for word in x))"
      ]
    },
    {
      "cell_type": "code",
      "execution_count": 24,
      "metadata": {},
      "outputs": [
        {
          "data": {
            "text/html": [
              "<div>\n",
              "<style scoped>\n",
              "    .dataframe tbody tr th:only-of-type {\n",
              "        vertical-align: middle;\n",
              "    }\n",
              "\n",
              "    .dataframe tbody tr th {\n",
              "        vertical-align: top;\n",
              "    }\n",
              "\n",
              "    .dataframe thead th {\n",
              "        text-align: right;\n",
              "    }\n",
              "</style>\n",
              "<table border=\"1\" class=\"dataframe\">\n",
              "  <thead>\n",
              "    <tr style=\"text-align: right;\">\n",
              "      <th></th>\n",
              "      <th>comment</th>\n",
              "      <th>point</th>\n",
              "    </tr>\n",
              "  </thead>\n",
              "  <tbody>\n",
              "    <tr>\n",
              "      <th>0</th>\n",
              "      <td>jean reno deni zaten leon film gelir akl izlem...</td>\n",
              "      <td>5,0</td>\n",
              "    </tr>\n",
              "    <tr>\n",
              "      <th>1</th>\n",
              "      <td>ekşı falan izlemek istiyor bun izlemey dost ke...</td>\n",
              "      <td>5,0</td>\n",
              "    </tr>\n",
              "    <tr>\n",
              "      <th>2</th>\n",
              "      <td>yap hakk öyl yazabilir kitap olur yüz kıs kesm...</td>\n",
              "      <td>5,0</td>\n",
              "    </tr>\n",
              "    <tr>\n",
              "      <th>3</th>\n",
              "      <td>finali yeter sting shape of my heart bazı film...</td>\n",
              "      <td>5,0</td>\n",
              "    </tr>\n",
              "    <tr>\n",
              "      <th>4</th>\n",
              "      <td>jean reno ada kusurs oyunculug müthiş film baş...</td>\n",
              "      <td>5,0</td>\n",
              "    </tr>\n",
              "  </tbody>\n",
              "</table>\n",
              "</div>"
            ],
            "text/plain": [
              "                                             comment point\n",
              "0  jean reno deni zaten leon film gelir akl izlem...   5,0\n",
              "1  ekşı falan izlemek istiyor bun izlemey dost ke...   5,0\n",
              "2  yap hakk öyl yazabilir kitap olur yüz kıs kesm...   5,0\n",
              "3  finali yeter sting shape of my heart bazı film...   5,0\n",
              "4  jean reno ada kusurs oyunculug müthiş film baş...   5,0"
            ]
          },
          "execution_count": 24,
          "metadata": {},
          "output_type": "execute_result"
        }
      ],
      "source": [
        "df.head()"
      ]
    },
    {
      "cell_type": "code",
      "execution_count": 25,
      "metadata": {},
      "outputs": [
        {
          "data": {
            "text/plain": [
              "['jean reno deni zaten leon film gelir akl izlemeyen kalm kaldıysa e duruyor hemen izl',\n",
              " 'ekşı falan izlemek istiyor bun izlemey dost keza ilk sahne hariç ekşı film yer gittikç duygusallık bırakır mathilda leon ev geldik ağladık sahne ben ağla olabilir tama olabilir değil ağla sen izl ağlar dostooom etkileyiç bir film sıkmıyor hiçbir sali boyu siz ben ar büyü leon yaşlanıyor hayat böyl zor yoks sade çocukken mi',\n",
              " 'yap hakk öyl yazabilir kitap olur yüz kıs kesme lazım bir ker ağladık ik film birisidirdiğer yeşil yol i̇zlediğim iyi film mi karar veremeyecek izledik sanatsal sahne barındıran luc besson harika olduk kes oyuncu sıkç bahseldil konu girmeyecek luc besson abi sen cevher var demek kent alamıyor yönetmenlik çabuk çekilerek kıytırık aksiyon film senaryo yazman yazık olt gerçek övgü eric serra iç geçer nitek abartmıyor film 50 si eric serra nın hakk muhteşe melodi hayran son olarak natali portman a dek sen kadar tatl munis bir şe yahu küçük ayr bir havan şimt ayr bir havan var yazal de döktür görüyorumki bura anlayabilir hayat film olduk']"
            ]
          },
          "execution_count": 25,
          "metadata": {},
          "output_type": "execute_result"
        }
      ],
      "source": [
        "train_sentences = df[\"comment\"].tolist()\n",
        "\n",
        "train_sentences[:3]"
      ]
    },
    {
      "cell_type": "code",
      "execution_count": 26,
      "metadata": {},
      "outputs": [
        {
          "data": {
            "text/plain": [
              "(36.48517908851695, 3608)"
            ]
          },
          "execution_count": 26,
          "metadata": {},
          "output_type": "execute_result"
        }
      ],
      "source": [
        "import numpy as np\n",
        "\n",
        "sent_lens = [len(sentence.split()) for sentence in train_sentences]\n",
        "avg_sent_len = np.mean(sent_lens)\n",
        "max_sent_len = np.max(sent_lens)\n",
        "avg_sent_len, max_sent_len"
      ]
    },
    {
      "cell_type": "code",
      "execution_count": 27,
      "metadata": {},
      "outputs": [
        {
          "data": {
            "text/plain": [
              "113"
            ]
          },
          "execution_count": 27,
          "metadata": {},
          "output_type": "execute_result"
        }
      ],
      "source": [
        "# How long of a sentence lenght covers 95% of examples?\n",
        "output_seq_len = int(np.percentile(sent_lens, 95))\n",
        "\n",
        "output_seq_len"
      ]
    },
    {
      "cell_type": "code",
      "execution_count": 33,
      "metadata": {},
      "outputs": [
        {
          "data": {
            "text/plain": [
              "159"
            ]
          },
          "execution_count": 33,
          "metadata": {},
          "output_type": "execute_result"
        }
      ],
      "source": [
        "# How long of a sentence lenght covers 97% of examples?\n",
        "x = int(np.percentile(sent_lens, 97))\n",
        "\n",
        "x"
      ]
    },
    {
      "cell_type": "code",
      "execution_count": 34,
      "metadata": {},
      "outputs": [],
      "source": [
        "output_seq_len = 160"
      ]
    },
    {
      "cell_type": "code",
      "execution_count": 35,
      "metadata": {},
      "outputs": [
        {
          "name": "stdout",
          "output_type": "stream",
          "text": [
            "GPU: NVIDIA GeForce GTX 1050 Ti\n"
          ]
        }
      ],
      "source": [
        "import tensorflow as tf\n",
        "import torch\n",
        "\n",
        "# Check GPU\n",
        "device_name = tf.test.gpu_device_name()\n",
        "if device_name == '/device:GPU:0':\n",
        "    device = torch.device(\"cuda\")\n",
        "    print('GPU:', torch.cuda.get_device_name(0))\n",
        "else:\n",
        "    raise SystemError('GPU device not found')"
      ]
    },
    {
      "cell_type": "code",
      "execution_count": 36,
      "metadata": {},
      "outputs": [],
      "source": [
        "from transformers import BertTokenizer\n",
        "\n",
        "# initialize tokenizer\n",
        "#tokenizer = BertTokenizer.from_pretrained('bert-base-cased')\n",
        "tokenizer = BertTokenizer.from_pretrained('dbmdz/bert-base-turkish-128k-uncased', do_lower_case=True)\n",
        "\n",
        "# tokenize - this time returning Numpy tensors\n",
        "tokens = tokenizer(df['comment'].tolist(), max_length=output_seq_len, truncation=True,\n",
        "                   padding='max_length', add_special_tokens=True,\n",
        "                   return_tensors='np')"
      ]
    },
    {
      "cell_type": "code",
      "execution_count": 37,
      "metadata": {},
      "outputs": [
        {
          "data": {
            "text/plain": [
              "['bu',\n",
              " 'film',\n",
              " 'berbat',\n",
              " '.',\n",
              " 'cidden',\n",
              " 'en',\n",
              " 'kotu',\n",
              " 'film',\n",
              " 'ama',\n",
              " 'izlenir',\n",
              " 'yine',\n",
              " 'de']"
            ]
          },
          "execution_count": 37,
          "metadata": {},
          "output_type": "execute_result"
        }
      ],
      "source": [
        "sentence = \"Bu film berbat. Cidden en kötü film ama izlenir yine de\"\n",
        "tokenized_sentence = tokenizer.tokenize(sentence)\n",
        "tokenized_sentence"
      ]
    },
    {
      "cell_type": "code",
      "execution_count": 38,
      "metadata": {},
      "outputs": [
        {
          "data": {
            "text/plain": [
              "[1964, 2767, 13686, 18, 17081, 2064, 36007, 2767, 2156, 41667, 3000, 1961]"
            ]
          },
          "execution_count": 38,
          "metadata": {},
          "output_type": "execute_result"
        }
      ],
      "source": [
        "x = tokenizer.convert_tokens_to_ids(tokenized_sentence)\n",
        "x"
      ]
    },
    {
      "cell_type": "code",
      "execution_count": 39,
      "metadata": {},
      "outputs": [
        {
          "data": {
            "text/plain": [
              "['bu',\n",
              " 'film',\n",
              " 'berbat',\n",
              " '.',\n",
              " 'cidden',\n",
              " 'en',\n",
              " 'kotu',\n",
              " 'film',\n",
              " 'ama',\n",
              " 'izlenir',\n",
              " 'yine',\n",
              " 'de']"
            ]
          },
          "execution_count": 39,
          "metadata": {},
          "output_type": "execute_result"
        }
      ],
      "source": [
        "tokenizer.convert_ids_to_tokens(x)"
      ]
    },
    {
      "cell_type": "code",
      "execution_count": 40,
      "metadata": {},
      "outputs": [
        {
          "data": {
            "text/plain": [
              "dict_keys(['input_ids', 'token_type_ids', 'attention_mask'])"
            ]
          },
          "execution_count": 40,
          "metadata": {},
          "output_type": "execute_result"
        }
      ],
      "source": [
        "tokens.keys()"
      ]
    },
    {
      "cell_type": "code",
      "execution_count": 41,
      "metadata": {},
      "outputs": [
        {
          "data": {
            "text/plain": [
              "(array([[     2,  13158,  62480, ...,      0,      0,      0],\n",
              "        [     2,   9659,   1022, ...,      0,      0,      0],\n",
              "        [     2,   1997,   2533, ...,      0,      0,      0],\n",
              "        ...,\n",
              "        [     2,   2185,   3538, ...,      0,      0,      0],\n",
              "        [     2,   2767,  14368, ...,      0,      0,      0],\n",
              "        [     2, 113289,   2767, ...,      0,      0,      0]]),\n",
              " (160,))"
            ]
          },
          "execution_count": 41,
          "metadata": {},
          "output_type": "execute_result"
        }
      ],
      "source": [
        "tokens[\"input_ids\"][:10], tokens[\"input_ids\"][0].shape"
      ]
    },
    {
      "cell_type": "code",
      "execution_count": 42,
      "metadata": {},
      "outputs": [],
      "source": [
        "with open('movie-xids.npy', 'wb') as f:\n",
        "    np.save(f, tokens['input_ids'])\n",
        "with open('movie-xmask.npy', 'wb') as f:\n",
        "    np.save(f, tokens['attention_mask'])"
      ]
    },
    {
      "cell_type": "code",
      "execution_count": 43,
      "metadata": {},
      "outputs": [
        {
          "data": {
            "text/html": [
              "<div>\n",
              "<style scoped>\n",
              "    .dataframe tbody tr th:only-of-type {\n",
              "        vertical-align: middle;\n",
              "    }\n",
              "\n",
              "    .dataframe tbody tr th {\n",
              "        vertical-align: top;\n",
              "    }\n",
              "\n",
              "    .dataframe thead th {\n",
              "        text-align: right;\n",
              "    }\n",
              "</style>\n",
              "<table border=\"1\" class=\"dataframe\">\n",
              "  <thead>\n",
              "    <tr style=\"text-align: right;\">\n",
              "      <th></th>\n",
              "      <th>comment</th>\n",
              "      <th>point</th>\n",
              "    </tr>\n",
              "  </thead>\n",
              "  <tbody>\n",
              "    <tr>\n",
              "      <th>0</th>\n",
              "      <td>jean reno deni zaten leon film gelir akl izlem...</td>\n",
              "      <td>5.0</td>\n",
              "    </tr>\n",
              "    <tr>\n",
              "      <th>1</th>\n",
              "      <td>ekşı falan izlemek istiyor bun izlemey dost ke...</td>\n",
              "      <td>5.0</td>\n",
              "    </tr>\n",
              "    <tr>\n",
              "      <th>2</th>\n",
              "      <td>yap hakk öyl yazabilir kitap olur yüz kıs kesm...</td>\n",
              "      <td>5.0</td>\n",
              "    </tr>\n",
              "    <tr>\n",
              "      <th>3</th>\n",
              "      <td>finali yeter sting shape of my heart bazı film...</td>\n",
              "      <td>5.0</td>\n",
              "    </tr>\n",
              "    <tr>\n",
              "      <th>4</th>\n",
              "      <td>jean reno ada kusurs oyunculug müthiş film baş...</td>\n",
              "      <td>5.0</td>\n",
              "    </tr>\n",
              "  </tbody>\n",
              "</table>\n",
              "</div>"
            ],
            "text/plain": [
              "                                             comment point\n",
              "0  jean reno deni zaten leon film gelir akl izlem...   5.0\n",
              "1  ekşı falan izlemek istiyor bun izlemey dost ke...   5.0\n",
              "2  yap hakk öyl yazabilir kitap olur yüz kıs kesm...   5.0\n",
              "3  finali yeter sting shape of my heart bazı film...   5.0\n",
              "4  jean reno ada kusurs oyunculug müthiş film baş...   5.0"
            ]
          },
          "execution_count": 43,
          "metadata": {},
          "output_type": "execute_result"
        }
      ],
      "source": [
        "df['point'] = df['point'].str.replace(',','.')\n",
        "df.head()"
      ]
    },
    {
      "cell_type": "code",
      "execution_count": 44,
      "metadata": {},
      "outputs": [],
      "source": [
        "df[\"point\"] = df[\"point\"].astype(float)"
      ]
    },
    {
      "cell_type": "code",
      "execution_count": 45,
      "metadata": {},
      "outputs": [],
      "source": [
        "df[\"point\"] = df[\"point\"].round().astype('int')"
      ]
    },
    {
      "cell_type": "code",
      "execution_count": 47,
      "metadata": {},
      "outputs": [
        {
          "data": {
            "text/plain": [
              "array([[0., 0., 0., 0., 0., 1.],\n",
              "       [0., 0., 0., 0., 0., 1.],\n",
              "       [0., 0., 0., 0., 0., 1.],\n",
              "       ...,\n",
              "       [0., 1., 0., 0., 0., 0.],\n",
              "       [0., 0., 0., 0., 1., 0.],\n",
              "       [0., 0., 0., 0., 0., 1.]])"
            ]
          },
          "execution_count": 47,
          "metadata": {},
          "output_type": "execute_result"
        }
      ],
      "source": [
        "from sklearn.preprocessing import OneHotEncoder\n",
        "one_hot_encoder = OneHotEncoder(sparse=False)\n",
        "labels_one_hot = one_hot_encoder.fit_transform(df[\"point\"].to_numpy().reshape(-1,1))\n",
        "labels_one_hot"
      ]
    },
    {
      "cell_type": "code",
      "execution_count": 48,
      "metadata": {},
      "outputs": [],
      "source": [
        "with open(\"movie-labels.npy\", \"wb\") as f:\n",
        "    np.save(f, labels_one_hot)"
      ]
    }
  ],
  "metadata": {
    "colab": {
      "collapsed_sections": [],
      "name": "Preprocessing.ipynb",
      "provenance": []
    },
    "kernelspec": {
      "display_name": "Python 3",
      "name": "python3"
    },
    "language_info": {
      "codemirror_mode": {
        "name": "ipython",
        "version": 3
      },
      "file_extension": ".py",
      "mimetype": "text/x-python",
      "name": "python",
      "nbconvert_exporter": "python",
      "pygments_lexer": "ipython3",
      "version": "3.9.7"
    }
  },
  "nbformat": 4,
  "nbformat_minor": 0
}
