{
 "cells": [
  {
   "cell_type": "markdown",
   "metadata": {},
   "source": [
    "## Data Preparation and Processing"
   ]
  },
  {
   "cell_type": "code",
   "execution_count": 116,
   "metadata": {},
   "outputs": [],
   "source": [
    "import numpy as np\n",
    "from random import randint\n",
    "from sklearn.utils import shuffle\n",
    "from sklearn.preprocessing import MinMaxScaler"
   ]
  },
  {
   "cell_type": "code",
   "execution_count": 117,
   "metadata": {},
   "outputs": [],
   "source": [
    "train_labels = []\n",
    "train_samples = []"
   ]
  },
  {
   "cell_type": "markdown",
   "metadata": {},
   "source": [
    "Example data:\n",
    "\n",
    "    -An experimental drug was tested on individuals from ages 13 to 100 in a clinic trial\n",
    "    -The trial had 2100 participants. Half were under 65 years old, half were 65 years older\n",
    "    -Around 95% of patients 65 or older experienced side effects\n",
    "    -Around 95% of patients under 65 experienced no side effects"
   ]
  },
  {
   "cell_type": "markdown",
   "metadata": {},
   "source": [
    "### Creating the data"
   ]
  },
  {
   "cell_type": "code",
   "execution_count": 118,
   "metadata": {},
   "outputs": [],
   "source": [
    "for i in range(50):\n",
    "    # 5% of younger individuals who did experienced side effects\n",
    "    random_younger = randint(13,64)\n",
    "    train_samples.append(random_younger)\n",
    "    train_labels.append(1)\n",
    "    \n",
    "    # 5% of older individuals who did not experienced side effects\n",
    "    random_older = randint(65,100)\n",
    "    train_samples.append(random_older)\n",
    "    train_labels.append(0)\n",
    "    \n",
    "for i in range(1000):\n",
    "    # 95% of younder individuals who did not experienced side effects\n",
    "    random_younger = randint(13,64)\n",
    "    train_samples.append(random_younger)\n",
    "    train_labels.append(0)\n",
    "    \n",
    "    # 95% of older individuals who did experienced side effects\n",
    "    random_older = randint(65,100)\n",
    "    train_samples.append(random_older)\n",
    "    train_labels.append(1)"
   ]
  },
  {
   "cell_type": "code",
   "execution_count": 119,
   "metadata": {},
   "outputs": [],
   "source": [
    "test_labels = []\n",
    "test_samples = []"
   ]
  },
  {
   "cell_type": "code",
   "execution_count": 120,
   "metadata": {},
   "outputs": [],
   "source": [
    "for i in range(10):\n",
    "    # 5% of younger individuals who did experienced side effects\n",
    "    random_younger = randint(13,64)\n",
    "    test_samples.append(random_younger)\n",
    "    test_labels.append(1)\n",
    "    \n",
    "    # 5% of older individuals who did not experienced side effects\n",
    "    random_older = randint(65,100)\n",
    "    test_samples.append(random_older)\n",
    "    test_labels.append(0)\n",
    "    \n",
    "for i in range(200):\n",
    "    # 95% of younder individuals who did not experienced side effects\n",
    "    random_younger = randint(13,64)\n",
    "    test_samples.append(random_younger)\n",
    "    test_labels.append(0)\n",
    "    \n",
    "    # 95% of older individuals who did experienced side effects\n",
    "    random_older = randint(65,100)\n",
    "    test_samples.append(random_older)\n",
    "    test_labels.append(1)"
   ]
  },
  {
   "cell_type": "code",
   "execution_count": 121,
   "metadata": {},
   "outputs": [
    {
     "name": "stdout",
     "output_type": "stream",
     "text": [
      "25\n",
      "92\n",
      "49\n",
      "91\n",
      "49\n"
     ]
    }
   ],
   "source": [
    "for i in train_samples[:5]:\n",
    "    print(i)"
   ]
  },
  {
   "cell_type": "code",
   "execution_count": 122,
   "metadata": {},
   "outputs": [
    {
     "name": "stdout",
     "output_type": "stream",
     "text": [
      "1\n",
      "0\n",
      "1\n",
      "0\n",
      "1\n"
     ]
    }
   ],
   "source": [
    "for i in train_labels[:5]:\n",
    "    print(i)"
   ]
  },
  {
   "cell_type": "code",
   "execution_count": 123,
   "metadata": {},
   "outputs": [],
   "source": [
    "train_labels = np.array(train_labels)\n",
    "train_samples = np.array(train_samples)\n",
    "train_labels, train_samples = shuffle(train_labels, train_samples) # shuffling wrt each other.\n",
    "# If you don't shuffle it here and wait for the automatic shuffle in the compile function and if you also want to split the\n",
    "# data and get a validation data; since the validation split function will be called before the shuffle function, your\n",
    "# validation data won't be shuffled."
   ]
  },
  {
   "cell_type": "code",
   "execution_count": 124,
   "metadata": {},
   "outputs": [],
   "source": [
    "test_labels = np.array(test_labels)\n",
    "test_samples = np.array(test_samples)\n",
    "test_labels, test_samples = shuffle(test_labels, test_samples)"
   ]
  },
  {
   "cell_type": "code",
   "execution_count": 126,
   "metadata": {},
   "outputs": [],
   "source": [
    "scaler = MinMaxScaler(feature_range=(0,1))\n",
    "scaled_train_samples = scaler.fit_transform(train_samples.reshape(-1,1))\n",
    "scaled_test_samples = scaler.fit_transform(test_samples.reshape(-1,1))"
   ]
  },
  {
   "cell_type": "code",
   "execution_count": 128,
   "metadata": {},
   "outputs": [
    {
     "name": "stdout",
     "output_type": "stream",
     "text": [
      "31 [0.20689655]\n",
      "96 [0.95402299]\n",
      "43 [0.34482759]\n",
      "76 [0.72413793]\n",
      "69 [0.64367816]\n"
     ]
    }
   ],
   "source": [
    "for i in range(5):\n",
    "    print(train_samples[i], scaled_train_samples[i])"
   ]
  },
  {
   "cell_type": "markdown",
   "metadata": {},
   "source": [
    "## Simple tf.keras Sequential Model"
   ]
  },
  {
   "cell_type": "code",
   "execution_count": 129,
   "metadata": {},
   "outputs": [],
   "source": [
    "import tensorflow as tf\n",
    "from tensorflow import keras\n",
    "from tensorflow.keras.models import Sequential\n",
    "from tensorflow.keras.layers import Activation, Dense\n",
    "from tensorflow.keras.optimizers import Adam\n",
    "from tensorflow.keras.metrics import categorical_crossentropy"
   ]
  },
  {
   "cell_type": "raw",
   "metadata": {},
   "source": [
    "### To use GPU instead of CPU, run this cell\n",
    "physical_devices = tf.config.experimental.list_physical_devices('GPU')\n",
    "print(\"Num GPUs Available: \", len(physical_devices))\n",
    "tf.config.experimental.set_memory_growth(physical_devices[0], True)"
   ]
  },
  {
   "cell_type": "code",
   "execution_count": 152,
   "metadata": {},
   "outputs": [],
   "source": [
    "model = Sequential([\n",
    "    Dense(16, input_shape=(1,), activation='relu'),\n",
    "    Dense(32, activation='relu'),\n",
    "    Dense(2, activation='softmax')\n",
    "])"
   ]
  },
  {
   "cell_type": "code",
   "execution_count": 153,
   "metadata": {},
   "outputs": [
    {
     "name": "stdout",
     "output_type": "stream",
     "text": [
      "Model: \"sequential_7\"\n",
      "_________________________________________________________________\n",
      "Layer (type)                 Output Shape              Param #   \n",
      "=================================================================\n",
      "dense_21 (Dense)             (None, 128)               256       \n",
      "_________________________________________________________________\n",
      "dense_22 (Dense)             (None, 64)                8256      \n",
      "_________________________________________________________________\n",
      "dense_23 (Dense)             (None, 2)                 130       \n",
      "=================================================================\n",
      "Total params: 8,642\n",
      "Trainable params: 8,642\n",
      "Non-trainable params: 0\n",
      "_________________________________________________________________\n"
     ]
    }
   ],
   "source": [
    "model.summary()"
   ]
  },
  {
   "cell_type": "code",
   "execution_count": 154,
   "metadata": {},
   "outputs": [],
   "source": [
    "model.compile(optimizer=Adam(learning_rate=0.0001), loss='sparse_categorical_crossentropy', metrics=['accuracy'])"
   ]
  },
  {
   "cell_type": "code",
   "execution_count": 155,
   "metadata": {},
   "outputs": [
    {
     "name": "stdout",
     "output_type": "stream",
     "text": [
      "Epoch 1/30\n",
      "189/189 - 1s - loss: 0.6749 - accuracy: 0.6190 - val_loss: 0.6346 - val_accuracy: 0.6762\n",
      "Epoch 2/30\n",
      "189/189 - 0s - loss: 0.6046 - accuracy: 0.7190 - val_loss: 0.5649 - val_accuracy: 0.7810\n",
      "Epoch 3/30\n",
      "189/189 - 0s - loss: 0.5361 - accuracy: 0.7989 - val_loss: 0.4927 - val_accuracy: 0.8143\n",
      "Epoch 4/30\n",
      "189/189 - 0s - loss: 0.4636 - accuracy: 0.8593 - val_loss: 0.4229 - val_accuracy: 0.8714\n",
      "Epoch 5/30\n",
      "189/189 - 0s - loss: 0.3995 - accuracy: 0.8926 - val_loss: 0.3681 - val_accuracy: 0.9000\n",
      "Epoch 6/30\n",
      "189/189 - 0s - loss: 0.3517 - accuracy: 0.9079 - val_loss: 0.3315 - val_accuracy: 0.9238\n",
      "Epoch 7/30\n",
      "189/189 - 0s - loss: 0.3215 - accuracy: 0.9243 - val_loss: 0.3066 - val_accuracy: 0.9238\n",
      "Epoch 8/30\n",
      "189/189 - 0s - loss: 0.3013 - accuracy: 0.9291 - val_loss: 0.2921 - val_accuracy: 0.9381\n",
      "Epoch 9/30\n",
      "189/189 - 0s - loss: 0.2889 - accuracy: 0.9323 - val_loss: 0.2814 - val_accuracy: 0.9381\n",
      "Epoch 10/30\n",
      "189/189 - 0s - loss: 0.2805 - accuracy: 0.9317 - val_loss: 0.2799 - val_accuracy: 0.9476\n",
      "Epoch 11/30\n",
      "189/189 - 0s - loss: 0.2750 - accuracy: 0.9349 - val_loss: 0.2694 - val_accuracy: 0.9238\n",
      "Epoch 12/30\n",
      "189/189 - 0s - loss: 0.2707 - accuracy: 0.9339 - val_loss: 0.2676 - val_accuracy: 0.9381\n",
      "Epoch 13/30\n",
      "189/189 - 0s - loss: 0.2674 - accuracy: 0.9360 - val_loss: 0.2649 - val_accuracy: 0.9381\n",
      "Epoch 14/30\n",
      "189/189 - 0s - loss: 0.2647 - accuracy: 0.9376 - val_loss: 0.2618 - val_accuracy: 0.9381\n",
      "Epoch 15/30\n",
      "189/189 - 0s - loss: 0.2619 - accuracy: 0.9365 - val_loss: 0.2622 - val_accuracy: 0.9476\n",
      "Epoch 16/30\n",
      "189/189 - 0s - loss: 0.2603 - accuracy: 0.9386 - val_loss: 0.2586 - val_accuracy: 0.9381\n",
      "Epoch 17/30\n",
      "189/189 - 0s - loss: 0.2586 - accuracy: 0.9360 - val_loss: 0.2578 - val_accuracy: 0.9476\n",
      "Epoch 18/30\n",
      "189/189 - 0s - loss: 0.2567 - accuracy: 0.9392 - val_loss: 0.2564 - val_accuracy: 0.9476\n",
      "Epoch 19/30\n",
      "189/189 - 0s - loss: 0.2556 - accuracy: 0.9386 - val_loss: 0.2540 - val_accuracy: 0.9381\n",
      "Epoch 20/30\n",
      "189/189 - 0s - loss: 0.2535 - accuracy: 0.9386 - val_loss: 0.2559 - val_accuracy: 0.9476\n",
      "Epoch 21/30\n",
      "189/189 - 0s - loss: 0.2525 - accuracy: 0.9423 - val_loss: 0.2524 - val_accuracy: 0.9476\n",
      "Epoch 22/30\n",
      "189/189 - 0s - loss: 0.2512 - accuracy: 0.9370 - val_loss: 0.2565 - val_accuracy: 0.9571\n",
      "Epoch 23/30\n",
      "189/189 - 0s - loss: 0.2506 - accuracy: 0.9439 - val_loss: 0.2506 - val_accuracy: 0.9476\n",
      "Epoch 24/30\n",
      "189/189 - 0s - loss: 0.2490 - accuracy: 0.9418 - val_loss: 0.2515 - val_accuracy: 0.9476\n",
      "Epoch 25/30\n",
      "189/189 - 0s - loss: 0.2480 - accuracy: 0.9455 - val_loss: 0.2483 - val_accuracy: 0.9381\n",
      "Epoch 26/30\n",
      "189/189 - 0s - loss: 0.2471 - accuracy: 0.9402 - val_loss: 0.2504 - val_accuracy: 0.9571\n",
      "Epoch 27/30\n",
      "189/189 - 0s - loss: 0.2471 - accuracy: 0.9455 - val_loss: 0.2484 - val_accuracy: 0.9476\n",
      "Epoch 28/30\n",
      "189/189 - 0s - loss: 0.2460 - accuracy: 0.9444 - val_loss: 0.2463 - val_accuracy: 0.9476\n",
      "Epoch 29/30\n",
      "189/189 - 0s - loss: 0.2455 - accuracy: 0.9434 - val_loss: 0.2477 - val_accuracy: 0.9571\n",
      "Epoch 30/30\n",
      "189/189 - 0s - loss: 0.2447 - accuracy: 0.9460 - val_loss: 0.2456 - val_accuracy: 0.9476\n"
     ]
    }
   ],
   "source": [
    "hist = model.fit(x=scaled_train_samples, y=train_labels, validation_split=0.1, batch_size=10, epochs=30, shuffle=True, verbose=2)\n",
    "#shuffle=True is default, it doesn't need to be written manually."
   ]
  },
  {
   "cell_type": "code",
   "execution_count": 134,
   "metadata": {},
   "outputs": [],
   "source": [
    "import matplotlib.pyplot as plt"
   ]
  },
  {
   "cell_type": "markdown",
   "metadata": {},
   "source": [
    "plt.figure()\n",
    "plt.style.use('dark_background')\n",
    "plt.plot(range(len(hist.history['loss'])), hist.history['loss'], 'w', label='Training loss')\n",
    "plt.plot(range(len(hist.history['val_loss'])), hist.history['val_loss'], 'y', label='Validation loss')\n",
    "plt.title('Training History')\n",
    "plt.xlabel(\"Epochs\")\n",
    "plt.ylabel(\"loss\")\n",
    "plt.legend()\n",
    "\n",
    "plt.show()"
   ]
  },
  {
   "cell_type": "markdown",
   "metadata": {},
   "source": [
    "## Predict"
   ]
  },
  {
   "cell_type": "code",
   "execution_count": 135,
   "metadata": {},
   "outputs": [],
   "source": [
    "predictions = model.predict(x=scaled_test_samples, batch_size=10, verbose=10)"
   ]
  },
  {
   "cell_type": "code",
   "execution_count": 136,
   "metadata": {},
   "outputs": [
    {
     "name": "stdout",
     "output_type": "stream",
     "text": [
      "Prob of no side effect: 0.96141493 Prob of side effect: 0.03858499\n",
      "Prob of no side effect: 0.08710836 Prob of side effect: 0.9128917\n",
      "Prob of no side effect: 0.044636868 Prob of side effect: 0.95536315\n",
      "Prob of no side effect: 0.3282592 Prob of side effect: 0.67174083\n",
      "Prob of no side effect: 0.1278411 Prob of side effect: 0.87215894\n",
      "Prob of no side effect: 0.963709 Prob of side effect: 0.036291018\n",
      "Prob of no side effect: 0.8862901 Prob of side effect: 0.11370996\n",
      "Prob of no side effect: 0.7250579 Prob of side effect: 0.27494216\n",
      "Prob of no side effect: 0.9610429 Prob of side effect: 0.038957145\n",
      "Prob of no side effect: 0.21113022 Prob of side effect: 0.7888698\n"
     ]
    }
   ],
   "source": [
    "for i in range(10):\n",
    "    print(\"Prob of no side effect: \" + str(predictions[i][0]) + \" Prob of side effect: \" + str(predictions[i][1]))"
   ]
  },
  {
   "cell_type": "code",
   "execution_count": 137,
   "metadata": {},
   "outputs": [],
   "source": [
    "rounded_predictions = np.argmax(predictions, axis=-1)"
   ]
  },
  {
   "cell_type": "code",
   "execution_count": 138,
   "metadata": {},
   "outputs": [
    {
     "name": "stdout",
     "output_type": "stream",
     "text": [
      "0\n",
      "1\n",
      "1\n",
      "1\n",
      "1\n",
      "0\n",
      "0\n",
      "0\n",
      "0\n",
      "1\n"
     ]
    }
   ],
   "source": [
    "for i in range(10):\n",
    "    print(rounded_predictions[i])"
   ]
  },
  {
   "cell_type": "markdown",
   "metadata": {},
   "source": [
    "## Confusion Matrix"
   ]
  },
  {
   "cell_type": "code",
   "execution_count": 139,
   "metadata": {},
   "outputs": [],
   "source": [
    "%matplotlib inline\n",
    "from sklearn.metrics import confusion_matrix\n",
    "import itertools\n",
    "import matplotlib.pyplot as plt"
   ]
  },
  {
   "cell_type": "code",
   "execution_count": 140,
   "metadata": {},
   "outputs": [],
   "source": [
    "cm = confusion_matrix(y_true=test_labels, y_pred=rounded_predictions)"
   ]
  },
  {
   "cell_type": "code",
   "execution_count": 141,
   "metadata": {},
   "outputs": [],
   "source": [
    "def plot_confusion_matrix(cm, classes,\n",
    "                          normalize=False,\n",
    "                          title='Confusion matrix',\n",
    "                          cmap=plt.cm.Blues):\n",
    "    \"\"\"\n",
    "    This function prints and plots the confusion matrix.\n",
    "    Normalization can be applied by setting `normalize=True`.\n",
    "    \"\"\"\n",
    "    plt.imshow(cm, interpolation='nearest', cmap=cmap)\n",
    "    plt.title(title)\n",
    "    plt.colorbar()\n",
    "    tick_marks = np.arange(len(classes))\n",
    "    plt.xticks(tick_marks, classes, rotation=45)\n",
    "    plt.yticks(tick_marks, classes)\n",
    "\n",
    "    if normalize:\n",
    "        cm = cm.astype('float') / cm.sum(axis=1)[:, np.newaxis]\n",
    "        print(\"Normalized confusion matrix\")\n",
    "    else:\n",
    "        print('Confusion matrix, without normalization')\n",
    "\n",
    "    print(cm)\n",
    "\n",
    "    thresh = cm.max() / 2.\n",
    "    for i, j in itertools.product(range(cm.shape[0]), range(cm.shape[1])):\n",
    "        plt.text(j, i, cm[i, j],\n",
    "                 horizontalalignment=\"center\",\n",
    "                 color=\"white\" if cm[i, j] > thresh else \"black\")\n",
    "\n",
    "    plt.tight_layout()\n",
    "    plt.ylabel('True label')\n",
    "    plt.xlabel('Predicted label')"
   ]
  },
  {
   "cell_type": "code",
   "execution_count": 142,
   "metadata": {},
   "outputs": [
    {
     "name": "stdout",
     "output_type": "stream",
     "text": [
      "Confusion matrix, without normalization\n",
      "[[192  18]\n",
      " [ 10 200]]\n"
     ]
    },
    {
     "data": {
      "image/png": "[encoded data removed]",
      "text/plain": [
       "<Figure size 432x288 with 2 Axes>"
      ]
     },
     "metadata": {
      "needs_background": "light"
     },
     "output_type": "display_data"
    }
   ],
   "source": [
    "cm_plot_labels = ['no_side_effects','had_side_effects']\n",
    "plot_confusion_matrix(cm, cm_plot_labels, title='Confusion Matrix')"
   ]
  },
  {
   "cell_type": "markdown",
   "metadata": {},
   "source": [
    "## model.save()"
   ]
  },
  {
   "cell_type": "code",
   "execution_count": 143,
   "metadata": {},
   "outputs": [],
   "source": [
    "import os.path\n",
    "if os.path.isfile(\"models/medical_trial_model.h5\") is False:\n",
    "    model.save(\"models/medical_trial_model.h5\")"
   ]
  },
  {
   "cell_type": "markdown",
   "metadata": {},
   "source": [
    "This save function saves:\n",
    "\n",
    "    -The architecture of the model, allowing to re-create the model\n",
    "    -The weights of the model\n",
    "    -The training configuration(loss, optimizer)\n",
    "    -The state of the optimizer, allowing to resume training exactly where you left off"
   ]
  },
  {
   "cell_type": "code",
   "execution_count": 144,
   "metadata": {},
   "outputs": [],
   "source": [
    "from tensorflow.keras.models import load_model\n",
    "new_model = load_model(\"models/medical_trial_model.h5\")"
   ]
  },
  {
   "cell_type": "code",
   "execution_count": 145,
   "metadata": {},
   "outputs": [
    {
     "name": "stdout",
     "output_type": "stream",
     "text": [
      "Model: \"sequential\"\n",
      "_________________________________________________________________\n",
      "Layer (type)                 Output Shape              Param #   \n",
      "=================================================================\n",
      "dense (Dense)                (None, 16)                32        \n",
      "_________________________________________________________________\n",
      "dense_1 (Dense)              (None, 32)                544       \n",
      "_________________________________________________________________\n",
      "dense_2 (Dense)              (None, 2)                 66        \n",
      "=================================================================\n",
      "Total params: 642\n",
      "Trainable params: 642\n",
      "Non-trainable params: 0\n",
      "_________________________________________________________________\n"
     ]
    }
   ],
   "source": [
    "new_model.summary()"
   ]
  },
  {
   "cell_type": "code",
   "execution_count": 146,
   "metadata": {},
   "outputs": [
    {
     "data": {
      "text/plain": [
       "[array([[ 0.4312501 ,  0.5222338 , -0.45515472, -0.36467156,  0.1538166 ,\n",
       "          0.16161071, -0.49955148, -0.4617385 ,  0.5638423 , -0.10241674,\n",
       "         -0.2239972 ,  0.5519952 ,  0.7029048 ,  0.6823078 , -0.13927776,\n",
       "         -0.0984541 ]], dtype=float32),\n",
       " array([-0.12064704, -0.10618484,  0.        ,  0.        ,  0.08849975,\n",
       "         0.06901602,  0.        ,  0.        ,  0.05439143,  0.18917781,\n",
       "         0.        , -0.11505267, -0.15152875, -0.12435781,  0.        ,\n",
       "         0.18161309], dtype=float32),\n",
       " array([[ 0.13715218,  0.05982904, -0.33863062,  0.13192256,  0.43492135,\n",
       "          0.41619018, -0.4180831 ,  0.03211546,  0.10074052,  0.38470945,\n",
       "         -0.03281638,  0.02324423, -0.23481919,  0.18932673, -0.42496243,\n",
       "          0.19172314, -0.21094775, -0.23551197, -0.01407963,  0.07751045,\n",
       "         -0.12898673,  0.08072108,  0.48451754, -0.43249592, -0.25013712,\n",
       "         -0.33660758,  0.31440052,  0.01194852,  0.51809806,  0.1865414 ,\n",
       "         -0.11545041,  0.47057918],\n",
       "        [ 0.02836228,  0.02912845, -0.14041549,  0.31446412,  0.34542564,\n",
       "          0.44659844,  0.05589519,  0.2945835 ,  0.37462524,  0.3494163 ,\n",
       "          0.34883234,  0.43606615,  0.11836129, -0.04520653,  0.06138819,\n",
       "          0.03136295, -0.07858163, -0.02754553,  0.2891335 , -0.2156437 ,\n",
       "         -0.4276982 ,  0.07162917,  0.45383254, -0.25209612,  0.2145327 ,\n",
       "         -0.00668928,  0.33495587, -0.11757138,  0.42262825, -0.22664967,\n",
       "          0.0763309 ,  0.41339862],\n",
       "        [-0.1259283 , -0.21588391,  0.09281173, -0.30128944, -0.32015142,\n",
       "          0.09343678,  0.340098  , -0.1697042 , -0.15135296, -0.2863385 ,\n",
       "         -0.00402883, -0.22081003,  0.08798981,  0.22718713,  0.32191232,\n",
       "          0.2698278 , -0.20889461, -0.35132036,  0.1599296 ,  0.09880325,\n",
       "         -0.06023604,  0.30842617, -0.03710121,  0.20861617, -0.25850987,\n",
       "         -0.16195323, -0.06759125, -0.10425225, -0.13141395,  0.27311125,\n",
       "         -0.31102628,  0.29390785],\n",
       "        [ 0.23603508, -0.24404088, -0.20002776, -0.2547593 , -0.2853784 ,\n",
       "          0.11703664, -0.15785891, -0.15423849,  0.11208692,  0.21471605,\n",
       "          0.2803717 , -0.31692702,  0.23196891,  0.2078357 , -0.2919394 ,\n",
       "         -0.18301384,  0.00805503,  0.3387495 ,  0.14052644, -0.20026614,\n",
       "          0.22906229,  0.04227051, -0.05689681, -0.19083798,  0.15202788,\n",
       "         -0.04567683,  0.1285345 ,  0.05032754, -0.15243141, -0.12801187,\n",
       "         -0.3057549 , -0.06400436],\n",
       "        [ 0.15249525,  0.3499586 ,  0.2996854 ,  0.12527992, -0.19465159,\n",
       "         -0.23882231,  0.03405795, -0.20942314,  0.30487776,  0.24816465,\n",
       "         -0.213017  , -0.05706523,  0.1402489 , -0.09938681, -0.11561324,\n",
       "         -0.06914061, -0.11267479, -0.11757863, -0.17392984, -0.03558931,\n",
       "          0.23187374,  0.05082077,  0.27997443,  0.08357707, -0.30048376,\n",
       "         -0.31580472, -0.14592499, -0.00194026,  0.34836373, -0.1110489 ,\n",
       "         -0.22664526,  0.39155242],\n",
       "        [-0.30612192,  0.15154026,  0.1683092 , -0.27767643,  0.04701776,\n",
       "          0.26309726, -0.2587179 ,  0.06360688,  0.29941654,  0.04108332,\n",
       "         -0.03299364,  0.30579844, -0.21153088,  0.05445245, -0.08835036,\n",
       "          0.1952919 , -0.170096  , -0.3570223 , -0.11937928, -0.27524865,\n",
       "          0.13761099, -0.2672917 , -0.13231646, -0.2382415 ,  0.3374469 ,\n",
       "         -0.03139982, -0.20293348,  0.17538317,  0.39747515,  0.44059506,\n",
       "          0.03417712, -0.04762431],\n",
       "        [-0.28433326, -0.04914391,  0.01190278,  0.12679812, -0.15102269,\n",
       "         -0.10967427, -0.29426414,  0.02199906,  0.21163812,  0.340305  ,\n",
       "         -0.11040021,  0.31502232, -0.00632691, -0.24277242,  0.27625385,\n",
       "         -0.0862107 ,  0.19973525,  0.17188898, -0.19054067,  0.30757692,\n",
       "         -0.13052972,  0.11924034, -0.07232448, -0.18079236, -0.25801635,\n",
       "          0.11794618,  0.05614743,  0.2546139 , -0.15617497,  0.21171764,\n",
       "         -0.11054258, -0.24873814],\n",
       "        [-0.13900174,  0.34740636, -0.1839957 ,  0.2838907 , -0.2757392 ,\n",
       "          0.24184659, -0.18008083,  0.26096478, -0.11453515, -0.08004522,\n",
       "          0.00605237,  0.1572074 , -0.05003083,  0.18038842, -0.02107444,\n",
       "          0.27465585,  0.18212202,  0.22187534, -0.12220335,  0.33369878,\n",
       "         -0.241903  ,  0.22160557,  0.09952894,  0.08604312, -0.10569325,\n",
       "         -0.34157786,  0.10886616, -0.15921047,  0.12710646, -0.1707245 ,\n",
       "          0.08009005,  0.11468595],\n",
       "        [-0.3674813 , -0.01466378,  0.21202141,  0.37847903,  0.33273506,\n",
       "         -0.06697926,  0.23316772,  0.24140754,  0.0968842 ,  0.1155038 ,\n",
       "         -0.27045742,  0.27227432, -0.13618258, -0.3120582 ,  0.19005941,\n",
       "          0.02803501, -0.07080123,  0.2800946 ,  0.12870781, -0.1273721 ,\n",
       "          0.15694916, -0.00988117, -0.12602988, -0.09751968, -0.23292449,\n",
       "         -0.14793299,  0.11168712,  0.14285439, -0.13550597, -0.22445396,\n",
       "          0.13590074, -0.03160745],\n",
       "        [ 0.16678031,  0.5665502 ,  0.4955521 , -0.35851458, -0.29135853,\n",
       "         -0.23236158,  0.330175  , -0.1939395 , -0.31754035, -0.0684505 ,\n",
       "          0.17309651, -0.3331443 ,  0.01005123, -0.25957006,  0.46345687,\n",
       "         -0.4006966 ,  0.07721454, -0.03420969, -0.10257868,  0.5227965 ,\n",
       "          0.43504184,  0.00730878, -0.4460363 ,  0.18569037,  0.59419924,\n",
       "         -0.05190334, -0.27700195, -0.00652825, -0.15786149,  0.6098324 ,\n",
       "         -0.2089462 ,  0.01391788],\n",
       "        [-0.1355194 , -0.32259095,  0.3307263 , -0.06379017,  0.25120232,\n",
       "          0.03186437,  0.14192176, -0.35128015, -0.07686269,  0.25115743,\n",
       "         -0.13997567, -0.09322545,  0.12063414, -0.05146155,  0.1824477 ,\n",
       "          0.09079695, -0.22504841, -0.17836833, -0.26017082, -0.12485851,\n",
       "          0.02372599,  0.27255794, -0.13163556,  0.03544921,  0.30534217,\n",
       "         -0.19983768,  0.283596  ,  0.018139  , -0.33607575, -0.2800406 ,\n",
       "          0.2954106 , -0.26981762],\n",
       "        [ 0.12154164, -0.31236678, -0.00292056,  0.3354744 ,  0.46932   ,\n",
       "          0.28805146, -0.387055  , -0.08094314,  0.1441463 ,  0.3372542 ,\n",
       "         -0.32737884, -0.07926799,  0.20847654,  0.19426276, -0.1699092 ,\n",
       "          0.36197746, -0.32847694,  0.04088926,  0.33232942, -0.06615482,\n",
       "         -0.26062584, -0.24989599,  0.4581549 , -0.14192426,  0.15727814,\n",
       "         -0.2910201 , -0.10631726, -0.43212593,  0.4823578 , -0.32297498,\n",
       "         -0.17378359,  0.47739822],\n",
       "        [-0.08117828, -0.2940693 , -0.4001951 ,  0.35368362, -0.15236284,\n",
       "          0.2700703 , -0.11530435,  0.4057238 ,  0.15741533, -0.1824662 ,\n",
       "         -0.01867384,  0.28242174, -0.35021332,  0.3067707 , -0.30807415,\n",
       "          0.37881094, -0.31646433, -0.23958275,  0.11685392, -0.33406565,\n",
       "         -0.02479639,  0.1038028 , -0.00448447,  0.00803289, -0.43408293,\n",
       "         -0.07454261,  0.30469176,  0.06282292, -0.13095039, -0.290567  ,\n",
       "          0.10754046,  0.44610277],\n",
       "        [ 0.0707567 , -0.49880382, -0.42965788,  0.0032714 ,  0.44315672,\n",
       "          0.30606562, -0.323769  ,  0.12293215, -0.09837914,  0.14984223,\n",
       "          0.2584519 ,  0.09868855, -0.32881463, -0.26082072, -0.24329992,\n",
       "          0.3789662 , -0.34517518,  0.16647407,  0.5080801 ,  0.0367327 ,\n",
       "         -0.24344201, -0.01287577,  0.24234815,  0.12827183, -0.21261157,\n",
       "          0.14914545,  0.30171165,  0.05688914,  0.30403048, -0.12945792,\n",
       "         -0.11478256,  0.26486188],\n",
       "        [ 0.01633602,  0.00100806,  0.34863344,  0.00711963,  0.30958012,\n",
       "         -0.19512962,  0.02622932, -0.30968457,  0.06321529, -0.28387225,\n",
       "         -0.12888151, -0.00831053, -0.12462586,  0.34058353,  0.29887417,\n",
       "          0.14045024,  0.19345066,  0.11570162, -0.15656061, -0.05285719,\n",
       "         -0.32544017, -0.16441545,  0.20822749,  0.18974915, -0.28172538,\n",
       "          0.3504378 , -0.3139389 , -0.16175623, -0.20065945,  0.2378222 ,\n",
       "         -0.2645379 , -0.15031117],\n",
       "        [ 0.09461116,  0.22080836,  0.11208072, -0.02183826, -0.3253069 ,\n",
       "         -0.23666929,  0.5390742 , -0.05645461, -0.09276233, -0.11798029,\n",
       "         -0.05082792, -0.34940723,  0.11674466, -0.20644124,  0.51811385,\n",
       "         -0.2761997 , -0.0630312 , -0.30243292, -0.3133867 ,  0.5639224 ,\n",
       "          0.51696396, -0.31805462, -0.35298237,  0.4671311 ,  0.21405606,\n",
       "         -0.2796171 ,  0.07252233, -0.14185421, -0.34855533,  0.5130738 ,\n",
       "         -0.2871817 , -0.31850126]], dtype=float32),\n",
       " array([-0.02229254,  0.19830151,  0.16986018, -0.10210615, -0.09459608,\n",
       "        -0.06996683,  0.20431706, -0.08363589, -0.1006341 , -0.10968718,\n",
       "         0.        , -0.08668156, -0.014022  , -0.00060416,  0.18956196,\n",
       "        -0.06590512,  0.        , -0.00374799, -0.07111219,  0.1894548 ,\n",
       "         0.13557002,  0.        , -0.03181178,  0.15657732,  0.2113466 ,\n",
       "         0.        , -0.05949968,  0.12469985, -0.10599162,  0.2188623 ,\n",
       "         0.        , -0.09967149], dtype=float32),\n",
       " array([[-0.4041581 ,  0.3313625 ],\n",
       "        [ 0.60141027, -0.12956698],\n",
       "        [ 0.7340541 , -0.58968127],\n",
       "        [-0.3839667 ,  0.24789225],\n",
       "        [-0.3443588 ,  0.16924134],\n",
       "        [-0.4509416 ,  0.13448606],\n",
       "        [ 0.31608546, -0.46612492],\n",
       "        [-0.30711025,  0.2891976 ],\n",
       "        [-0.44359973,  0.287341  ],\n",
       "        [-0.4047823 ,  0.15275905],\n",
       "        [ 0.05186218,  0.36452767],\n",
       "        [-0.2493327 ,  0.27228674],\n",
       "        [-0.12144832, -0.01352456],\n",
       "        [-0.11639371,  0.16865593],\n",
       "        [ 0.23655853, -0.72712845],\n",
       "        [-0.57578254,  0.16908367],\n",
       "        [ 0.40195104, -0.16920847],\n",
       "        [ 0.09291431,  0.18757969],\n",
       "        [-0.32599127,  0.2711606 ],\n",
       "        [ 0.367229  , -0.5772175 ],\n",
       "        [ 0.53735566, -0.4707392 ],\n",
       "        [-0.4184549 ,  0.10596207],\n",
       "        [-0.1695363 ,  0.37546575],\n",
       "        [ 0.73895043, -0.77103776],\n",
       "        [ 0.4162188 , -0.36883584],\n",
       "        [ 0.2610208 , -0.26523662],\n",
       "        [-0.05056707,  0.5659484 ],\n",
       "        [ 0.0372701 , -0.36433497],\n",
       "        [-0.38991138,  0.03596852],\n",
       "        [ 0.3400744 , -0.7317004 ],\n",
       "        [ 0.28106764, -0.12341222],\n",
       "        [-0.4398058 ,  0.5245877 ]], dtype=float32),\n",
       " array([ 0.12720121, -0.12720123], dtype=float32)]"
      ]
     },
     "execution_count": 146,
     "metadata": {},
     "output_type": "execute_result"
    }
   ],
   "source": [
    "new_model.get_weights()"
   ]
  },
  {
   "cell_type": "code",
   "execution_count": 147,
   "metadata": {},
   "outputs": [
    {
     "data": {
      "text/plain": [
       "<keras.optimizer_v2.adam.Adam at 0x2556fb80ee0>"
      ]
     },
     "execution_count": 147,
     "metadata": {},
     "output_type": "execute_result"
    }
   ],
   "source": [
    "new_model.optimizer"
   ]
  },
  {
   "cell_type": "markdown",
   "metadata": {},
   "source": [
    "## model.to_json()"
   ]
  },
  {
   "cell_type": "markdown",
   "metadata": {},
   "source": [
    "If you only need to save the architecture of a model and it weights or its training configuration, you can use the following function to save the architecture only"
   ]
  },
  {
   "cell_type": "code",
   "execution_count": 148,
   "metadata": {},
   "outputs": [],
   "source": [
    "json_string = model.to_json()"
   ]
  },
  {
   "cell_type": "code",
   "execution_count": 149,
   "metadata": {},
   "outputs": [
    {
     "data": {
      "text/plain": [
       "'{\"class_name\": \"Sequential\", \"config\": {\"name\": \"sequential_6\", \"layers\": [{\"class_name\": \"InputLayer\", \"config\": {\"batch_input_shape\": [null, 1], \"dtype\": \"float32\", \"sparse\": false, \"ragged\": false, \"name\": \"dense_18_input\"}}, {\"class_name\": \"Dense\", \"config\": {\"name\": \"dense_18\", \"trainable\": true, \"batch_input_shape\": [null, 1], \"dtype\": \"float32\", \"units\": 16, \"activation\": \"relu\", \"use_bias\": true, \"kernel_initializer\": {\"class_name\": \"GlorotUniform\", \"config\": {\"seed\": null}}, \"bias_initializer\": {\"class_name\": \"Zeros\", \"config\": {}}, \"kernel_regularizer\": null, \"bias_regularizer\": null, \"activity_regularizer\": null, \"kernel_constraint\": null, \"bias_constraint\": null}}, {\"class_name\": \"Dense\", \"config\": {\"name\": \"dense_19\", \"trainable\": true, \"dtype\": \"float32\", \"units\": 32, \"activation\": \"relu\", \"use_bias\": true, \"kernel_initializer\": {\"class_name\": \"GlorotUniform\", \"config\": {\"seed\": null}}, \"bias_initializer\": {\"class_name\": \"Zeros\", \"config\": {}}, \"kernel_regularizer\": null, \"bias_regularizer\": null, \"activity_regularizer\": null, \"kernel_constraint\": null, \"bias_constraint\": null}}, {\"class_name\": \"Dense\", \"config\": {\"name\": \"dense_20\", \"trainable\": true, \"dtype\": \"float32\", \"units\": 2, \"activation\": \"softmax\", \"use_bias\": true, \"kernel_initializer\": {\"class_name\": \"GlorotUniform\", \"config\": {\"seed\": null}}, \"bias_initializer\": {\"class_name\": \"Zeros\", \"config\": {}}, \"kernel_regularizer\": null, \"bias_regularizer\": null, \"activity_regularizer\": null, \"kernel_constraint\": null, \"bias_constraint\": null}}]}, \"keras_version\": \"2.6.0\", \"backend\": \"tensorflow\"}'"
      ]
     },
     "execution_count": 149,
     "metadata": {},
     "output_type": "execute_result"
    }
   ],
   "source": [
    "json_string"
   ]
  },
  {
   "cell_type": "code",
   "execution_count": 150,
   "metadata": {},
   "outputs": [],
   "source": [
    "from tensorflow.keras.models import model_from_json\n",
    "model_architecture = model_from_json(json_string)"
   ]
  },
  {
   "cell_type": "code",
   "execution_count": 151,
   "metadata": {},
   "outputs": [
    {
     "name": "stdout",
     "output_type": "stream",
     "text": [
      "Model: \"sequential_6\"\n",
      "_________________________________________________________________\n",
      "Layer (type)                 Output Shape              Param #   \n",
      "=================================================================\n",
      "dense_18 (Dense)             (None, 16)                32        \n",
      "_________________________________________________________________\n",
      "dense_19 (Dense)             (None, 32)                544       \n",
      "_________________________________________________________________\n",
      "dense_20 (Dense)             (None, 2)                 66        \n",
      "=================================================================\n",
      "Total params: 642\n",
      "Trainable params: 642\n",
      "Non-trainable params: 0\n",
      "_________________________________________________________________\n"
     ]
    }
   ],
   "source": [
    "model_architecture.summary()"
   ]
  }
 ],
 "metadata": {
  "kernelspec": {
   "display_name": "Python 3",
   "language": "python",
   "name": "python3"
  },
  "language_info": {
   "codemirror_mode": {
    "name": "ipython",
    "version": 3
   },
   "file_extension": ".py",
   "mimetype": "text/x-python",
   "name": "python",
   "nbconvert_exporter": "python",
   "pygments_lexer": "ipython3",
   "version": "3.8.1"
  }
 },
 "nbformat": 4,
 "nbformat_minor": 4
}
