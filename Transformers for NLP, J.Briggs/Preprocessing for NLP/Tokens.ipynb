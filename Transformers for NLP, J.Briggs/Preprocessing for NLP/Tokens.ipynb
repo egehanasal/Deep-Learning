{
  "nbformat": 4,
  "nbformat_minor": 0,
  "metadata": {
    "colab": {
      "name": "Tokens.ipynb",
      "provenance": [],
      "collapsed_sections": []
    },
    "kernelspec": {
      "name": "python3",
      "display_name": "Python 3"
    },
    "language_info": {
      "name": "python"
    }
  },
  "cells": [
    {
      "cell_type": "markdown",
      "metadata": {
        "id": "VOYMV7a0Ugep"
      },
      "source": [
        "A token is a single unit, or piece of information. Typically in NLP we will find that models consume a token, which can represent a multitude of different things, such as:\n",
        "\n",
        "* A word\n",
        "* Part of a word\n",
        "* A single character\n",
        "* Puntuation mark [,!-.]\n",
        "* Special token like \\<URL>, or \\<NAME>\n",
        "* Model-specific special tokens, like [CLS] and [SEP] for BERT"
      ]
    },
    {
      "cell_type": "code",
      "metadata": {
        "id": "A6qWqF06Qs58"
      },
      "source": [
        "tweet = \"\"\"I’m amazed how often in practice, not only does a @huggingface NLP model solve your problem, but one of their public finetuned checkpoints, is good enough for the job.\n",
        "\n",
        "Both impressed, and a little disappointed how rarely I get to actually train a model that matters :(\"\"\""
      ],
      "execution_count": 2,
      "outputs": []
    },
    {
      "cell_type": "code",
      "metadata": {
        "colab": {
          "base_uri": "https://localhost:8080/"
        },
        "id": "YrvAFfJxRAuZ",
        "outputId": "45104e87-e36a-416a-9b46-ba0c3b605883"
      },
      "source": [
        "tweet.split()"
      ],
      "execution_count": 3,
      "outputs": [
        {
          "output_type": "execute_result",
          "data": {
            "text/plain": [
              "['I’m',\n",
              " 'amazed',\n",
              " 'how',\n",
              " 'often',\n",
              " 'in',\n",
              " 'practice,',\n",
              " 'not',\n",
              " 'only',\n",
              " 'does',\n",
              " 'a',\n",
              " '@huggingface',\n",
              " 'NLP',\n",
              " 'model',\n",
              " 'solve',\n",
              " 'your',\n",
              " 'problem,',\n",
              " 'but',\n",
              " 'one',\n",
              " 'of',\n",
              " 'their',\n",
              " 'public',\n",
              " 'finetuned',\n",
              " 'checkpoints,',\n",
              " 'is',\n",
              " 'good',\n",
              " 'enough',\n",
              " 'for',\n",
              " 'the',\n",
              " 'job.',\n",
              " 'Both',\n",
              " 'impressed,',\n",
              " 'and',\n",
              " 'a',\n",
              " 'little',\n",
              " 'disappointed',\n",
              " 'how',\n",
              " 'rarely',\n",
              " 'I',\n",
              " 'get',\n",
              " 'to',\n",
              " 'actually',\n",
              " 'train',\n",
              " 'a',\n",
              " 'model',\n",
              " 'that',\n",
              " 'matters',\n",
              " ':(']"
            ]
          },
          "metadata": {},
          "execution_count": 3
        }
      ]
    },
    {
      "cell_type": "markdown",
      "metadata": {
        "id": "J8Tfcy19U04M"
      },
      "source": [
        "This is the rawest form of word-level tokens, the alternative to word-level is character-level, which looks like this:"
      ]
    },
    {
      "cell_type": "code",
      "metadata": {
        "colab": {
          "base_uri": "https://localhost:8080/"
        },
        "id": "h3I99hTJRArw",
        "outputId": "55ec911c-f1f4-407d-a837-0c55a162efcf"
      },
      "source": [
        "[char for char in tweet][:10]"
      ],
      "execution_count": 4,
      "outputs": [
        {
          "output_type": "execute_result",
          "data": {
            "text/plain": [
              "['I', '’', 'm', ' ', 'a', 'm', 'a', 'z', 'e', 'd']"
            ]
          },
          "metadata": {},
          "execution_count": 4
        }
      ]
    },
    {
      "cell_type": "markdown",
      "metadata": {
        "id": "ZXpY4nlAVVyd"
      },
      "source": [
        "* The 'advantage' of using character-level embeddings is that any models we train on this data will only need to remember all of the characters of the alphabet, punctuation characters, and spaces/newlines. So the model vocabulary (list of all the tokens it knows) is very small. Additionally if a new word appears outside of training, the model will still be able to digest it - whereas a word-level embedding model would not understand the new word and replace it with an unknown token.\n",
        "\n",
        "* It's not all good news for character-level embeddings though. Words carry a significant level of semantic meaning, and when we use character-level embedding this is mostly lost. At a high-level we can view **`character-level embedding as being good for syntax`**, and **`word-level embedding as being better for semantics`**. Although, in-reality, **`word-level embeddings almost always outpeform character-level embeddings.`**\n",
        "\n",
        "* Back to word-level embeddings, we will often find with the latest transformer models that text can be split into part-word tokens. So for example, we may find that the word 'being' is split into the tokens [\"be\", \"-ing\"], or 'amazingly' to [\"amaz\", \"-ing\", \"-ly\"].\n",
        "\n",
        "* Back to word-level embeddings, we will often find with the latest transformer models that text can be split into part-word tokens. So for example, we may find that the word 'being' is split into the tokens [\"be\", \"-ing\"], or 'amazingly' to [\"amaz\", \"-ing\", \"-ly\"].\n",
        "\n",
        "* In addition to this, we typically seperate punctuation too, so in our previous example the tokens '@huggingface' and 'impressed,' would become [\"@\", \"huggingface\"] and [\"impressed\", \",\"] respectively.\n",
        "\n",
        "* In our tweet we might want to find any token that begins with @ and convert that token to \\<USER>, a unique token that we have specified to identify usernames in our tweets. This rule is logical as there are potentially millions of added tokens in our model if we include Twitter usernames, but the username doesn't tell our model anything about the meaning in the language of the text, for example:\n",
        "\n",
        "`\"@elonmusk thinks that the NLP models that @joebloggs made are super cool\"` has no real meaningful difference to our model as with `\"@joebloggs thinks that the NLP models that @huggingface made are super cool\"`\n",
        "\n",
        "The meaning and subsequent classification of both tweets should really be identical in our model. So, it is logical to replace usernames with a single shared token. This approach is something that is commonly used for many different things such as:\n",
        "\n",
        "* emails\n",
        "* names/usernames\n",
        "* URLs\n",
        "* monetary values\n",
        "* or any other numbers\n",
        "\n",
        "But ofcourse we don't always want to do this for everything, this is simply a rough guide as to what we may want to tokenize.\n"
      ]
    },
    {
      "cell_type": "markdown",
      "metadata": {
        "id": "Jt4Hot_NXcTB"
      },
      "source": [
        "# Special Model Tokens\n",
        "\n",
        "Finally, we also need to understand model-specific special tokens. We will do this with an example.\n",
        "\n",
        "For the BERT transformer model there are five special tokens that are used by the model, these are:\n",
        "\n",
        "\n",
        "* [PAD]:\tPadding token, allows us to maintain same-length sequences (512 tokens for Bert) even when different sized sentences are fed in\n",
        "* [UNK]:\tUsed when a word is unknown to Bert\n",
        "* [CLS]:\tAppears at the start of every sequence\n",
        "* [SEP]:\tIndicates a seperator or end of sequence\n",
        "* [MASK]:\tUsed when masking tokens, for example in training with masked language modelling (MLM)"
      ]
    }
  ]
}