{
  "nbformat": 4,
  "nbformat_minor": 0,
  "metadata": {
    "colab": {
      "name": "Stemming.ipynb",
      "provenance": [],
      "collapsed_sections": []
    },
    "kernelspec": {
      "name": "python3",
      "display_name": "Python 3"
    },
    "language_info": {
      "name": "python"
    }
  },
  "cells": [
    {
      "cell_type": "markdown",
      "metadata": {
        "id": "Znr3ijmW26vc"
      },
      "source": [
        "Stemming is a text normalization method used in NLP to simplify text before it is processed by a model. When stemming break the final few characters of a word in order to find a common form of the word."
      ]
    },
    {
      "cell_type": "code",
      "metadata": {
        "id": "1GvGjK_jefqj"
      },
      "source": [
        "text = \"I am amazed by how amazingly amazing you are\""
      ],
      "execution_count": 1,
      "outputs": []
    },
    {
      "cell_type": "markdown",
      "metadata": {
        "id": "FOdUDi5S3FWA"
      },
      "source": [
        "* We use different forms of the word amaze a total of three times. Each of these different forms is called an 'inflection', which is the modification of a word to slightly adjust the meaning or context of the word. When we tokenize this text we produce three different tokens for each inflection of happy, which is okay but in many applications this level of granularity in the semantic meaning of the word is not required and can damage model performance.\n",
        "\n",
        "* Later, when we get to using more complex, sophisticated models (eg BERT), we will use different methods that maintain the inflection of each word - but it is important to understand stemming as it was a very important part of text preprocessing for a very long time, and still relevant to many applications."
      ]
    },
    {
      "cell_type": "code",
      "metadata": {
        "colab": {
          "base_uri": "https://localhost:8080/"
        },
        "id": "8ctt0WpZyngc",
        "outputId": "92327e93-89d4-487a-9f37-8a6d27a5d763"
      },
      "source": [
        "words_to_stem = ['happy', 'happiest', 'happier', 'cactus', 'cactii', 'elephant', 'elephants', 'amazed', 'amazing',\n",
        "                 'amazingly', 'cement', 'owed', 'maximum']\n",
        "words_to_stem"
      ],
      "execution_count": 2,
      "outputs": [
        {
          "output_type": "execute_result",
          "data": {
            "text/plain": [
              "['happy',\n",
              " 'happiest',\n",
              " 'happier',\n",
              " 'cactus',\n",
              " 'cactii',\n",
              " 'elephant',\n",
              " 'elephants',\n",
              " 'amazed',\n",
              " 'amazing',\n",
              " 'amazingly',\n",
              " 'cement',\n",
              " 'owed',\n",
              " 'maximum']"
            ]
          },
          "metadata": {},
          "execution_count": 2
        }
      ]
    },
    {
      "cell_type": "markdown",
      "metadata": {
        "id": "cGWO3Kp63eIh"
      },
      "source": [
        "To apply stemming we will be using the NLTK package, which provides several different stemmers, we will test the PorterStemmer and LancasterStemmer."
      ]
    },
    {
      "cell_type": "code",
      "metadata": {
        "id": "tPyp4hVyynkC"
      },
      "source": [
        "from nltk.stem import PorterStemmer, LancasterStemmer\n",
        "\n",
        "porter = PorterStemmer()\n",
        "lancaster = LancasterStemmer()"
      ],
      "execution_count": 4,
      "outputs": []
    },
    {
      "cell_type": "code",
      "metadata": {
        "colab": {
          "base_uri": "https://localhost:8080/"
        },
        "id": "Y8F2QZYeynnJ",
        "outputId": "7082eee6-8c6e-4c08-8544-2c3fb905c81b"
      },
      "source": [
        "stemmed = [(porter.stem(word), lancaster.stem(word)) for word in words_to_stem]\n",
        "stemmed"
      ],
      "execution_count": 5,
      "outputs": [
        {
          "output_type": "execute_result",
          "data": {
            "text/plain": [
              "[('happi', 'happy'),\n",
              " ('happiest', 'happiest'),\n",
              " ('happier', 'happy'),\n",
              " ('cactu', 'cact'),\n",
              " ('cactii', 'cacti'),\n",
              " ('eleph', 'eleph'),\n",
              " ('eleph', 'eleph'),\n",
              " ('amaz', 'amaz'),\n",
              " ('amaz', 'amaz'),\n",
              " ('amazingli', 'amaz'),\n",
              " ('cement', 'cem'),\n",
              " ('owe', 'ow'),\n",
              " ('maximum', 'maxim')]"
            ]
          },
          "metadata": {},
          "execution_count": 5
        }
      ]
    },
    {
      "cell_type": "markdown",
      "metadata": {
        "id": "LH0ww4CZ3nnE"
      },
      "source": [
        "* The Porter stemmer is a set of rules that strip common suffixes from the ends of words, each of these rules are applied on after the other and produce our Porter stemmed words. It is a `simple stemmer, and very fast`.\n",
        "\n",
        "* The Lancaster stemmer contains a `larger set of rules` and rather than applying each rule one after the other will keep iterating through the list of rules and find a rule that matches the current condition, which will then delete or replace the ending of the word. The iterations will stop once no more rules can be applied to the word OR if the word starts with a vowel and only two characters remain OR if the word starts with a consonant and there are three characters remaining. The Lancaster stemmer is `much more aggressive` in its stemming, sometimes this is a good thing, sometimes not."
      ]
    }
  ]
}