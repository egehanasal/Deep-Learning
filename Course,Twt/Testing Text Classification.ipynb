{
 "cells": [
  {
   "cell_type": "code",
   "execution_count": 27,
   "metadata": {},
   "outputs": [],
   "source": [
    "import tensorflow as tf\n",
    "from tensorflow import keras\n",
    "import numpy as np\n",
    "import matplotlib.pyplot as plt"
   ]
  },
  {
   "cell_type": "code",
   "execution_count": 28,
   "metadata": {},
   "outputs": [],
   "source": [
    "data = keras.datasets.imdb"
   ]
  },
  {
   "cell_type": "code",
   "execution_count": 30,
   "metadata": {},
   "outputs": [],
   "source": [
    "word_index = data.get_word_index()"
   ]
  },
  {
   "cell_type": "code",
   "execution_count": 31,
   "metadata": {},
   "outputs": [],
   "source": [
    "word_index = {k:(v+3) for k, v in word_index.items()}\n",
    "#dictionary.items() returns a view object that displays a list of a given dictionary's (key, value) tuple pair.\n",
    "#by making it a list or dictionary, tuples inside that object is reachable.\n",
    "#we are adding 3 to the each value for each key\n",
    "word_index[\"<PAD>\"] = 0 #will be used to make reviews the same length by adding 0 to the shorter ones\n",
    "word_index[\"<START>\"] = 1 #each texts first element is 1, so \"<START>\" will be printed before anything else\n",
    "word_index[\"<UNK>\"] = 2 #2 represents the unkown words in the data, \"<UNK>\" will be printed when an unknown word comes\n",
    "word_index[\"<UNUSED>\"] = 3 #3 represents the unkown words in the data, \"<UNUSED>\" will be printed when an unknown word comes"
   ]
  },
  {
   "cell_type": "code",
   "execution_count": 32,
   "metadata": {},
   "outputs": [],
   "source": [
    "reverse_word_index = dict([(value, key) for (key, value) in word_index.items()])"
   ]
  },
  {
   "cell_type": "code",
   "execution_count": 33,
   "metadata": {},
   "outputs": [],
   "source": [
    "model = keras.models.load_model(\"model.h5\")"
   ]
  },
  {
   "cell_type": "code",
   "execution_count": 34,
   "metadata": {},
   "outputs": [],
   "source": [
    "def review_encode(s):\n",
    "    encoded = [1]\n",
    "    for word in s:\n",
    "        if word in word_index:\n",
    "            encoded.append(word_index[word])\n",
    "        else:\n",
    "            encoded.append(2) #2 stands for unknown\n",
    "    return encoded"
   ]
  },
  {
   "cell_type": "code",
   "execution_count": 40,
   "metadata": {},
   "outputs": [
    {
     "name": "stdout",
     "output_type": "stream",
     "text": [
      "The movie is adequate, that's not good enough for this live action though. Lion King is a masterpiece story that has been celebrated for years for its emotional and timeless value. This version falls really short. The voice acting is flat the tone is wrong and there is little to no emotion felt during a very slow boring few hours.\n",
      "\n",
      "[[   1    2   20    9 3927  198   24   52  195   18   14  412  206  151\n",
      "     2    2    9    6  991   65   15   47   77 6541   18  153   18   94\n",
      "   921    5 3679 1107    2  310  734   66  346    2  544  116    9 1035\n",
      "     4 1163    9  355    5   50    9  117    8   57 1426  421  315    6\n",
      "    55  550  357  171  634    0    0    0    0    0    0    0    0    0\n",
      "     0    0    0    0    0    0    0    0    0    0    0    0    0    0\n",
      "     0    0    0    0    0    0    0    0    0    0    0    0    0    0\n",
      "     0    0    0    0    0    0    0    0    0    0    0    0    0    0\n",
      "     0    0    0    0    0    0    0    0    0    0    0    0    0    0\n",
      "     0    0    0    0    0    0    0    0    0    0    0    0    0    0\n",
      "     0    0    0    0    0    0    0    0    0    0    0    0    0    0\n",
      "     0    0    0    0    0    0    0    0    0    0    0    0    0    0\n",
      "     0    0    0    0    0    0    0    0    0    0    0    0    0    0\n",
      "     0    0    0    0    0    0    0    0    0    0    0    0    0    0\n",
      "     0    0    0    0    0    0    0    0    0    0    0    0    0    0\n",
      "     0    0    0    0    0    0    0    0    0    0    0    0    0    0\n",
      "     0    0    0    0    0    0    0    0    0    0    0    0    0    0\n",
      "     0    0    0    0    0    0    0    0    0    0    0    0]]\n",
      "[0.13582134]\n",
      "Well...the visual effects are groundbreaking but it lacks heart and flare - and feels soulless compared to the original. Donald Glover and Beyoncé felt like miscasts - it feels like they're reading lines from a sheet. See this remake for the visual effects; but go back and watch the original animated masterpiece in all its glory.\n",
      "\n",
      "[[    1     2  1114   302    26  8616    21    12  1503   483     5 11080\n",
      "      2     5   764  9995  1079     8     4   204     2     2     5     2\n",
      "    421    40     2     2    12   764    40   507   886   411    39     6\n",
      "   9688     2    14  1034    18     4  1114     2    21   140   145     5\n",
      "    106     4   204  1125   991    11    32    94  3295     0     0     0\n",
      "      0     0     0     0     0     0     0     0     0     0     0     0\n",
      "      0     0     0     0     0     0     0     0     0     0     0     0\n",
      "      0     0     0     0     0     0     0     0     0     0     0     0\n",
      "      0     0     0     0     0     0     0     0     0     0     0     0\n",
      "      0     0     0     0     0     0     0     0     0     0     0     0\n",
      "      0     0     0     0     0     0     0     0     0     0     0     0\n",
      "      0     0     0     0     0     0     0     0     0     0     0     0\n",
      "      0     0     0     0     0     0     0     0     0     0     0     0\n",
      "      0     0     0     0     0     0     0     0     0     0     0     0\n",
      "      0     0     0     0     0     0     0     0     0     0     0     0\n",
      "      0     0     0     0     0     0     0     0     0     0     0     0\n",
      "      0     0     0     0     0     0     0     0     0     0     0     0\n",
      "      0     0     0     0     0     0     0     0     0     0     0     0\n",
      "      0     0     0     0     0     0     0     0     0     0     0     0\n",
      "      0     0     0     0     0     0     0     0     0     0     0     0\n",
      "      0     0     0     0     0     0     0     0     0     0]]\n",
      "[0.5136907]\n",
      "What if I told you that nowadays cartoons are not for kids anymore? They never were actually because the art of drawing has nothing to do with age, it's only about making something new and making a difference as with every kind of art there is. Toy Story 4 doesn't break borders of imagination by its once revolutionary computer animation but it sure has a very pretty picture. The story is same as the premise of the third part of the franchise but only this time it deals with a much wider variety of topics: self-association in the society, loyalty, shattering of dreams, search for your purpose in life, definition of friendship, dissatisfaction with your current life status and the list goes on. Kids are only looking for fun and jokes to keep them entertained and they will not be entertained by Toy Story 4 what I clearly saw sitting in the movie theater - this is a movie that has grown with its viewers and is almost a quarter of a century old now. All in all this is a sweet, touching, meaningful, thought-provoking story and is a worthy addition to the franchise that I would gladly be coming back to along with all of its three installments.\n",
      "[[    1     2    48     2   579    25    15  2889  2473    26    24    18\n",
      "    362     2     2   115    71   165    88     4   498     7  3862    47\n",
      "    164     8    81    19   559    45    64    44   231   142   162     5\n",
      "    231     6  1474    17    19   175   243     7   498    50     9     2\n",
      "      2   470   152   989  6871     7  1546    34    94   280  4198  1222\n",
      "    748    21    12   252    47     6    55   184   431     2    65     9\n",
      "    172    17     4   863     7     4   840   173     7     4  3135    21\n",
      "     64    14    58    12  2033    19     6    76  7042  2593     7  6099\n",
      "      2    11     4   926  5079  9199     7  1306  1787    18   129  1288\n",
      "     11   113  4963     7  1862 28900    19   129  2028   113  2668     5\n",
      "      4  1029   271    23     2    26    64   267    18   253     5   640\n",
      "      8   401    98  2176     5    36    80    24    30  2176    34     2\n",
      "      2   470    51     2   695   219  1266    11     4    20   750     2\n",
      "     14     9     6    20    15    47  2071    19    94   797     5     9\n",
      "    220     6  6542     7     6  1117   154   150     2    11    32    14\n",
      "      9     6  1047  1301  3191     2    65     5     9     6  1517  1577\n",
      "      8     4  3135    15     2    62  9974    30   582   145     8   367\n",
      "     19    32     7    94   289 13087     0     0     0     0     0     0\n",
      "      0     0     0     0     0     0     0     0     0     0     0     0\n",
      "      0     0     0     0     0     0     0     0     0     0     0     0\n",
      "      0     0     0     0     0     0     0     0     0     0]]\n",
      "[0.8427993]\n"
     ]
    }
   ],
   "source": [
    "with open(\"test.txt\", encoding=\"utf-8\") as f:\n",
    "    for line in f.readlines():\n",
    "        nline = line.replace(\",\", \"\").replace(\".\", \"\").replace(\"(\",\"\").replace(\")\", \"\").replace(\":\", \"\").replace(\"\\\"\", \"\").strip().split()\n",
    "        encode = review_encode(nline)\n",
    "        encode = keras.preprocessing.sequence.pad_sequences([encode], value=word_index[\"<PAD>\"], padding=\"post\", maxlen=250)\n",
    "        predict = model.predict(encode)\n",
    "        print(line)\n",
    "        print(encode)\n",
    "        print(predict[0])"
   ]
  }
 ],
 "metadata": {
  "kernelspec": {
   "display_name": "Python 3",
   "language": "python",
   "name": "python3"
  },
  "language_info": {
   "codemirror_mode": {
    "name": "ipython",
    "version": 3
   },
   "file_extension": ".py",
   "mimetype": "text/x-python",
   "name": "python",
   "nbconvert_exporter": "python",
   "pygments_lexer": "ipython3",
   "version": "3.8.1"
  }
 },
 "nbformat": 4,
 "nbformat_minor": 4
}
