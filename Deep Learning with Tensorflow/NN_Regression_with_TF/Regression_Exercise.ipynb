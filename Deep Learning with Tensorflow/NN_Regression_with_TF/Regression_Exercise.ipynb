{
  "nbformat": 4,
  "nbformat_minor": 0,
  "metadata": {
    "colab": {
      "name": "Regression Exercise.ipynb",
      "provenance": [],
      "collapsed_sections": []
    },
    "kernelspec": {
      "name": "python3",
      "display_name": "Python 3"
    },
    "language_info": {
      "name": "python"
    }
  },
  "cells": [
    {
      "cell_type": "markdown",
      "metadata": {
        "id": "Xx8I98DSr3Dm"
      },
      "source": [
        "# Let's start with a simple dataset"
      ]
    },
    {
      "cell_type": "code",
      "metadata": {
        "id": "uHz9IXmVb4sL"
      },
      "source": [
        "import tensorflow as tf\n",
        "import numpy as np\n",
        "import matplotlib.pyplot as plt"
      ],
      "execution_count": 1,
      "outputs": []
    },
    {
      "cell_type": "markdown",
      "metadata": {
        "id": "Xt2i0pp2cU38"
      },
      "source": [
        "## Creating data to view and fit"
      ]
    },
    {
      "cell_type": "code",
      "metadata": {
        "colab": {
          "base_uri": "https://localhost:8080/",
          "height": 282
        },
        "id": "MkS6s9H_cU7W",
        "outputId": "89fbc649-1a8b-436c-d9ee-0226f99ded85"
      },
      "source": [
        "# Create the features\n",
        "X = np.arange(-200, 600, 5)\n",
        "\n",
        "# Create labels\n",
        "y = X * 2 + 10\n",
        "\n",
        "# Viusalize it\n",
        "plt.scatter(X,y)"
      ],
      "execution_count": 2,
      "outputs": [
        {
          "output_type": "execute_result",
          "data": {
            "text/plain": [
              "<matplotlib.collections.PathCollection at 0x7fc6097c11d0>"
            ]
          },
          "metadata": {},
          "execution_count": 2
        },
        {
          "output_type": "display_data",
          "data": {
            "image/png": "[encoded data removed]",
            "text/plain": [
              "<Figure size 432x288 with 1 Axes>"
            ]
          },
          "metadata": {
            "needs_background": "light"
          }
        }
      ]
    },
    {
      "cell_type": "code",
      "metadata": {
        "colab": {
          "base_uri": "https://localhost:8080/"
        },
        "id": "LXomlWkbeN54",
        "outputId": "7e099eca-3786-4378-9ebd-e890cfd560be"
      },
      "source": [
        "len(X)"
      ],
      "execution_count": 3,
      "outputs": [
        {
          "output_type": "execute_result",
          "data": {
            "text/plain": [
              "160"
            ]
          },
          "metadata": {},
          "execution_count": 3
        }
      ]
    },
    {
      "cell_type": "code",
      "metadata": {
        "colab": {
          "base_uri": "https://localhost:8080/"
        },
        "id": "SGN_kQPjcU-O",
        "outputId": "4522d279-5c1a-446e-d98a-df61c3920bad"
      },
      "source": [
        "y == (X*2 + 10)"
      ],
      "execution_count": 4,
      "outputs": [
        {
          "output_type": "execute_result",
          "data": {
            "text/plain": [
              "array([ True,  True,  True,  True,  True,  True,  True,  True,  True,\n",
              "        True,  True,  True,  True,  True,  True,  True,  True,  True,\n",
              "        True,  True,  True,  True,  True,  True,  True,  True,  True,\n",
              "        True,  True,  True,  True,  True,  True,  True,  True,  True,\n",
              "        True,  True,  True,  True,  True,  True,  True,  True,  True,\n",
              "        True,  True,  True,  True,  True,  True,  True,  True,  True,\n",
              "        True,  True,  True,  True,  True,  True,  True,  True,  True,\n",
              "        True,  True,  True,  True,  True,  True,  True,  True,  True,\n",
              "        True,  True,  True,  True,  True,  True,  True,  True,  True,\n",
              "        True,  True,  True,  True,  True,  True,  True,  True,  True,\n",
              "        True,  True,  True,  True,  True,  True,  True,  True,  True,\n",
              "        True,  True,  True,  True,  True,  True,  True,  True,  True,\n",
              "        True,  True,  True,  True,  True,  True,  True,  True,  True,\n",
              "        True,  True,  True,  True,  True,  True,  True,  True,  True,\n",
              "        True,  True,  True,  True,  True,  True,  True,  True,  True,\n",
              "        True,  True,  True,  True,  True,  True,  True,  True,  True,\n",
              "        True,  True,  True,  True,  True,  True,  True,  True,  True,\n",
              "        True,  True,  True,  True,  True,  True,  True])"
            ]
          },
          "metadata": {},
          "execution_count": 4
        }
      ]
    },
    {
      "cell_type": "markdown",
      "metadata": {
        "id": "JbxVWU3YcVBP"
      },
      "source": [
        "## Modelling"
      ]
    },
    {
      "cell_type": "code",
      "metadata": {
        "id": "LCnGYgurdt3t"
      },
      "source": [
        "from sklearn.model_selection import train_test_split\n",
        "\n",
        "# Split the data into training and test sets.\n",
        "X_train, X_test, y_train, y_test = train_test_split(X, y, test_size=0.2)"
      ],
      "execution_count": 5,
      "outputs": []
    },
    {
      "cell_type": "markdown",
      "metadata": {
        "id": "f57spq3Xfocn"
      },
      "source": [
        "Now, let's normalize the data"
      ]
    },
    {
      "cell_type": "code",
      "metadata": {
        "colab": {
          "base_uri": "https://localhost:8080/"
        },
        "id": "r8lupgdpgWJR",
        "outputId": "1dd38b3c-5b77-436e-b44e-5ae661a9e806"
      },
      "source": [
        "X_train.shape, y_train.shape"
      ],
      "execution_count": 6,
      "outputs": [
        {
          "output_type": "execute_result",
          "data": {
            "text/plain": [
              "((128,), (128,))"
            ]
          },
          "metadata": {},
          "execution_count": 6
        }
      ]
    },
    {
      "cell_type": "code",
      "metadata": {
        "id": "ulUroASWfhuJ"
      },
      "source": [
        "from sklearn.preprocessing import MinMaxScaler\n",
        "\n",
        "scaler = MinMaxScaler()\n",
        "\n",
        "scaler.fit(X_train.reshape(-1,1))\n",
        "\n",
        "X_train_normal = scaler.transform(X_train.reshape(-1,1))\n",
        "X_test_normal = scaler.transform(X_test.reshape(-1,1))"
      ],
      "execution_count": 7,
      "outputs": []
    },
    {
      "cell_type": "code",
      "metadata": {
        "colab": {
          "base_uri": "https://localhost:8080/"
        },
        "id": "hvdP9bRccVEE",
        "outputId": "5ef52a81-1017-4f35-b595-559749dc52d8"
      },
      "source": [
        "# Create a model\n",
        "model_1 = tf.keras.Sequential([\n",
        "  tf.keras.layers.Dense(100),\n",
        "  tf.keras.layers.Dense(10),\n",
        "  tf.keras.layers.Dense(10),\n",
        "  tf.keras.layers.Dense(1),\n",
        "])\n",
        "\n",
        "# Compile the model\n",
        "model_1.compile(loss=tf.keras.losses.mae,\n",
        "                optimizer=tf.keras.optimizers.SGD(),\n",
        "                metrics=[\"mae\"])\n",
        "\n",
        "# Fit the model\n",
        "history_1 = model_1.fit(X_train_normal, y_train, epochs=100)"
      ],
      "execution_count": 8,
      "outputs": [
        {
          "output_type": "stream",
          "name": "stdout",
          "text": [
            "Epoch 1/100\n",
            "4/4 [==============================] - 1s 3ms/step - loss: 498.7038 - mae: 498.7038\n",
            "Epoch 2/100\n",
            "4/4 [==============================] - 0s 3ms/step - loss: 498.6137 - mae: 498.6137\n",
            "Epoch 3/100\n",
            "4/4 [==============================] - 0s 2ms/step - loss: 498.5243 - mae: 498.5243\n",
            "Epoch 4/100\n",
            "4/4 [==============================] - 0s 3ms/step - loss: 498.4304 - mae: 498.4304\n",
            "Epoch 5/100\n",
            "4/4 [==============================] - 0s 4ms/step - loss: 498.3315 - mae: 498.3315\n",
            "Epoch 6/100\n",
            "4/4 [==============================] - 0s 7ms/step - loss: 498.2244 - mae: 498.2244\n",
            "Epoch 7/100\n",
            "4/4 [==============================] - 0s 3ms/step - loss: 498.1052 - mae: 498.1052\n",
            "Epoch 8/100\n",
            "4/4 [==============================] - 0s 3ms/step - loss: 497.9710 - mae: 497.9710\n",
            "Epoch 9/100\n",
            "4/4 [==============================] - 0s 3ms/step - loss: 497.8148 - mae: 497.8148\n",
            "Epoch 10/100\n",
            "4/4 [==============================] - 0s 4ms/step - loss: 497.6310 - mae: 497.6310\n",
            "Epoch 11/100\n",
            "4/4 [==============================] - 0s 3ms/step - loss: 497.4098 - mae: 497.4098\n",
            "Epoch 12/100\n",
            "4/4 [==============================] - 0s 3ms/step - loss: 497.1396 - mae: 497.1396\n",
            "Epoch 13/100\n",
            "4/4 [==============================] - 0s 5ms/step - loss: 496.7983 - mae: 496.7983\n",
            "Epoch 14/100\n",
            "4/4 [==============================] - 0s 3ms/step - loss: 496.3573 - mae: 496.3573\n",
            "Epoch 15/100\n",
            "4/4 [==============================] - 0s 4ms/step - loss: 495.7765 - mae: 495.7765\n",
            "Epoch 16/100\n",
            "4/4 [==============================] - 0s 3ms/step - loss: 494.9828 - mae: 494.9828\n",
            "Epoch 17/100\n",
            "4/4 [==============================] - 0s 3ms/step - loss: 493.8486 - mae: 493.8486\n",
            "Epoch 18/100\n",
            "4/4 [==============================] - 0s 3ms/step - loss: 492.1577 - mae: 492.1577\n",
            "Epoch 19/100\n",
            "4/4 [==============================] - 0s 3ms/step - loss: 489.5102 - mae: 489.5102\n",
            "Epoch 20/100\n",
            "4/4 [==============================] - 0s 3ms/step - loss: 485.0726 - mae: 485.0726\n",
            "Epoch 21/100\n",
            "4/4 [==============================] - 0s 4ms/step - loss: 476.6330 - mae: 476.6330\n",
            "Epoch 22/100\n",
            "4/4 [==============================] - 0s 3ms/step - loss: 458.8888 - mae: 458.8888\n",
            "Epoch 23/100\n",
            "4/4 [==============================] - 0s 3ms/step - loss: 415.5689 - mae: 415.5689\n",
            "Epoch 24/100\n",
            "4/4 [==============================] - 0s 3ms/step - loss: 340.7213 - mae: 340.7213\n",
            "Epoch 25/100\n",
            "4/4 [==============================] - 0s 4ms/step - loss: 292.0363 - mae: 292.0363\n",
            "Epoch 26/100\n",
            "4/4 [==============================] - 0s 3ms/step - loss: 254.5063 - mae: 254.5063\n",
            "Epoch 27/100\n",
            "4/4 [==============================] - 0s 3ms/step - loss: 217.2920 - mae: 217.2920\n",
            "Epoch 28/100\n",
            "4/4 [==============================] - 0s 3ms/step - loss: 238.5987 - mae: 238.5987\n",
            "Epoch 29/100\n",
            "4/4 [==============================] - 0s 2ms/step - loss: 231.3219 - mae: 231.3219\n",
            "Epoch 30/100\n",
            "4/4 [==============================] - 0s 3ms/step - loss: 228.8078 - mae: 228.8078\n",
            "Epoch 31/100\n",
            "4/4 [==============================] - 0s 3ms/step - loss: 237.2298 - mae: 237.2298\n",
            "Epoch 32/100\n",
            "4/4 [==============================] - 0s 4ms/step - loss: 228.7060 - mae: 228.7060\n",
            "Epoch 33/100\n",
            "4/4 [==============================] - 0s 4ms/step - loss: 265.2092 - mae: 265.2092\n",
            "Epoch 34/100\n",
            "4/4 [==============================] - 0s 2ms/step - loss: 203.7349 - mae: 203.7349\n",
            "Epoch 35/100\n",
            "4/4 [==============================] - 0s 4ms/step - loss: 202.9926 - mae: 202.9926\n",
            "Epoch 36/100\n",
            "4/4 [==============================] - 0s 3ms/step - loss: 246.7385 - mae: 246.7385\n",
            "Epoch 37/100\n",
            "4/4 [==============================] - 0s 3ms/step - loss: 205.8224 - mae: 205.8224\n",
            "Epoch 38/100\n",
            "4/4 [==============================] - 0s 4ms/step - loss: 247.0204 - mae: 247.0204\n",
            "Epoch 39/100\n",
            "4/4 [==============================] - 0s 3ms/step - loss: 186.9721 - mae: 186.9721\n",
            "Epoch 40/100\n",
            "4/4 [==============================] - 0s 4ms/step - loss: 245.2822 - mae: 245.2822\n",
            "Epoch 41/100\n",
            "4/4 [==============================] - 0s 4ms/step - loss: 220.1521 - mae: 220.1521\n",
            "Epoch 42/100\n",
            "4/4 [==============================] - 0s 3ms/step - loss: 163.5424 - mae: 163.5424\n",
            "Epoch 43/100\n",
            "4/4 [==============================] - 0s 2ms/step - loss: 219.2598 - mae: 219.2598\n",
            "Epoch 44/100\n",
            "4/4 [==============================] - 0s 3ms/step - loss: 264.1395 - mae: 264.1395\n",
            "Epoch 45/100\n",
            "4/4 [==============================] - 0s 5ms/step - loss: 221.4874 - mae: 221.4874\n",
            "Epoch 46/100\n",
            "4/4 [==============================] - 0s 3ms/step - loss: 214.5538 - mae: 214.5538\n",
            "Epoch 47/100\n",
            "4/4 [==============================] - 0s 2ms/step - loss: 197.6064 - mae: 197.6064\n",
            "Epoch 48/100\n",
            "4/4 [==============================] - 0s 2ms/step - loss: 219.6218 - mae: 219.6218\n",
            "Epoch 49/100\n",
            "4/4 [==============================] - 0s 2ms/step - loss: 146.5698 - mae: 146.5698\n",
            "Epoch 50/100\n",
            "4/4 [==============================] - 0s 3ms/step - loss: 275.4694 - mae: 275.4694\n",
            "Epoch 51/100\n",
            "4/4 [==============================] - 0s 3ms/step - loss: 240.5761 - mae: 240.5761\n",
            "Epoch 52/100\n",
            "4/4 [==============================] - 0s 3ms/step - loss: 153.1254 - mae: 153.1254\n",
            "Epoch 53/100\n",
            "4/4 [==============================] - 0s 2ms/step - loss: 180.6901 - mae: 180.6901\n",
            "Epoch 54/100\n",
            "4/4 [==============================] - 0s 3ms/step - loss: 185.8506 - mae: 185.8506\n",
            "Epoch 55/100\n",
            "4/4 [==============================] - 0s 2ms/step - loss: 107.9354 - mae: 107.9354\n",
            "Epoch 56/100\n",
            "4/4 [==============================] - 0s 3ms/step - loss: 250.0161 - mae: 250.0161\n",
            "Epoch 57/100\n",
            "4/4 [==============================] - 0s 3ms/step - loss: 203.4302 - mae: 203.4302\n",
            "Epoch 58/100\n",
            "4/4 [==============================] - 0s 3ms/step - loss: 155.1616 - mae: 155.1616\n",
            "Epoch 59/100\n",
            "4/4 [==============================] - 0s 2ms/step - loss: 243.1510 - mae: 243.1510\n",
            "Epoch 60/100\n",
            "4/4 [==============================] - 0s 2ms/step - loss: 194.1178 - mae: 194.1178\n",
            "Epoch 61/100\n",
            "4/4 [==============================] - 0s 2ms/step - loss: 185.5836 - mae: 185.5836\n",
            "Epoch 62/100\n",
            "4/4 [==============================] - 0s 3ms/step - loss: 219.4279 - mae: 219.4279\n",
            "Epoch 63/100\n",
            "4/4 [==============================] - 0s 3ms/step - loss: 157.9574 - mae: 157.9574\n",
            "Epoch 64/100\n",
            "4/4 [==============================] - 0s 3ms/step - loss: 204.5143 - mae: 204.5143\n",
            "Epoch 65/100\n",
            "4/4 [==============================] - 0s 7ms/step - loss: 150.3813 - mae: 150.3813\n",
            "Epoch 66/100\n",
            "4/4 [==============================] - 0s 4ms/step - loss: 219.1667 - mae: 219.1667\n",
            "Epoch 67/100\n",
            "4/4 [==============================] - 0s 4ms/step - loss: 130.4003 - mae: 130.4003\n",
            "Epoch 68/100\n",
            "4/4 [==============================] - 0s 4ms/step - loss: 206.7237 - mae: 206.7237\n",
            "Epoch 69/100\n",
            "4/4 [==============================] - 0s 3ms/step - loss: 156.2909 - mae: 156.2909\n",
            "Epoch 70/100\n",
            "4/4 [==============================] - 0s 3ms/step - loss: 165.3630 - mae: 165.3630\n",
            "Epoch 71/100\n",
            "4/4 [==============================] - 0s 3ms/step - loss: 199.7338 - mae: 199.7338\n",
            "Epoch 72/100\n",
            "4/4 [==============================] - 0s 3ms/step - loss: 164.7576 - mae: 164.7576\n",
            "Epoch 73/100\n",
            "4/4 [==============================] - 0s 3ms/step - loss: 211.3505 - mae: 211.3505\n",
            "Epoch 74/100\n",
            "4/4 [==============================] - 0s 4ms/step - loss: 178.2414 - mae: 178.2414\n",
            "Epoch 75/100\n",
            "4/4 [==============================] - 0s 3ms/step - loss: 172.1267 - mae: 172.1267\n",
            "Epoch 76/100\n",
            "4/4 [==============================] - 0s 5ms/step - loss: 193.8350 - mae: 193.8350\n",
            "Epoch 77/100\n",
            "4/4 [==============================] - 0s 2ms/step - loss: 148.4745 - mae: 148.4745\n",
            "Epoch 78/100\n",
            "4/4 [==============================] - 0s 4ms/step - loss: 193.5443 - mae: 193.5443\n",
            "Epoch 79/100\n",
            "4/4 [==============================] - 0s 4ms/step - loss: 171.5165 - mae: 171.5165\n",
            "Epoch 80/100\n",
            "4/4 [==============================] - 0s 3ms/step - loss: 171.4918 - mae: 171.4918\n",
            "Epoch 81/100\n",
            "4/4 [==============================] - 0s 3ms/step - loss: 153.2380 - mae: 153.2380\n",
            "Epoch 82/100\n",
            "4/4 [==============================] - 0s 2ms/step - loss: 186.1553 - mae: 186.1553\n",
            "Epoch 83/100\n",
            "4/4 [==============================] - 0s 4ms/step - loss: 198.2917 - mae: 198.2917\n",
            "Epoch 84/100\n",
            "4/4 [==============================] - 0s 6ms/step - loss: 168.9080 - mae: 168.9080\n",
            "Epoch 85/100\n",
            "4/4 [==============================] - 0s 4ms/step - loss: 224.8336 - mae: 224.8336\n",
            "Epoch 86/100\n",
            "4/4 [==============================] - 0s 3ms/step - loss: 198.9076 - mae: 198.9076\n",
            "Epoch 87/100\n",
            "4/4 [==============================] - 0s 4ms/step - loss: 181.4053 - mae: 181.4053\n",
            "Epoch 88/100\n",
            "4/4 [==============================] - 0s 3ms/step - loss: 187.7617 - mae: 187.7617\n",
            "Epoch 89/100\n",
            "4/4 [==============================] - 0s 2ms/step - loss: 163.1809 - mae: 163.1809\n",
            "Epoch 90/100\n",
            "4/4 [==============================] - 0s 2ms/step - loss: 189.5811 - mae: 189.5811\n",
            "Epoch 91/100\n",
            "4/4 [==============================] - 0s 2ms/step - loss: 216.5066 - mae: 216.5066\n",
            "Epoch 92/100\n",
            "4/4 [==============================] - 0s 2ms/step - loss: 143.9392 - mae: 143.9392\n",
            "Epoch 93/100\n",
            "4/4 [==============================] - 0s 4ms/step - loss: 131.3052 - mae: 131.3052\n",
            "Epoch 94/100\n",
            "4/4 [==============================] - 0s 3ms/step - loss: 225.6079 - mae: 225.6079\n",
            "Epoch 95/100\n",
            "4/4 [==============================] - 0s 3ms/step - loss: 145.0530 - mae: 145.0530\n",
            "Epoch 96/100\n",
            "4/4 [==============================] - 0s 3ms/step - loss: 168.2353 - mae: 168.2353\n",
            "Epoch 97/100\n",
            "4/4 [==============================] - 0s 3ms/step - loss: 159.3357 - mae: 159.3357\n",
            "Epoch 98/100\n",
            "4/4 [==============================] - 0s 3ms/step - loss: 130.8754 - mae: 130.8754\n",
            "Epoch 99/100\n",
            "4/4 [==============================] - 0s 3ms/step - loss: 199.4648 - mae: 199.4648\n",
            "Epoch 100/100\n",
            "4/4 [==============================] - 0s 4ms/step - loss: 152.6129 - mae: 152.6129\n"
          ]
        }
      ]
    },
    {
      "cell_type": "code",
      "metadata": {
        "colab": {
          "base_uri": "https://localhost:8080/"
        },
        "id": "d47T7cXhcVHN",
        "outputId": "045e1c53-b961-419a-9a86-8caf5d91d2a3"
      },
      "source": [
        "# Evaluate the model\n",
        "loss_1 = model_1.evaluate(X_test_normal, y_test)"
      ],
      "execution_count": 9,
      "outputs": [
        {
          "output_type": "stream",
          "name": "stdout",
          "text": [
            "1/1 [==============================] - 0s 127ms/step - loss: 334.2474 - mae: 334.2474\n"
          ]
        }
      ]
    },
    {
      "cell_type": "markdown",
      "metadata": {
        "id": "xCF8DG0hqZ8H"
      },
      "source": [
        "## Improving our model"
      ]
    },
    {
      "cell_type": "code",
      "metadata": {
        "colab": {
          "base_uri": "https://localhost:8080/"
        },
        "id": "v51bAdjWcVNt",
        "outputId": "0c8da941-0777-4e0d-83a6-50231e429bdf"
      },
      "source": [
        "# Let's rebuild the model\n",
        "# Create a model\n",
        "model_2 = tf.keras.Sequential([\n",
        "  tf.keras.layers.Dense(100),\n",
        "  tf.keras.layers.Dense(10),\n",
        "  tf.keras.layers.Dense(10),\n",
        "  tf.keras.layers.Dense(1),\n",
        "])\n",
        "\n",
        "# Compile the model - this time, we change the optimizer to Adam\n",
        "model_2.compile(loss=tf.keras.losses.mae,\n",
        "                optimizer=tf.keras.optimizers.Adam(),\n",
        "                metrics=[\"mae\"])\n",
        "\n",
        "# Fit the model\n",
        "history_2 = model_2.fit(X_train_normal, y_train, epochs=100)"
      ],
      "execution_count": 10,
      "outputs": [
        {
          "output_type": "stream",
          "name": "stdout",
          "text": [
            "Epoch 1/100\n",
            "4/4 [==============================] - 0s 3ms/step - loss: 498.4346 - mae: 498.4346\n",
            "Epoch 2/100\n",
            "4/4 [==============================] - 0s 3ms/step - loss: 498.2625 - mae: 498.2625\n",
            "Epoch 3/100\n",
            "4/4 [==============================] - 0s 3ms/step - loss: 498.0884 - mae: 498.0884\n",
            "Epoch 4/100\n",
            "4/4 [==============================] - 0s 3ms/step - loss: 497.8874 - mae: 497.8874\n",
            "Epoch 5/100\n",
            "4/4 [==============================] - 0s 4ms/step - loss: 497.6760 - mae: 497.6760\n",
            "Epoch 6/100\n",
            "4/4 [==============================] - 0s 2ms/step - loss: 497.4311 - mae: 497.4311\n",
            "Epoch 7/100\n",
            "4/4 [==============================] - 0s 3ms/step - loss: 497.1311 - mae: 497.1311\n",
            "Epoch 8/100\n",
            "4/4 [==============================] - 0s 3ms/step - loss: 496.8472 - mae: 496.8472\n",
            "Epoch 9/100\n",
            "4/4 [==============================] - 0s 4ms/step - loss: 496.4774 - mae: 496.4774\n",
            "Epoch 10/100\n",
            "4/4 [==============================] - 0s 3ms/step - loss: 496.0490 - mae: 496.0490\n",
            "Epoch 11/100\n",
            "4/4 [==============================] - 0s 3ms/step - loss: 495.5663 - mae: 495.5663\n",
            "Epoch 12/100\n",
            "4/4 [==============================] - 0s 4ms/step - loss: 495.0275 - mae: 495.0275\n",
            "Epoch 13/100\n",
            "4/4 [==============================] - 0s 4ms/step - loss: 494.3587 - mae: 494.3587\n",
            "Epoch 14/100\n",
            "4/4 [==============================] - 0s 3ms/step - loss: 493.6383 - mae: 493.6383\n",
            "Epoch 15/100\n",
            "4/4 [==============================] - 0s 6ms/step - loss: 492.7835 - mae: 492.7835\n",
            "Epoch 16/100\n",
            "4/4 [==============================] - 0s 3ms/step - loss: 491.8862 - mae: 491.8862\n",
            "Epoch 17/100\n",
            "4/4 [==============================] - 0s 3ms/step - loss: 490.7390 - mae: 490.7390\n",
            "Epoch 18/100\n",
            "4/4 [==============================] - 0s 4ms/step - loss: 489.4458 - mae: 489.4458\n",
            "Epoch 19/100\n",
            "4/4 [==============================] - 0s 5ms/step - loss: 487.9993 - mae: 487.9993\n",
            "Epoch 20/100\n",
            "4/4 [==============================] - 0s 4ms/step - loss: 486.3784 - mae: 486.3784\n",
            "Epoch 21/100\n",
            "4/4 [==============================] - 0s 3ms/step - loss: 484.5641 - mae: 484.5641\n",
            "Epoch 22/100\n",
            "4/4 [==============================] - 0s 4ms/step - loss: 482.4857 - mae: 482.4857\n",
            "Epoch 23/100\n",
            "4/4 [==============================] - 0s 3ms/step - loss: 480.2556 - mae: 480.2556\n",
            "Epoch 24/100\n",
            "4/4 [==============================] - 0s 3ms/step - loss: 477.5642 - mae: 477.5642\n",
            "Epoch 25/100\n",
            "4/4 [==============================] - 0s 3ms/step - loss: 474.6510 - mae: 474.6510\n",
            "Epoch 26/100\n",
            "4/4 [==============================] - 0s 7ms/step - loss: 471.5084 - mae: 471.5084\n",
            "Epoch 27/100\n",
            "4/4 [==============================] - 0s 4ms/step - loss: 468.0180 - mae: 468.0180\n",
            "Epoch 28/100\n",
            "4/4 [==============================] - 0s 4ms/step - loss: 464.1492 - mae: 464.1492\n",
            "Epoch 29/100\n",
            "4/4 [==============================] - 0s 4ms/step - loss: 459.6262 - mae: 459.6262\n",
            "Epoch 30/100\n",
            "4/4 [==============================] - 0s 5ms/step - loss: 454.9168 - mae: 454.9168\n",
            "Epoch 31/100\n",
            "4/4 [==============================] - 0s 4ms/step - loss: 450.0605 - mae: 450.0605\n",
            "Epoch 32/100\n",
            "4/4 [==============================] - 0s 3ms/step - loss: 444.8364 - mae: 444.8364\n",
            "Epoch 33/100\n",
            "4/4 [==============================] - 0s 4ms/step - loss: 438.8665 - mae: 438.8665\n",
            "Epoch 34/100\n",
            "4/4 [==============================] - 0s 4ms/step - loss: 432.7651 - mae: 432.7651\n",
            "Epoch 35/100\n",
            "4/4 [==============================] - 0s 4ms/step - loss: 425.7890 - mae: 425.7890\n",
            "Epoch 36/100\n",
            "4/4 [==============================] - 0s 3ms/step - loss: 418.6943 - mae: 418.6943\n",
            "Epoch 37/100\n",
            "4/4 [==============================] - 0s 3ms/step - loss: 410.8996 - mae: 410.8996\n",
            "Epoch 38/100\n",
            "4/4 [==============================] - 0s 3ms/step - loss: 402.8173 - mae: 402.8173\n",
            "Epoch 39/100\n",
            "4/4 [==============================] - 0s 4ms/step - loss: 395.0055 - mae: 395.0055\n",
            "Epoch 40/100\n",
            "4/4 [==============================] - 0s 4ms/step - loss: 386.2194 - mae: 386.2194\n",
            "Epoch 41/100\n",
            "4/4 [==============================] - 0s 4ms/step - loss: 377.4666 - mae: 377.4666\n",
            "Epoch 42/100\n",
            "4/4 [==============================] - 0s 3ms/step - loss: 368.4340 - mae: 368.4340\n",
            "Epoch 43/100\n",
            "4/4 [==============================] - 0s 3ms/step - loss: 360.8777 - mae: 360.8777\n",
            "Epoch 44/100\n",
            "4/4 [==============================] - 0s 4ms/step - loss: 352.0055 - mae: 352.0055\n",
            "Epoch 45/100\n",
            "4/4 [==============================] - 0s 4ms/step - loss: 345.3153 - mae: 345.3153\n",
            "Epoch 46/100\n",
            "4/4 [==============================] - 0s 6ms/step - loss: 337.6648 - mae: 337.6648\n",
            "Epoch 47/100\n",
            "4/4 [==============================] - 0s 4ms/step - loss: 330.9504 - mae: 330.9504\n",
            "Epoch 48/100\n",
            "4/4 [==============================] - 0s 3ms/step - loss: 325.5096 - mae: 325.5096\n",
            "Epoch 49/100\n",
            "4/4 [==============================] - 0s 4ms/step - loss: 319.1342 - mae: 319.1342\n",
            "Epoch 50/100\n",
            "4/4 [==============================] - 0s 3ms/step - loss: 314.1824 - mae: 314.1824\n",
            "Epoch 51/100\n",
            "4/4 [==============================] - 0s 3ms/step - loss: 309.8922 - mae: 309.8922\n",
            "Epoch 52/100\n",
            "4/4 [==============================] - 0s 3ms/step - loss: 306.0883 - mae: 306.0883\n",
            "Epoch 53/100\n",
            "4/4 [==============================] - 0s 3ms/step - loss: 302.7358 - mae: 302.7358\n",
            "Epoch 54/100\n",
            "4/4 [==============================] - 0s 5ms/step - loss: 301.1006 - mae: 301.1006\n",
            "Epoch 55/100\n",
            "4/4 [==============================] - 0s 4ms/step - loss: 298.3177 - mae: 298.3177\n",
            "Epoch 56/100\n",
            "4/4 [==============================] - 0s 3ms/step - loss: 295.9890 - mae: 295.9890\n",
            "Epoch 57/100\n",
            "4/4 [==============================] - 0s 4ms/step - loss: 294.0799 - mae: 294.0799\n",
            "Epoch 58/100\n",
            "4/4 [==============================] - 0s 4ms/step - loss: 292.3225 - mae: 292.3225\n",
            "Epoch 59/100\n",
            "4/4 [==============================] - 0s 4ms/step - loss: 290.4611 - mae: 290.4611\n",
            "Epoch 60/100\n",
            "4/4 [==============================] - 0s 3ms/step - loss: 288.2396 - mae: 288.2396\n",
            "Epoch 61/100\n",
            "4/4 [==============================] - 0s 3ms/step - loss: 286.1948 - mae: 286.1948\n",
            "Epoch 62/100\n",
            "4/4 [==============================] - 0s 3ms/step - loss: 284.1143 - mae: 284.1143\n",
            "Epoch 63/100\n",
            "4/4 [==============================] - 0s 4ms/step - loss: 282.0352 - mae: 282.0352\n",
            "Epoch 64/100\n",
            "4/4 [==============================] - 0s 3ms/step - loss: 279.8618 - mae: 279.8618\n",
            "Epoch 65/100\n",
            "4/4 [==============================] - 0s 4ms/step - loss: 277.8273 - mae: 277.8273\n",
            "Epoch 66/100\n",
            "4/4 [==============================] - 0s 4ms/step - loss: 275.6530 - mae: 275.6530\n",
            "Epoch 67/100\n",
            "4/4 [==============================] - 0s 3ms/step - loss: 273.3466 - mae: 273.3466\n",
            "Epoch 68/100\n",
            "4/4 [==============================] - 0s 4ms/step - loss: 271.1158 - mae: 271.1158\n",
            "Epoch 69/100\n",
            "4/4 [==============================] - 0s 3ms/step - loss: 268.9527 - mae: 268.9527\n",
            "Epoch 70/100\n",
            "4/4 [==============================] - 0s 4ms/step - loss: 266.5371 - mae: 266.5371\n",
            "Epoch 71/100\n",
            "4/4 [==============================] - 0s 3ms/step - loss: 264.1359 - mae: 264.1359\n",
            "Epoch 72/100\n",
            "4/4 [==============================] - 0s 6ms/step - loss: 261.7150 - mae: 261.7150\n",
            "Epoch 73/100\n",
            "4/4 [==============================] - 0s 3ms/step - loss: 259.1568 - mae: 259.1568\n",
            "Epoch 74/100\n",
            "4/4 [==============================] - 0s 3ms/step - loss: 256.6923 - mae: 256.6923\n",
            "Epoch 75/100\n",
            "4/4 [==============================] - 0s 3ms/step - loss: 254.0468 - mae: 254.0468\n",
            "Epoch 76/100\n",
            "4/4 [==============================] - 0s 3ms/step - loss: 251.3558 - mae: 251.3558\n",
            "Epoch 77/100\n",
            "4/4 [==============================] - 0s 3ms/step - loss: 248.7139 - mae: 248.7139\n",
            "Epoch 78/100\n",
            "4/4 [==============================] - 0s 3ms/step - loss: 246.2001 - mae: 246.2001\n",
            "Epoch 79/100\n",
            "4/4 [==============================] - 0s 4ms/step - loss: 243.1042 - mae: 243.1042\n",
            "Epoch 80/100\n",
            "4/4 [==============================] - 0s 3ms/step - loss: 240.2507 - mae: 240.2507\n",
            "Epoch 81/100\n",
            "4/4 [==============================] - 0s 3ms/step - loss: 237.2374 - mae: 237.2374\n",
            "Epoch 82/100\n",
            "4/4 [==============================] - 0s 4ms/step - loss: 234.2666 - mae: 234.2666\n",
            "Epoch 83/100\n",
            "4/4 [==============================] - 0s 5ms/step - loss: 231.1208 - mae: 231.1208\n",
            "Epoch 84/100\n",
            "4/4 [==============================] - 0s 3ms/step - loss: 227.9621 - mae: 227.9621\n",
            "Epoch 85/100\n",
            "4/4 [==============================] - 0s 3ms/step - loss: 224.8182 - mae: 224.8182\n",
            "Epoch 86/100\n",
            "4/4 [==============================] - 0s 3ms/step - loss: 221.4480 - mae: 221.4480\n",
            "Epoch 87/100\n",
            "4/4 [==============================] - 0s 3ms/step - loss: 218.0567 - mae: 218.0567\n",
            "Epoch 88/100\n",
            "4/4 [==============================] - 0s 3ms/step - loss: 214.5071 - mae: 214.5071\n",
            "Epoch 89/100\n",
            "4/4 [==============================] - 0s 4ms/step - loss: 211.0974 - mae: 211.0974\n",
            "Epoch 90/100\n",
            "4/4 [==============================] - 0s 3ms/step - loss: 207.0551 - mae: 207.0551\n",
            "Epoch 91/100\n",
            "4/4 [==============================] - 0s 3ms/step - loss: 203.1021 - mae: 203.1021\n",
            "Epoch 92/100\n",
            "4/4 [==============================] - 0s 3ms/step - loss: 199.3255 - mae: 199.3255\n",
            "Epoch 93/100\n",
            "4/4 [==============================] - 0s 4ms/step - loss: 195.1939 - mae: 195.1939\n",
            "Epoch 94/100\n",
            "4/4 [==============================] - 0s 4ms/step - loss: 190.9153 - mae: 190.9153\n",
            "Epoch 95/100\n",
            "4/4 [==============================] - 0s 4ms/step - loss: 186.7032 - mae: 186.7032\n",
            "Epoch 96/100\n",
            "4/4 [==============================] - 0s 4ms/step - loss: 182.1554 - mae: 182.1554\n",
            "Epoch 97/100\n",
            "4/4 [==============================] - 0s 3ms/step - loss: 177.4777 - mae: 177.4777\n",
            "Epoch 98/100\n",
            "4/4 [==============================] - 0s 3ms/step - loss: 172.9133 - mae: 172.9133\n",
            "Epoch 99/100\n",
            "4/4 [==============================] - 0s 2ms/step - loss: 167.8145 - mae: 167.8145\n",
            "Epoch 100/100\n",
            "4/4 [==============================] - 0s 3ms/step - loss: 162.5746 - mae: 162.5746\n"
          ]
        }
      ]
    },
    {
      "cell_type": "code",
      "metadata": {
        "colab": {
          "base_uri": "https://localhost:8080/"
        },
        "id": "Y6o-XczIcVQy",
        "outputId": "55e49e7a-4df3-45e6-86c4-c4b2f1fd8310"
      },
      "source": [
        "loss_2 = model_2.evaluate(X_test_normal, y_test)"
      ],
      "execution_count": 11,
      "outputs": [
        {
          "output_type": "stream",
          "name": "stdout",
          "text": [
            "1/1 [==============================] - 0s 102ms/step - loss: 158.9750 - mae: 158.9750\n"
          ]
        }
      ]
    },
    {
      "cell_type": "code",
      "metadata": {
        "colab": {
          "base_uri": "https://localhost:8080/"
        },
        "id": "S5HTzG2ZcVTt",
        "outputId": "df7f4b71-d356-439a-80b4-8d54bba0b95e"
      },
      "source": [
        "# Let's rebuild the model\n",
        "# Create a model\n",
        "model_3 = tf.keras.Sequential([\n",
        "  tf.keras.layers.Dense(100),\n",
        "  tf.keras.layers.Dense(10),\n",
        "  tf.keras.layers.Dense(10),\n",
        "  tf.keras.layers.Dense(1),\n",
        "])\n",
        "\n",
        "# Compile the model\n",
        "model_3.compile(loss=tf.keras.losses.mae,\n",
        "                optimizer=tf.keras.optimizers.Adam(lr=0.01), # this time, we increased the learning rate\n",
        "                metrics=[\"mae\"])\n",
        "\n",
        "# Fit the model\n",
        "history_3 = model_3.fit(X_train_normal, y_train, epochs=100)"
      ],
      "execution_count": 12,
      "outputs": [
        {
          "output_type": "stream",
          "name": "stdout",
          "text": [
            "Epoch 1/100\n"
          ]
        },
        {
          "output_type": "stream",
          "name": "stderr",
          "text": [
            "/usr/local/lib/python3.7/dist-packages/keras/optimizer_v2/optimizer_v2.py:356: UserWarning: The `lr` argument is deprecated, use `learning_rate` instead.\n",
            "  \"The `lr` argument is deprecated, use `learning_rate` instead.\")\n"
          ]
        },
        {
          "output_type": "stream",
          "name": "stdout",
          "text": [
            "4/4 [==============================] - 0s 3ms/step - loss: 498.2446 - mae: 498.2446\n",
            "Epoch 2/100\n",
            "4/4 [==============================] - 0s 3ms/step - loss: 496.1235 - mae: 496.1235\n",
            "Epoch 3/100\n",
            "4/4 [==============================] - 0s 2ms/step - loss: 491.6300 - mae: 491.6300\n",
            "Epoch 4/100\n",
            "4/4 [==============================] - 0s 3ms/step - loss: 482.5220 - mae: 482.5220\n",
            "Epoch 5/100\n",
            "4/4 [==============================] - 0s 3ms/step - loss: 463.7933 - mae: 463.7933\n",
            "Epoch 6/100\n",
            "4/4 [==============================] - 0s 3ms/step - loss: 434.8961 - mae: 434.8961\n",
            "Epoch 7/100\n",
            "4/4 [==============================] - 0s 3ms/step - loss: 392.6821 - mae: 392.6821\n",
            "Epoch 8/100\n",
            "4/4 [==============================] - 0s 3ms/step - loss: 338.5258 - mae: 338.5258\n",
            "Epoch 9/100\n",
            "4/4 [==============================] - 0s 2ms/step - loss: 308.8105 - mae: 308.8105\n",
            "Epoch 10/100\n",
            "4/4 [==============================] - 0s 5ms/step - loss: 310.6721 - mae: 310.6721\n",
            "Epoch 11/100\n",
            "4/4 [==============================] - 0s 3ms/step - loss: 294.0024 - mae: 294.0024\n",
            "Epoch 12/100\n",
            "4/4 [==============================] - 0s 4ms/step - loss: 276.2776 - mae: 276.2776\n",
            "Epoch 13/100\n",
            "4/4 [==============================] - 0s 3ms/step - loss: 265.7126 - mae: 265.7126\n",
            "Epoch 14/100\n",
            "4/4 [==============================] - 0s 4ms/step - loss: 253.3358 - mae: 253.3358\n",
            "Epoch 15/100\n",
            "4/4 [==============================] - 0s 3ms/step - loss: 237.1458 - mae: 237.1458\n",
            "Epoch 16/100\n",
            "4/4 [==============================] - 0s 3ms/step - loss: 216.0007 - mae: 216.0007\n",
            "Epoch 17/100\n",
            "4/4 [==============================] - 0s 4ms/step - loss: 193.7116 - mae: 193.7116\n",
            "Epoch 18/100\n",
            "4/4 [==============================] - 0s 3ms/step - loss: 167.5591 - mae: 167.5591\n",
            "Epoch 19/100\n",
            "4/4 [==============================] - 0s 3ms/step - loss: 134.0886 - mae: 134.0886\n",
            "Epoch 20/100\n",
            "4/4 [==============================] - 0s 5ms/step - loss: 88.6129 - mae: 88.6129\n",
            "Epoch 21/100\n",
            "4/4 [==============================] - 0s 4ms/step - loss: 32.2114 - mae: 32.2114\n",
            "Epoch 22/100\n",
            "4/4 [==============================] - 0s 3ms/step - loss: 32.9025 - mae: 32.9025\n",
            "Epoch 23/100\n",
            "4/4 [==============================] - 0s 4ms/step - loss: 44.2317 - mae: 44.2317\n",
            "Epoch 24/100\n",
            "4/4 [==============================] - 0s 4ms/step - loss: 18.8561 - mae: 18.8561\n",
            "Epoch 25/100\n",
            "4/4 [==============================] - 0s 4ms/step - loss: 17.1876 - mae: 17.1876\n",
            "Epoch 26/100\n",
            "4/4 [==============================] - 0s 5ms/step - loss: 12.6409 - mae: 12.6409\n",
            "Epoch 27/100\n",
            "4/4 [==============================] - 0s 4ms/step - loss: 14.7066 - mae: 14.7066\n",
            "Epoch 28/100\n",
            "4/4 [==============================] - 0s 5ms/step - loss: 18.8801 - mae: 18.8801\n",
            "Epoch 29/100\n",
            "4/4 [==============================] - 0s 4ms/step - loss: 17.5119 - mae: 17.5119\n",
            "Epoch 30/100\n",
            "4/4 [==============================] - 0s 4ms/step - loss: 16.1897 - mae: 16.1897\n",
            "Epoch 31/100\n",
            "4/4 [==============================] - 0s 3ms/step - loss: 7.4491 - mae: 7.4491\n",
            "Epoch 32/100\n",
            "4/4 [==============================] - 0s 4ms/step - loss: 8.2654 - mae: 8.2654\n",
            "Epoch 33/100\n",
            "4/4 [==============================] - 0s 3ms/step - loss: 4.9556 - mae: 4.9556\n",
            "Epoch 34/100\n",
            "4/4 [==============================] - 0s 3ms/step - loss: 6.3750 - mae: 6.3750\n",
            "Epoch 35/100\n",
            "4/4 [==============================] - 0s 3ms/step - loss: 7.2307 - mae: 7.2307\n",
            "Epoch 36/100\n",
            "4/4 [==============================] - 0s 3ms/step - loss: 7.5727 - mae: 7.5727\n",
            "Epoch 37/100\n",
            "4/4 [==============================] - 0s 3ms/step - loss: 3.9167 - mae: 3.9167\n",
            "Epoch 38/100\n",
            "4/4 [==============================] - 0s 5ms/step - loss: 2.7570 - mae: 2.7570\n",
            "Epoch 39/100\n",
            "4/4 [==============================] - 0s 4ms/step - loss: 7.8120 - mae: 7.8120\n",
            "Epoch 40/100\n",
            "4/4 [==============================] - 0s 3ms/step - loss: 7.8793 - mae: 7.8793\n",
            "Epoch 41/100\n",
            "4/4 [==============================] - 0s 5ms/step - loss: 11.0173 - mae: 11.0173\n",
            "Epoch 42/100\n",
            "4/4 [==============================] - 0s 5ms/step - loss: 4.3190 - mae: 4.3190\n",
            "Epoch 43/100\n",
            "4/4 [==============================] - 0s 3ms/step - loss: 1.8118 - mae: 1.8118\n",
            "Epoch 44/100\n",
            "4/4 [==============================] - 0s 5ms/step - loss: 4.3397 - mae: 4.3397\n",
            "Epoch 45/100\n",
            "4/4 [==============================] - 0s 3ms/step - loss: 4.0127 - mae: 4.0127\n",
            "Epoch 46/100\n",
            "4/4 [==============================] - 0s 3ms/step - loss: 2.3437 - mae: 2.3437\n",
            "Epoch 47/100\n",
            "4/4 [==============================] - 0s 3ms/step - loss: 8.2380 - mae: 8.2380\n",
            "Epoch 48/100\n",
            "4/4 [==============================] - 0s 4ms/step - loss: 10.5882 - mae: 10.5882\n",
            "Epoch 49/100\n",
            "4/4 [==============================] - 0s 4ms/step - loss: 13.3227 - mae: 13.3227\n",
            "Epoch 50/100\n",
            "4/4 [==============================] - 0s 4ms/step - loss: 12.5380 - mae: 12.5380\n",
            "Epoch 51/100\n",
            "4/4 [==============================] - 0s 4ms/step - loss: 7.4255 - mae: 7.4255\n",
            "Epoch 52/100\n",
            "4/4 [==============================] - 0s 4ms/step - loss: 10.0054 - mae: 10.0054\n",
            "Epoch 53/100\n",
            "4/4 [==============================] - 0s 4ms/step - loss: 7.4687 - mae: 7.4687\n",
            "Epoch 54/100\n",
            "4/4 [==============================] - 0s 3ms/step - loss: 12.4235 - mae: 12.4235\n",
            "Epoch 55/100\n",
            "4/4 [==============================] - 0s 3ms/step - loss: 8.2186 - mae: 8.2186\n",
            "Epoch 56/100\n",
            "4/4 [==============================] - 0s 3ms/step - loss: 4.9687 - mae: 4.9687\n",
            "Epoch 57/100\n",
            "4/4 [==============================] - 0s 3ms/step - loss: 7.0420 - mae: 7.0420\n",
            "Epoch 58/100\n",
            "4/4 [==============================] - 0s 3ms/step - loss: 4.8544 - mae: 4.8544\n",
            "Epoch 59/100\n",
            "4/4 [==============================] - 0s 4ms/step - loss: 5.5404 - mae: 5.5404\n",
            "Epoch 60/100\n",
            "4/4 [==============================] - 0s 3ms/step - loss: 7.8394 - mae: 7.8394\n",
            "Epoch 61/100\n",
            "4/4 [==============================] - 0s 4ms/step - loss: 3.0456 - mae: 3.0456\n",
            "Epoch 62/100\n",
            "4/4 [==============================] - 0s 3ms/step - loss: 3.6095 - mae: 3.6095\n",
            "Epoch 63/100\n",
            "4/4 [==============================] - 0s 3ms/step - loss: 8.3726 - mae: 8.3726\n",
            "Epoch 64/100\n",
            "4/4 [==============================] - 0s 4ms/step - loss: 3.8023 - mae: 3.8023\n",
            "Epoch 65/100\n",
            "4/4 [==============================] - 0s 4ms/step - loss: 3.5939 - mae: 3.5939\n",
            "Epoch 66/100\n",
            "4/4 [==============================] - 0s 3ms/step - loss: 7.3078 - mae: 7.3078\n",
            "Epoch 67/100\n",
            "4/4 [==============================] - 0s 3ms/step - loss: 8.2854 - mae: 8.2854\n",
            "Epoch 68/100\n",
            "4/4 [==============================] - 0s 3ms/step - loss: 3.3364 - mae: 3.3364\n",
            "Epoch 69/100\n",
            "4/4 [==============================] - 0s 3ms/step - loss: 8.8014 - mae: 8.8014\n",
            "Epoch 70/100\n",
            "4/4 [==============================] - 0s 3ms/step - loss: 9.0636 - mae: 9.0636\n",
            "Epoch 71/100\n",
            "4/4 [==============================] - 0s 3ms/step - loss: 3.7312 - mae: 3.7312\n",
            "Epoch 72/100\n",
            "4/4 [==============================] - 0s 3ms/step - loss: 5.1608 - mae: 5.1608\n",
            "Epoch 73/100\n",
            "4/4 [==============================] - 0s 3ms/step - loss: 8.8924 - mae: 8.8924\n",
            "Epoch 74/100\n",
            "4/4 [==============================] - 0s 4ms/step - loss: 12.0668 - mae: 12.0668\n",
            "Epoch 75/100\n",
            "4/4 [==============================] - 0s 3ms/step - loss: 7.9210 - mae: 7.9210\n",
            "Epoch 76/100\n",
            "4/4 [==============================] - 0s 3ms/step - loss: 10.5018 - mae: 10.5018\n",
            "Epoch 77/100\n",
            "4/4 [==============================] - 0s 3ms/step - loss: 8.9266 - mae: 8.9266\n",
            "Epoch 78/100\n",
            "4/4 [==============================] - 0s 3ms/step - loss: 10.3286 - mae: 10.3286\n",
            "Epoch 79/100\n",
            "4/4 [==============================] - 0s 3ms/step - loss: 7.3968 - mae: 7.3968\n",
            "Epoch 80/100\n",
            "4/4 [==============================] - 0s 5ms/step - loss: 3.9817 - mae: 3.9817\n",
            "Epoch 81/100\n",
            "4/4 [==============================] - 0s 4ms/step - loss: 5.9613 - mae: 5.9613\n",
            "Epoch 82/100\n",
            "4/4 [==============================] - 0s 3ms/step - loss: 1.8807 - mae: 1.8807\n",
            "Epoch 83/100\n",
            "4/4 [==============================] - 0s 3ms/step - loss: 3.4617 - mae: 3.4617\n",
            "Epoch 84/100\n",
            "4/4 [==============================] - 0s 3ms/step - loss: 7.0653 - mae: 7.0653\n",
            "Epoch 85/100\n",
            "4/4 [==============================] - 0s 3ms/step - loss: 5.7396 - mae: 5.7396\n",
            "Epoch 86/100\n",
            "4/4 [==============================] - 0s 4ms/step - loss: 2.3489 - mae: 2.3489\n",
            "Epoch 87/100\n",
            "4/4 [==============================] - 0s 3ms/step - loss: 1.6635 - mae: 1.6635\n",
            "Epoch 88/100\n",
            "4/4 [==============================] - 0s 3ms/step - loss: 2.0867 - mae: 2.0867\n",
            "Epoch 89/100\n",
            "4/4 [==============================] - 0s 5ms/step - loss: 2.4679 - mae: 2.4679\n",
            "Epoch 90/100\n",
            "4/4 [==============================] - 0s 4ms/step - loss: 4.4995 - mae: 4.4995\n",
            "Epoch 91/100\n",
            "4/4 [==============================] - 0s 4ms/step - loss: 7.0682 - mae: 7.0682\n",
            "Epoch 92/100\n",
            "4/4 [==============================] - 0s 4ms/step - loss: 4.6768 - mae: 4.6768\n",
            "Epoch 93/100\n",
            "4/4 [==============================] - 0s 3ms/step - loss: 3.5232 - mae: 3.5232\n",
            "Epoch 94/100\n",
            "4/4 [==============================] - 0s 3ms/step - loss: 3.8933 - mae: 3.8933\n",
            "Epoch 95/100\n",
            "4/4 [==============================] - 0s 4ms/step - loss: 5.7847 - mae: 5.7847\n",
            "Epoch 96/100\n",
            "4/4 [==============================] - 0s 4ms/step - loss: 7.3423 - mae: 7.3423\n",
            "Epoch 97/100\n",
            "4/4 [==============================] - 0s 4ms/step - loss: 4.1154 - mae: 4.1154\n",
            "Epoch 98/100\n",
            "4/4 [==============================] - 0s 4ms/step - loss: 5.7000 - mae: 5.7000\n",
            "Epoch 99/100\n",
            "4/4 [==============================] - 0s 4ms/step - loss: 7.0002 - mae: 7.0002\n",
            "Epoch 100/100\n",
            "4/4 [==============================] - 0s 3ms/step - loss: 5.0254 - mae: 5.0254\n"
          ]
        }
      ]
    },
    {
      "cell_type": "code",
      "metadata": {
        "colab": {
          "base_uri": "https://localhost:8080/"
        },
        "id": "DQxJE2Qmk54q",
        "outputId": "cc0ad9df-9b2b-4147-ecf3-7e4a0015dcf8"
      },
      "source": [
        "# Evaluate the model\n",
        "loss_3 = model_3.evaluate(X_test_normal, y_test)"
      ],
      "execution_count": 13,
      "outputs": [
        {
          "output_type": "stream",
          "name": "stdout",
          "text": [
            "1/1 [==============================] - 0s 104ms/step - loss: 5.2217 - mae: 5.2217\n"
          ]
        }
      ]
    },
    {
      "cell_type": "code",
      "metadata": {
        "colab": {
          "base_uri": "https://localhost:8080/"
        },
        "id": "04RuIE9fcVZd",
        "outputId": "c669bff5-4b92-4c33-a9c1-01289f1737bd"
      },
      "source": [
        "# Let's rebuild the model\n",
        "# Create a model\n",
        "model_4 = tf.keras.Sequential([\n",
        "  tf.keras.layers.Dense(100),\n",
        "  tf.keras.layers.Dense(10),\n",
        "  tf.keras.layers.Dense(10),\n",
        "  tf.keras.layers.Dense(1),\n",
        "])\n",
        "\n",
        "# Compile the model\n",
        "model_4.compile(loss=tf.keras.losses.mae,\n",
        "                optimizer=tf.keras.optimizers.Adam(lr=0.01),\n",
        "                metrics=[\"mae\"])\n",
        "\n",
        "# Fit the model\n",
        "history_4 = model_4.fit(X_train_normal, y_train, epochs=200) # this time, we train the model longer"
      ],
      "execution_count": 14,
      "outputs": [
        {
          "output_type": "stream",
          "name": "stderr",
          "text": [
            "/usr/local/lib/python3.7/dist-packages/keras/optimizer_v2/optimizer_v2.py:356: UserWarning: The `lr` argument is deprecated, use `learning_rate` instead.\n",
            "  \"The `lr` argument is deprecated, use `learning_rate` instead.\")\n"
          ]
        },
        {
          "output_type": "stream",
          "name": "stdout",
          "text": [
            "Epoch 1/200\n",
            "4/4 [==============================] - 0s 4ms/step - loss: 497.8304 - mae: 497.8304\n",
            "Epoch 2/200\n",
            "4/4 [==============================] - 0s 3ms/step - loss: 494.4185 - mae: 494.4185\n",
            "Epoch 3/200\n",
            "4/4 [==============================] - 0s 4ms/step - loss: 486.8353 - mae: 486.8353\n",
            "Epoch 4/200\n",
            "4/4 [==============================] - 0s 3ms/step - loss: 474.0065 - mae: 474.0065\n",
            "Epoch 5/200\n",
            "4/4 [==============================] - 0s 4ms/step - loss: 448.8651 - mae: 448.8651\n",
            "Epoch 6/200\n",
            "4/4 [==============================] - 0s 4ms/step - loss: 408.3349 - mae: 408.3349\n",
            "Epoch 7/200\n",
            "4/4 [==============================] - 0s 3ms/step - loss: 362.3234 - mae: 362.3234\n",
            "Epoch 8/200\n",
            "4/4 [==============================] - 0s 5ms/step - loss: 311.9030 - mae: 311.9030\n",
            "Epoch 9/200\n",
            "4/4 [==============================] - 0s 4ms/step - loss: 299.8024 - mae: 299.8024\n",
            "Epoch 10/200\n",
            "4/4 [==============================] - 0s 4ms/step - loss: 299.3539 - mae: 299.3539\n",
            "Epoch 11/200\n",
            "4/4 [==============================] - 0s 3ms/step - loss: 276.5653 - mae: 276.5653\n",
            "Epoch 12/200\n",
            "4/4 [==============================] - 0s 4ms/step - loss: 262.2094 - mae: 262.2094\n",
            "Epoch 13/200\n",
            "4/4 [==============================] - 0s 6ms/step - loss: 247.4536 - mae: 247.4536\n",
            "Epoch 14/200\n",
            "4/4 [==============================] - 0s 4ms/step - loss: 225.4602 - mae: 225.4602\n",
            "Epoch 15/200\n",
            "4/4 [==============================] - 0s 3ms/step - loss: 199.3410 - mae: 199.3410\n",
            "Epoch 16/200\n",
            "4/4 [==============================] - 0s 3ms/step - loss: 172.8953 - mae: 172.8953\n",
            "Epoch 17/200\n",
            "4/4 [==============================] - 0s 5ms/step - loss: 132.7225 - mae: 132.7225\n",
            "Epoch 18/200\n",
            "4/4 [==============================] - 0s 4ms/step - loss: 90.4621 - mae: 90.4621\n",
            "Epoch 19/200\n",
            "4/4 [==============================] - 0s 3ms/step - loss: 26.3955 - mae: 26.3955\n",
            "Epoch 20/200\n",
            "4/4 [==============================] - 0s 3ms/step - loss: 32.5043 - mae: 32.5043\n",
            "Epoch 21/200\n",
            "4/4 [==============================] - 0s 5ms/step - loss: 31.7205 - mae: 31.7205\n",
            "Epoch 22/200\n",
            "4/4 [==============================] - 0s 3ms/step - loss: 11.8589 - mae: 11.8589\n",
            "Epoch 23/200\n",
            "4/4 [==============================] - 0s 3ms/step - loss: 18.7005 - mae: 18.7005\n",
            "Epoch 24/200\n",
            "4/4 [==============================] - 0s 5ms/step - loss: 7.3743 - mae: 7.3743\n",
            "Epoch 25/200\n",
            "4/4 [==============================] - 0s 5ms/step - loss: 12.0027 - mae: 12.0027\n",
            "Epoch 26/200\n",
            "4/4 [==============================] - 0s 4ms/step - loss: 8.3018 - mae: 8.3018\n",
            "Epoch 27/200\n",
            "4/4 [==============================] - 0s 4ms/step - loss: 9.5050 - mae: 9.5050\n",
            "Epoch 28/200\n",
            "4/4 [==============================] - 0s 4ms/step - loss: 8.6597 - mae: 8.6597\n",
            "Epoch 29/200\n",
            "4/4 [==============================] - 0s 3ms/step - loss: 7.0702 - mae: 7.0702\n",
            "Epoch 30/200\n",
            "4/4 [==============================] - 0s 3ms/step - loss: 11.0240 - mae: 11.0240\n",
            "Epoch 31/200\n",
            "4/4 [==============================] - 0s 3ms/step - loss: 7.8077 - mae: 7.8077\n",
            "Epoch 32/200\n",
            "4/4 [==============================] - 0s 4ms/step - loss: 5.6217 - mae: 5.6217\n",
            "Epoch 33/200\n",
            "4/4 [==============================] - 0s 3ms/step - loss: 9.3145 - mae: 9.3145\n",
            "Epoch 34/200\n",
            "4/4 [==============================] - 0s 3ms/step - loss: 6.0250 - mae: 6.0250\n",
            "Epoch 35/200\n",
            "4/4 [==============================] - 0s 3ms/step - loss: 5.8728 - mae: 5.8728\n",
            "Epoch 36/200\n",
            "4/4 [==============================] - 0s 3ms/step - loss: 12.6560 - mae: 12.6560\n",
            "Epoch 37/200\n",
            "4/4 [==============================] - 0s 4ms/step - loss: 13.0286 - mae: 13.0286\n",
            "Epoch 38/200\n",
            "4/4 [==============================] - 0s 4ms/step - loss: 13.9822 - mae: 13.9822\n",
            "Epoch 39/200\n",
            "4/4 [==============================] - 0s 4ms/step - loss: 7.2790 - mae: 7.2790\n",
            "Epoch 40/200\n",
            "4/4 [==============================] - 0s 3ms/step - loss: 7.4376 - mae: 7.4376\n",
            "Epoch 41/200\n",
            "4/4 [==============================] - 0s 3ms/step - loss: 7.0342 - mae: 7.0342\n",
            "Epoch 42/200\n",
            "4/4 [==============================] - 0s 4ms/step - loss: 3.2212 - mae: 3.2212\n",
            "Epoch 43/200\n",
            "4/4 [==============================] - 0s 4ms/step - loss: 6.7784 - mae: 6.7784\n",
            "Epoch 44/200\n",
            "4/4 [==============================] - 0s 3ms/step - loss: 12.2862 - mae: 12.2862\n",
            "Epoch 45/200\n",
            "4/4 [==============================] - 0s 4ms/step - loss: 9.7119 - mae: 9.7119\n",
            "Epoch 46/200\n",
            "4/4 [==============================] - 0s 3ms/step - loss: 3.3481 - mae: 3.3481\n",
            "Epoch 47/200\n",
            "4/4 [==============================] - 0s 3ms/step - loss: 2.9712 - mae: 2.9712\n",
            "Epoch 48/200\n",
            "4/4 [==============================] - 0s 4ms/step - loss: 4.2741 - mae: 4.2741\n",
            "Epoch 49/200\n",
            "4/4 [==============================] - 0s 4ms/step - loss: 4.5565 - mae: 4.5565\n",
            "Epoch 50/200\n",
            "4/4 [==============================] - 0s 3ms/step - loss: 4.6759 - mae: 4.6759\n",
            "Epoch 51/200\n",
            "4/4 [==============================] - 0s 6ms/step - loss: 6.6353 - mae: 6.6353\n",
            "Epoch 52/200\n",
            "4/4 [==============================] - 0s 3ms/step - loss: 2.7684 - mae: 2.7684\n",
            "Epoch 53/200\n",
            "4/4 [==============================] - 0s 4ms/step - loss: 5.3409 - mae: 5.3409\n",
            "Epoch 54/200\n",
            "4/4 [==============================] - 0s 4ms/step - loss: 11.0617 - mae: 11.0617\n",
            "Epoch 55/200\n",
            "4/4 [==============================] - 0s 3ms/step - loss: 10.7866 - mae: 10.7866\n",
            "Epoch 56/200\n",
            "4/4 [==============================] - 0s 3ms/step - loss: 17.5233 - mae: 17.5233\n",
            "Epoch 57/200\n",
            "4/4 [==============================] - 0s 3ms/step - loss: 16.5365 - mae: 16.5365\n",
            "Epoch 58/200\n",
            "4/4 [==============================] - 0s 4ms/step - loss: 17.2687 - mae: 17.2687\n",
            "Epoch 59/200\n",
            "4/4 [==============================] - 0s 3ms/step - loss: 18.9228 - mae: 18.9228\n",
            "Epoch 60/200\n",
            "4/4 [==============================] - 0s 4ms/step - loss: 5.9822 - mae: 5.9822\n",
            "Epoch 61/200\n",
            "4/4 [==============================] - 0s 4ms/step - loss: 5.1846 - mae: 5.1846\n",
            "Epoch 62/200\n",
            "4/4 [==============================] - 0s 3ms/step - loss: 4.7728 - mae: 4.7728\n",
            "Epoch 63/200\n",
            "4/4 [==============================] - 0s 3ms/step - loss: 4.0683 - mae: 4.0683\n",
            "Epoch 64/200\n",
            "4/4 [==============================] - 0s 3ms/step - loss: 4.3279 - mae: 4.3279\n",
            "Epoch 65/200\n",
            "4/4 [==============================] - 0s 4ms/step - loss: 4.8280 - mae: 4.8280\n",
            "Epoch 66/200\n",
            "4/4 [==============================] - 0s 3ms/step - loss: 5.5001 - mae: 5.5001\n",
            "Epoch 67/200\n",
            "4/4 [==============================] - 0s 4ms/step - loss: 4.3236 - mae: 4.3236\n",
            "Epoch 68/200\n",
            "4/4 [==============================] - 0s 5ms/step - loss: 5.0123 - mae: 5.0123\n",
            "Epoch 69/200\n",
            "4/4 [==============================] - 0s 4ms/step - loss: 2.4589 - mae: 2.4589\n",
            "Epoch 70/200\n",
            "4/4 [==============================] - 0s 3ms/step - loss: 3.1440 - mae: 3.1440\n",
            "Epoch 71/200\n",
            "4/4 [==============================] - 0s 3ms/step - loss: 7.1100 - mae: 7.1100\n",
            "Epoch 72/200\n",
            "4/4 [==============================] - 0s 3ms/step - loss: 6.0696 - mae: 6.0696\n",
            "Epoch 73/200\n",
            "4/4 [==============================] - 0s 3ms/step - loss: 1.7919 - mae: 1.7919\n",
            "Epoch 74/200\n",
            "4/4 [==============================] - 0s 3ms/step - loss: 2.3181 - mae: 2.3181\n",
            "Epoch 75/200\n",
            "4/4 [==============================] - 0s 3ms/step - loss: 3.1450 - mae: 3.1450\n",
            "Epoch 76/200\n",
            "4/4 [==============================] - 0s 3ms/step - loss: 6.5821 - mae: 6.5821\n",
            "Epoch 77/200\n",
            "4/4 [==============================] - 0s 3ms/step - loss: 8.3681 - mae: 8.3681\n",
            "Epoch 78/200\n",
            "4/4 [==============================] - 0s 3ms/step - loss: 3.5482 - mae: 3.5482\n",
            "Epoch 79/200\n",
            "4/4 [==============================] - 0s 5ms/step - loss: 2.2822 - mae: 2.2822\n",
            "Epoch 80/200\n",
            "4/4 [==============================] - 0s 4ms/step - loss: 4.8074 - mae: 4.8074\n",
            "Epoch 81/200\n",
            "4/4 [==============================] - 0s 3ms/step - loss: 6.0542 - mae: 6.0542\n",
            "Epoch 82/200\n",
            "4/4 [==============================] - 0s 3ms/step - loss: 6.9783 - mae: 6.9783\n",
            "Epoch 83/200\n",
            "4/4 [==============================] - 0s 3ms/step - loss: 3.5882 - mae: 3.5882\n",
            "Epoch 84/200\n",
            "4/4 [==============================] - 0s 3ms/step - loss: 2.7595 - mae: 2.7595\n",
            "Epoch 85/200\n",
            "4/4 [==============================] - 0s 4ms/step - loss: 3.1737 - mae: 3.1737\n",
            "Epoch 86/200\n",
            "4/4 [==============================] - 0s 4ms/step - loss: 2.7837 - mae: 2.7837\n",
            "Epoch 87/200\n",
            "4/4 [==============================] - 0s 3ms/step - loss: 2.6846 - mae: 2.6846\n",
            "Epoch 88/200\n",
            "4/4 [==============================] - 0s 3ms/step - loss: 3.5530 - mae: 3.5530\n",
            "Epoch 89/200\n",
            "4/4 [==============================] - 0s 3ms/step - loss: 3.3868 - mae: 3.3868\n",
            "Epoch 90/200\n",
            "4/4 [==============================] - 0s 4ms/step - loss: 3.6956 - mae: 3.6956\n",
            "Epoch 91/200\n",
            "4/4 [==============================] - 0s 4ms/step - loss: 3.8221 - mae: 3.8221\n",
            "Epoch 92/200\n",
            "4/4 [==============================] - 0s 4ms/step - loss: 6.3743 - mae: 6.3743\n",
            "Epoch 93/200\n",
            "4/4 [==============================] - 0s 3ms/step - loss: 5.0760 - mae: 5.0760\n",
            "Epoch 94/200\n",
            "4/4 [==============================] - 0s 3ms/step - loss: 7.8864 - mae: 7.8864\n",
            "Epoch 95/200\n",
            "4/4 [==============================] - 0s 4ms/step - loss: 9.7676 - mae: 9.7676\n",
            "Epoch 96/200\n",
            "4/4 [==============================] - 0s 4ms/step - loss: 9.1708 - mae: 9.1708\n",
            "Epoch 97/200\n",
            "4/4 [==============================] - 0s 3ms/step - loss: 5.6526 - mae: 5.6526\n",
            "Epoch 98/200\n",
            "4/4 [==============================] - 0s 4ms/step - loss: 3.3608 - mae: 3.3608\n",
            "Epoch 99/200\n",
            "4/4 [==============================] - 0s 4ms/step - loss: 4.1505 - mae: 4.1505\n",
            "Epoch 100/200\n",
            "4/4 [==============================] - 0s 4ms/step - loss: 3.9655 - mae: 3.9655\n",
            "Epoch 101/200\n",
            "4/4 [==============================] - 0s 5ms/step - loss: 1.8903 - mae: 1.8903\n",
            "Epoch 102/200\n",
            "4/4 [==============================] - 0s 7ms/step - loss: 7.9027 - mae: 7.9027\n",
            "Epoch 103/200\n",
            "4/4 [==============================] - 0s 3ms/step - loss: 6.2579 - mae: 6.2579\n",
            "Epoch 104/200\n",
            "4/4 [==============================] - 0s 5ms/step - loss: 7.2284 - mae: 7.2284\n",
            "Epoch 105/200\n",
            "4/4 [==============================] - 0s 3ms/step - loss: 7.6368 - mae: 7.6368\n",
            "Epoch 106/200\n",
            "4/4 [==============================] - 0s 5ms/step - loss: 5.0101 - mae: 5.0101\n",
            "Epoch 107/200\n",
            "4/4 [==============================] - 0s 4ms/step - loss: 4.8144 - mae: 4.8144\n",
            "Epoch 108/200\n",
            "4/4 [==============================] - 0s 4ms/step - loss: 4.2520 - mae: 4.2520\n",
            "Epoch 109/200\n",
            "4/4 [==============================] - 0s 3ms/step - loss: 5.2226 - mae: 5.2226\n",
            "Epoch 110/200\n",
            "4/4 [==============================] - 0s 3ms/step - loss: 6.3761 - mae: 6.3761\n",
            "Epoch 111/200\n",
            "4/4 [==============================] - 0s 3ms/step - loss: 7.8999 - mae: 7.8999\n",
            "Epoch 112/200\n",
            "4/4 [==============================] - 0s 3ms/step - loss: 8.4927 - mae: 8.4927\n",
            "Epoch 113/200\n",
            "4/4 [==============================] - 0s 4ms/step - loss: 9.7424 - mae: 9.7424\n",
            "Epoch 114/200\n",
            "4/4 [==============================] - 0s 4ms/step - loss: 3.7985 - mae: 3.7985\n",
            "Epoch 115/200\n",
            "4/4 [==============================] - 0s 3ms/step - loss: 1.9658 - mae: 1.9658\n",
            "Epoch 116/200\n",
            "4/4 [==============================] - 0s 5ms/step - loss: 3.3514 - mae: 3.3514\n",
            "Epoch 117/200\n",
            "4/4 [==============================] - 0s 4ms/step - loss: 2.9113 - mae: 2.9113\n",
            "Epoch 118/200\n",
            "4/4 [==============================] - 0s 4ms/step - loss: 4.9717 - mae: 4.9717\n",
            "Epoch 119/200\n",
            "4/4 [==============================] - 0s 3ms/step - loss: 6.8934 - mae: 6.8934\n",
            "Epoch 120/200\n",
            "4/4 [==============================] - 0s 4ms/step - loss: 6.2780 - mae: 6.2780\n",
            "Epoch 121/200\n",
            "4/4 [==============================] - 0s 5ms/step - loss: 4.1581 - mae: 4.1581\n",
            "Epoch 122/200\n",
            "4/4 [==============================] - 0s 4ms/step - loss: 4.5969 - mae: 4.5969\n",
            "Epoch 123/200\n",
            "4/4 [==============================] - 0s 4ms/step - loss: 5.1022 - mae: 5.1022\n",
            "Epoch 124/200\n",
            "4/4 [==============================] - 0s 4ms/step - loss: 8.1235 - mae: 8.1235\n",
            "Epoch 125/200\n",
            "4/4 [==============================] - 0s 4ms/step - loss: 7.1331 - mae: 7.1331\n",
            "Epoch 126/200\n",
            "4/4 [==============================] - 0s 3ms/step - loss: 4.4568 - mae: 4.4568\n",
            "Epoch 127/200\n",
            "4/4 [==============================] - 0s 3ms/step - loss: 6.6436 - mae: 6.6436\n",
            "Epoch 128/200\n",
            "4/4 [==============================] - 0s 6ms/step - loss: 6.0222 - mae: 6.0222\n",
            "Epoch 129/200\n",
            "4/4 [==============================] - 0s 4ms/step - loss: 6.0726 - mae: 6.0726\n",
            "Epoch 130/200\n",
            "4/4 [==============================] - 0s 3ms/step - loss: 2.2106 - mae: 2.2106\n",
            "Epoch 131/200\n",
            "4/4 [==============================] - 0s 3ms/step - loss: 3.7707 - mae: 3.7707\n",
            "Epoch 132/200\n",
            "4/4 [==============================] - 0s 3ms/step - loss: 3.6244 - mae: 3.6244\n",
            "Epoch 133/200\n",
            "4/4 [==============================] - 0s 3ms/step - loss: 2.3126 - mae: 2.3126\n",
            "Epoch 134/200\n",
            "4/4 [==============================] - 0s 3ms/step - loss: 5.4704 - mae: 5.4704\n",
            "Epoch 135/200\n",
            "4/4 [==============================] - 0s 3ms/step - loss: 9.1625 - mae: 9.1625\n",
            "Epoch 136/200\n",
            "4/4 [==============================] - 0s 3ms/step - loss: 13.2419 - mae: 13.2419\n",
            "Epoch 137/200\n",
            "4/4 [==============================] - 0s 3ms/step - loss: 11.1076 - mae: 11.1076\n",
            "Epoch 138/200\n",
            "4/4 [==============================] - 0s 3ms/step - loss: 8.4745 - mae: 8.4745\n",
            "Epoch 139/200\n",
            "4/4 [==============================] - 0s 3ms/step - loss: 8.9994 - mae: 8.9994\n",
            "Epoch 140/200\n",
            "4/4 [==============================] - 0s 3ms/step - loss: 9.5303 - mae: 9.5303\n",
            "Epoch 141/200\n",
            "4/4 [==============================] - 0s 4ms/step - loss: 5.5002 - mae: 5.5002\n",
            "Epoch 142/200\n",
            "4/4 [==============================] - 0s 3ms/step - loss: 5.9325 - mae: 5.9325\n",
            "Epoch 143/200\n",
            "4/4 [==============================] - 0s 5ms/step - loss: 5.8935 - mae: 5.8935\n",
            "Epoch 144/200\n",
            "4/4 [==============================] - 0s 4ms/step - loss: 5.0956 - mae: 5.0956\n",
            "Epoch 145/200\n",
            "4/4 [==============================] - 0s 4ms/step - loss: 6.7460 - mae: 6.7460\n",
            "Epoch 146/200\n",
            "4/4 [==============================] - 0s 4ms/step - loss: 5.1986 - mae: 5.1986\n",
            "Epoch 147/200\n",
            "4/4 [==============================] - 0s 3ms/step - loss: 5.3514 - mae: 5.3514\n",
            "Epoch 148/200\n",
            "4/4 [==============================] - 0s 3ms/step - loss: 8.7692 - mae: 8.7692\n",
            "Epoch 149/200\n",
            "4/4 [==============================] - 0s 3ms/step - loss: 8.4101 - mae: 8.4101\n",
            "Epoch 150/200\n",
            "4/4 [==============================] - 0s 4ms/step - loss: 11.3762 - mae: 11.3762\n",
            "Epoch 151/200\n",
            "4/4 [==============================] - 0s 3ms/step - loss: 4.0907 - mae: 4.0907\n",
            "Epoch 152/200\n",
            "4/4 [==============================] - 0s 4ms/step - loss: 3.0107 - mae: 3.0107\n",
            "Epoch 153/200\n",
            "4/4 [==============================] - 0s 4ms/step - loss: 2.1514 - mae: 2.1514\n",
            "Epoch 154/200\n",
            "4/4 [==============================] - 0s 4ms/step - loss: 1.2538 - mae: 1.2538\n",
            "Epoch 155/200\n",
            "4/4 [==============================] - 0s 5ms/step - loss: 3.0228 - mae: 3.0228\n",
            "Epoch 156/200\n",
            "4/4 [==============================] - 0s 4ms/step - loss: 4.7940 - mae: 4.7940\n",
            "Epoch 157/200\n",
            "4/4 [==============================] - 0s 5ms/step - loss: 9.1971 - mae: 9.1971\n",
            "Epoch 158/200\n",
            "4/4 [==============================] - 0s 4ms/step - loss: 13.6424 - mae: 13.6424\n",
            "Epoch 159/200\n",
            "4/4 [==============================] - 0s 4ms/step - loss: 16.7704 - mae: 16.7704\n",
            "Epoch 160/200\n",
            "4/4 [==============================] - 0s 3ms/step - loss: 13.3748 - mae: 13.3748\n",
            "Epoch 161/200\n",
            "4/4 [==============================] - 0s 4ms/step - loss: 12.2349 - mae: 12.2349\n",
            "Epoch 162/200\n",
            "4/4 [==============================] - 0s 4ms/step - loss: 11.8311 - mae: 11.8311\n",
            "Epoch 163/200\n",
            "4/4 [==============================] - 0s 3ms/step - loss: 10.7106 - mae: 10.7106\n",
            "Epoch 164/200\n",
            "4/4 [==============================] - 0s 5ms/step - loss: 16.9640 - mae: 16.9640\n",
            "Epoch 165/200\n",
            "4/4 [==============================] - 0s 4ms/step - loss: 14.4195 - mae: 14.4195\n",
            "Epoch 166/200\n",
            "4/4 [==============================] - 0s 3ms/step - loss: 10.8561 - mae: 10.8561\n",
            "Epoch 167/200\n",
            "4/4 [==============================] - 0s 4ms/step - loss: 6.1024 - mae: 6.1024\n",
            "Epoch 168/200\n",
            "4/4 [==============================] - 0s 6ms/step - loss: 2.6389 - mae: 2.6389\n",
            "Epoch 169/200\n",
            "4/4 [==============================] - 0s 5ms/step - loss: 2.3798 - mae: 2.3798\n",
            "Epoch 170/200\n",
            "4/4 [==============================] - 0s 4ms/step - loss: 3.8540 - mae: 3.8540\n",
            "Epoch 171/200\n",
            "4/4 [==============================] - 0s 5ms/step - loss: 2.3988 - mae: 2.3988\n",
            "Epoch 172/200\n",
            "4/4 [==============================] - 0s 4ms/step - loss: 1.8953 - mae: 1.8953\n",
            "Epoch 173/200\n",
            "4/4 [==============================] - 0s 5ms/step - loss: 3.6012 - mae: 3.6012\n",
            "Epoch 174/200\n",
            "4/4 [==============================] - 0s 4ms/step - loss: 2.0688 - mae: 2.0688\n",
            "Epoch 175/200\n",
            "4/4 [==============================] - 0s 5ms/step - loss: 2.6079 - mae: 2.6079\n",
            "Epoch 176/200\n",
            "4/4 [==============================] - 0s 3ms/step - loss: 1.9305 - mae: 1.9305\n",
            "Epoch 177/200\n",
            "4/4 [==============================] - 0s 4ms/step - loss: 2.7277 - mae: 2.7277\n",
            "Epoch 178/200\n",
            "4/4 [==============================] - 0s 4ms/step - loss: 4.7534 - mae: 4.7534\n",
            "Epoch 179/200\n",
            "4/4 [==============================] - 0s 4ms/step - loss: 4.7351 - mae: 4.7351\n",
            "Epoch 180/200\n",
            "4/4 [==============================] - 0s 4ms/step - loss: 5.9065 - mae: 5.9065\n",
            "Epoch 181/200\n",
            "4/4 [==============================] - 0s 5ms/step - loss: 5.5836 - mae: 5.5836\n",
            "Epoch 182/200\n",
            "4/4 [==============================] - 0s 5ms/step - loss: 2.5836 - mae: 2.5836\n",
            "Epoch 183/200\n",
            "4/4 [==============================] - 0s 4ms/step - loss: 2.3819 - mae: 2.3819\n",
            "Epoch 184/200\n",
            "4/4 [==============================] - 0s 4ms/step - loss: 5.1538 - mae: 5.1538\n",
            "Epoch 185/200\n",
            "4/4 [==============================] - 0s 4ms/step - loss: 1.8679 - mae: 1.8679\n",
            "Epoch 186/200\n",
            "4/4 [==============================] - 0s 4ms/step - loss: 2.0717 - mae: 2.0717\n",
            "Epoch 187/200\n",
            "4/4 [==============================] - 0s 3ms/step - loss: 2.2127 - mae: 2.2127\n",
            "Epoch 188/200\n",
            "4/4 [==============================] - 0s 4ms/step - loss: 1.9868 - mae: 1.9868\n",
            "Epoch 189/200\n",
            "4/4 [==============================] - 0s 4ms/step - loss: 2.2970 - mae: 2.2970\n",
            "Epoch 190/200\n",
            "4/4 [==============================] - 0s 4ms/step - loss: 4.5661 - mae: 4.5661\n",
            "Epoch 191/200\n",
            "4/4 [==============================] - 0s 3ms/step - loss: 6.7990 - mae: 6.7990\n",
            "Epoch 192/200\n",
            "4/4 [==============================] - 0s 4ms/step - loss: 7.6214 - mae: 7.6214\n",
            "Epoch 193/200\n",
            "4/4 [==============================] - 0s 4ms/step - loss: 4.9836 - mae: 4.9836\n",
            "Epoch 194/200\n",
            "4/4 [==============================] - 0s 6ms/step - loss: 4.5500 - mae: 4.5500\n",
            "Epoch 195/200\n",
            "4/4 [==============================] - 0s 5ms/step - loss: 7.0045 - mae: 7.0045\n",
            "Epoch 196/200\n",
            "4/4 [==============================] - 0s 3ms/step - loss: 5.6266 - mae: 5.6266\n",
            "Epoch 197/200\n",
            "4/4 [==============================] - 0s 3ms/step - loss: 3.9481 - mae: 3.9481\n",
            "Epoch 198/200\n",
            "4/4 [==============================] - 0s 4ms/step - loss: 6.0401 - mae: 6.0401\n",
            "Epoch 199/200\n",
            "4/4 [==============================] - 0s 5ms/step - loss: 5.6264 - mae: 5.6264\n",
            "Epoch 200/200\n",
            "4/4 [==============================] - 0s 3ms/step - loss: 4.9583 - mae: 4.9583\n"
          ]
        }
      ]
    },
    {
      "cell_type": "code",
      "metadata": {
        "colab": {
          "base_uri": "https://localhost:8080/"
        },
        "id": "Jcr8Ov_sk_--",
        "outputId": "37d51a62-d64a-4731-9899-10b0b5dd48ef"
      },
      "source": [
        "# Evaluate the model\n",
        "loss_4 = model_4.evaluate(X_test_normal, y_test)"
      ],
      "execution_count": 15,
      "outputs": [
        {
          "output_type": "stream",
          "name": "stdout",
          "text": [
            "1/1 [==============================] - 0s 99ms/step - loss: 7.5928 - mae: 7.5928\n"
          ]
        }
      ]
    },
    {
      "cell_type": "code",
      "metadata": {
        "colab": {
          "base_uri": "https://localhost:8080/"
        },
        "id": "3YjuYR1Pqndv",
        "outputId": "1fa01b0b-8dff-4f2e-fd6a-827d3f785497"
      },
      "source": [
        "X_train[0]"
      ],
      "execution_count": 16,
      "outputs": [
        {
          "output_type": "execute_result",
          "data": {
            "text/plain": [
              "120"
            ]
          },
          "metadata": {},
          "execution_count": 16
        }
      ]
    },
    {
      "cell_type": "code",
      "metadata": {
        "colab": {
          "base_uri": "https://localhost:8080/"
        },
        "id": "Bx4zIoiOl-Ry",
        "outputId": "e7a16b7a-08a2-49bf-e403-fca1e7c18783"
      },
      "source": [
        "X_train_normal[0], y_train[0]"
      ],
      "execution_count": 17,
      "outputs": [
        {
          "output_type": "execute_result",
          "data": {
            "text/plain": [
              "(array([0.40251572]), 250)"
            ]
          },
          "metadata": {},
          "execution_count": 17
        }
      ]
    },
    {
      "cell_type": "code",
      "metadata": {
        "colab": {
          "base_uri": "https://localhost:8080/"
        },
        "id": "PzwrHee-mdDo",
        "outputId": "0d4c7288-fd8e-4b12-9366-ef04c717c74f"
      },
      "source": [
        "model_4.predict([[0.40251572]])"
      ],
      "execution_count": 88,
      "outputs": [
        {
          "output_type": "execute_result",
          "data": {
            "text/plain": [
              "array([[243.85916]], dtype=float32)"
            ]
          },
          "metadata": {},
          "execution_count": 88
        }
      ]
    },
    {
      "cell_type": "code",
      "metadata": {
        "colab": {
          "base_uri": "https://localhost:8080/"
        },
        "id": "43mBVtaClvZR",
        "outputId": "a1198e95-cad8-4ed3-cf03-3a6fc905c635"
      },
      "source": [
        "# Let's make some predictions\n",
        "y_preds = model_4.predict(X_test_normal)\n",
        "y_preds[:10]"
      ],
      "execution_count": 19,
      "outputs": [
        {
          "output_type": "execute_result",
          "data": {
            "text/plain": [
              "array([[ 977.752   ],\n",
              "       [ 382.7038  ],\n",
              "       [ 848.82495 ],\n",
              "       [  65.344734],\n",
              "       [ 700.0629  ],\n",
              "       [-182.59209 ],\n",
              "       [ 571.1358  ],\n",
              "       [ -83.417366],\n",
              "       [1106.6792  ],\n",
              "       [ 581.0532  ]], dtype=float32)"
            ]
          },
          "metadata": {},
          "execution_count": 19
        }
      ]
    },
    {
      "cell_type": "markdown",
      "metadata": {
        "id": "2c7F1UXGlAGZ"
      },
      "source": [
        "## Comparing the losses"
      ]
    },
    {
      "cell_type": "code",
      "metadata": {
        "colab": {
          "base_uri": "https://localhost:8080/",
          "height": 172
        },
        "id": "BHO4a134lAKf",
        "outputId": "a3f04472-ffa4-462b-9f6d-88889ab8aafd"
      },
      "source": [
        "# Let's compare our model's results using pandas DataFrame\n",
        "import pandas as pd\n",
        "\n",
        "model_results = [[\"model_1\", str(loss_1[0])[:5]],\n",
        "                 [\"model_2\", str(loss_2[0])[:5]],\n",
        "                 [\"model_3\", str(loss_3[0])[:5]],\n",
        "                 [\"model_4\", str(loss_4[0])[:5]]]\n",
        "all_results = pd.DataFrame(model_results, columns=[\"model\", \"mae\"])\n",
        "all_results"
      ],
      "execution_count": 20,
      "outputs": [
        {
          "output_type": "execute_result",
          "data": {
            "text/html": [
              "<div>\n",
              "<style scoped>\n",
              "    .dataframe tbody tr th:only-of-type {\n",
              "        vertical-align: middle;\n",
              "    }\n",
              "\n",
              "    .dataframe tbody tr th {\n",
              "        vertical-align: top;\n",
              "    }\n",
              "\n",
              "    .dataframe thead th {\n",
              "        text-align: right;\n",
              "    }\n",
              "</style>\n",
              "<table border=\"1\" class=\"dataframe\">\n",
              "  <thead>\n",
              "    <tr style=\"text-align: right;\">\n",
              "      <th></th>\n",
              "      <th>model</th>\n",
              "      <th>mae</th>\n",
              "    </tr>\n",
              "  </thead>\n",
              "  <tbody>\n",
              "    <tr>\n",
              "      <th>0</th>\n",
              "      <td>model_1</td>\n",
              "      <td>334.2</td>\n",
              "    </tr>\n",
              "    <tr>\n",
              "      <th>1</th>\n",
              "      <td>model_2</td>\n",
              "      <td>158.9</td>\n",
              "    </tr>\n",
              "    <tr>\n",
              "      <th>2</th>\n",
              "      <td>model_3</td>\n",
              "      <td>5.221</td>\n",
              "    </tr>\n",
              "    <tr>\n",
              "      <th>3</th>\n",
              "      <td>model_4</td>\n",
              "      <td>7.592</td>\n",
              "    </tr>\n",
              "  </tbody>\n",
              "</table>\n",
              "</div>"
            ],
            "text/plain": [
              "     model    mae\n",
              "0  model_1  334.2\n",
              "1  model_2  158.9\n",
              "2  model_3  5.221\n",
              "3  model_4  7.592"
            ]
          },
          "metadata": {},
          "execution_count": 20
        }
      ]
    },
    {
      "cell_type": "markdown",
      "metadata": {
        "id": "EHQZZmSkpLmm"
      },
      "source": [
        "Looks like `model_4` performed the best"
      ]
    },
    {
      "cell_type": "code",
      "metadata": {
        "colab": {
          "base_uri": "https://localhost:8080/"
        },
        "id": "qQJ4IqEklANm",
        "outputId": "3b08d862-627b-4536-e2fc-21c42a4ff06c"
      },
      "source": [
        "model_4.summary()"
      ],
      "execution_count": 21,
      "outputs": [
        {
          "output_type": "stream",
          "name": "stdout",
          "text": [
            "Model: \"sequential_3\"\n",
            "_________________________________________________________________\n",
            "Layer (type)                 Output Shape              Param #   \n",
            "=================================================================\n",
            "dense_12 (Dense)             (None, 100)               200       \n",
            "_________________________________________________________________\n",
            "dense_13 (Dense)             (None, 10)                1010      \n",
            "_________________________________________________________________\n",
            "dense_14 (Dense)             (None, 10)                110       \n",
            "_________________________________________________________________\n",
            "dense_15 (Dense)             (None, 1)                 11        \n",
            "=================================================================\n",
            "Total params: 1,331\n",
            "Trainable params: 1,331\n",
            "Non-trainable params: 0\n",
            "_________________________________________________________________\n"
          ]
        }
      ]
    },
    {
      "cell_type": "markdown",
      "metadata": {
        "id": "z9p1hjoYqMsl"
      },
      "source": [
        "## Visualizing our model's predictions"
      ]
    },
    {
      "cell_type": "code",
      "metadata": {
        "colab": {
          "base_uri": "https://localhost:8080/",
          "height": 428
        },
        "id": "8GzD83HulAQw",
        "outputId": "a3503068-124c-426c-c267-bef45056745e"
      },
      "source": [
        "plt.figure(figsize=(10,7))\n",
        "# Plot test data in black\n",
        "plt.scatter(X_test_normal, y_test, c=\"black\", label=\"Testing data\")\n",
        "# Plot models predictions in blue\n",
        "plt.scatter(X_test_normal, y_preds, c=\"b\", label=\"Predictions\")\n",
        "# Show the legend\n",
        "plt.legend();"
      ],
      "execution_count": 22,
      "outputs": [
        {
          "output_type": "display_data",
          "data": {
            "image/png": "[encoded data removed]",
            "text/plain": [
              "<Figure size 720x504 with 1 Axes>"
            ]
          },
          "metadata": {
            "needs_background": "light"
          }
        }
      ]
    },
    {
      "cell_type": "markdown",
      "metadata": {
        "id": "a0VwlXe5lATo"
      },
      "source": [
        "# Boston pricing dataset"
      ]
    },
    {
      "cell_type": "code",
      "metadata": {
        "id": "SnT7mdidr02z"
      },
      "source": [
        "dataset = tf.keras.datasets.boston_housing"
      ],
      "execution_count": 34,
      "outputs": []
    },
    {
      "cell_type": "code",
      "metadata": {
        "id": "8GwQnI4pr06E"
      },
      "source": [
        "(train_data, train_labels), (test_data, test_labels) = dataset.load_data()"
      ],
      "execution_count": 35,
      "outputs": []
    },
    {
      "cell_type": "code",
      "metadata": {
        "colab": {
          "base_uri": "https://localhost:8080/"
        },
        "id": "-40ajwUIr09C",
        "outputId": "cdc37bcd-1c99-41b2-ce34-dd79b3d40c6a"
      },
      "source": [
        "train_data[0], train_labels[0]"
      ],
      "execution_count": 43,
      "outputs": [
        {
          "output_type": "execute_result",
          "data": {
            "text/plain": [
              "(array([  1.23247,   0.     ,   8.14   ,   0.     ,   0.538  ,   6.142  ,\n",
              "         91.7    ,   3.9769 ,   4.     , 307.     ,  21.     , 396.9    ,\n",
              "         18.72   ]), 15.2)"
            ]
          },
          "metadata": {},
          "execution_count": 43
        }
      ]
    },
    {
      "cell_type": "code",
      "metadata": {
        "id": "-YLn_tf0nc4z"
      },
      "source": [
        "# Normalize the data\n",
        "from sklearn.preprocessing import MinMaxScaler\n",
        "\n",
        "scaler = MinMaxScaler()\n",
        "\n",
        "scaler.fit(train_data)\n",
        "\n",
        "train_data_normal = scaler.transform(train_data)\n",
        "test_data_normal = scaler.transform(test_data)"
      ],
      "execution_count": 45,
      "outputs": []
    },
    {
      "cell_type": "code",
      "metadata": {
        "colab": {
          "base_uri": "https://localhost:8080/"
        },
        "id": "_yLFOXWPpa2V",
        "outputId": "01a32e73-7a2e-4210-b43b-6bf0de83d4dd"
      },
      "source": [
        "train_data_normal[0]"
      ],
      "execution_count": 47,
      "outputs": [
        {
          "output_type": "execute_result",
          "data": {
            "text/plain": [
              "(array([0.01378163, 0.        , 0.28152493, 0.        , 0.31481481,\n",
              "        0.49980635, 0.91452111, 0.29719123, 0.13043478, 0.22753346,\n",
              "        0.89361702, 1.        , 0.46881898]),)"
            ]
          },
          "metadata": {},
          "execution_count": 47
        }
      ]
    },
    {
      "cell_type": "code",
      "metadata": {
        "colab": {
          "base_uri": "https://localhost:8080/"
        },
        "id": "4o08_H1tpa58",
        "outputId": "51035138-acb5-4104-e6be-8d58b7280148"
      },
      "source": [
        "test_data_normal[0]"
      ],
      "execution_count": 48,
      "outputs": [
        {
          "output_type": "execute_result",
          "data": {
            "text/plain": [
              "array([0.20319551, 0.        , 0.64662757, 0.        , 0.60493827,\n",
              "       0.55635167, 1.        , 0.07359588, 1.        , 0.91395793,\n",
              "       0.80851064, 0.06790559, 0.75386313])"
            ]
          },
          "metadata": {},
          "execution_count": 48
        }
      ]
    },
    {
      "cell_type": "code",
      "metadata": {
        "colab": {
          "base_uri": "https://localhost:8080/"
        },
        "id": "sJzbfFDJwW13",
        "outputId": "37921d7f-73e6-48b2-8f97-1893d7ee287f"
      },
      "source": [
        "len(train_data_normal), len(train_labels), len(test_data_normal), len(test_labels)"
      ],
      "execution_count": 56,
      "outputs": [
        {
          "output_type": "execute_result",
          "data": {
            "text/plain": [
              "(404, 404, 102, 102)"
            ]
          },
          "metadata": {},
          "execution_count": 56
        }
      ]
    },
    {
      "cell_type": "code",
      "metadata": {
        "colab": {
          "base_uri": "https://localhost:8080/"
        },
        "id": "55LPG5CCpa9T",
        "outputId": "039d29ba-bf3c-495a-9f03-b6c5519d9fbb"
      },
      "source": [
        "# Create a model - Let's use model_4 from the last regression project (we'll call it model_5 from now on)\n",
        "model_5 = tf.keras.Sequential([\n",
        "  tf.keras.layers.Dense(100),\n",
        "  tf.keras.layers.Dense(10),\n",
        "  tf.keras.layers.Dense(10),\n",
        "  tf.keras.layers.Dense(1),\n",
        "])\n",
        "\n",
        "# Compile the model\n",
        "model_5.compile(loss=tf.keras.losses.mae,\n",
        "                optimizer=tf.keras.optimizers.Adam(lr=0.01),\n",
        "                metrics=[\"mae\"])\n",
        "\n",
        "# Fit the model\n",
        "history_5 = model_5.fit(train_data_normal, train_labels, epochs=200, verbose=0)"
      ],
      "execution_count": 49,
      "outputs": [
        {
          "output_type": "stream",
          "name": "stderr",
          "text": [
            "/usr/local/lib/python3.7/dist-packages/keras/optimizer_v2/optimizer_v2.py:356: UserWarning: The `lr` argument is deprecated, use `learning_rate` instead.\n",
            "  \"The `lr` argument is deprecated, use `learning_rate` instead.\")\n"
          ]
        }
      ]
    },
    {
      "cell_type": "code",
      "metadata": {
        "colab": {
          "base_uri": "https://localhost:8080/"
        },
        "id": "kZJj0txbpbAb",
        "outputId": "c8c1f825-19ac-4edb-af3a-865ae069241e"
      },
      "source": [
        "# Evaluate the model\n",
        "model_5.evaluate(test_data_normal, test_labels)"
      ],
      "execution_count": 50,
      "outputs": [
        {
          "output_type": "stream",
          "name": "stdout",
          "text": [
            "WARNING:tensorflow:5 out of the last 5 calls to <function Model.make_test_function.<locals>.test_function at 0x7fc5f8c3c680> triggered tf.function retracing. Tracing is expensive and the excessive number of tracings could be due to (1) creating @tf.function repeatedly in a loop, (2) passing tensors with different shapes, (3) passing Python objects instead of tensors. For (1), please define your @tf.function outside of the loop. For (2), @tf.function has experimental_relax_shapes=True option that relaxes argument shapes that can avoid unnecessary retracing. For (3), please refer to https://www.tensorflow.org/guide/function#controlling_retracing and https://www.tensorflow.org/api_docs/python/tf/function for  more details.\n",
            "4/4 [==============================] - 0s 3ms/step - loss: 3.5498 - mae: 3.5498\n"
          ]
        },
        {
          "output_type": "execute_result",
          "data": {
            "text/plain": [
              "[3.5498266220092773, 3.5498266220092773]"
            ]
          },
          "metadata": {},
          "execution_count": 50
        }
      ]
    },
    {
      "cell_type": "code",
      "metadata": {
        "colab": {
          "base_uri": "https://localhost:8080/",
          "height": 280
        },
        "id": "KGpjZYizvEng",
        "outputId": "2cba8a49-0511-4a6d-9f53-62f48ae8c9bd"
      },
      "source": [
        "# Plot history (also known as a loss curve or a training curve)\n",
        "pd.DataFrame(history_5.history).plot()\n",
        "plt.ylabel(\"loss\")\n",
        "plt.xlabel(\"epochs\");"
      ],
      "execution_count": 52,
      "outputs": [
        {
          "output_type": "display_data",
          "data": {
            "image/png": "[encoded data removed]",
            "text/plain": [
              "<Figure size 432x288 with 1 Axes>"
            ]
          },
          "metadata": {
            "needs_background": "light"
          }
        }
      ]
    },
    {
      "cell_type": "code",
      "metadata": {
        "id": "z_UwSyMAv_kv"
      },
      "source": [
        "y_preds_5 = model_5.predict(test_data_normal)"
      ],
      "execution_count": 54,
      "outputs": []
    },
    {
      "cell_type": "code",
      "metadata": {
        "colab": {
          "base_uri": "https://localhost:8080/"
        },
        "id": "4BFyLxk514IO",
        "outputId": "d8ae8114-c0f3-486e-dae6-d728cf32f32d"
      },
      "source": [
        "a = y_preds_5[0] + 2\n",
        "float(a)"
      ],
      "execution_count": 80,
      "outputs": [
        {
          "output_type": "execute_result",
          "data": {
            "text/plain": [
              "11.223134994506836"
            ]
          },
          "metadata": {},
          "execution_count": 80
        }
      ]
    },
    {
      "cell_type": "code",
      "metadata": {
        "colab": {
          "base_uri": "https://localhost:8080/"
        },
        "id": "bp_73s6i1E8q",
        "outputId": "d57fc80a-b63a-4efd-ce24-f5e95bc30eae"
      },
      "source": [
        "from random import randint\n",
        "for i in range(10):\n",
        "  i = randint(1,50)\n",
        "  print(\"Predicted: \" + str(y_preds_5[i])[1:5] + \", Actual: \" + str(test_labels[i]))"
      ],
      "execution_count": 87,
      "outputs": [
        {
          "output_type": "stream",
          "name": "stdout",
          "text": [
            "Predicted: 19.8, Actual: 19.0\n",
            "Predicted: 18.4, Actual: 20.5\n",
            "Predicted: 13.8, Actual: 20.8\n",
            "Predicted: 15.7, Actual: 17.8\n",
            "Predicted: 14.2, Actual: 20.1\n",
            "Predicted: 19.4, Actual: 22.0\n",
            "Predicted: 13.1, Actual: 18.5\n",
            "Predicted: 25.4, Actual: 28.4\n",
            "Predicted: 15.7, Actual: 17.8\n",
            "Predicted: 11.7, Actual: 9.5\n"
          ]
        }
      ]
    }
  ]
}