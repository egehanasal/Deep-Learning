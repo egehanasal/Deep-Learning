{
  "nbformat": 4,
  "nbformat_minor": 0,
  "metadata": {
    "colab": {
      "name": "NLP_Project_SkimLit.ipynb",
      "provenance": [],
      "collapsed_sections": []
    },
    "kernelspec": {
      "name": "python3",
      "display_name": "Python 3"
    },
    "language_info": {
      "name": "python"
    },
    "accelerator": "GPU"
  },
  "cells": [
    {
      "cell_type": "markdown",
      "metadata": {
        "id": "9aZ4vqFrcis-"
      },
      "source": [
        "# SkimLit 📃\n",
        "\n",
        "The purpose of this project is to build an NLP model to make reading medical abstracts easier.\n",
        "\n",
        "The paper we're replicating (the source of the dataset we'll be using) is avaliable here: https://arxiv.org/abs/1710.06071"
      ]
    },
    {
      "cell_type": "markdown",
      "metadata": {
        "id": "Y5RGAPj8m-kn"
      },
      "source": [
        "## Get data\n",
        "\n",
        "Since we'll be replicating the paper above (PubMed 200k RCT), let's download the dataset they used.\n",
        "\n",
        "We can do so from the author's Github: https://github.com/Franck-Dernoncourt/pubmed-rct"
      ]
    },
    {
      "cell_type": "code",
      "metadata": {
        "colab": {
          "base_uri": "https://localhost:8080/"
        },
        "id": "bK3bwzktm-iQ",
        "outputId": "125ac535-17c1-4a4c-e295-c3ecca1109cb"
      },
      "source": [
        "!git clone https://github.com/Franck-Dernoncourt/pubmed-rct\n",
        "!ls pubmed-rct"
      ],
      "execution_count": 1,
      "outputs": [
        {
          "output_type": "stream",
          "name": "stdout",
          "text": [
            "Cloning into 'pubmed-rct'...\n",
            "remote: Enumerating objects: 33, done.\u001b[K\n",
            "remote: Counting objects: 100% (3/3), done.\u001b[K\n",
            "remote: Compressing objects: 100% (3/3), done.\u001b[K\n",
            "remote: Total 33 (delta 0), reused 0 (delta 0), pack-reused 30\u001b[K\n",
            "Unpacking objects: 100% (33/33), done.\n",
            "PubMed_200k_RCT\n",
            "PubMed_200k_RCT_numbers_replaced_with_at_sign\n",
            "PubMed_20k_RCT\n",
            "PubMed_20k_RCT_numbers_replaced_with_at_sign\n",
            "README.md\n"
          ]
        }
      ]
    },
    {
      "cell_type": "code",
      "metadata": {
        "colab": {
          "base_uri": "https://localhost:8080/"
        },
        "id": "BKTIfbtqm-ff",
        "outputId": "535b070a-8ed2-48df-bee5-ee25224f9d49"
      },
      "source": [
        "# Check what files are in the PubMed_20k dataset\n",
        "!ls pubmed-rct/PubMed_20k_RCT_numbers_replaced_with_at_sign/"
      ],
      "execution_count": 2,
      "outputs": [
        {
          "output_type": "stream",
          "name": "stdout",
          "text": [
            "dev.txt  test.txt  train.txt\n"
          ]
        }
      ]
    },
    {
      "cell_type": "code",
      "metadata": {
        "id": "Xw67lE-bm-cm"
      },
      "source": [
        "# Start our experiments using the 20k dataset with numbers replaced with \"@\" sign\n",
        "data_dir = \"/content/pubmed-rct/PubMed_20k_RCT_numbers_replaced_with_at_sign/\""
      ],
      "execution_count": 3,
      "outputs": []
    },
    {
      "cell_type": "code",
      "metadata": {
        "colab": {
          "base_uri": "https://localhost:8080/"
        },
        "id": "92vtfUyRm-Z_",
        "outputId": "113c0fc6-704f-47a8-8fd5-376494dc1811"
      },
      "source": [
        "# Check all of the filenames in the target directory\n",
        "import os\n",
        "filenames = [data_dir + filename for filename in os.listdir(data_dir)]\n",
        "filenames"
      ],
      "execution_count": 4,
      "outputs": [
        {
          "output_type": "execute_result",
          "data": {
            "text/plain": [
              "['/content/pubmed-rct/PubMed_20k_RCT_numbers_replaced_with_at_sign/train.txt',\n",
              " '/content/pubmed-rct/PubMed_20k_RCT_numbers_replaced_with_at_sign/dev.txt',\n",
              " '/content/pubmed-rct/PubMed_20k_RCT_numbers_replaced_with_at_sign/test.txt']"
            ]
          },
          "metadata": {},
          "execution_count": 4
        }
      ]
    },
    {
      "cell_type": "markdown",
      "metadata": {
        "id": "9lLwXYuKm-QH"
      },
      "source": [
        "## Preprocess data\n",
        "\n",
        "Now we've got some text data, it's time to become one with it.\n",
        "\n",
        "Let's write a function to read in all of the lines of a target text file.\n",
        "\n",
        "A resource for working on text data with python: https://realpython.com/read-write-files-python/"
      ]
    },
    {
      "cell_type": "code",
      "metadata": {
        "id": "UJoTO1Ysm-NP"
      },
      "source": [
        "# Create function to read the lines of a document\n",
        "def get_lines(filename):\n",
        "  \"\"\"\n",
        "  Reads filename (a text filename) and returns the lines of text as a list.\n",
        "\n",
        "  Args:\n",
        "    filename: a string containing the target filepath.\n",
        "\n",
        "  Returns:\n",
        "    A list of strings with one string per line from the target filename.\n",
        "  \"\"\"\n",
        "  with open(filename, \"r\") as f:\n",
        "    return f.readlines()"
      ],
      "execution_count": 5,
      "outputs": []
    },
    {
      "cell_type": "code",
      "metadata": {
        "colab": {
          "base_uri": "https://localhost:8080/"
        },
        "id": "22jWiCWNojAf",
        "outputId": "71908cd2-4faa-43e6-f7ef-2ca0c2b91cba"
      },
      "source": [
        "# Let's read in the training lines\n",
        "train_lines = get_lines(data_dir+\"train.txt\") # read the lines with the training file\n",
        "train_lines[:20]"
      ],
      "execution_count": 6,
      "outputs": [
        {
          "output_type": "execute_result",
          "data": {
            "text/plain": [
              "['###24293578\\n',\n",
              " 'OBJECTIVE\\tTo investigate the efficacy of @ weeks of daily low-dose oral prednisolone in improving pain , mobility , and systemic low-grade inflammation in the short term and whether the effect would be sustained at @ weeks in older adults with moderate to severe knee osteoarthritis ( OA ) .\\n',\n",
              " 'METHODS\\tA total of @ patients with primary knee OA were randomized @:@ ; @ received @ mg/day of prednisolone and @ received placebo for @ weeks .\\n',\n",
              " 'METHODS\\tOutcome measures included pain reduction and improvement in function scores and systemic inflammation markers .\\n',\n",
              " 'METHODS\\tPain was assessed using the visual analog pain scale ( @-@ mm ) .\\n',\n",
              " 'METHODS\\tSecondary outcome measures included the Western Ontario and McMaster Universities Osteoarthritis Index scores , patient global assessment ( PGA ) of the severity of knee OA , and @-min walk distance ( @MWD ) .\\n',\n",
              " 'METHODS\\tSerum levels of interleukin @ ( IL-@ ) , IL-@ , tumor necrosis factor ( TNF ) - , and high-sensitivity C-reactive protein ( hsCRP ) were measured .\\n',\n",
              " 'RESULTS\\tThere was a clinically relevant reduction in the intervention group compared to the placebo group for knee pain , physical function , PGA , and @MWD at @ weeks .\\n',\n",
              " 'RESULTS\\tThe mean difference between treatment arms ( @ % CI ) was @ ( @-@ @ ) , p < @ ; @ ( @-@ @ ) , p < @ ; @ ( @-@ @ ) , p < @ ; and @ ( @-@ @ ) , p < @ , respectively .\\n',\n",
              " 'RESULTS\\tFurther , there was a clinically relevant reduction in the serum levels of IL-@ , IL-@ , TNF - , and hsCRP at @ weeks in the intervention group when compared to the placebo group .\\n',\n",
              " 'RESULTS\\tThese differences remained significant at @ weeks .\\n',\n",
              " 'RESULTS\\tThe Outcome Measures in Rheumatology Clinical Trials-Osteoarthritis Research Society International responder rate was @ % in the intervention group and @ % in the placebo group ( p < @ ) .\\n',\n",
              " 'CONCLUSIONS\\tLow-dose oral prednisolone had both a short-term and a longer sustained effect resulting in less knee pain , better physical function , and attenuation of systemic inflammation in older patients with knee OA ( ClinicalTrials.gov identifier NCT@ ) .\\n',\n",
              " '\\n',\n",
              " '###24854809\\n',\n",
              " 'BACKGROUND\\tEmotional eating is associated with overeating and the development of obesity .\\n',\n",
              " 'BACKGROUND\\tYet , empirical evidence for individual ( trait ) differences in emotional eating and cognitive mechanisms that contribute to eating during sad mood remain equivocal .\\n',\n",
              " 'OBJECTIVE\\tThe aim of this study was to test if attention bias for food moderates the effect of self-reported emotional eating during sad mood ( vs neutral mood ) on actual food intake .\\n',\n",
              " 'OBJECTIVE\\tIt was expected that emotional eating is predictive of elevated attention for food and higher food intake after an experimentally induced sad mood and that attentional maintenance on food predicts food intake during a sad versus a neutral mood .\\n',\n",
              " 'METHODS\\tParticipants ( N = @ ) were randomly assigned to one of the two experimental mood induction conditions ( sad/neutral ) .\\n']"
            ]
          },
          "metadata": {},
          "execution_count": 6
        }
      ]
    },
    {
      "cell_type": "markdown",
      "metadata": {
        "id": "foDtMBtnoi-Q"
      },
      "source": [
        "Let's think about how we want our data to look\n",
        "\n",
        "How I think our data would be best represented...\n",
        "\n",
        "```\n",
        "[{'line_number': 0,\n",
        "   'target': 'BACKGROUND',\n",
        "   'text': 'Emotional eating is associated with overeating and the development of obesity .\\n',\n",
        "   'total_lines': 11},\n",
        "   ...]\n",
        "```"
      ]
    },
    {
      "cell_type": "markdown",
      "metadata": {
        "id": "ter-lCIsu065"
      },
      "source": [
        "Let's write a function to which turns each of our datasets into the above format so we can continue to preprare our data for modelling"
      ]
    },
    {
      "cell_type": "code",
      "metadata": {
        "id": "GkvumYIqoi7v"
      },
      "source": [
        "def preprocess_text_with_line_numbers(filename):\n",
        "  \"\"\"Returns a list of dictionaries of abstract line data.\n",
        "\n",
        "  Takes in filename, reads its contents and sorts through each line,\n",
        "  extracting things like the target label, the text of the sentence,\n",
        "  how many sentences are in the current abstract and what sentence number\n",
        "  the target line is.\n",
        "\n",
        "  Args:\n",
        "      filename: a string of the target text file to read and extract line data\n",
        "      from.\n",
        "\n",
        "  Returns:\n",
        "      A list of dictionaries each containing a line from an abstract,\n",
        "      the lines label, the lines position in the abstract and the total number\n",
        "      of lines in the abstract where the line is from.\n",
        "  \"\"\"\n",
        "  input_lines = get_lines(filename) # get all lines from filename\n",
        "  abstract_lines = \"\" # create an empty abstract\n",
        "  abstract_samples = [] # create an empty list of abstracts\n",
        "  \n",
        "  # Loop through each line in target file\n",
        "  for line in input_lines:\n",
        "    if line.startswith(\"###\"): # check to see if line is an ID line\n",
        "      abstract_id = line\n",
        "      abstract_lines = \"\" # reset abstract string\n",
        "    elif line.isspace(): # check to see if line is a new line\n",
        "      abstract_line_split = abstract_lines.splitlines() # split abstract into separate lines\n",
        "\n",
        "      # Iterate through each line in abstract and count them at the same time\n",
        "      for abstract_line_number, abstract_line in enumerate(abstract_line_split):\n",
        "        line_data = {} # create empty dict to store data from line\n",
        "        target_text_split = abstract_line.split(\"\\t\") # split target label from text\n",
        "        line_data[\"target\"] = target_text_split[0] # get target label\n",
        "        line_data[\"text\"] = target_text_split[1].lower() # get target text and lower it\n",
        "        line_data[\"line_number\"] = abstract_line_number # what number line does the line appear in the abstract?\n",
        "        line_data[\"total_lines\"] = len(abstract_line_split) - 1 # how many total lines are in the abstract? (start from 0)\n",
        "        abstract_samples.append(line_data) # add line data to abstract samples list\n",
        "    \n",
        "    else: # if the above conditions aren't fulfilled, the line contains a labelled sentence\n",
        "      abstract_lines += line\n",
        "  \n",
        "  return abstract_samples"
      ],
      "execution_count": 7,
      "outputs": []
    },
    {
      "cell_type": "code",
      "metadata": {
        "colab": {
          "base_uri": "https://localhost:8080/"
        },
        "id": "v5-5fnuNoi5P",
        "outputId": "746704b9-f5e7-42b8-f2c2-c597266f5ef5"
      },
      "source": [
        "# Get data from file and preprocess it\n",
        "%%time\n",
        "train_samples = preprocess_text_with_line_numbers(data_dir + \"train.txt\")\n",
        "val_samples = preprocess_text_with_line_numbers(data_dir + \"dev.txt\") # dev is another name for validation\n",
        "test_samples = preprocess_text_with_line_numbers(data_dir + \"test.txt\")\n",
        "print(len(train_samples), len(val_samples), len(test_samples))"
      ],
      "execution_count": 8,
      "outputs": [
        {
          "output_type": "stream",
          "name": "stdout",
          "text": [
            "180040 30212 30135\n",
            "CPU times: user 562 ms, sys: 95.4 ms, total: 658 ms\n",
            "Wall time: 657 ms\n"
          ]
        }
      ]
    },
    {
      "cell_type": "code",
      "metadata": {
        "colab": {
          "base_uri": "https://localhost:8080/"
        },
        "id": "pL_7OZi4ruYX",
        "outputId": "9317bd35-2a8a-46a2-eb85-053821103aa1"
      },
      "source": [
        "# Check the first abstract of our training data\n",
        "train_samples[:14]"
      ],
      "execution_count": 9,
      "outputs": [
        {
          "output_type": "execute_result",
          "data": {
            "text/plain": [
              "[{'line_number': 0,\n",
              "  'target': 'OBJECTIVE',\n",
              "  'text': 'to investigate the efficacy of @ weeks of daily low-dose oral prednisolone in improving pain , mobility , and systemic low-grade inflammation in the short term and whether the effect would be sustained at @ weeks in older adults with moderate to severe knee osteoarthritis ( oa ) .',\n",
              "  'total_lines': 11},\n",
              " {'line_number': 1,\n",
              "  'target': 'METHODS',\n",
              "  'text': 'a total of @ patients with primary knee oa were randomized @:@ ; @ received @ mg/day of prednisolone and @ received placebo for @ weeks .',\n",
              "  'total_lines': 11},\n",
              " {'line_number': 2,\n",
              "  'target': 'METHODS',\n",
              "  'text': 'outcome measures included pain reduction and improvement in function scores and systemic inflammation markers .',\n",
              "  'total_lines': 11},\n",
              " {'line_number': 3,\n",
              "  'target': 'METHODS',\n",
              "  'text': 'pain was assessed using the visual analog pain scale ( @-@ mm ) .',\n",
              "  'total_lines': 11},\n",
              " {'line_number': 4,\n",
              "  'target': 'METHODS',\n",
              "  'text': 'secondary outcome measures included the western ontario and mcmaster universities osteoarthritis index scores , patient global assessment ( pga ) of the severity of knee oa , and @-min walk distance ( @mwd ) .',\n",
              "  'total_lines': 11},\n",
              " {'line_number': 5,\n",
              "  'target': 'METHODS',\n",
              "  'text': 'serum levels of interleukin @ ( il-@ ) , il-@ , tumor necrosis factor ( tnf ) - , and high-sensitivity c-reactive protein ( hscrp ) were measured .',\n",
              "  'total_lines': 11},\n",
              " {'line_number': 6,\n",
              "  'target': 'RESULTS',\n",
              "  'text': 'there was a clinically relevant reduction in the intervention group compared to the placebo group for knee pain , physical function , pga , and @mwd at @ weeks .',\n",
              "  'total_lines': 11},\n",
              " {'line_number': 7,\n",
              "  'target': 'RESULTS',\n",
              "  'text': 'the mean difference between treatment arms ( @ % ci ) was @ ( @-@ @ ) , p < @ ; @ ( @-@ @ ) , p < @ ; @ ( @-@ @ ) , p < @ ; and @ ( @-@ @ ) , p < @ , respectively .',\n",
              "  'total_lines': 11},\n",
              " {'line_number': 8,\n",
              "  'target': 'RESULTS',\n",
              "  'text': 'further , there was a clinically relevant reduction in the serum levels of il-@ , il-@ , tnf - , and hscrp at @ weeks in the intervention group when compared to the placebo group .',\n",
              "  'total_lines': 11},\n",
              " {'line_number': 9,\n",
              "  'target': 'RESULTS',\n",
              "  'text': 'these differences remained significant at @ weeks .',\n",
              "  'total_lines': 11},\n",
              " {'line_number': 10,\n",
              "  'target': 'RESULTS',\n",
              "  'text': 'the outcome measures in rheumatology clinical trials-osteoarthritis research society international responder rate was @ % in the intervention group and @ % in the placebo group ( p < @ ) .',\n",
              "  'total_lines': 11},\n",
              " {'line_number': 11,\n",
              "  'target': 'CONCLUSIONS',\n",
              "  'text': 'low-dose oral prednisolone had both a short-term and a longer sustained effect resulting in less knee pain , better physical function , and attenuation of systemic inflammation in older patients with knee oa ( clinicaltrials.gov identifier nct@ ) .',\n",
              "  'total_lines': 11},\n",
              " {'line_number': 0,\n",
              "  'target': 'BACKGROUND',\n",
              "  'text': 'emotional eating is associated with overeating and the development of obesity .',\n",
              "  'total_lines': 10},\n",
              " {'line_number': 1,\n",
              "  'target': 'BACKGROUND',\n",
              "  'text': 'yet , empirical evidence for individual ( trait ) differences in emotional eating and cognitive mechanisms that contribute to eating during sad mood remain equivocal .',\n",
              "  'total_lines': 10}]"
            ]
          },
          "metadata": {},
          "execution_count": 9
        }
      ]
    },
    {
      "cell_type": "markdown",
      "metadata": {
        "id": "NE8u_q6f3naz"
      },
      "source": [
        "Now that our data is in the format of a list of dicts, let's turn it into a DataFrame to further visualize it."
      ]
    },
    {
      "cell_type": "code",
      "metadata": {
        "colab": {
          "base_uri": "https://localhost:8080/",
          "height": 631
        },
        "id": "SqXZ0SG9ruV9",
        "outputId": "62884831-b557-49e5-c42f-06aef51e46ca"
      },
      "source": [
        "import pandas as pd\n",
        "train_df = pd.DataFrame(train_samples)\n",
        "val_df = pd.DataFrame(val_samples)\n",
        "test_df = pd.DataFrame(test_samples)\n",
        "train_df.head(14)"
      ],
      "execution_count": 10,
      "outputs": [
        {
          "output_type": "execute_result",
          "data": {
            "text/html": [
              "<div>\n",
              "<style scoped>\n",
              "    .dataframe tbody tr th:only-of-type {\n",
              "        vertical-align: middle;\n",
              "    }\n",
              "\n",
              "    .dataframe tbody tr th {\n",
              "        vertical-align: top;\n",
              "    }\n",
              "\n",
              "    .dataframe thead th {\n",
              "        text-align: right;\n",
              "    }\n",
              "</style>\n",
              "<table border=\"1\" class=\"dataframe\">\n",
              "  <thead>\n",
              "    <tr style=\"text-align: right;\">\n",
              "      <th></th>\n",
              "      <th>target</th>\n",
              "      <th>text</th>\n",
              "      <th>line_number</th>\n",
              "      <th>total_lines</th>\n",
              "    </tr>\n",
              "  </thead>\n",
              "  <tbody>\n",
              "    <tr>\n",
              "      <th>0</th>\n",
              "      <td>OBJECTIVE</td>\n",
              "      <td>to investigate the efficacy of @ weeks of dail...</td>\n",
              "      <td>0</td>\n",
              "      <td>11</td>\n",
              "    </tr>\n",
              "    <tr>\n",
              "      <th>1</th>\n",
              "      <td>METHODS</td>\n",
              "      <td>a total of @ patients with primary knee oa wer...</td>\n",
              "      <td>1</td>\n",
              "      <td>11</td>\n",
              "    </tr>\n",
              "    <tr>\n",
              "      <th>2</th>\n",
              "      <td>METHODS</td>\n",
              "      <td>outcome measures included pain reduction and i...</td>\n",
              "      <td>2</td>\n",
              "      <td>11</td>\n",
              "    </tr>\n",
              "    <tr>\n",
              "      <th>3</th>\n",
              "      <td>METHODS</td>\n",
              "      <td>pain was assessed using the visual analog pain...</td>\n",
              "      <td>3</td>\n",
              "      <td>11</td>\n",
              "    </tr>\n",
              "    <tr>\n",
              "      <th>4</th>\n",
              "      <td>METHODS</td>\n",
              "      <td>secondary outcome measures included the wester...</td>\n",
              "      <td>4</td>\n",
              "      <td>11</td>\n",
              "    </tr>\n",
              "    <tr>\n",
              "      <th>5</th>\n",
              "      <td>METHODS</td>\n",
              "      <td>serum levels of interleukin @ ( il-@ ) , il-@ ...</td>\n",
              "      <td>5</td>\n",
              "      <td>11</td>\n",
              "    </tr>\n",
              "    <tr>\n",
              "      <th>6</th>\n",
              "      <td>RESULTS</td>\n",
              "      <td>there was a clinically relevant reduction in t...</td>\n",
              "      <td>6</td>\n",
              "      <td>11</td>\n",
              "    </tr>\n",
              "    <tr>\n",
              "      <th>7</th>\n",
              "      <td>RESULTS</td>\n",
              "      <td>the mean difference between treatment arms ( @...</td>\n",
              "      <td>7</td>\n",
              "      <td>11</td>\n",
              "    </tr>\n",
              "    <tr>\n",
              "      <th>8</th>\n",
              "      <td>RESULTS</td>\n",
              "      <td>further , there was a clinically relevant redu...</td>\n",
              "      <td>8</td>\n",
              "      <td>11</td>\n",
              "    </tr>\n",
              "    <tr>\n",
              "      <th>9</th>\n",
              "      <td>RESULTS</td>\n",
              "      <td>these differences remained significant at @ we...</td>\n",
              "      <td>9</td>\n",
              "      <td>11</td>\n",
              "    </tr>\n",
              "    <tr>\n",
              "      <th>10</th>\n",
              "      <td>RESULTS</td>\n",
              "      <td>the outcome measures in rheumatology clinical ...</td>\n",
              "      <td>10</td>\n",
              "      <td>11</td>\n",
              "    </tr>\n",
              "    <tr>\n",
              "      <th>11</th>\n",
              "      <td>CONCLUSIONS</td>\n",
              "      <td>low-dose oral prednisolone had both a short-te...</td>\n",
              "      <td>11</td>\n",
              "      <td>11</td>\n",
              "    </tr>\n",
              "    <tr>\n",
              "      <th>12</th>\n",
              "      <td>BACKGROUND</td>\n",
              "      <td>emotional eating is associated with overeating...</td>\n",
              "      <td>0</td>\n",
              "      <td>10</td>\n",
              "    </tr>\n",
              "    <tr>\n",
              "      <th>13</th>\n",
              "      <td>BACKGROUND</td>\n",
              "      <td>yet , empirical evidence for individual ( trai...</td>\n",
              "      <td>1</td>\n",
              "      <td>10</td>\n",
              "    </tr>\n",
              "  </tbody>\n",
              "</table>\n",
              "</div>"
            ],
            "text/plain": [
              "         target  ... total_lines\n",
              "0     OBJECTIVE  ...          11\n",
              "1       METHODS  ...          11\n",
              "2       METHODS  ...          11\n",
              "3       METHODS  ...          11\n",
              "4       METHODS  ...          11\n",
              "5       METHODS  ...          11\n",
              "6       RESULTS  ...          11\n",
              "7       RESULTS  ...          11\n",
              "8       RESULTS  ...          11\n",
              "9       RESULTS  ...          11\n",
              "10      RESULTS  ...          11\n",
              "11  CONCLUSIONS  ...          11\n",
              "12   BACKGROUND  ...          10\n",
              "13   BACKGROUND  ...          10\n",
              "\n",
              "[14 rows x 4 columns]"
            ]
          },
          "metadata": {},
          "execution_count": 10
        }
      ]
    },
    {
      "cell_type": "code",
      "metadata": {
        "colab": {
          "base_uri": "https://localhost:8080/"
        },
        "id": "kl-uuQOKruTe",
        "outputId": "422c6902-8968-4c37-f030-2ceddcf02911"
      },
      "source": [
        "# Distribution of labels in training data\n",
        "train_df.target.value_counts()"
      ],
      "execution_count": 11,
      "outputs": [
        {
          "output_type": "execute_result",
          "data": {
            "text/plain": [
              "METHODS        59353\n",
              "RESULTS        57953\n",
              "CONCLUSIONS    27168\n",
              "BACKGROUND     21727\n",
              "OBJECTIVE      13839\n",
              "Name: target, dtype: int64"
            ]
          },
          "metadata": {},
          "execution_count": 11
        }
      ]
    },
    {
      "cell_type": "code",
      "metadata": {
        "colab": {
          "base_uri": "https://localhost:8080/",
          "height": 267
        },
        "id": "CZZy6Q7b1d2q",
        "outputId": "32ee9e29-e9f9-41ed-a229-64fb6929499c"
      },
      "source": [
        "# Let's check length of different lines\n",
        "train_df.total_lines.plot.hist();"
      ],
      "execution_count": 12,
      "outputs": [
        {
          "output_type": "display_data",
          "data": {
            "image/png": "[encoded data removed]",
            "text/plain": [
              "<Figure size 432x288 with 1 Axes>"
            ]
          },
          "metadata": {
            "needs_background": "light"
          }
        }
      ]
    },
    {
      "cell_type": "markdown",
      "metadata": {
        "id": "AK2L6Jed1dzq"
      },
      "source": [
        "### Get lists of sentences\n",
        "\n",
        "When we build our deep learning model, one of its main inputs will be a list of strings (the lines of an abstract).\n",
        "\n",
        "We can get these easily from our DataFrames by calling the `tolist()` method on our `\"text\"` columns."
      ]
    },
    {
      "cell_type": "code",
      "metadata": {
        "colab": {
          "base_uri": "https://localhost:8080/"
        },
        "id": "EgqohG_V1dxP",
        "outputId": "16a9b80b-e42f-4b5c-b9af-1cb495ef323a"
      },
      "source": [
        "# Convert abstract text lines into lists\n",
        "train_sentences = train_df[\"text\"].to_list()\n",
        "val_sentences = val_df[\"text\"].to_list()\n",
        "test_sentences = test_df[\"text\"].to_list()\n",
        "len(train_sentences), len(val_sentences), len(test_sentences)"
      ],
      "execution_count": 13,
      "outputs": [
        {
          "output_type": "execute_result",
          "data": {
            "text/plain": [
              "(180040, 30212, 30135)"
            ]
          },
          "metadata": {},
          "execution_count": 13
        }
      ]
    },
    {
      "cell_type": "code",
      "metadata": {
        "colab": {
          "base_uri": "https://localhost:8080/"
        },
        "id": "CVcVfi8I1duo",
        "outputId": "3ba6f31b-cd95-4bdf-d578-c963d2c57fbb"
      },
      "source": [
        "# View the first 10 lines of training sentences\n",
        "train_sentences[:10]"
      ],
      "execution_count": 14,
      "outputs": [
        {
          "output_type": "execute_result",
          "data": {
            "text/plain": [
              "['to investigate the efficacy of @ weeks of daily low-dose oral prednisolone in improving pain , mobility , and systemic low-grade inflammation in the short term and whether the effect would be sustained at @ weeks in older adults with moderate to severe knee osteoarthritis ( oa ) .',\n",
              " 'a total of @ patients with primary knee oa were randomized @:@ ; @ received @ mg/day of prednisolone and @ received placebo for @ weeks .',\n",
              " 'outcome measures included pain reduction and improvement in function scores and systemic inflammation markers .',\n",
              " 'pain was assessed using the visual analog pain scale ( @-@ mm ) .',\n",
              " 'secondary outcome measures included the western ontario and mcmaster universities osteoarthritis index scores , patient global assessment ( pga ) of the severity of knee oa , and @-min walk distance ( @mwd ) .',\n",
              " 'serum levels of interleukin @ ( il-@ ) , il-@ , tumor necrosis factor ( tnf ) - , and high-sensitivity c-reactive protein ( hscrp ) were measured .',\n",
              " 'there was a clinically relevant reduction in the intervention group compared to the placebo group for knee pain , physical function , pga , and @mwd at @ weeks .',\n",
              " 'the mean difference between treatment arms ( @ % ci ) was @ ( @-@ @ ) , p < @ ; @ ( @-@ @ ) , p < @ ; @ ( @-@ @ ) , p < @ ; and @ ( @-@ @ ) , p < @ , respectively .',\n",
              " 'further , there was a clinically relevant reduction in the serum levels of il-@ , il-@ , tnf - , and hscrp at @ weeks in the intervention group when compared to the placebo group .',\n",
              " 'these differences remained significant at @ weeks .']"
            ]
          },
          "metadata": {},
          "execution_count": 14
        }
      ]
    },
    {
      "cell_type": "markdown",
      "metadata": {
        "id": "_TqxAr-tFdZq"
      },
      "source": [
        "## Make numeric labels (ML models require numeric labels)\n",
        "\n",
        "We're going to create one hot and label encoded labels.\n",
        "\n",
        "We could get away with just making label encoded labels, however, TensorFlow's CategoricalCrossentropy loss function likes to have one hot encoded labels \n",
        "\n",
        "To numerically encode labels we'll use Scikit-Learn's [`OneHotEncoder`](https://scikit-learn.org/stable/modules/generated/sklearn.preprocessing.OneHotEncoder.html) and [`LabelEncoder`](http://scikit-learn.org/stable/modules/generated/sklearn.preprocessing.LabelEncoder.html) classes."
      ]
    },
    {
      "cell_type": "code",
      "metadata": {
        "id": "5nNRT8ChFdWh"
      },
      "source": [
        "# One hot encode labels\n",
        "from sklearn.preprocessing import OneHotEncoder\n",
        "one_hot_encoder = OneHotEncoder(sparse=False) \n",
        "train_labels_one_hot = one_hot_encoder.fit_transform(train_df[\"target\"].to_numpy().reshape(-1,1))\n",
        "val_labels_one_hot = one_hot_encoder.transform(val_df[\"target\"].to_numpy().reshape(-1,1))\n",
        "test_labels_one_hot = one_hot_encoder.transform(test_df[\"target\"].to_numpy().reshape(-1,1))"
      ],
      "execution_count": 15,
      "outputs": []
    },
    {
      "cell_type": "markdown",
      "metadata": {
        "id": "c14m_lemTsYt"
      },
      "source": [
        "> sparse: \"seyrekleştirmek\". When you're working on an array thay contains a lot of 0's it's a good idea to set sparse=True (also, by default, it is set to True) for helping your memory :)"
      ]
    },
    {
      "cell_type": "code",
      "metadata": {
        "colab": {
          "base_uri": "https://localhost:8080/"
        },
        "id": "36xaWnzLFdTi",
        "outputId": "5bab5dc2-32ac-4d95-d825-8f2164e7589d"
      },
      "source": [
        "import tensorflow as tf\n",
        "tf.constant(train_labels_one_hot)"
      ],
      "execution_count": 16,
      "outputs": [
        {
          "output_type": "execute_result",
          "data": {
            "text/plain": [
              "<tf.Tensor: shape=(180040, 5), dtype=float64, numpy=\n",
              "array([[0., 0., 0., 1., 0.],\n",
              "       [0., 0., 1., 0., 0.],\n",
              "       [0., 0., 1., 0., 0.],\n",
              "       ...,\n",
              "       [0., 0., 0., 0., 1.],\n",
              "       [0., 1., 0., 0., 0.],\n",
              "       [0., 1., 0., 0., 0.]])>"
            ]
          },
          "metadata": {},
          "execution_count": 16
        }
      ]
    },
    {
      "cell_type": "markdown",
      "metadata": {
        "id": "SZpIq2S4FdRF"
      },
      "source": [
        "### Label encode labels"
      ]
    },
    {
      "cell_type": "code",
      "metadata": {
        "colab": {
          "base_uri": "https://localhost:8080/"
        },
        "id": "cGQPN50CFdOL",
        "outputId": "837ac416-8517-4412-e43d-068e2caae53e"
      },
      "source": [
        "# Extract labels (\"target\" columns) and encode them into integers\n",
        "from sklearn.preprocessing import LabelEncoder\n",
        "label_encoder = LabelEncoder()\n",
        "train_labels_encoded = label_encoder.fit_transform(train_df[\"target\"].to_numpy())\n",
        "val_labels_encoded = label_encoder.transform(val_df[\"target\"].to_numpy())\n",
        "test_labels_encoded = label_encoder.transform(test_df[\"target\"].to_numpy())\n",
        "\n",
        "# check what training labels look like\n",
        "train_labels_encoded"
      ],
      "execution_count": 17,
      "outputs": [
        {
          "output_type": "execute_result",
          "data": {
            "text/plain": [
              "array([3, 2, 2, ..., 4, 1, 1])"
            ]
          },
          "metadata": {},
          "execution_count": 17
        }
      ]
    },
    {
      "cell_type": "code",
      "metadata": {
        "colab": {
          "base_uri": "https://localhost:8080/"
        },
        "id": "in35Cw1IFdLp",
        "outputId": "b6df2e39-91bd-496e-ac1c-125e57f0e260"
      },
      "source": [
        "# Get class names and number of classes from LabelEncoder instance\n",
        "num_classes = len(label_encoder.classes_)\n",
        "class_names = label_encoder.classes_\n",
        "num_classes, class_names"
      ],
      "execution_count": 18,
      "outputs": [
        {
          "output_type": "execute_result",
          "data": {
            "text/plain": [
              "(5, array(['BACKGROUND', 'CONCLUSIONS', 'METHODS', 'OBJECTIVE', 'RESULTS'],\n",
              "       dtype=object))"
            ]
          },
          "metadata": {},
          "execution_count": 18
        }
      ]
    },
    {
      "cell_type": "markdown",
      "metadata": {
        "id": "Lit4_sSZKTdI"
      },
      "source": [
        "## Starting a series of modelling experiments\n",
        "\n",
        "We've proprocessed our data so now, in true machine learning fashion, it's time to setup a series of modelling experiments."
      ]
    },
    {
      "cell_type": "markdown",
      "metadata": {
        "id": "r2-FmXdRFdIw"
      },
      "source": [
        "## Model 0: Getting a baseline\n",
        "\n",
        "Our first model we'll be a TF-IDF Multinomial Naive Bayes as recommended by [Scikit-Learn's machine learning map](https://scikit-learn.org/stable/tutorial/machine_learning_map/index.html).\n",
        "\n",
        "To build it, we'll create a Scikit-Learn `Pipeline` which uses the [`TfidfVectorizer`](https://scikit-learn.org/stable/modules/generated/sklearn.feature_extraction.text.TfidfVectorizer.html) class to convert our abstract sentences to numbers using the TF-IDF (term frequency-inverse document frequecy) algorithm and then learns to classify our sentences using the [`MultinomialNB`](https://scikit-learn.org/stable/modules/generated/sklearn.naive_bayes.MultinomialNB.html) aglorithm."
      ]
    },
    {
      "cell_type": "code",
      "metadata": {
        "colab": {
          "base_uri": "https://localhost:8080/"
        },
        "id": "OLhqUrvFFdGH",
        "outputId": "774d7a13-3865-44f2-9d5f-6246f225be57"
      },
      "source": [
        "from sklearn.feature_extraction.text import TfidfVectorizer\n",
        "from sklearn.naive_bayes import MultinomialNB\n",
        "from sklearn.pipeline import Pipeline\n",
        "\n",
        "# Create a pipeline\n",
        "model_0 = Pipeline([\n",
        "  (\"tf_idf\", TfidfVectorizer()),\n",
        "  (\"clf\", MultinomialNB())\n",
        "])\n",
        "\n",
        "# Fit the pipeline to the training data\n",
        "model_0.fit(X=train_sentences,\n",
        "            y=train_labels_encoded)"
      ],
      "execution_count": 19,
      "outputs": [
        {
          "output_type": "execute_result",
          "data": {
            "text/plain": [
              "Pipeline(memory=None,\n",
              "         steps=[('tf_idf',\n",
              "                 TfidfVectorizer(analyzer='word', binary=False,\n",
              "                                 decode_error='strict',\n",
              "                                 dtype=<class 'numpy.float64'>,\n",
              "                                 encoding='utf-8', input='content',\n",
              "                                 lowercase=True, max_df=1.0, max_features=None,\n",
              "                                 min_df=1, ngram_range=(1, 1), norm='l2',\n",
              "                                 preprocessor=None, smooth_idf=True,\n",
              "                                 stop_words=None, strip_accents=None,\n",
              "                                 sublinear_tf=False,\n",
              "                                 token_pattern='(?u)\\\\b\\\\w\\\\w+\\\\b',\n",
              "                                 tokenizer=None, use_idf=True,\n",
              "                                 vocabulary=None)),\n",
              "                ('clf',\n",
              "                 MultinomialNB(alpha=1.0, class_prior=None, fit_prior=True))],\n",
              "         verbose=False)"
            ]
          },
          "metadata": {},
          "execution_count": 19
        }
      ]
    },
    {
      "cell_type": "code",
      "metadata": {
        "colab": {
          "base_uri": "https://localhost:8080/"
        },
        "id": "1xrPSQwoFdDL",
        "outputId": "1810b5a5-4d88-4d65-8138-7897d097a53f"
      },
      "source": [
        "# Evaluate baseline model on validation dataset\n",
        "model_0.score(X=val_sentences,\n",
        "                 y=val_labels_encoded)"
      ],
      "execution_count": 20,
      "outputs": [
        {
          "output_type": "execute_result",
          "data": {
            "text/plain": [
              "0.7218323844829869"
            ]
          },
          "metadata": {},
          "execution_count": 20
        }
      ]
    },
    {
      "cell_type": "code",
      "metadata": {
        "colab": {
          "base_uri": "https://localhost:8080/"
        },
        "id": "VmyhmIhkFdAp",
        "outputId": "b2ba1e3d-0912-4478-8d95-31a277a797cd"
      },
      "source": [
        "# Make predictions using our baseline model\n",
        "baseline_preds = model_0.predict(val_sentences)\n",
        "baseline_preds"
      ],
      "execution_count": 21,
      "outputs": [
        {
          "output_type": "execute_result",
          "data": {
            "text/plain": [
              "array([4, 1, 3, ..., 4, 4, 1])"
            ]
          },
          "metadata": {},
          "execution_count": 21
        }
      ]
    },
    {
      "cell_type": "markdown",
      "metadata": {
        "id": "XA0JM7VxH9Us"
      },
      "source": [
        "### Download helper function script"
      ]
    },
    {
      "cell_type": "code",
      "metadata": {
        "colab": {
          "base_uri": "https://localhost:8080/"
        },
        "id": "OJ4Dnwf0Lu6D",
        "outputId": "97cf677b-67fe-4470-ac14-574139cd2517"
      },
      "source": [
        "!wget https://raw.githubusercontent.com/mrdbourke/tensorflow-deep-learning/main/extras/helper_functions.py"
      ],
      "execution_count": 22,
      "outputs": [
        {
          "output_type": "stream",
          "name": "stdout",
          "text": [
            "--2021-10-11 21:34:05--  https://raw.githubusercontent.com/mrdbourke/tensorflow-deep-learning/main/extras/helper_functions.py\n",
            "Resolving raw.githubusercontent.com (raw.githubusercontent.com)... 185.199.109.133, 185.199.110.133, 185.199.108.133, ...\n",
            "Connecting to raw.githubusercontent.com (raw.githubusercontent.com)|185.199.109.133|:443... connected.\n",
            "HTTP request sent, awaiting response... 200 OK\n",
            "Length: 10246 (10K) [text/plain]\n",
            "Saving to: ‘helper_functions.py’\n",
            "\n",
            "helper_functions.py 100%[===================>]  10.01K  --.-KB/s    in 0s      \n",
            "\n",
            "2021-10-11 21:34:05 (65.9 MB/s) - ‘helper_functions.py’ saved [10246/10246]\n",
            "\n"
          ]
        }
      ]
    },
    {
      "cell_type": "code",
      "metadata": {
        "id": "r9aD7J5hH9RZ"
      },
      "source": [
        "from helper_functions import calculate_results"
      ],
      "execution_count": 23,
      "outputs": []
    },
    {
      "cell_type": "code",
      "metadata": {
        "colab": {
          "base_uri": "https://localhost:8080/"
        },
        "id": "YWK9bHmPH9O5",
        "outputId": "e1a8c4f3-d7d3-4644-b576-52d9fc798876"
      },
      "source": [
        "# Calculate baseline results\n",
        "baseline_results = calculate_results(y_true=val_labels_encoded,\n",
        "                                     y_pred=baseline_preds)\n",
        "baseline_results "
      ],
      "execution_count": 24,
      "outputs": [
        {
          "output_type": "execute_result",
          "data": {
            "text/plain": [
              "{'accuracy': 72.1832384482987,\n",
              " 'f1': 0.6989250353450294,\n",
              " 'precision': 0.7186466952323352,\n",
              " 'recall': 0.7218323844829869}"
            ]
          },
          "metadata": {},
          "execution_count": 24
        }
      ]
    },
    {
      "cell_type": "code",
      "metadata": {
        "colab": {
          "base_uri": "https://localhost:8080/"
        },
        "id": "nssQUBZJMNt9",
        "outputId": "1120cf23-c277-4686-aca3-2d48cdfaac4e"
      },
      "source": [
        "train_sentences[:10]"
      ],
      "execution_count": 25,
      "outputs": [
        {
          "output_type": "execute_result",
          "data": {
            "text/plain": [
              "['to investigate the efficacy of @ weeks of daily low-dose oral prednisolone in improving pain , mobility , and systemic low-grade inflammation in the short term and whether the effect would be sustained at @ weeks in older adults with moderate to severe knee osteoarthritis ( oa ) .',\n",
              " 'a total of @ patients with primary knee oa were randomized @:@ ; @ received @ mg/day of prednisolone and @ received placebo for @ weeks .',\n",
              " 'outcome measures included pain reduction and improvement in function scores and systemic inflammation markers .',\n",
              " 'pain was assessed using the visual analog pain scale ( @-@ mm ) .',\n",
              " 'secondary outcome measures included the western ontario and mcmaster universities osteoarthritis index scores , patient global assessment ( pga ) of the severity of knee oa , and @-min walk distance ( @mwd ) .',\n",
              " 'serum levels of interleukin @ ( il-@ ) , il-@ , tumor necrosis factor ( tnf ) - , and high-sensitivity c-reactive protein ( hscrp ) were measured .',\n",
              " 'there was a clinically relevant reduction in the intervention group compared to the placebo group for knee pain , physical function , pga , and @mwd at @ weeks .',\n",
              " 'the mean difference between treatment arms ( @ % ci ) was @ ( @-@ @ ) , p < @ ; @ ( @-@ @ ) , p < @ ; @ ( @-@ @ ) , p < @ ; and @ ( @-@ @ ) , p < @ , respectively .',\n",
              " 'further , there was a clinically relevant reduction in the serum levels of il-@ , il-@ , tnf - , and hscrp at @ weeks in the intervention group when compared to the placebo group .',\n",
              " 'these differences remained significant at @ weeks .']"
            ]
          },
          "metadata": {},
          "execution_count": 25
        }
      ]
    },
    {
      "cell_type": "markdown",
      "metadata": {
        "id": "HBLg8M8uMNrl"
      },
      "source": [
        "## Preparing our data (the text) for deep seqeunce models\n",
        "\n",
        "Before we start building deeper models, we've got to create vectrorization and embedding layers.\n",
        "\n",
        "Since we'll be turning our sentences into numbers, it's a good idea to figure out how many words are in each sentence.\n",
        "\n",
        "When our model goes through our sentences, it works best when they're all the same length (this is important for creating batches of the same size tensors).\n",
        "\n",
        "For example, if one sentence is eight words long and another is 29 words long, we want to pad the eight word sentence with zeros so it ends up being the same length as the 29 word sentence.\n",
        "\n",
        "Let's write some code to find the average length of sentences in the training set."
      ]
    },
    {
      "cell_type": "code",
      "metadata": {
        "id": "s8nTQyCXMNo0"
      },
      "source": [
        "import numpy as np\n",
        "import tensorflow as tf\n",
        "from tensorflow.keras import layers"
      ],
      "execution_count": 26,
      "outputs": []
    },
    {
      "cell_type": "code",
      "metadata": {
        "colab": {
          "base_uri": "https://localhost:8080/"
        },
        "id": "aQVqv8y1MNmS",
        "outputId": "410f7fc1-b49c-4806-b357-3c369b33c21d"
      },
      "source": [
        "# How long is each sentence on average?\n",
        "sent_lens = [len(sentence.split()) for sentence in train_sentences]\n",
        "avg_sent_len = np.mean(sent_lens)\n",
        "avg_sent_len"
      ],
      "execution_count": 27,
      "outputs": [
        {
          "output_type": "execute_result",
          "data": {
            "text/plain": [
              "26.338269273494777"
            ]
          },
          "metadata": {},
          "execution_count": 27
        }
      ]
    },
    {
      "cell_type": "code",
      "metadata": {
        "colab": {
          "base_uri": "https://localhost:8080/",
          "height": 265
        },
        "id": "hOyNp27QMNjr",
        "outputId": "d97678d7-8ffa-4642-9cdf-9410879dc234"
      },
      "source": [
        "# What's the distribution look like?\n",
        "import matplotlib.pyplot as plt\n",
        "plt.hist(sent_lens, bins=20);"
      ],
      "execution_count": 28,
      "outputs": [
        {
          "output_type": "display_data",
          "data": {
            "image/png": "[encoded data removed]",
            "text/plain": [
              "<Figure size 432x288 with 1 Axes>"
            ]
          },
          "metadata": {
            "needs_background": "light"
          }
        }
      ]
    },
    {
      "cell_type": "markdown",
      "metadata": {
        "id": "AUTyac9SZJ8z"
      },
      "source": [
        "Looks like the vast majority of sentences are between 0 and 50 tokens in length.\n",
        "\n",
        "We can use NumPy's [`percentile`](https://numpy.org/doc/stable/reference/generated/numpy.percentile.html) to find the value which covers 95% of the sentence lengths."
      ]
    },
    {
      "cell_type": "code",
      "metadata": {
        "colab": {
          "base_uri": "https://localhost:8080/"
        },
        "id": "YoppvhtAMNhj",
        "outputId": "b48991b6-3fe0-4cb5-ce18-d2259c11eaa4"
      },
      "source": [
        "# How long of a sentence length covers 95% of examples?\n",
        "output_seq_len = int(np.percentile(sent_lens, 95))\n",
        "output_seq_len"
      ],
      "execution_count": 29,
      "outputs": [
        {
          "output_type": "execute_result",
          "data": {
            "text/plain": [
              "55"
            ]
          },
          "metadata": {},
          "execution_count": 29
        }
      ]
    },
    {
      "cell_type": "markdown",
      "metadata": {
        "id": "Mio4jRgvZWx5"
      },
      "source": [
        "It looks like 95% of the sentences in our training set have a length of 55 tokens or less.\n",
        "\n",
        "When we create our tokenization layer, we'll use this value to turn all of our sentences into the same length. Meaning sentences with a length below 55 get padded with zeros and sentences with a length above 55 get truncated (words after 55 get cut off)."
      ]
    },
    {
      "cell_type": "code",
      "metadata": {
        "colab": {
          "base_uri": "https://localhost:8080/"
        },
        "id": "d-DBvRKlMNea",
        "outputId": "90682fee-aecc-4f88-aab4-7801f8757c54"
      },
      "source": [
        "# Max sequence length in the training set\n",
        "max(sent_lens)"
      ],
      "execution_count": 30,
      "outputs": [
        {
          "output_type": "execute_result",
          "data": {
            "text/plain": [
              "296"
            ]
          },
          "metadata": {},
          "execution_count": 30
        }
      ]
    },
    {
      "cell_type": "markdown",
      "metadata": {
        "id": "C0huM6QSZkZP"
      },
      "source": [
        "We are not using the max sentence length of the sentences since hardly any sentence even come close to the max length, it would mean the majority of the data we pass to our model would be zeros (sinces all sentences below the max length would get padded with zeros)."
      ]
    },
    {
      "cell_type": "markdown",
      "metadata": {
        "id": "pxo8VITNMNb5"
      },
      "source": [
        "### Create text vectorizer layer\n",
        "\n",
        "To do so, we'll use the [`TextVectorization`](https://www.tensorflow.org/api_docs/python/tf/keras/layers/experimental/preprocessing/TextVectorization) layer from TensorFlow.\n",
        "\n",
        "We'll keep all the parameters default except for `max_tokens` (the number of unique words in our dataset) and `output_sequence_length` (our desired output length for each vectorized sentence)."
      ]
    },
    {
      "cell_type": "code",
      "metadata": {
        "id": "mKK8XgoOSJvC"
      },
      "source": [
        "# How many words are in our vocab? (taken from table 2 in the paper we're using)\n",
        "max_tokens = 68000"
      ],
      "execution_count": 31,
      "outputs": []
    },
    {
      "cell_type": "code",
      "metadata": {
        "id": "RR0pHIQqSJtp"
      },
      "source": [
        "# Create text vectorizer\n",
        "from tensorflow.keras.layers.experimental.preprocessing import TextVectorization\n",
        "\n",
        "text_vectorizer = TextVectorization(max_tokens=max_tokens, # number of words in vocabulary\n",
        "                                    output_sequence_length=55) # desired output length of vectorized sequences"
      ],
      "execution_count": 32,
      "outputs": []
    },
    {
      "cell_type": "code",
      "metadata": {
        "id": "Hby_GsKdSJqu"
      },
      "source": [
        "# Adapt text vectorizer to training sentences\n",
        "text_vectorizer.adapt(train_sentences)"
      ],
      "execution_count": 33,
      "outputs": []
    },
    {
      "cell_type": "code",
      "metadata": {
        "colab": {
          "base_uri": "https://localhost:8080/"
        },
        "id": "fpfVVnUeSJoh",
        "outputId": "7d58f305-5f1a-41dc-fdd1-dfc038aa468c"
      },
      "source": [
        "# Test out text vectorizer on random sentences\n",
        "import random\n",
        "target_sentence = random.choice(train_sentences)\n",
        "print(f\"Text:\\n{target_sentence}\")\n",
        "print(f\"Length of text: {len(target_sentence.split())}\")\n",
        "print(f\"\\nVectorized text:\\n{text_vectorizer([target_sentence])}\")"
      ],
      "execution_count": 34,
      "outputs": [
        {
          "output_type": "stream",
          "name": "stdout",
          "text": [
            "Text:\n",
            "single agent sorafenib could cross over to combination upon progression .\n",
            "Length of text: 11\n",
            "\n",
            "Vectorized text:\n",
            "[[ 312 1287 3297  281 4390  145    6  269 1864  499    0    0    0    0\n",
            "     0    0    0    0    0    0    0    0    0    0    0    0    0    0\n",
            "     0    0    0    0    0    0    0    0    0    0    0    0    0    0\n",
            "     0    0    0    0    0    0    0    0    0    0    0    0    0]]\n"
          ]
        }
      ]
    },
    {
      "cell_type": "code",
      "metadata": {
        "colab": {
          "base_uri": "https://localhost:8080/"
        },
        "id": "OQEfg8pHSJmM",
        "outputId": "b2a25fc9-f680-4088-cafa-71c4dd53d887"
      },
      "source": [
        "# How many words in our training vocabulary\n",
        "rct_20k_text_vocab = text_vectorizer.get_vocabulary()\n",
        "print(f\"Number of words in vocab: {len(rct_20k_text_vocab)}\")\n",
        "print(f\"Most common words in vocab: {rct_20k_text_vocab[:5]}\")\n",
        "print(f\"Least common words in vocab: {rct_20k_text_vocab[-5:]}\")"
      ],
      "execution_count": 35,
      "outputs": [
        {
          "output_type": "stream",
          "name": "stdout",
          "text": [
            "Number of words in vocab: 64841\n",
            "Most common words in vocab: ['', '[UNK]', 'the', 'and', 'of']\n",
            "Least common words in vocab: ['aainduced', 'aaigroup', 'aachener', 'aachen', 'aaacp']\n"
          ]
        }
      ]
    },
    {
      "cell_type": "markdown",
      "metadata": {
        "id": "aHNP5Ve1cFCr"
      },
      "source": [
        "If we want to figure out the configuration of our `text_vectorizer` we can use the `get_config()` method."
      ]
    },
    {
      "cell_type": "code",
      "metadata": {
        "colab": {
          "base_uri": "https://localhost:8080/"
        },
        "id": "ifYYd5_eUZ4u",
        "outputId": "59220fbe-bbc8-4a8a-87bf-eb79a183d213"
      },
      "source": [
        "# Get the config of our text vectorizer\n",
        "text_vectorizer.get_config()"
      ],
      "execution_count": 36,
      "outputs": [
        {
          "output_type": "execute_result",
          "data": {
            "text/plain": [
              "{'batch_input_shape': (None,),\n",
              " 'dtype': 'string',\n",
              " 'max_tokens': 68000,\n",
              " 'name': 'text_vectorization',\n",
              " 'ngrams': None,\n",
              " 'output_mode': 'int',\n",
              " 'output_sequence_length': 55,\n",
              " 'pad_to_max_tokens': False,\n",
              " 'split': 'whitespace',\n",
              " 'standardize': 'lower_and_strip_punctuation',\n",
              " 'trainable': True}"
            ]
          },
          "metadata": {},
          "execution_count": 36
        }
      ]
    },
    {
      "cell_type": "code",
      "metadata": {
        "id": "Nhz8mrcKUZ06"
      },
      "source": [
        "# Create custom text embedding\n",
        "token_embed = layers.Embedding(input_dim=len(rct_20k_text_vocab), # length of our vocab\n",
        "                               output_dim=128, # Note: different embedding sizes result in drasticallt different numbers of parameters to train\n",
        "                               mask_zero=True, # use masking to handle variable sequence lengths (save space)\n",
        "                               name=\"token_embedding\")"
      ],
      "execution_count": 37,
      "outputs": []
    },
    {
      "cell_type": "code",
      "metadata": {
        "colab": {
          "base_uri": "https://localhost:8080/"
        },
        "id": "rWxwJ1pDUZyt",
        "outputId": "de1ea5e9-3fda-4f17-b596-e99326a9b1dd"
      },
      "source": [
        "# Show example embedding\n",
        "print(f\"Sentence before vectorization:\\n{target_sentence}\\n\")\n",
        "vectorized_sentence = text_vectorizer([target_sentence])\n",
        "print(f\"Sentence after vectorization (before the embedding):\\n{vectorized_sentence}\\n\")\n",
        "embedded_sentence = token_embed(vectorized_sentence)\n",
        "print(f\"Sentence after embedding: {embedded_sentence}\\n\")\n",
        "print(f\"Embedded sentence shape: {embedded_sentence.shape}\")"
      ],
      "execution_count": 38,
      "outputs": [
        {
          "output_type": "stream",
          "name": "stdout",
          "text": [
            "Sentence before vectorization:\n",
            "single agent sorafenib could cross over to combination upon progression .\n",
            "\n",
            "Sentence after vectorization (before the embedding):\n",
            "[[ 312 1287 3297  281 4390  145    6  269 1864  499    0    0    0    0\n",
            "     0    0    0    0    0    0    0    0    0    0    0    0    0    0\n",
            "     0    0    0    0    0    0    0    0    0    0    0    0    0    0\n",
            "     0    0    0    0    0    0    0    0    0    0    0    0    0]]\n",
            "\n",
            "Sentence after embedding: [[[-0.04380089  0.02864173 -0.03332029 ...  0.00132082 -0.03489417\n",
            "   -0.00592826]\n",
            "  [-0.03032256 -0.00905956  0.04869523 ...  0.04734888  0.00548865\n",
            "    0.0285766 ]\n",
            "  [ 0.04330077  0.0151412  -0.00865813 ...  0.03226874 -0.03335315\n",
            "   -0.02175511]\n",
            "  ...\n",
            "  [-0.02705947 -0.04542309  0.01313951 ...  0.01828331  0.03907788\n",
            "    0.00413376]\n",
            "  [-0.02705947 -0.04542309  0.01313951 ...  0.01828331  0.03907788\n",
            "    0.00413376]\n",
            "  [-0.02705947 -0.04542309  0.01313951 ...  0.01828331  0.03907788\n",
            "    0.00413376]]]\n",
            "\n",
            "Embedded sentence shape: (1, 55, 128)\n"
          ]
        }
      ]
    },
    {
      "cell_type": "markdown",
      "metadata": {
        "id": "_L2uW6PiUZxG"
      },
      "source": [
        "## Creating datasets (making sure our data loads as fast as possible)"
      ]
    },
    {
      "cell_type": "code",
      "metadata": {
        "colab": {
          "base_uri": "https://localhost:8080/"
        },
        "id": "R6XSsnCSUZuD",
        "outputId": "bf631b8c-915a-4302-a471-e0270bfa8975"
      },
      "source": [
        "# Turn our data into TensorFlow Datasets\n",
        "train_dataset = tf.data.Dataset.from_tensor_slices((train_sentences, train_labels_one_hot))\n",
        "val_dataset = tf.data.Dataset.from_tensor_slices((val_sentences, val_labels_one_hot))\n",
        "test_dataset = tf.data.Dataset .from_tensor_slices((test_sentences, test_labels_one_hot))\n",
        "\n",
        "train_dataset"
      ],
      "execution_count": 39,
      "outputs": [
        {
          "output_type": "execute_result",
          "data": {
            "text/plain": [
              "<TensorSliceDataset shapes: ((), (5,)), types: (tf.string, tf.float64)>"
            ]
          },
          "metadata": {},
          "execution_count": 39
        }
      ]
    },
    {
      "cell_type": "code",
      "metadata": {
        "colab": {
          "base_uri": "https://localhost:8080/"
        },
        "id": "grhSiJWbUZrR",
        "outputId": "e98e8a21-1454-4f36-e0f9-01ef9f74c709"
      },
      "source": [
        "# Take the TensorSliceDataset's and turn them into prefected datasets\n",
        "train_dataset = train_dataset.batch(32).prefetch(tf.data.AUTOTUNE)\n",
        "val_dataset = val_dataset.batch(32).prefetch(tf.data.AUTOTUNE)\n",
        "test_dataset = test_dataset.batch(32).prefetch(tf.data.AUTOTUNE)\n",
        "\n",
        "train_dataset"
      ],
      "execution_count": 40,
      "outputs": [
        {
          "output_type": "execute_result",
          "data": {
            "text/plain": [
              "<PrefetchDataset shapes: ((None,), (None, 5)), types: (tf.string, tf.float64)>"
            ]
          },
          "metadata": {},
          "execution_count": 40
        }
      ]
    },
    {
      "cell_type": "markdown",
      "metadata": {
        "id": "ZiHgnQ6sUZow"
      },
      "source": [
        "## Model 1: Conv1D with token embeddings"
      ]
    },
    {
      "cell_type": "code",
      "metadata": {
        "id": "UA9cwrcid02f"
      },
      "source": [
        "# Create 1D conv model to process sequences\n",
        "inputs = layers.Input(shape=(1,), dtype=tf.string)\n",
        "text_vectors = text_vectorizer(inputs) # vectorize text inputs\n",
        "token_embeddings = token_embed(text_vectors) # create embedding\n",
        "x = layers.Conv1D(64, kernel_size=5, padding=\"same\", activation=\"relu\")(token_embeddings)\n",
        "x = layers.GlobalAveragePooling1D()(x)  #condense the output of our vector from conv layer\n",
        "outputs = layers.Dense(num_classes, activation=\"softmax\")(x)\n",
        "model_1 = tf.keras.Model(inputs, outputs)\n",
        "\n",
        "# Compile the model\n",
        "model_1.compile(loss=\"categorical_crossentropy\",\n",
        "                optimizer=\"Adam\",\n",
        "                metrics=[\"accuracy\"])"
      ],
      "execution_count": 41,
      "outputs": []
    },
    {
      "cell_type": "code",
      "metadata": {
        "colab": {
          "base_uri": "https://localhost:8080/"
        },
        "id": "UIGQ-NHwd0yQ",
        "outputId": "61fdd343-0568-4e75-8d95-f91c9e40800b"
      },
      "source": [
        "# Get a summary of the model\n",
        "model_1.summary()"
      ],
      "execution_count": 42,
      "outputs": [
        {
          "output_type": "stream",
          "name": "stdout",
          "text": [
            "Model: \"model\"\n",
            "_________________________________________________________________\n",
            "Layer (type)                 Output Shape              Param #   \n",
            "=================================================================\n",
            "input_1 (InputLayer)         [(None, 1)]               0         \n",
            "_________________________________________________________________\n",
            "text_vectorization (TextVect (None, 55)                0         \n",
            "_________________________________________________________________\n",
            "token_embedding (Embedding)  (None, 55, 128)           8299648   \n",
            "_________________________________________________________________\n",
            "conv1d (Conv1D)              (None, 55, 64)            41024     \n",
            "_________________________________________________________________\n",
            "global_average_pooling1d (Gl (None, 64)                0         \n",
            "_________________________________________________________________\n",
            "dense (Dense)                (None, 5)                 325       \n",
            "=================================================================\n",
            "Total params: 8,340,997\n",
            "Trainable params: 8,340,997\n",
            "Non-trainable params: 0\n",
            "_________________________________________________________________\n"
          ]
        }
      ]
    },
    {
      "cell_type": "code",
      "metadata": {
        "colab": {
          "base_uri": "https://localhost:8080/"
        },
        "id": "IlssTn9dd0wu",
        "outputId": "3d7b15df-398c-4fc1-a613-eae53b7bb28e"
      },
      "source": [
        "# Fit the model\n",
        "history_model_1 = model_1.fit(train_dataset,\n",
        "                              steps_per_epoch=int(0.1*len(train_dataset)),\n",
        "                              epochs=3,\n",
        "                              validation_data=val_dataset,\n",
        "                              validation_steps=int(0.1*len(val_dataset)))"
      ],
      "execution_count": 43,
      "outputs": [
        {
          "output_type": "stream",
          "name": "stdout",
          "text": [
            "Epoch 1/3\n",
            "562/562 [==============================] - 37s 14ms/step - loss: 0.9158 - accuracy: 0.6364 - val_loss: 0.6827 - val_accuracy: 0.7420\n",
            "Epoch 2/3\n",
            "562/562 [==============================] - 7s 13ms/step - loss: 0.6602 - accuracy: 0.7545 - val_loss: 0.6298 - val_accuracy: 0.7733\n",
            "Epoch 3/3\n",
            "562/562 [==============================] - 7s 13ms/step - loss: 0.6201 - accuracy: 0.7752 - val_loss: 0.5976 - val_accuracy: 0.7842\n"
          ]
        }
      ]
    },
    {
      "cell_type": "code",
      "metadata": {
        "colab": {
          "base_uri": "https://localhost:8080/"
        },
        "id": "HghHK_eFd0lP",
        "outputId": "1e79e45b-e257-4403-9c2f-3f91cd7231d7"
      },
      "source": [
        "# Evaluate on whole validation dataset\n",
        "model_1.evaluate(val_dataset)"
      ],
      "execution_count": 44,
      "outputs": [
        {
          "output_type": "stream",
          "name": "stdout",
          "text": [
            "945/945 [==============================] - 4s 4ms/step - loss: 0.6013 - accuracy: 0.7854\n"
          ]
        },
        {
          "output_type": "execute_result",
          "data": {
            "text/plain": [
              "[0.601348876953125, 0.7853502035140991]"
            ]
          },
          "metadata": {},
          "execution_count": 44
        }
      ]
    },
    {
      "cell_type": "code",
      "metadata": {
        "colab": {
          "base_uri": "https://localhost:8080/"
        },
        "id": "F9LAKfzMkfTQ",
        "outputId": "5799bb97-de40-49a1-e0e4-4412cdbbf5a4"
      },
      "source": [
        "# Make predictions\n",
        "model_1_pred_probs = model_1.predict(val_dataset)\n",
        "model_1_pred_probs[0], model_1_pred_probs.shape"
      ],
      "execution_count": 45,
      "outputs": [
        {
          "output_type": "execute_result",
          "data": {
            "text/plain": [
              "(array([0.44505337, 0.1724852 , 0.09646692, 0.24691896, 0.03907543],\n",
              "       dtype=float32), (30212, 5))"
            ]
          },
          "metadata": {},
          "execution_count": 45
        }
      ]
    },
    {
      "cell_type": "code",
      "metadata": {
        "colab": {
          "base_uri": "https://localhost:8080/"
        },
        "id": "n8kB2uTbkfBc",
        "outputId": "feac33e4-bffb-4abd-d130-e4124759ad96"
      },
      "source": [
        "# Convert pred_probs to classes\n",
        "model_1_preds = tf.argmax(model_1_pred_probs, axis=1)\n",
        "model_1_preds"
      ],
      "execution_count": 46,
      "outputs": [
        {
          "output_type": "execute_result",
          "data": {
            "text/plain": [
              "<tf.Tensor: shape=(30212,), dtype=int64, numpy=array([0, 0, 3, ..., 4, 1, 1])>"
            ]
          },
          "metadata": {},
          "execution_count": 46
        }
      ]
    },
    {
      "cell_type": "code",
      "metadata": {
        "colab": {
          "base_uri": "https://localhost:8080/"
        },
        "id": "zfEXyYefke_M",
        "outputId": "9e1e6352-f07c-404b-90bd-45a8f0c7d34d"
      },
      "source": [
        "# Calculate model_1 results\n",
        "model_1_results = calculate_results(y_true=val_labels_encoded,\n",
        "                                    y_pred=model_1_preds)\n",
        "model_1_results"
      ],
      "execution_count": 47,
      "outputs": [
        {
          "output_type": "execute_result",
          "data": {
            "text/plain": [
              "{'accuracy': 78.5350191976698,\n",
              " 'f1': 0.782964955939204,\n",
              " 'precision': 0.7821003422041282,\n",
              " 'recall': 0.785350191976698}"
            ]
          },
          "metadata": {},
          "execution_count": 47
        }
      ]
    },
    {
      "cell_type": "code",
      "metadata": {
        "colab": {
          "base_uri": "https://localhost:8080/"
        },
        "id": "jtuQAleLke8j",
        "outputId": "32774d5b-66eb-4765-86e0-caafac35f561"
      },
      "source": [
        "baseline_results"
      ],
      "execution_count": 48,
      "outputs": [
        {
          "output_type": "execute_result",
          "data": {
            "text/plain": [
              "{'accuracy': 72.1832384482987,\n",
              " 'f1': 0.6989250353450294,\n",
              " 'precision': 0.7186466952323352,\n",
              " 'recall': 0.7218323844829869}"
            ]
          },
          "metadata": {},
          "execution_count": 48
        }
      ]
    },
    {
      "cell_type": "markdown",
      "metadata": {
        "id": "DNkb_xL2v-iy"
      },
      "source": [
        "## Model 2: Feature extraction with pretrained token embeddings\n",
        "\n",
        "Now let's use pretrained word embeddings from TensorFlow Hub, [universal sentence encoder](https://tfhub.dev/google/universal-sentence-encoder/4)"
      ]
    },
    {
      "cell_type": "code",
      "metadata": {
        "id": "_T-jU9ZNv-hC"
      },
      "source": [
        "# Download pretrained TensorFlow Hub USE\n",
        "import tensorflow_hub as hub\n",
        "tf_hub_embedding_layer = hub.KerasLayer(\"https://tfhub.dev/google/universal-sentence-encoder/4\",\n",
        "                                        trainable=False,\n",
        "                                        name=\"universal_sentence_encoder\")"
      ],
      "execution_count": 49,
      "outputs": []
    },
    {
      "cell_type": "code",
      "metadata": {
        "colab": {
          "base_uri": "https://localhost:8080/"
        },
        "id": "WEi1A0myv-dh",
        "outputId": "35bf5d22-e84c-44d1-ebe7-fd8c26ed5491"
      },
      "source": [
        "# Test out the pretrained embedding on a random sentence\n",
        "random_train_sentence = random.choice(train_sentences)\n",
        "print(f\"Random sentence:\\n{random_train_sentence}\")\n",
        "use_embedded_sentence = tf_hub_embedding_layer([random_train_sentence])\n",
        "print(f\"Sentence after embedding:\\n{use_embedded_sentence[0]}\\n\")\n",
        "print(f\"Length of sentence embedding:{len(use_embedded_sentence[0])}\")"
      ],
      "execution_count": 50,
      "outputs": [
        {
          "output_type": "stream",
          "name": "stdout",
          "text": [
            "Random sentence:\n",
            "the primary clinical outcome was the cardiac index ( ci ) since it represents the most sensitive measure of cardiac work in the immediate postoperative period , and the secondary clinical outcomes were the glycemic control , insulin consumption , duration of mechanical ventilation ( mv ) , potassium level and atrial fibrillation ( af ) appearance .\n",
            "Sentence after embedding:\n",
            "[-1.89644732e-02  2.33574826e-02 -6.09922260e-02  3.46138850e-02\n",
            "  6.09295890e-02 -6.34377599e-02 -3.57486610e-03 -4.55963314e-02\n",
            "  6.51243925e-02  4.48492765e-02  7.18370304e-02 -4.45661023e-02\n",
            "  3.59782465e-02 -4.47448902e-02 -6.21562786e-02 -2.50498969e-02\n",
            " -7.19226971e-02 -5.52595444e-02 -9.44468938e-03  1.67678036e-02\n",
            " -4.57273945e-02  6.21621944e-02  5.05602770e-02  7.81811029e-03\n",
            " -2.84179859e-03 -6.24665059e-02 -6.19052015e-02  5.50887138e-02\n",
            " -6.11552969e-02  1.50936795e-02  3.73131968e-02  7.19948485e-02\n",
            "  4.34852764e-02  7.15368539e-02 -7.79811246e-03 -6.30082637e-02\n",
            " -3.06572672e-02 -2.78400760e-02  5.92523115e-03 -5.37190251e-02\n",
            " -6.05636649e-02  3.75183932e-02 -5.04182428e-02 -2.38908436e-02\n",
            "  3.98093946e-02 -3.29447165e-02 -4.77750599e-02 -1.27387708e-02\n",
            " -3.71147320e-02 -2.42316313e-02 -2.00457014e-02  2.70906389e-02\n",
            " -6.72618970e-02 -2.76739933e-02 -2.02247314e-02  2.86155120e-02\n",
            " -3.69963124e-02 -4.00973111e-03  6.03744686e-02 -6.43794164e-02\n",
            " -5.00259586e-02 -4.71157394e-02  5.96739128e-02 -1.34087987e-02\n",
            " -3.91093008e-02 -5.43506332e-02  3.73003334e-02  3.16882432e-02\n",
            "  6.88961744e-02 -1.18495058e-03  5.06650023e-02 -5.64275533e-02\n",
            " -4.55768481e-02  5.70559986e-02  6.38490841e-02 -3.97497378e-02\n",
            " -3.44090164e-02  3.78703838e-03  1.40170129e-02  1.59438164e-03\n",
            " -3.42432745e-02  2.06157230e-02  2.87537985e-02  7.04941601e-02\n",
            " -6.77139759e-02  5.56678735e-02  2.39382032e-02 -4.43506390e-02\n",
            "  1.27728423e-02 -6.54382780e-02  4.88724634e-02 -3.25196981e-02\n",
            " -4.23551314e-02  1.92193072e-02  1.83638036e-02  1.13823364e-04\n",
            " -3.05693708e-02  2.26025693e-02  1.54734496e-02  4.76964787e-02\n",
            " -6.43446296e-02  8.97486974e-03  5.60377650e-02  5.17341308e-02\n",
            " -1.88644603e-02  6.50592819e-02  7.04268925e-03  2.05827830e-03\n",
            " -4.99683470e-02  2.65838653e-02 -3.98953669e-02  1.57678686e-02\n",
            " -1.08459396e-02 -8.57616123e-03 -3.32252122e-02 -8.34576134e-03\n",
            " -4.12253998e-02  5.65677602e-03  5.29891215e-02  3.51744406e-02\n",
            " -5.38269617e-02 -6.27531260e-02 -6.81533515e-02 -1.41815478e-02\n",
            " -6.40433803e-02  2.15256447e-03 -6.65141791e-02 -6.30437359e-02\n",
            " -5.63510787e-03  1.93825196e-02 -6.27228245e-02  7.19912946e-02\n",
            "  3.02555822e-02 -3.24422717e-02  2.93020010e-02 -1.58932433e-02\n",
            "  5.69317825e-02  2.01558340e-02 -5.63475825e-02  5.72256520e-02\n",
            "  1.28314961e-02  6.88401014e-02  5.68935997e-04 -6.25546202e-02\n",
            " -5.95703460e-02 -5.22575378e-02 -1.78724770e-02 -5.18897958e-02\n",
            "  3.73767614e-02 -6.70387819e-02 -2.76391441e-03  1.33793522e-02\n",
            " -3.35904211e-02 -6.94902167e-02  5.74062057e-02  1.28107879e-03\n",
            " -6.30533770e-02  2.09014919e-02  2.93927733e-02 -4.28191945e-02\n",
            " -2.39703264e-02  2.93000173e-02 -6.16167262e-02  5.73480986e-02\n",
            "  8.04336369e-03 -1.85738392e-02 -5.85514344e-02 -3.46691832e-02\n",
            "  2.43138056e-02  4.85178903e-02 -6.07557558e-02 -4.50648777e-02\n",
            "  5.03126793e-02  3.03765349e-02 -4.22107764e-02 -5.46720577e-03\n",
            "  1.92296244e-02  3.88622805e-02  7.26826536e-03  4.19550203e-03\n",
            " -4.48028967e-02 -5.80225093e-03  6.03361912e-02  5.08866273e-02\n",
            "  6.11995384e-02 -2.75798328e-03  4.44438681e-02 -1.64829306e-02\n",
            "  5.71791381e-02 -4.33762595e-02  1.90338511e-02 -5.14640845e-02\n",
            "  7.15727219e-03  2.41295770e-02  1.06870094e-02 -6.21805117e-02\n",
            " -8.33585765e-03 -6.23591989e-02  5.38034029e-02 -5.58733009e-02\n",
            "  3.88796404e-02 -4.11531329e-02 -5.79461977e-02  5.88038415e-02\n",
            "  7.49738747e-03 -2.07304433e-02 -2.51722685e-03 -5.63871814e-03\n",
            "  6.08900562e-02  4.06768508e-02 -6.49978369e-02 -5.83221391e-02\n",
            " -6.84432834e-02  5.18115051e-02 -3.06696240e-02  6.81528402e-03\n",
            " -6.55595511e-02 -1.07930331e-02  3.82499844e-02  4.05651368e-02\n",
            "  3.56027745e-02 -2.09662411e-02  5.12109585e-02 -3.29673626e-02\n",
            " -2.51233894e-02 -4.28725556e-02 -6.63389936e-02  3.67833488e-02\n",
            "  4.73023988e-02  6.36253953e-02  6.14371523e-02 -1.59885781e-03\n",
            " -3.92712541e-02 -5.15654199e-02  6.56888559e-02 -6.68475553e-02\n",
            " -2.23898515e-02  1.23471003e-02 -5.52276857e-02  6.11723661e-02\n",
            "  5.38157895e-02 -3.15031148e-02  1.67022571e-02 -6.74483329e-02\n",
            " -1.93800405e-02 -5.92147931e-02 -6.01940267e-02  4.28935215e-02\n",
            "  5.66212833e-02 -7.18627274e-02  1.62139442e-02  2.19858717e-02\n",
            " -3.60198952e-02 -3.41066644e-02 -4.75295092e-04 -2.33857781e-02\n",
            "  2.95045227e-02  7.12907016e-02 -5.74250370e-02  3.01212147e-02\n",
            "  2.25459728e-02 -3.48729230e-02  1.73715016e-05 -1.90728568e-02\n",
            " -2.29146034e-02 -5.54653928e-02 -6.57332838e-02  2.20506098e-02\n",
            " -7.05820173e-02  7.01026022e-02 -3.65745574e-02  6.73368648e-02\n",
            "  5.09377569e-02 -6.17606305e-02  7.04590827e-02  4.22672480e-02\n",
            "  2.25006212e-02  4.53447625e-02  5.61997183e-02 -3.01369932e-02\n",
            " -4.22738232e-02  4.80768308e-02 -9.33049805e-03 -1.34072630e-02\n",
            "  7.08096996e-02 -3.88713144e-02 -6.00036383e-02 -3.40468995e-02\n",
            " -3.32129896e-02  4.52194661e-02  3.79575826e-02  5.89207150e-02\n",
            "  1.69698652e-02 -2.76390016e-02 -5.23698963e-02 -3.27441320e-02\n",
            "  1.30454581e-02 -6.45794645e-02  5.19153103e-02 -5.97517975e-02\n",
            "  2.21972428e-02  5.09646274e-02 -1.25771165e-02 -4.74392064e-02\n",
            " -6.26164377e-02 -2.39886139e-02  6.40544146e-02  2.87880003e-02\n",
            "  6.39146790e-02 -5.50991185e-02 -5.79484887e-02 -3.07069607e-02\n",
            " -6.47807419e-02 -3.48918810e-02 -5.41732647e-02 -4.07687388e-02\n",
            " -4.87165675e-02  3.36705870e-03 -6.57498762e-02 -7.09455013e-02\n",
            " -6.96954206e-02 -2.88837329e-02  6.43291418e-03  2.05652341e-02\n",
            "  3.07630468e-02  6.96525723e-02 -5.60553819e-02 -5.46333417e-02\n",
            " -5.20541780e-02  2.25908421e-02  3.79161127e-02  7.16087669e-02\n",
            " -1.87296122e-02  2.72415113e-02  6.43100142e-02  1.15169035e-02\n",
            "  6.17331490e-02 -6.62116781e-02 -2.66517717e-02  2.56211516e-02\n",
            " -1.99305452e-02 -1.77950468e-02  3.60395201e-02  1.84753798e-02\n",
            " -5.64022772e-02 -5.43746054e-02  1.29170502e-02  6.05862327e-02\n",
            " -3.43460441e-02 -5.42740598e-02  5.42026907e-02  2.71359794e-02\n",
            "  4.14985530e-02 -2.01306064e-02  5.70211075e-02 -2.88147796e-02\n",
            " -6.84975907e-02 -1.07255699e-02  6.96414476e-03  3.15418690e-02\n",
            "  3.13585810e-02 -1.96634792e-03 -6.82773814e-02 -5.04866801e-02\n",
            "  1.78001467e-02  5.14960699e-02  6.59369230e-02  8.87046009e-03\n",
            "  2.75267344e-02 -3.58769931e-02  2.74099316e-03 -4.95007448e-02\n",
            "  3.19713764e-02 -7.15739429e-02 -1.45727908e-03  5.36015965e-02\n",
            "  1.25164632e-02  4.27229032e-02 -1.46383198e-03 -5.54944724e-02\n",
            " -2.90081021e-03  6.26743436e-02  7.03814963e-04  5.55881113e-02\n",
            " -2.16152035e-02 -1.88488781e-03 -5.03095128e-02 -4.89814300e-03\n",
            "  5.35434261e-02 -1.99155957e-02  3.50089036e-02  2.47837156e-02\n",
            " -1.37473904e-02 -2.64083948e-02 -6.00659996e-02  1.63364727e-02\n",
            "  6.98026866e-02  3.21388710e-03  6.29854277e-02 -4.41692285e-02\n",
            "  5.72153144e-02  3.66199017e-02 -8.27084016e-03  4.84801047e-02\n",
            "  6.49645627e-02 -6.99335560e-02  5.31834476e-02  2.70384345e-02\n",
            "  6.56873882e-02  5.34126498e-02  5.82294306e-03  3.24198678e-02\n",
            " -3.56308557e-02 -4.63135168e-02  3.25026400e-02 -6.02253899e-02\n",
            " -1.25778727e-02  3.54692601e-02 -6.62534311e-02  5.22215664e-02\n",
            " -3.71338166e-02 -5.59676811e-02  6.89741969e-02 -6.06299415e-02\n",
            " -4.36486192e-02 -6.36338815e-02  6.72195256e-02  5.75888567e-02\n",
            "  5.52690327e-02  7.66275264e-03  3.65914516e-02  5.98557591e-02\n",
            "  1.88233308e-03  2.82027479e-02  3.13529186e-02 -1.47087993e-02\n",
            "  4.89585800e-03  8.91309045e-03  9.12430231e-03  5.04607223e-02\n",
            " -1.55696832e-02 -5.27017042e-02 -2.26628538e-02 -5.39205633e-02\n",
            " -6.31375089e-02 -5.98229580e-02  1.12927863e-02 -1.37242703e-02\n",
            " -5.26649393e-02 -2.78520808e-02 -4.93412055e-02 -6.33434281e-02\n",
            "  2.85565238e-02  6.23665676e-02 -9.71729960e-03 -6.52894750e-02\n",
            " -1.88154224e-02  5.12970202e-02 -6.03877008e-04  2.26312280e-02\n",
            " -7.49484543e-03  3.07705291e-02 -6.83634952e-02 -2.91939918e-02\n",
            " -1.78070217e-02 -6.47985637e-02  1.10171000e-02  2.20513400e-02\n",
            " -5.58444411e-02 -6.74646124e-02  7.12723956e-02  5.69617823e-02\n",
            " -3.81036401e-02  5.35377041e-02 -4.20535132e-02  6.88083321e-02\n",
            " -3.21340524e-02 -4.40870784e-02 -1.48897767e-02  5.82796708e-02\n",
            " -4.88282405e-02  5.75096495e-02 -6.73084408e-02 -4.00110111e-02\n",
            "  4.11640480e-02  1.55451382e-02  3.80823426e-02  2.53988057e-03\n",
            " -6.26582950e-02  1.46142244e-02 -5.49025973e-03  1.31474948e-03\n",
            " -8.35020654e-03 -4.39010933e-02  4.85450439e-02  6.23655096e-02\n",
            " -5.34144044e-02 -5.84834367e-02  4.37457189e-02 -5.89618646e-02\n",
            "  3.86434980e-02  1.80063136e-02  3.96267585e-02 -7.17994273e-02\n",
            " -3.17974314e-02 -7.20020831e-02  5.64261936e-02 -1.78708918e-02\n",
            " -1.90326031e-02 -1.61795001e-02 -2.57852413e-02 -6.30853772e-02]\n",
            "\n",
            "Length of sentence embedding:512\n"
          ]
        }
      ]
    },
    {
      "cell_type": "markdown",
      "metadata": {
        "id": "Da9EnJFcv-a7"
      },
      "source": [
        "### Building and fitting an NLP feature extraction model from TensorFlow Hub"
      ]
    },
    {
      "cell_type": "code",
      "metadata": {
        "id": "gA2Vd4qxv-YI"
      },
      "source": [
        "# Define feature extraction model using TF Hub layer\n",
        "inputs = layers.Input(shape=[], dtype=\"string\")\n",
        "pretrained_embedding = tf_hub_embedding_layer(inputs) # tokenize text and create embedding of each sequence(512 long vector)\n",
        "x = layers.Dense(128, activation=\"relu\")(pretrained_embedding)\n",
        "# Note: You could add more layers here if you wanted to\n",
        "outputs = layers.Dense(5, activation=\"softmax\")(x) # create the output layer\n",
        "model_2 = tf.keras.Model(inputs, outputs, name=\"model_2_USE_feature_extractor\")\n",
        "\n",
        "# Compile the model\n",
        "model_2.compile(loss=\"categorical_crossentropy\",\n",
        "                optimizer=\"Adam\",\n",
        "                metrics=[\"accuracy\"])"
      ],
      "execution_count": 51,
      "outputs": []
    },
    {
      "cell_type": "code",
      "metadata": {
        "colab": {
          "base_uri": "https://localhost:8080/"
        },
        "id": "hWd4Jxkmv-Ve",
        "outputId": "dd2d2d50-d93d-4904-efe0-dc589d969289"
      },
      "source": [
        "# Get a summary\n",
        "model_2.summary()"
      ],
      "execution_count": 52,
      "outputs": [
        {
          "output_type": "stream",
          "name": "stdout",
          "text": [
            "Model: \"model_2_USE_feature_extractor\"\n",
            "_________________________________________________________________\n",
            "Layer (type)                 Output Shape              Param #   \n",
            "=================================================================\n",
            "input_2 (InputLayer)         [(None,)]                 0         \n",
            "_________________________________________________________________\n",
            "universal_sentence_encoder ( (None, 512)               256797824 \n",
            "_________________________________________________________________\n",
            "dense_1 (Dense)              (None, 128)               65664     \n",
            "_________________________________________________________________\n",
            "dense_2 (Dense)              (None, 5)                 645       \n",
            "=================================================================\n",
            "Total params: 256,864,133\n",
            "Trainable params: 66,309\n",
            "Non-trainable params: 256,797,824\n",
            "_________________________________________________________________\n"
          ]
        }
      ]
    },
    {
      "cell_type": "code",
      "metadata": {
        "colab": {
          "base_uri": "https://localhost:8080/"
        },
        "id": "ixEL4zwLv-St",
        "outputId": "ca40fb16-0a19-43b4-c728-95df6f215cdc"
      },
      "source": [
        "# Fit model_2 to the data\n",
        "history_model_2 = model_2.fit(train_dataset,\n",
        "                              epochs=3,\n",
        "                              steps_per_epoch=int(0.1*len(train_dataset)),\n",
        "                              validation_data=val_dataset,\n",
        "                              validation_steps=int(0.1*len(val_dataset)))"
      ],
      "execution_count": 53,
      "outputs": [
        {
          "output_type": "stream",
          "name": "stdout",
          "text": [
            "Epoch 1/3\n",
            "562/562 [==============================] - 13s 19ms/step - loss: 0.9130 - accuracy: 0.6471 - val_loss: 0.7999 - val_accuracy: 0.6915\n",
            "Epoch 2/3\n",
            "562/562 [==============================] - 10s 18ms/step - loss: 0.7709 - accuracy: 0.7006 - val_loss: 0.7587 - val_accuracy: 0.7021\n",
            "Epoch 3/3\n",
            "562/562 [==============================] - 10s 18ms/step - loss: 0.7544 - accuracy: 0.7109 - val_loss: 0.7422 - val_accuracy: 0.7101\n"
          ]
        }
      ]
    },
    {
      "cell_type": "code",
      "metadata": {
        "colab": {
          "base_uri": "https://localhost:8080/"
        },
        "id": "GdxJ6QqCv-QM",
        "outputId": "b203445b-d655-4ecf-c353-4aa1f409ae31"
      },
      "source": [
        "# Evaluate the model\n",
        "model_2.evaluate(test_dataset)"
      ],
      "execution_count": 54,
      "outputs": [
        {
          "output_type": "stream",
          "name": "stdout",
          "text": [
            "942/942 [==============================] - 15s 16ms/step - loss: 0.7566 - accuracy: 0.7066\n"
          ]
        },
        {
          "output_type": "execute_result",
          "data": {
            "text/plain": [
              "[0.7565937042236328, 0.706587016582489]"
            ]
          },
          "metadata": {},
          "execution_count": 54
        }
      ]
    },
    {
      "cell_type": "code",
      "metadata": {
        "id": "8cTvm51uv-Ng"
      },
      "source": [
        "# Make predictions\n",
        "model_2_pred_probs = model_2.predict(val_dataset)"
      ],
      "execution_count": 55,
      "outputs": []
    },
    {
      "cell_type": "code",
      "metadata": {
        "colab": {
          "base_uri": "https://localhost:8080/"
        },
        "id": "b4m1Zuyr6kso",
        "outputId": "45892970-32db-4084-8d6e-cc18673a930f"
      },
      "source": [
        "#Convert the prediction probabilities found with feature extraction model to labels\n",
        "model_2_preds = tf.argmax(model_2_pred_probs, axis=1)\n",
        "model_2_preds"
      ],
      "execution_count": 56,
      "outputs": [
        {
          "output_type": "execute_result",
          "data": {
            "text/plain": [
              "<tf.Tensor: shape=(30212,), dtype=int64, numpy=array([0, 1, 3, ..., 4, 4, 2])>"
            ]
          },
          "metadata": {},
          "execution_count": 56
        }
      ]
    },
    {
      "cell_type": "code",
      "metadata": {
        "colab": {
          "base_uri": "https://localhost:8080/"
        },
        "id": "szXpNTcm6kqD",
        "outputId": "61d01b28-79d4-4028-9f08-806d07369191"
      },
      "source": [
        "# Calculate results from TF Hub pretrained embeddings results on val set\n",
        "model_2_results = calculate_results(y_true=val_labels_encoded,\n",
        "                                    y_pred=model_2_preds)\n",
        "model_2_results"
      ],
      "execution_count": 57,
      "outputs": [
        {
          "output_type": "execute_result",
          "data": {
            "text/plain": [
              "{'accuracy': 71.2432146167086,\n",
              " 'f1': 0.7097000765909126,\n",
              " 'precision': 0.7126476026547249,\n",
              " 'recall': 0.712432146167086}"
            ]
          },
          "metadata": {},
          "execution_count": 57
        }
      ]
    },
    {
      "cell_type": "code",
      "metadata": {
        "colab": {
          "base_uri": "https://localhost:8080/"
        },
        "id": "Dp9l8BXe86bY",
        "outputId": "c63fb9a2-1949-4968-f12f-557070e70c76"
      },
      "source": [
        "baseline_results"
      ],
      "execution_count": 58,
      "outputs": [
        {
          "output_type": "execute_result",
          "data": {
            "text/plain": [
              "{'accuracy': 72.1832384482987,\n",
              " 'f1': 0.6989250353450294,\n",
              " 'precision': 0.7186466952323352,\n",
              " 'recall': 0.7218323844829869}"
            ]
          },
          "metadata": {},
          "execution_count": 58
        }
      ]
    },
    {
      "cell_type": "code",
      "metadata": {
        "colab": {
          "base_uri": "https://localhost:8080/"
        },
        "id": "mYnqJDg-86Y-",
        "outputId": "5b23bdd0-91ff-4bd6-9e10-6c7d0f5864a4"
      },
      "source": [
        "model_1_results"
      ],
      "execution_count": 59,
      "outputs": [
        {
          "output_type": "execute_result",
          "data": {
            "text/plain": [
              "{'accuracy': 78.5350191976698,\n",
              " 'f1': 0.782964955939204,\n",
              " 'precision': 0.7821003422041282,\n",
              " 'recall': 0.785350191976698}"
            ]
          },
          "metadata": {},
          "execution_count": 59
        }
      ]
    },
    {
      "cell_type": "markdown",
      "metadata": {
        "id": "pBgNTaBEDBwr"
      },
      "source": [
        "## Model 3: Conv1D with character embeddings\n",
        "\n",
        "The paper which we're replication states they used a combination of token and character-level embeddings.\n",
        "\n",
        "Previously, we've made token-level embeddings but we'll need to do similar steps for characters if we want to use char-level embeddings."
      ]
    },
    {
      "cell_type": "markdown",
      "metadata": {
        "id": "hsVCKQnCDBuc"
      },
      "source": [
        "### Creating a character-level tokenizer"
      ]
    },
    {
      "cell_type": "code",
      "metadata": {
        "colab": {
          "base_uri": "https://localhost:8080/"
        },
        "id": "1vtt8kSQVJCh",
        "outputId": "63604ba3-b968-443b-ebd6-9476f565e925"
      },
      "source": [
        "train_sentences[:5]"
      ],
      "execution_count": 65,
      "outputs": [
        {
          "output_type": "execute_result",
          "data": {
            "text/plain": [
              "['to investigate the efficacy of @ weeks of daily low-dose oral prednisolone in improving pain , mobility , and systemic low-grade inflammation in the short term and whether the effect would be sustained at @ weeks in older adults with moderate to severe knee osteoarthritis ( oa ) .',\n",
              " 'a total of @ patients with primary knee oa were randomized @:@ ; @ received @ mg/day of prednisolone and @ received placebo for @ weeks .',\n",
              " 'outcome measures included pain reduction and improvement in function scores and systemic inflammation markers .',\n",
              " 'pain was assessed using the visual analog pain scale ( @-@ mm ) .',\n",
              " 'secondary outcome measures included the western ontario and mcmaster universities osteoarthritis index scores , patient global assessment ( pga ) of the severity of knee oa , and @-min walk distance ( @mwd ) .']"
            ]
          },
          "metadata": {},
          "execution_count": 65
        }
      ]
    },
    {
      "cell_type": "code",
      "metadata": {
        "colab": {
          "base_uri": "https://localhost:8080/",
          "height": 170
        },
        "id": "76AM_O-5VI_n",
        "outputId": "23b328c3-05a1-43fe-e804-4f078778f1b1"
      },
      "source": [
        "# Make a function to split sentences into characters\n",
        "def split_chars(text):\n",
        "  return \" \".join(list(text))\n",
        "\n",
        "# Text splitting non-character level sequence into characters\n",
        "split_chars(random_train_sentence)"
      ],
      "execution_count": 67,
      "outputs": [
        {
          "output_type": "execute_result",
          "data": {
            "application/vnd.google.colaboratory.intrinsic+json": {
              "type": "string"
            },
            "text/plain": [
              "'t h e   p r i m a r y   c l i n i c a l   o u t c o m e   w a s   t h e   c a r d i a c   i n d e x   (   c i   )   s i n c e   i t   r e p r e s e n t s   t h e   m o s t   s e n s i t i v e   m e a s u r e   o f   c a r d i a c   w o r k   i n   t h e   i m m e d i a t e   p o s t o p e r a t i v e   p e r i o d   ,   a n d   t h e   s e c o n d a r y   c l i n i c a l   o u t c o m e s   w e r e   t h e   g l y c e m i c   c o n t r o l   ,   i n s u l i n   c o n s u m p t i o n   ,   d u r a t i o n   o f   m e c h a n i c a l   v e n t i l a t i o n   (   m v   )   ,   p o t a s s i u m   l e v e l   a n d   a t r i a l   f i b r i l l a t i o n   (   a f   )   a p p e a r a n c e   .'"
            ]
          },
          "metadata": {},
          "execution_count": 67
        }
      ]
    },
    {
      "cell_type": "code",
      "metadata": {
        "colab": {
          "base_uri": "https://localhost:8080/"
        },
        "id": "1VbcfQzyVI8R",
        "outputId": "56af6c85-b408-4029-b223-0b7c2c677211"
      },
      "source": [
        "# Split sequence-level data splits into character-level data splits\n",
        "train_chars = [split_chars(sentence) for sentence in train_sentences]\n",
        "val_chars = [split_chars(sentence) for sentence in val_sentences]\n",
        "test_chars = [split_chars(sentence) for sentence in test_sentences]\n",
        "train_chars[:5]"
      ],
      "execution_count": 69,
      "outputs": [
        {
          "output_type": "execute_result",
          "data": {
            "text/plain": [
              "['t o   i n v e s t i g a t e   t h e   e f f i c a c y   o f   @   w e e k s   o f   d a i l y   l o w - d o s e   o r a l   p r e d n i s o l o n e   i n   i m p r o v i n g   p a i n   ,   m o b i l i t y   ,   a n d   s y s t e m i c   l o w - g r a d e   i n f l a m m a t i o n   i n   t h e   s h o r t   t e r m   a n d   w h e t h e r   t h e   e f f e c t   w o u l d   b e   s u s t a i n e d   a t   @   w e e k s   i n   o l d e r   a d u l t s   w i t h   m o d e r a t e   t o   s e v e r e   k n e e   o s t e o a r t h r i t i s   (   o a   )   .',\n",
              " 'a   t o t a l   o f   @   p a t i e n t s   w i t h   p r i m a r y   k n e e   o a   w e r e   r a n d o m i z e d   @ : @   ;   @   r e c e i v e d   @   m g / d a y   o f   p r e d n i s o l o n e   a n d   @   r e c e i v e d   p l a c e b o   f o r   @   w e e k s   .',\n",
              " 'o u t c o m e   m e a s u r e s   i n c l u d e d   p a i n   r e d u c t i o n   a n d   i m p r o v e m e n t   i n   f u n c t i o n   s c o r e s   a n d   s y s t e m i c   i n f l a m m a t i o n   m a r k e r s   .',\n",
              " 'p a i n   w a s   a s s e s s e d   u s i n g   t h e   v i s u a l   a n a l o g   p a i n   s c a l e   (   @ - @   m m   )   .',\n",
              " 's e c o n d a r y   o u t c o m e   m e a s u r e s   i n c l u d e d   t h e   w e s t e r n   o n t a r i o   a n d   m c m a s t e r   u n i v e r s i t i e s   o s t e o a r t h r i t i s   i n d e x   s c o r e s   ,   p a t i e n t   g l o b a l   a s s e s s m e n t   (   p g a   )   o f   t h e   s e v e r i t y   o f   k n e e   o a   ,   a n d   @ - m i n   w a l k   d i s t a n c e   (   @ m w d   )   .']"
            ]
          },
          "metadata": {},
          "execution_count": 69
        }
      ]
    },
    {
      "cell_type": "code",
      "metadata": {
        "colab": {
          "base_uri": "https://localhost:8080/"
        },
        "id": "NDSZZQz2VI4p",
        "outputId": "dc6deeff-dcbc-4e6c-e743-6ca2d911be1a"
      },
      "source": [
        "# What is the average character length?\n",
        "char_lens = [len(sentence) for sentence in train_sentences]\n",
        "mean_char_len = np.mean(char_lens)\n",
        "mean_char_len"
      ],
      "execution_count": 70,
      "outputs": [
        {
          "output_type": "execute_result",
          "data": {
            "text/plain": [
              "149.3662574983337"
            ]
          },
          "metadata": {},
          "execution_count": 70
        }
      ]
    },
    {
      "cell_type": "code",
      "metadata": {
        "colab": {
          "base_uri": "https://localhost:8080/",
          "height": 265
        },
        "id": "jJxRXKDhVIyO",
        "outputId": "22a70689-dfd5-4858-d4d4-6bccf0b67636"
      },
      "source": [
        "# Check the distribution of our sequences of our sequences at a charater-level\n",
        "import matplotlib.pyplot as plt\n",
        "plt.hist(char_lens, bins=7);"
      ],
      "execution_count": 71,
      "outputs": [
        {
          "output_type": "display_data",
          "data": {
            "image/png": "[encoded data removed]",
            "text/plain": [
              "<Figure size 432x288 with 1 Axes>"
            ]
          },
          "metadata": {
            "needs_background": "light"
          }
        }
      ]
    },
    {
      "cell_type": "code",
      "metadata": {
        "colab": {
          "base_uri": "https://localhost:8080/"
        },
        "id": "VvbbH5qCannn",
        "outputId": "f7db6e7a-2936-4366-c740-8b1ceb737f2b"
      },
      "source": [
        "# Find what character length covers 95% of sequences\n",
        "output_seq_char_len = int(np.percentile(char_lens, 95))\n",
        "output_seq_char_len "
      ],
      "execution_count": 72,
      "outputs": [
        {
          "output_type": "execute_result",
          "data": {
            "text/plain": [
              "290"
            ]
          },
          "metadata": {},
          "execution_count": 72
        }
      ]
    },
    {
      "cell_type": "code",
      "metadata": {
        "colab": {
          "base_uri": "https://localhost:8080/",
          "height": 35
        },
        "id": "BQ1wB3Vianj5",
        "outputId": "98b6347e-32d4-498a-c013-7931b4e27fcf"
      },
      "source": [
        "# Get all keyboard characters\n",
        "import string\n",
        "alphabet = string.ascii_lowercase + string.digits + string.punctuation\n",
        "alphabet"
      ],
      "execution_count": 74,
      "outputs": [
        {
          "output_type": "execute_result",
          "data": {
            "application/vnd.google.colaboratory.intrinsic+json": {
              "type": "string"
            },
            "text/plain": [
              "'abcdefghijklmnopqrstuvwxyz0123456789!\"#$%&\\'()*+,-./:;<=>?@[\\\\]^_`{|}~'"
            ]
          },
          "metadata": {},
          "execution_count": 74
        }
      ]
    },
    {
      "cell_type": "code",
      "metadata": {
        "id": "I8soJvP2andO"
      },
      "source": [
        "# Create char-level token vectorizer instance\n",
        "NUM_CHAR_TOKENS = len(alphabet) + 2 # add 2 for space and OOV token (OOV: Out of vocabulary, \"[UNK]\")\n",
        "char_vectorizer = TextVectorization(max_tokens=NUM_CHAR_TOKENS,\n",
        "                                    output_sequence_length=output_seq_char_len,\n",
        "                                    # standardize=\"lower_and_strip_punctuation\",\n",
        "                                    name=\"char_vectorizer\")"
      ],
      "execution_count": 84,
      "outputs": []
    },
    {
      "cell_type": "code",
      "metadata": {
        "id": "-9Y02IQkanVt"
      },
      "source": [
        "# Adapt character vectorizer to training characters\n",
        "char_vectorizer.adapt(train_chars)"
      ],
      "execution_count": 85,
      "outputs": []
    },
    {
      "cell_type": "code",
      "metadata": {
        "colab": {
          "base_uri": "https://localhost:8080/"
        },
        "id": "_YHKlNAwVIrI",
        "outputId": "9d0c8b9e-f640-4d60-d9c5-e80128feeb83"
      },
      "source": [
        "# Check character vocab stats\n",
        "char_vocab = char_vectorizer.get_vocabulary()\n",
        "print(f\"Number of different characters in character vocab: {len(char_vocab)}\")\n",
        "print(f\"5 most common characters: {char_vocab[:5]}\")\n",
        "print(f\"5 most least characters: {char_vocab[-5:]}\")"
      ],
      "execution_count": 86,
      "outputs": [
        {
          "output_type": "stream",
          "name": "stdout",
          "text": [
            "Number of different characters in character vocab: 28\n",
            "5 most common characters: ['', '[UNK]', 'e', 't', 'i']\n",
            "5 most least characters: ['k', 'x', 'z', 'q', 'j']\n"
          ]
        }
      ]
    },
    {
      "cell_type": "code",
      "metadata": {
        "colab": {
          "base_uri": "https://localhost:8080/"
        },
        "id": "6b68F4sRXW_t",
        "outputId": "57b39dc3-dd04-447e-965e-54989f81c087"
      },
      "source": [
        "# Test our character vectorizer\n",
        "random_train_chars = random.choice(train_chars)\n",
        "print(f\"Charified text:\\n{random_train_chars}\")\n",
        "print(f\"Length of random_train_chars:\\n{len(random_train_chars.split())}\")\n",
        "vectorized_chars = char_vectorizer([random_train_chars])\n",
        "print(f\"Vectorized chars:\\n{vectorized_chars}\")\n",
        "print(f\"Length of vectorized_chars:\\n{len(vectorized_chars[0])}\")"
      ],
      "execution_count": 91,
      "outputs": [
        {
          "output_type": "stream",
          "name": "stdout",
          "text": [
            "Charified text:\n",
            "t h e   m a i n   o u t c o m e   m e a s u r e s   w e r e   b e s t - c o r r e c t e d   v i s u a l   a c u i t y   (   b c v a   )   a n d   i n j e c t i o n   f r e q u e n c y   a s s e s s e d   a t   w e e k   @   .\n",
            "Length of random_train_chars:\n",
            "95\n",
            "Vectorized chars:\n",
            "[[ 3 13  2 15  5  4  6  7 16  3 11  7 15  2 15  2  5  9 16  8  2  9 20  2\n",
            "   8  2 22  2  9  3 11  7  8  8  2 11  3  2 10 21  4  9 16  5 12  5 11 16\n",
            "   4  3 19 22 11 21  5  5  6 10  4  6 27  2 11  3  4  7  6 17  8  2 26 16\n",
            "   2  6 11 19  5  9  9  2  9  9  2 10  5  3 20  2  2 23  0  0  0  0  0  0\n",
            "   0  0  0  0  0  0  0  0  0  0  0  0  0  0  0  0  0  0  0  0  0  0  0  0\n",
            "   0  0  0  0  0  0  0  0  0  0  0  0  0  0  0  0  0  0  0  0  0  0  0  0\n",
            "   0  0  0  0  0  0  0  0  0  0  0  0  0  0  0  0  0  0  0  0  0  0  0  0\n",
            "   0  0  0  0  0  0  0  0  0  0  0  0  0  0  0  0  0  0  0  0  0  0  0  0\n",
            "   0  0  0  0  0  0  0  0  0  0  0  0  0  0  0  0  0  0  0  0  0  0  0  0\n",
            "   0  0  0  0  0  0  0  0  0  0  0  0  0  0  0  0  0  0  0  0  0  0  0  0\n",
            "   0  0  0  0  0  0  0  0  0  0  0  0  0  0  0  0  0  0  0  0  0  0  0  0\n",
            "   0  0  0  0  0  0  0  0  0  0  0  0  0  0  0  0  0  0  0  0  0  0  0  0\n",
            "   0  0]]\n",
            "Length of vectorized_chars:\n",
            "290\n"
          ]
        }
      ]
    }
  ]
}