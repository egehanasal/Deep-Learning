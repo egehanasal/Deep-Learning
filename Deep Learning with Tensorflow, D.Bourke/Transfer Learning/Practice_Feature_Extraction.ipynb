{
  "nbformat": 4,
  "nbformat_minor": 0,
  "metadata": {
    "colab": {
      "name": "Practice-Feature Extraction.ipynb",
      "provenance": [],
      "collapsed_sections": []
    },
    "kernelspec": {
      "name": "python3",
      "display_name": "Python 3"
    },
    "language_info": {
      "name": "python"
    },
    "accelerator": "GPU"
  },
  "cells": [
    {
      "cell_type": "markdown",
      "metadata": {
        "id": "k7nNss3Lm4RG"
      },
      "source": [
        "## Download and become one with the data"
      ]
    },
    {
      "cell_type": "code",
      "metadata": {
        "colab": {
          "base_uri": "https://localhost:8080/"
        },
        "id": "gLfBrbNFuKUU",
        "outputId": "f2433213-dc66-41fb-bff9-5be9dfbf76de"
      },
      "source": [
        "# Get data (10% of food classes from Food101)\n",
        "import zipfile\n",
        "\n",
        "# Download the data\n",
        "!wget https://storage.googleapis.com/ztm_tf_course/food_vision/10_food_classes_10_percent.zip\n",
        "\n",
        "# Unzip the downloaded file\n",
        "zip_ref = zipfile.ZipFile(\"10_food_classes_10_percent.zip\")\n",
        "zip_ref.extractall()\n",
        "zip_ref.close()"
      ],
      "execution_count": null,
      "outputs": [
        {
          "output_type": "stream",
          "name": "stdout",
          "text": [
            "--2021-09-23 13:22:22--  https://storage.googleapis.com/ztm_tf_course/food_vision/10_food_classes_10_percent.zip\n",
            "Resolving storage.googleapis.com (storage.googleapis.com)... 209.85.200.128, 108.177.112.128, 74.125.124.128, ...\n",
            "Connecting to storage.googleapis.com (storage.googleapis.com)|209.85.200.128|:443... connected.\n",
            "HTTP request sent, awaiting response... 200 OK\n",
            "Length: 168546183 (161M) [application/zip]\n",
            "Saving to: ‘10_food_classes_10_percent.zip’\n",
            "\n",
            "10_food_classes_10_ 100%[===================>] 160.74M   104MB/s    in 1.6s    \n",
            "\n",
            "2021-09-23 13:22:24 (104 MB/s) - ‘10_food_classes_10_percent.zip’ saved [168546183/168546183]\n",
            "\n"
          ]
        }
      ]
    },
    {
      "cell_type": "code",
      "metadata": {
        "colab": {
          "base_uri": "https://localhost:8080/"
        },
        "id": "d_OFEzyquKXm",
        "outputId": "61c1068b-535e-4725-b20a-a02dc9bca44d"
      },
      "source": [
        "# How many images in each folder\n",
        "import os\n",
        "\n",
        "# Walk through the directory\n",
        "for dir_path, dir_names, file_names in os.walk(\"10_food_classes_10_percent\"):\n",
        "  print(\"There are \" + str(len(dir_names)) + \"  directories and \" + str(len(file_names)) + \" images in \" + dir_path)"
      ],
      "execution_count": null,
      "outputs": [
        {
          "output_type": "stream",
          "name": "stdout",
          "text": [
            "There are 2  directories and 0 images in 10_food_classes_10_percent\n",
            "There are 10  directories and 0 images in 10_food_classes_10_percent/train\n",
            "There are 0  directories and 75 images in 10_food_classes_10_percent/train/ramen\n",
            "There are 0  directories and 75 images in 10_food_classes_10_percent/train/chicken_curry\n",
            "There are 0  directories and 75 images in 10_food_classes_10_percent/train/chicken_wings\n",
            "There are 0  directories and 75 images in 10_food_classes_10_percent/train/ice_cream\n",
            "There are 0  directories and 75 images in 10_food_classes_10_percent/train/grilled_salmon\n",
            "There are 0  directories and 75 images in 10_food_classes_10_percent/train/steak\n",
            "There are 0  directories and 75 images in 10_food_classes_10_percent/train/pizza\n",
            "There are 0  directories and 75 images in 10_food_classes_10_percent/train/sushi\n",
            "There are 0  directories and 75 images in 10_food_classes_10_percent/train/fried_rice\n",
            "There are 0  directories and 75 images in 10_food_classes_10_percent/train/hamburger\n",
            "There are 10  directories and 0 images in 10_food_classes_10_percent/test\n",
            "There are 0  directories and 250 images in 10_food_classes_10_percent/test/ramen\n",
            "There are 0  directories and 250 images in 10_food_classes_10_percent/test/chicken_curry\n",
            "There are 0  directories and 250 images in 10_food_classes_10_percent/test/chicken_wings\n",
            "There are 0  directories and 250 images in 10_food_classes_10_percent/test/ice_cream\n",
            "There are 0  directories and 250 images in 10_food_classes_10_percent/test/grilled_salmon\n",
            "There are 0  directories and 250 images in 10_food_classes_10_percent/test/steak\n",
            "There are 0  directories and 250 images in 10_food_classes_10_percent/test/pizza\n",
            "There are 0  directories and 250 images in 10_food_classes_10_percent/test/sushi\n",
            "There are 0  directories and 250 images in 10_food_classes_10_percent/test/fried_rice\n",
            "There are 0  directories and 250 images in 10_food_classes_10_percent/test/hamburger\n"
          ]
        }
      ]
    },
    {
      "cell_type": "markdown",
      "metadata": {
        "id": "rABXWgw9uKaS"
      },
      "source": [
        "## Creating data loaders (preparing the data)"
      ]
    },
    {
      "cell_type": "code",
      "metadata": {
        "colab": {
          "base_uri": "https://localhost:8080/"
        },
        "id": "CLC-SWY5uKdM",
        "outputId": "c7c30f2f-3965-45c1-9b54-64ad82b66ff0"
      },
      "source": [
        "from tensorflow.keras.preprocessing.image import ImageDataGenerator\n",
        "\n",
        "IMAGE_SHAPE = (224,224)\n",
        "BATCH_SIZE = 32\n",
        "EPOCHS = 5\n",
        "\n",
        "train_dir = \"10_food_classes_10_percent/train/\"\n",
        "test_dir = \"10_food_classes_10_percent/test/\"\n",
        "\n",
        "train_datagen = ImageDataGenerator(rescale=1/255.0)\n",
        "test_datagen = ImageDataGenerator(rescale=1/255.0)\n",
        "\n",
        "train_data = train_datagen.flow_from_directory(train_dir,\n",
        "                                               target_size=IMAGE_SHAPE,\n",
        "                                               batch_size=BATCH_SIZE,\n",
        "                                               class_mode=\"categorical\")\n",
        "\n",
        "test_data = test_datagen.flow_from_directory(test_dir,\n",
        "                                             target_size=IMAGE_SHAPE,\n",
        "                                             batch_size=BATCH_SIZE,\n",
        "                                             class_mode=\"categorical\")"
      ],
      "execution_count": null,
      "outputs": [
        {
          "output_type": "stream",
          "name": "stdout",
          "text": [
            "Found 750 images belonging to 10 classes.\n",
            "Found 2500 images belonging to 10 classes.\n"
          ]
        }
      ]
    },
    {
      "cell_type": "markdown",
      "metadata": {
        "id": "46-3cGNuuKfd"
      },
      "source": [
        "## Setting up callbacks"
      ]
    },
    {
      "cell_type": "code",
      "metadata": {
        "id": "1a6yCa-pwMXk"
      },
      "source": [
        "# Create a TensorBoard callback function\n",
        "import datetime\n",
        "\n",
        "def create_tensorboard_callback(dir_name, experiment_name):\n",
        "  log_dir = dir_name + \"/\" + experiment_name + datetime.datetime.now().strftime(\"%Y%m%d-%H%M%S\")\n",
        "  tensorboard_callback = tf.keras.callbacks.TensorBoard(log_dir)\n",
        "  print(\"Saving TensorBoard log files on: \" + log_dir)\n",
        "\n",
        "  return tensorboard_callback "
      ],
      "execution_count": null,
      "outputs": []
    },
    {
      "cell_type": "markdown",
      "metadata": {
        "id": "npaa1vGYwMbL"
      },
      "source": [
        "## Creating models using TensorFlow Hub"
      ]
    },
    {
      "cell_type": "code",
      "metadata": {
        "id": "t2X85iOUwMey"
      },
      "source": [
        "mobilenetv2_url = \"https://tfhub.dev/google/imagenet/mobilenet_v2_100_224/feature_vector/4\""
      ],
      "execution_count": null,
      "outputs": []
    },
    {
      "cell_type": "code",
      "metadata": {
        "id": "Eb0Xb8aLwMmI"
      },
      "source": [
        "# Import dependencies\n",
        "import tensorflow as tf\n",
        "import tensorflow_hub as hub\n",
        "from tensorflow.keras import layers"
      ],
      "execution_count": null,
      "outputs": []
    },
    {
      "cell_type": "code",
      "metadata": {
        "id": "0WxVuQ1YwMp9"
      },
      "source": [
        "def create_model(model_url, num_classes=10):\n",
        "  \"\"\"\n",
        "  Takes a TensorFlow Hub URL and creates a Keras Sequential model with it.\n",
        "\n",
        "  Args:\n",
        "    model_url (str): A TensorFlow Hub feature extraction URL.\n",
        "    num_classes (int): Number of output neurons in the output layer,\n",
        "      should be equal to number of target classes, default 10.\n",
        "\n",
        "  Returns:\n",
        "    An uncompiled Keras Sequential model with model_url as feature extractor\n",
        "    layer and Dense output layer with num_classes output neurons\n",
        "  \"\"\"\n",
        "  # Download the pretrained model and save it as a Keras layer\n",
        "  feature_extractor_layer = hub.KerasLayer(model_url,\n",
        "                                           trainable=False,\n",
        "                                           name=\"feature_extractor_layer\",\n",
        "                                           input_shape=IMAGE_SHAPE+(3,))\n",
        "  \n",
        "  # Cerate our model\n",
        "  model = tf.keras.Sequential([\n",
        "    feature_extractor_layer,\n",
        "    layers.Dense(10, activation=\"softmax\")                    \n",
        "  ])\n",
        "\n",
        "  return model"
      ],
      "execution_count": null,
      "outputs": []
    },
    {
      "cell_type": "markdown",
      "metadata": {
        "id": "j7SX1obtwMtb"
      },
      "source": [
        "## Creating and testing Mobilenetv2 TensorFlow Hub Extraction model"
      ]
    },
    {
      "cell_type": "code",
      "metadata": {
        "id": "goMrjZJtzadj"
      },
      "source": [
        "# Create MobileNetv2 model\n",
        "mobilenet_model = create_model(mobilenetv2_url, \n",
        "                               num_classes=train_data.num_classes)"
      ],
      "execution_count": null,
      "outputs": []
    },
    {
      "cell_type": "code",
      "metadata": {
        "colab": {
          "base_uri": "https://localhost:8080/"
        },
        "id": "6upyJaiqzagv",
        "outputId": "3cf0a96c-1471-4987-e603-0918d81218b7"
      },
      "source": [
        "mobilenet_model.summary()"
      ],
      "execution_count": null,
      "outputs": [
        {
          "output_type": "stream",
          "name": "stdout",
          "text": [
            "Model: \"sequential_1\"\n",
            "_________________________________________________________________\n",
            "Layer (type)                 Output Shape              Param #   \n",
            "=================================================================\n",
            "feature_extractor_layer (Ker (None, 1280)              2257984   \n",
            "_________________________________________________________________\n",
            "dense_1 (Dense)              (None, 10)                12810     \n",
            "=================================================================\n",
            "Total params: 2,270,794\n",
            "Trainable params: 12,810\n",
            "Non-trainable params: 2,257,984\n",
            "_________________________________________________________________\n"
          ]
        }
      ]
    },
    {
      "cell_type": "code",
      "metadata": {
        "id": "bhmccQOpzaj-"
      },
      "source": [
        "# Compile our model\n",
        "mobilenet_model.compile(loss=\"categorical_crossentropy\",\n",
        "                        optimizer=\"Adam\",\n",
        "                        metrics=[\"accuracy\"])"
      ],
      "execution_count": null,
      "outputs": []
    },
    {
      "cell_type": "code",
      "metadata": {
        "colab": {
          "base_uri": "https://localhost:8080/"
        },
        "id": "VXzPOa2YzanS",
        "outputId": "ff2584c5-e5a4-463c-9922-c19ff33f448a"
      },
      "source": [
        "mobilenet_history = mobilenet_model.fit(train_data,\n",
        "                                        epochs=EPOCHS,\n",
        "                                        steps_per_epoch=len(train_data),\n",
        "                                        validation_data=test_data,\n",
        "                                        validation_steps=len(test_data),\n",
        "                                        callbacks=[create_tensorboard_callback(dir_name=\"tensorflow_hub\",\n",
        "                                                                               experiment_name=\"mobilenetV2\")])"
      ],
      "execution_count": null,
      "outputs": [
        {
          "output_type": "stream",
          "name": "stdout",
          "text": [
            "Saving TensorBoard log files on: tensorflow_hub/mobilenetV220210923-133055\n",
            "Epoch 1/5\n",
            "24/24 [==============================] - 24s 854ms/step - loss: 2.0631 - accuracy: 0.2920 - val_loss: 1.3855 - val_accuracy: 0.5816\n",
            "Epoch 2/5\n",
            "24/24 [==============================] - 18s 769ms/step - loss: 1.0691 - accuracy: 0.7000 - val_loss: 0.9003 - val_accuracy: 0.7324\n",
            "Epoch 3/5\n",
            "24/24 [==============================] - 17s 744ms/step - loss: 0.7370 - accuracy: 0.7893 - val_loss: 0.7676 - val_accuracy: 0.7768\n",
            "Epoch 4/5\n",
            "24/24 [==============================] - 17s 748ms/step - loss: 0.5903 - accuracy: 0.8560 - val_loss: 0.6947 - val_accuracy: 0.7936\n",
            "Epoch 5/5\n",
            "24/24 [==============================] - 17s 746ms/step - loss: 0.4857 - accuracy: 0.8827 - val_loss: 0.6447 - val_accuracy: 0.8100\n"
          ]
        }
      ]
    },
    {
      "cell_type": "code",
      "metadata": {
        "id": "l4FJS8VIzaqW"
      },
      "source": [
        "# Creating a function to plot the loss curves\n",
        "import matplotlib.pyplot as plt\n",
        "\n",
        "def plot_loss_curves(history):\n",
        "  \"\"\"\n",
        "  Returns sepereate loss ruves for training and validation metrics\n",
        "\n",
        "  Args:\n",
        "    history: TensorFlow history object\n",
        "\n",
        "  Returns:\n",
        "    Plots of training/validatio loss and accuracy metrics\n",
        "  \"\"\"\n",
        "\n",
        "  loss = history.history[\"loss\"]\n",
        "  val_loss = history.history[\"val_loss\"]\n",
        "\n",
        "  accuracy = history.history[\"accuracy\"]\n",
        "  val_accuracy = history.history[\"val_accuracy\"]\n",
        "\n",
        "  epochs = range(len(history.history[\"loss\"]))\n",
        "\n",
        "  # Plot loss\n",
        "  plt.plot(epochs, loss, label=\"training_loss\")\n",
        "  plt.plot(epochs, val_loss, label=\"val_loss\")\n",
        "  plt.title(\"Loss\")\n",
        "  plt.xlabel(\"Epochs\")\n",
        "  plt.legend()\n",
        "\n",
        "  # Plot accuracy\n",
        "  plt.figure()\n",
        "  plt.plot(epochs, loss, label=\"training_accuracy\")\n",
        "  plt.plot(epochs, val_accuracy, label=\"val_accuracy\")\n",
        "  plt.title(\"Accuracy\")\n",
        "  plt.xlabel(\"Epochs\")\n",
        "  plt.legend();"
      ],
      "execution_count": null,
      "outputs": []
    },
    {
      "cell_type": "code",
      "metadata": {
        "colab": {
          "base_uri": "https://localhost:8080/",
          "height": 573
        },
        "id": "1LbRohnBzatH",
        "outputId": "baa265f3-7a89-4e7e-f167-0f02d57a1eb2"
      },
      "source": [
        "plot_loss_curves(mobilenet_history)"
      ],
      "execution_count": null,
      "outputs": [
        {
          "output_type": "display_data",
          "data": {
            "image/png": "[encoded data removed]",
            "text/plain": [
              "<Figure size 432x288 with 1 Axes>"
            ]
          },
          "metadata": {
            "needs_background": "light"
          }
        },
        {
          "output_type": "display_data",
          "data": {
            "image/png": "[encoded data removed]",
            "text/plain": [
              "<Figure size 432x288 with 1 Axes>"
            ]
          },
          "metadata": {
            "needs_background": "light"
          }
        }
      ]
    }
  ]
}