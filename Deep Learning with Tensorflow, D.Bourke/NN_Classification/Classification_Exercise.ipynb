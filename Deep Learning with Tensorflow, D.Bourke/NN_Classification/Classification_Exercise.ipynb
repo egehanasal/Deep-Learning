{
  "nbformat": 4,
  "nbformat_minor": 0,
  "metadata": {
    "colab": {
      "name": "Classification Exercise.ipynb",
      "provenance": [],
      "collapsed_sections": []
    },
    "kernelspec": {
      "name": "python3",
      "display_name": "Python 3"
    },
    "language_info": {
      "name": "python"
    }
  },
  "cells": [
    {
      "cell_type": "code",
      "metadata": {
        "id": "29IGXvl65gky"
      },
      "source": [
        "from sklearn import datasets"
      ],
      "execution_count": 19,
      "outputs": []
    },
    {
      "cell_type": "code",
      "metadata": {
        "id": "sBENrI0p4iJf"
      },
      "source": [
        "X, y = sklearn.datasets.make_moons(1000)"
      ],
      "execution_count": 20,
      "outputs": []
    },
    {
      "cell_type": "code",
      "metadata": {
        "colab": {
          "base_uri": "https://localhost:8080/"
        },
        "id": "wBUExcyi5mwL",
        "outputId": "1c167dff-4a55-482b-85c5-38102fb5ab4c"
      },
      "source": [
        "X[0]"
      ],
      "execution_count": 21,
      "outputs": [
        {
          "output_type": "execute_result",
          "data": {
            "text/plain": [
              "array([ 0.77222125, -0.47371292])"
            ]
          },
          "metadata": {},
          "execution_count": 21
        }
      ]
    },
    {
      "cell_type": "code",
      "metadata": {
        "colab": {
          "base_uri": "https://localhost:8080/",
          "height": 417
        },
        "id": "U8gzISWZ6guC",
        "outputId": "e38d2714-333b-4e13-c0ac-87d27022383c"
      },
      "source": [
        "import pandas as pd\n",
        "moons = pd.DataFrame({\"X0\": X[:,0], \"X1\":X[:,1], \"label\":y})\n",
        "moons"
      ],
      "execution_count": 22,
      "outputs": [
        {
          "output_type": "execute_result",
          "data": {
            "text/html": [
              "<div>\n",
              "<style scoped>\n",
              "    .dataframe tbody tr th:only-of-type {\n",
              "        vertical-align: middle;\n",
              "    }\n",
              "\n",
              "    .dataframe tbody tr th {\n",
              "        vertical-align: top;\n",
              "    }\n",
              "\n",
              "    .dataframe thead th {\n",
              "        text-align: right;\n",
              "    }\n",
              "</style>\n",
              "<table border=\"1\" class=\"dataframe\">\n",
              "  <thead>\n",
              "    <tr style=\"text-align: right;\">\n",
              "      <th></th>\n",
              "      <th>X0</th>\n",
              "      <th>X1</th>\n",
              "      <th>label</th>\n",
              "    </tr>\n",
              "  </thead>\n",
              "  <tbody>\n",
              "    <tr>\n",
              "      <th>0</th>\n",
              "      <td>0.772221</td>\n",
              "      <td>-0.473713</td>\n",
              "      <td>1</td>\n",
              "    </tr>\n",
              "    <tr>\n",
              "      <th>1</th>\n",
              "      <td>-0.640910</td>\n",
              "      <td>0.767616</td>\n",
              "      <td>0</td>\n",
              "    </tr>\n",
              "    <tr>\n",
              "      <th>2</th>\n",
              "      <td>-0.009444</td>\n",
              "      <td>0.999955</td>\n",
              "      <td>0</td>\n",
              "    </tr>\n",
              "    <tr>\n",
              "      <th>3</th>\n",
              "      <td>-0.596410</td>\n",
              "      <td>0.802680</td>\n",
              "      <td>0</td>\n",
              "    </tr>\n",
              "    <tr>\n",
              "      <th>4</th>\n",
              "      <td>0.833432</td>\n",
              "      <td>0.552622</td>\n",
              "      <td>0</td>\n",
              "    </tr>\n",
              "    <tr>\n",
              "      <th>...</th>\n",
              "      <td>...</td>\n",
              "      <td>...</td>\n",
              "      <td>...</td>\n",
              "    </tr>\n",
              "    <tr>\n",
              "      <th>995</th>\n",
              "      <td>1.252225</td>\n",
              "      <td>-0.467669</td>\n",
              "      <td>1</td>\n",
              "    </tr>\n",
              "    <tr>\n",
              "      <th>996</th>\n",
              "      <td>1.978495</td>\n",
              "      <td>0.293731</td>\n",
              "      <td>1</td>\n",
              "    </tr>\n",
              "    <tr>\n",
              "      <th>997</th>\n",
              "      <td>1.066058</td>\n",
              "      <td>-0.497816</td>\n",
              "      <td>1</td>\n",
              "    </tr>\n",
              "    <tr>\n",
              "      <th>998</th>\n",
              "      <td>0.982216</td>\n",
              "      <td>0.187752</td>\n",
              "      <td>0</td>\n",
              "    </tr>\n",
              "    <tr>\n",
              "      <th>999</th>\n",
              "      <td>0.005722</td>\n",
              "      <td>0.393176</td>\n",
              "      <td>1</td>\n",
              "    </tr>\n",
              "  </tbody>\n",
              "</table>\n",
              "<p>1000 rows × 3 columns</p>\n",
              "</div>"
            ],
            "text/plain": [
              "           X0        X1  label\n",
              "0    0.772221 -0.473713      1\n",
              "1   -0.640910  0.767616      0\n",
              "2   -0.009444  0.999955      0\n",
              "3   -0.596410  0.802680      0\n",
              "4    0.833432  0.552622      0\n",
              "..        ...       ...    ...\n",
              "995  1.252225 -0.467669      1\n",
              "996  1.978495  0.293731      1\n",
              "997  1.066058 -0.497816      1\n",
              "998  0.982216  0.187752      0\n",
              "999  0.005722  0.393176      1\n",
              "\n",
              "[1000 rows x 3 columns]"
            ]
          },
          "metadata": {},
          "execution_count": 22
        }
      ]
    },
    {
      "cell_type": "code",
      "metadata": {
        "colab": {
          "base_uri": "https://localhost:8080/",
          "height": 265
        },
        "id": "UgvvYKyi5m03",
        "outputId": "9e44d841-4e9b-4948-b1e8-fd325e4b3910"
      },
      "source": [
        "# Visualize with a plot\n",
        "import matplotlib.pyplot as plt\n",
        "plt.scatter(X[:,0], X[:,1], c=y, cmap=plt.cm.RdYlBu);"
      ],
      "execution_count": 23,
      "outputs": [
        {
          "output_type": "display_data",
          "data": {
            "image/png": "[encoded data removed]",
            "text/plain": [
              "<Figure size 432x288 with 1 Axes>"
            ]
          },
          "metadata": {
            "needs_background": "light"
          }
        }
      ]
    },
    {
      "cell_type": "code",
      "metadata": {
        "colab": {
          "base_uri": "https://localhost:8080/"
        },
        "id": "osnlbsFC5m4W",
        "outputId": "8fe73ff1-23ef-4690-e462-cff258b3df02"
      },
      "source": [
        "X.shape, y.shape"
      ],
      "execution_count": 24,
      "outputs": [
        {
          "output_type": "execute_result",
          "data": {
            "text/plain": [
              "((1000, 2), (1000,))"
            ]
          },
          "metadata": {},
          "execution_count": 24
        }
      ]
    },
    {
      "cell_type": "code",
      "metadata": {
        "id": "w_uYF3yS7sYn"
      },
      "source": [
        "X_train, X_test = X[:800], X[800:]\n",
        "y_train, y_test = y[:800], y[800:]"
      ],
      "execution_count": 25,
      "outputs": []
    },
    {
      "cell_type": "code",
      "metadata": {
        "colab": {
          "base_uri": "https://localhost:8080/"
        },
        "id": "seicgLQj5m72",
        "outputId": "39916ba9-ecbf-447e-856d-8bd1260c3e2b"
      },
      "source": [
        "import tensorflow as tf\n",
        "\n",
        "# Create a model\n",
        "model_1 = tf.keras.Sequential([\n",
        "  tf.keras.layers.Dense(4, activation=\"relu\"),\n",
        "  tf.keras.layers.Dense(4, activation=\"relu\"),\n",
        "  tf.keras.layers.Dense(1, activation=\"sigmoid\")\n",
        "])\n",
        "\n",
        "# Compile the model\n",
        "model_1.compile(loss=tf.keras.losses.BinaryCrossentropy(),\n",
        "                optimizer = \"Adam\",\n",
        "                metrics=[\"accuracy\"])\n",
        "\n",
        "# Fit the model\n",
        "history_1 = model_1.fit(X_train, y_train, epochs=40)"
      ],
      "execution_count": 31,
      "outputs": [
        {
          "output_type": "stream",
          "name": "stdout",
          "text": [
            "Epoch 1/40\n",
            "25/25 [==============================] - 0s 1ms/step - loss: 0.8010 - accuracy: 0.4963\n",
            "Epoch 2/40\n",
            "25/25 [==============================] - 0s 2ms/step - loss: 0.7379 - accuracy: 0.5462\n",
            "Epoch 3/40\n",
            "25/25 [==============================] - 0s 3ms/step - loss: 0.6887 - accuracy: 0.6150\n",
            "Epoch 4/40\n",
            "25/25 [==============================] - 0s 1ms/step - loss: 0.6493 - accuracy: 0.6488\n",
            "Epoch 5/40\n",
            "25/25 [==============================] - 0s 2ms/step - loss: 0.6173 - accuracy: 0.6850\n",
            "Epoch 6/40\n",
            "25/25 [==============================] - 0s 2ms/step - loss: 0.5897 - accuracy: 0.7063\n",
            "Epoch 7/40\n",
            "25/25 [==============================] - 0s 2ms/step - loss: 0.5661 - accuracy: 0.7337\n",
            "Epoch 8/40\n",
            "25/25 [==============================] - 0s 2ms/step - loss: 0.5450 - accuracy: 0.7525\n",
            "Epoch 9/40\n",
            "25/25 [==============================] - 0s 3ms/step - loss: 0.5266 - accuracy: 0.7700\n",
            "Epoch 10/40\n",
            "25/25 [==============================] - 0s 2ms/step - loss: 0.5100 - accuracy: 0.7812\n",
            "Epoch 11/40\n",
            "25/25 [==============================] - 0s 2ms/step - loss: 0.4949 - accuracy: 0.8000\n",
            "Epoch 12/40\n",
            "25/25 [==============================] - 0s 2ms/step - loss: 0.4813 - accuracy: 0.8150\n",
            "Epoch 13/40\n",
            "25/25 [==============================] - 0s 2ms/step - loss: 0.4687 - accuracy: 0.8388\n",
            "Epoch 14/40\n",
            "25/25 [==============================] - 0s 2ms/step - loss: 0.4572 - accuracy: 0.8525\n",
            "Epoch 15/40\n",
            "25/25 [==============================] - 0s 2ms/step - loss: 0.4462 - accuracy: 0.8687\n",
            "Epoch 16/40\n",
            "25/25 [==============================] - 0s 2ms/step - loss: 0.4359 - accuracy: 0.8788\n",
            "Epoch 17/40\n",
            "25/25 [==============================] - 0s 2ms/step - loss: 0.4257 - accuracy: 0.8825\n",
            "Epoch 18/40\n",
            "25/25 [==============================] - 0s 2ms/step - loss: 0.4154 - accuracy: 0.8850\n",
            "Epoch 19/40\n",
            "25/25 [==============================] - 0s 2ms/step - loss: 0.4054 - accuracy: 0.8888\n",
            "Epoch 20/40\n",
            "25/25 [==============================] - 0s 2ms/step - loss: 0.3951 - accuracy: 0.8913\n",
            "Epoch 21/40\n",
            "25/25 [==============================] - 0s 2ms/step - loss: 0.3848 - accuracy: 0.8925\n",
            "Epoch 22/40\n",
            "25/25 [==============================] - 0s 2ms/step - loss: 0.3748 - accuracy: 0.8938\n",
            "Epoch 23/40\n",
            "25/25 [==============================] - 0s 1ms/step - loss: 0.3644 - accuracy: 0.8925\n",
            "Epoch 24/40\n",
            "25/25 [==============================] - 0s 2ms/step - loss: 0.3544 - accuracy: 0.8938\n",
            "Epoch 25/40\n",
            "25/25 [==============================] - 0s 2ms/step - loss: 0.3450 - accuracy: 0.8900\n",
            "Epoch 26/40\n",
            "25/25 [==============================] - 0s 2ms/step - loss: 0.3351 - accuracy: 0.8900\n",
            "Epoch 27/40\n",
            "25/25 [==============================] - 0s 2ms/step - loss: 0.3255 - accuracy: 0.8938\n",
            "Epoch 28/40\n",
            "25/25 [==============================] - 0s 2ms/step - loss: 0.3168 - accuracy: 0.8938\n",
            "Epoch 29/40\n",
            "25/25 [==============================] - 0s 1ms/step - loss: 0.3082 - accuracy: 0.8938\n",
            "Epoch 30/40\n",
            "25/25 [==============================] - 0s 2ms/step - loss: 0.3006 - accuracy: 0.8950\n",
            "Epoch 31/40\n",
            "25/25 [==============================] - 0s 2ms/step - loss: 0.2929 - accuracy: 0.8950\n",
            "Epoch 32/40\n",
            "25/25 [==============================] - 0s 2ms/step - loss: 0.2858 - accuracy: 0.8963\n",
            "Epoch 33/40\n",
            "25/25 [==============================] - 0s 1ms/step - loss: 0.2795 - accuracy: 0.8975\n",
            "Epoch 34/40\n",
            "25/25 [==============================] - 0s 2ms/step - loss: 0.2732 - accuracy: 0.8975\n",
            "Epoch 35/40\n",
            "25/25 [==============================] - 0s 1ms/step - loss: 0.2674 - accuracy: 0.8988\n",
            "Epoch 36/40\n",
            "25/25 [==============================] - 0s 1ms/step - loss: 0.2619 - accuracy: 0.9000\n",
            "Epoch 37/40\n",
            "25/25 [==============================] - 0s 2ms/step - loss: 0.2568 - accuracy: 0.9013\n",
            "Epoch 38/40\n",
            "25/25 [==============================] - 0s 2ms/step - loss: 0.2519 - accuracy: 0.9013\n",
            "Epoch 39/40\n",
            "25/25 [==============================] - 0s 1ms/step - loss: 0.2475 - accuracy: 0.9050\n",
            "Epoch 40/40\n",
            "25/25 [==============================] - 0s 1ms/step - loss: 0.2433 - accuracy: 0.9050\n"
          ]
        }
      ]
    },
    {
      "cell_type": "code",
      "metadata": {
        "colab": {
          "base_uri": "https://localhost:8080/"
        },
        "id": "O8P8roAP84PE",
        "outputId": "6e5ddc57-32ad-4fcc-9e3f-f7185b9d9a72"
      },
      "source": [
        "# Evaluate the model\n",
        "model_1.evaluate(X_test, y_test)"
      ],
      "execution_count": 32,
      "outputs": [
        {
          "output_type": "stream",
          "name": "stdout",
          "text": [
            "7/7 [==============================] - 0s 2ms/step - loss: 0.2767 - accuracy: 0.8800\n"
          ]
        },
        {
          "output_type": "execute_result",
          "data": {
            "text/plain": [
              "[0.27674776315689087, 0.8799999952316284]"
            ]
          },
          "metadata": {},
          "execution_count": 32
        }
      ]
    },
    {
      "cell_type": "code",
      "metadata": {
        "id": "IeuxSP2T5m_J"
      },
      "source": [
        "import numpy as np\n",
        "\n",
        "def plot_decision_boundary(model, X, y):\n",
        "  \"\"\"\n",
        "  Plots the decision boundary created by a model predicting on X.\n",
        "    This function was inspired by two resources:\n",
        "   1. https://cs231n.github.io/neural-networks-case-study/\n",
        "   2. https://github.com/madewithml/basics/blob/master/notebooks/09_Multilayer_Perceptrons/09_TF_Multilayer_Perceptrons.ipynb \n",
        "  \"\"\"\n",
        "  # Define the axis boundaries of the plot and create a meshgrid\n",
        "  x_min, x_max = X[:, 0].min() - 0.1, X[:, 0].max() + 0.1\n",
        "  y_min, y_max = X[:, 1].min() - 0.1, X[:, 1].max() + 0.1\n",
        "  xx, yy = np.meshgrid(np.linspace(x_min, x_max, 100),\n",
        "                       np.linspace(y_min, y_max, 100))\n",
        "  \n",
        "  # Create X value (we're going to make predictions on these)\n",
        "  x_in = np.c_[xx.ravel(), yy.ravel()] # stack 2D arrays together\n",
        "\n",
        "  # Make predictions\n",
        "  y_pred = model.predict(x_in)\n",
        "\n",
        "  # Check for multi-class\n",
        "  if len(y_pred[0]) > 1:\n",
        "    print(\"doing multiclass classification\")\n",
        "    # We have to reshape our prediction to get them ready for plotting\n",
        "    y_pred = np.argmax(y_pred, axis=1).reshape(xx.shape)\n",
        "  else:\n",
        "    print(\"doing binary classification\")\n",
        "    y_pred = np.round(y_pred).reshape(xx.shape)\n",
        "  \n",
        "  # Plot the decision boundary\n",
        "  plt.contourf(xx, yy, y_pred, cmap=plt.cm.RdYlBu, alpha=0.7)\n",
        "  plt.scatter(X[:, 0], X[:, 1], c=y, s=40, cmap=plt.cm.RdYlBu)\n",
        "  plt.xlim(xx.min(), xx.max())\n",
        "  plt.ylim(yy.min(), yy.max())"
      ],
      "execution_count": 29,
      "outputs": []
    },
    {
      "cell_type": "code",
      "metadata": {
        "colab": {
          "base_uri": "https://localhost:8080/",
          "height": 282
        },
        "id": "N08pRIAV66fj",
        "outputId": "6bfbc670-2718-4010-a8fd-965b0e9ac7c4"
      },
      "source": [
        "plot_decision_boundary(model_1, X, y)"
      ],
      "execution_count": 33,
      "outputs": [
        {
          "output_type": "stream",
          "name": "stdout",
          "text": [
            "doing binary classification\n"
          ]
        },
        {
          "output_type": "display_data",
          "data": {
            "image/png": "[encoded data removed]",
            "text/plain": [
              "<Figure size 432x288 with 1 Axes>"
            ]
          },
          "metadata": {
            "needs_background": "light"
          }
        }
      ]
    },
    {
      "cell_type": "markdown",
      "metadata": {
        "id": "txeaHpwF66iq"
      },
      "source": [
        "## Improving our model"
      ]
    },
    {
      "cell_type": "code",
      "metadata": {
        "colab": {
          "base_uri": "https://localhost:8080/"
        },
        "id": "ByB4u4cr8Q0G",
        "outputId": "2a420b1d-3301-4850-decd-0582c1de4699"
      },
      "source": [
        "# Let's rebuild our model\n",
        "\n",
        "# Create the model\n",
        "model_2 = tf.keras.Sequential([\n",
        "  tf.keras.layers.Dense(4, activation=\"relu\"),\n",
        "  tf.keras.layers.Dense(4, activation=\"relu\"),\n",
        "  tf.keras.layers.Dense(1, activation=\"sigmoid\")\n",
        "])\n",
        "\n",
        "# Compile the model\n",
        "model_2.compile(loss=\"binary_crossentropy\",\n",
        "                optimizer=\"Adam\",\n",
        "                metrics=[\"accuracy\"])\n",
        "\n",
        "# Fit the model\n",
        "history_2 = model_2.fit(X_train, y_train, epochs=100) # this time we train our model longer"
      ],
      "execution_count": 37,
      "outputs": [
        {
          "output_type": "stream",
          "name": "stdout",
          "text": [
            "Epoch 1/100\n",
            "25/25 [==============================] - 0s 2ms/step - loss: 0.6457 - accuracy: 0.7262\n",
            "Epoch 2/100\n",
            "25/25 [==============================] - 0s 1ms/step - loss: 0.6210 - accuracy: 0.7075\n",
            "Epoch 3/100\n",
            "25/25 [==============================] - 0s 1ms/step - loss: 0.5935 - accuracy: 0.7262\n",
            "Epoch 4/100\n",
            "25/25 [==============================] - 0s 2ms/step - loss: 0.5654 - accuracy: 0.7362\n",
            "Epoch 5/100\n",
            "25/25 [==============================] - 0s 2ms/step - loss: 0.5377 - accuracy: 0.7525\n",
            "Epoch 6/100\n",
            "25/25 [==============================] - 0s 2ms/step - loss: 0.5126 - accuracy: 0.7650\n",
            "Epoch 7/100\n",
            "25/25 [==============================] - 0s 2ms/step - loss: 0.4904 - accuracy: 0.7800\n",
            "Epoch 8/100\n",
            "25/25 [==============================] - 0s 3ms/step - loss: 0.4695 - accuracy: 0.7887\n",
            "Epoch 9/100\n",
            "25/25 [==============================] - 0s 2ms/step - loss: 0.4504 - accuracy: 0.7975\n",
            "Epoch 10/100\n",
            "25/25 [==============================] - 0s 2ms/step - loss: 0.4309 - accuracy: 0.8062\n",
            "Epoch 11/100\n",
            "25/25 [==============================] - 0s 1ms/step - loss: 0.4135 - accuracy: 0.8200\n",
            "Epoch 12/100\n",
            "25/25 [==============================] - 0s 2ms/step - loss: 0.3983 - accuracy: 0.8263\n",
            "Epoch 13/100\n",
            "25/25 [==============================] - 0s 2ms/step - loss: 0.3826 - accuracy: 0.8300\n",
            "Epoch 14/100\n",
            "25/25 [==============================] - 0s 2ms/step - loss: 0.3688 - accuracy: 0.8350\n",
            "Epoch 15/100\n",
            "25/25 [==============================] - 0s 2ms/step - loss: 0.3558 - accuracy: 0.8413\n",
            "Epoch 16/100\n",
            "25/25 [==============================] - 0s 1ms/step - loss: 0.3438 - accuracy: 0.8462\n",
            "Epoch 17/100\n",
            "25/25 [==============================] - 0s 2ms/step - loss: 0.3329 - accuracy: 0.8512\n",
            "Epoch 18/100\n",
            "25/25 [==============================] - 0s 1ms/step - loss: 0.3227 - accuracy: 0.8575\n",
            "Epoch 19/100\n",
            "25/25 [==============================] - 0s 2ms/step - loss: 0.3133 - accuracy: 0.8600\n",
            "Epoch 20/100\n",
            "25/25 [==============================] - 0s 2ms/step - loss: 0.3046 - accuracy: 0.8637\n",
            "Epoch 21/100\n",
            "25/25 [==============================] - 0s 2ms/step - loss: 0.2967 - accuracy: 0.8675\n",
            "Epoch 22/100\n",
            "25/25 [==============================] - 0s 1ms/step - loss: 0.2894 - accuracy: 0.8712\n",
            "Epoch 23/100\n",
            "25/25 [==============================] - 0s 2ms/step - loss: 0.2829 - accuracy: 0.8737\n",
            "Epoch 24/100\n",
            "25/25 [==============================] - 0s 2ms/step - loss: 0.2766 - accuracy: 0.8763\n",
            "Epoch 25/100\n",
            "25/25 [==============================] - 0s 2ms/step - loss: 0.2707 - accuracy: 0.8800\n",
            "Epoch 26/100\n",
            "25/25 [==============================] - 0s 2ms/step - loss: 0.2653 - accuracy: 0.8800\n",
            "Epoch 27/100\n",
            "25/25 [==============================] - 0s 2ms/step - loss: 0.2606 - accuracy: 0.8813\n",
            "Epoch 28/100\n",
            "25/25 [==============================] - 0s 1ms/step - loss: 0.2562 - accuracy: 0.8838\n",
            "Epoch 29/100\n",
            "25/25 [==============================] - 0s 2ms/step - loss: 0.2518 - accuracy: 0.8863\n",
            "Epoch 30/100\n",
            "25/25 [==============================] - 0s 2ms/step - loss: 0.2476 - accuracy: 0.8888\n",
            "Epoch 31/100\n",
            "25/25 [==============================] - 0s 2ms/step - loss: 0.2439 - accuracy: 0.8913\n",
            "Epoch 32/100\n",
            "25/25 [==============================] - 0s 2ms/step - loss: 0.2405 - accuracy: 0.8913\n",
            "Epoch 33/100\n",
            "25/25 [==============================] - 0s 1ms/step - loss: 0.2374 - accuracy: 0.8925\n",
            "Epoch 34/100\n",
            "25/25 [==============================] - 0s 2ms/step - loss: 0.2340 - accuracy: 0.8925\n",
            "Epoch 35/100\n",
            "25/25 [==============================] - 0s 1ms/step - loss: 0.2313 - accuracy: 0.8950\n",
            "Epoch 36/100\n",
            "25/25 [==============================] - 0s 2ms/step - loss: 0.2291 - accuracy: 0.8938\n",
            "Epoch 37/100\n",
            "25/25 [==============================] - 0s 1ms/step - loss: 0.2265 - accuracy: 0.8963\n",
            "Epoch 38/100\n",
            "25/25 [==============================] - 0s 2ms/step - loss: 0.2239 - accuracy: 0.8975\n",
            "Epoch 39/100\n",
            "25/25 [==============================] - 0s 2ms/step - loss: 0.2216 - accuracy: 0.8988\n",
            "Epoch 40/100\n",
            "25/25 [==============================] - 0s 2ms/step - loss: 0.2194 - accuracy: 0.9013\n",
            "Epoch 41/100\n",
            "25/25 [==============================] - 0s 2ms/step - loss: 0.2174 - accuracy: 0.9025\n",
            "Epoch 42/100\n",
            "25/25 [==============================] - 0s 2ms/step - loss: 0.2157 - accuracy: 0.9038\n",
            "Epoch 43/100\n",
            "25/25 [==============================] - 0s 1ms/step - loss: 0.2138 - accuracy: 0.9013\n",
            "Epoch 44/100\n",
            "25/25 [==============================] - 0s 1ms/step - loss: 0.2121 - accuracy: 0.9038\n",
            "Epoch 45/100\n",
            "25/25 [==============================] - 0s 1ms/step - loss: 0.2106 - accuracy: 0.9050\n",
            "Epoch 46/100\n",
            "25/25 [==============================] - 0s 1ms/step - loss: 0.2092 - accuracy: 0.8988\n",
            "Epoch 47/100\n",
            "25/25 [==============================] - 0s 2ms/step - loss: 0.2082 - accuracy: 0.9038\n",
            "Epoch 48/100\n",
            "25/25 [==============================] - 0s 1ms/step - loss: 0.2067 - accuracy: 0.9038\n",
            "Epoch 49/100\n",
            "25/25 [==============================] - 0s 1ms/step - loss: 0.2057 - accuracy: 0.9025\n",
            "Epoch 50/100\n",
            "25/25 [==============================] - 0s 2ms/step - loss: 0.2044 - accuracy: 0.9025\n",
            "Epoch 51/100\n",
            "25/25 [==============================] - 0s 2ms/step - loss: 0.2039 - accuracy: 0.8975\n",
            "Epoch 52/100\n",
            "25/25 [==============================] - 0s 2ms/step - loss: 0.2030 - accuracy: 0.9013\n",
            "Epoch 53/100\n",
            "25/25 [==============================] - 0s 2ms/step - loss: 0.2023 - accuracy: 0.9038\n",
            "Epoch 54/100\n",
            "25/25 [==============================] - 0s 2ms/step - loss: 0.2007 - accuracy: 0.9025\n",
            "Epoch 55/100\n",
            "25/25 [==============================] - 0s 1ms/step - loss: 0.2008 - accuracy: 0.8963\n",
            "Epoch 56/100\n",
            "25/25 [==============================] - 0s 2ms/step - loss: 0.2003 - accuracy: 0.9000\n",
            "Epoch 57/100\n",
            "25/25 [==============================] - 0s 2ms/step - loss: 0.1990 - accuracy: 0.9000\n",
            "Epoch 58/100\n",
            "25/25 [==============================] - 0s 2ms/step - loss: 0.1986 - accuracy: 0.9000\n",
            "Epoch 59/100\n",
            "25/25 [==============================] - 0s 2ms/step - loss: 0.1981 - accuracy: 0.9013\n",
            "Epoch 60/100\n",
            "25/25 [==============================] - 0s 1ms/step - loss: 0.1978 - accuracy: 0.8988\n",
            "Epoch 61/100\n",
            "25/25 [==============================] - 0s 2ms/step - loss: 0.1972 - accuracy: 0.9013\n",
            "Epoch 62/100\n",
            "25/25 [==============================] - 0s 2ms/step - loss: 0.1966 - accuracy: 0.8988\n",
            "Epoch 63/100\n",
            "25/25 [==============================] - 0s 1ms/step - loss: 0.1964 - accuracy: 0.9025\n",
            "Epoch 64/100\n",
            "25/25 [==============================] - 0s 2ms/step - loss: 0.1960 - accuracy: 0.9013\n",
            "Epoch 65/100\n",
            "25/25 [==============================] - 0s 2ms/step - loss: 0.1956 - accuracy: 0.9025\n",
            "Epoch 66/100\n",
            "25/25 [==============================] - 0s 1ms/step - loss: 0.1954 - accuracy: 0.9013\n",
            "Epoch 67/100\n",
            "25/25 [==============================] - 0s 1ms/step - loss: 0.1955 - accuracy: 0.9013\n",
            "Epoch 68/100\n",
            "25/25 [==============================] - 0s 1ms/step - loss: 0.1949 - accuracy: 0.8975\n",
            "Epoch 69/100\n",
            "25/25 [==============================] - 0s 2ms/step - loss: 0.1947 - accuracy: 0.9025\n",
            "Epoch 70/100\n",
            "25/25 [==============================] - 0s 2ms/step - loss: 0.1941 - accuracy: 0.9013\n",
            "Epoch 71/100\n",
            "25/25 [==============================] - 0s 2ms/step - loss: 0.1946 - accuracy: 0.9038\n",
            "Epoch 72/100\n",
            "25/25 [==============================] - 0s 1ms/step - loss: 0.1951 - accuracy: 0.8988\n",
            "Epoch 73/100\n",
            "25/25 [==============================] - 0s 2ms/step - loss: 0.1941 - accuracy: 0.9013\n",
            "Epoch 74/100\n",
            "25/25 [==============================] - 0s 2ms/step - loss: 0.1937 - accuracy: 0.9013\n",
            "Epoch 75/100\n",
            "25/25 [==============================] - 0s 1ms/step - loss: 0.1935 - accuracy: 0.9000\n",
            "Epoch 76/100\n",
            "25/25 [==============================] - 0s 2ms/step - loss: 0.1934 - accuracy: 0.9025\n",
            "Epoch 77/100\n",
            "25/25 [==============================] - 0s 2ms/step - loss: 0.1932 - accuracy: 0.9000\n",
            "Epoch 78/100\n",
            "25/25 [==============================] - 0s 2ms/step - loss: 0.1929 - accuracy: 0.9000\n",
            "Epoch 79/100\n",
            "25/25 [==============================] - 0s 2ms/step - loss: 0.1927 - accuracy: 0.9013\n",
            "Epoch 80/100\n",
            "25/25 [==============================] - 0s 2ms/step - loss: 0.1928 - accuracy: 0.9000\n",
            "Epoch 81/100\n",
            "25/25 [==============================] - 0s 2ms/step - loss: 0.1923 - accuracy: 0.9000\n",
            "Epoch 82/100\n",
            "25/25 [==============================] - 0s 2ms/step - loss: 0.1925 - accuracy: 0.9000\n",
            "Epoch 83/100\n",
            "25/25 [==============================] - 0s 2ms/step - loss: 0.1922 - accuracy: 0.9000\n",
            "Epoch 84/100\n",
            "25/25 [==============================] - 0s 2ms/step - loss: 0.1920 - accuracy: 0.9000\n",
            "Epoch 85/100\n",
            "25/25 [==============================] - 0s 2ms/step - loss: 0.1920 - accuracy: 0.9000\n",
            "Epoch 86/100\n",
            "25/25 [==============================] - 0s 2ms/step - loss: 0.1929 - accuracy: 0.8988\n",
            "Epoch 87/100\n",
            "25/25 [==============================] - 0s 2ms/step - loss: 0.1927 - accuracy: 0.9025\n",
            "Epoch 88/100\n",
            "25/25 [==============================] - 0s 2ms/step - loss: 0.1917 - accuracy: 0.8988\n",
            "Epoch 89/100\n",
            "25/25 [==============================] - 0s 2ms/step - loss: 0.1917 - accuracy: 0.9000\n",
            "Epoch 90/100\n",
            "25/25 [==============================] - 0s 2ms/step - loss: 0.1921 - accuracy: 0.9000\n",
            "Epoch 91/100\n",
            "25/25 [==============================] - 0s 2ms/step - loss: 0.1930 - accuracy: 0.9013\n",
            "Epoch 92/100\n",
            "25/25 [==============================] - 0s 1ms/step - loss: 0.1916 - accuracy: 0.9000\n",
            "Epoch 93/100\n",
            "25/25 [==============================] - 0s 2ms/step - loss: 0.1915 - accuracy: 0.9000\n",
            "Epoch 94/100\n",
            "25/25 [==============================] - 0s 2ms/step - loss: 0.1914 - accuracy: 0.9000\n",
            "Epoch 95/100\n",
            "25/25 [==============================] - 0s 2ms/step - loss: 0.1913 - accuracy: 0.9038\n",
            "Epoch 96/100\n",
            "25/25 [==============================] - 0s 2ms/step - loss: 0.1914 - accuracy: 0.9000\n",
            "Epoch 97/100\n",
            "25/25 [==============================] - 0s 1ms/step - loss: 0.1912 - accuracy: 0.9000\n",
            "Epoch 98/100\n",
            "25/25 [==============================] - 0s 1ms/step - loss: 0.1916 - accuracy: 0.9000\n",
            "Epoch 99/100\n",
            "25/25 [==============================] - 0s 1ms/step - loss: 0.1912 - accuracy: 0.9050\n",
            "Epoch 100/100\n",
            "25/25 [==============================] - 0s 2ms/step - loss: 0.1915 - accuracy: 0.9025\n"
          ]
        }
      ]
    },
    {
      "cell_type": "code",
      "metadata": {
        "colab": {
          "base_uri": "https://localhost:8080/"
        },
        "id": "NaUZ1oB88Q32",
        "outputId": "468a0612-ed1e-4564-8bbc-6c3d41913af2"
      },
      "source": [
        "# Evaluate the model\n",
        "model_2.evaluate(X_test, y_test)"
      ],
      "execution_count": 38,
      "outputs": [
        {
          "output_type": "stream",
          "name": "stdout",
          "text": [
            "7/7 [==============================] - 0s 3ms/step - loss: 0.2402 - accuracy: 0.8750\n"
          ]
        },
        {
          "output_type": "execute_result",
          "data": {
            "text/plain": [
              "[0.2401627004146576, 0.875]"
            ]
          },
          "metadata": {},
          "execution_count": 38
        }
      ]
    },
    {
      "cell_type": "code",
      "metadata": {
        "id": "IdhG7FPF8Q7G"
      },
      "source": [
        "# Let's rebuild our model\n",
        "\n",
        "# Create the model\n",
        "model_3 = tf.keras.Sequential([\n",
        "  tf.keras.layers.Dense(10, activation=\"relu\"), # Increase the number of hidden units\n",
        "  tf.keras.layers.Dense(6, activation=\"relu\"), # Increase the number of hidden units\n",
        "  tf.keras.layers.Dense(1, activation=\"sigmoid\")\n",
        "])\n",
        "\n",
        "# Compile the model\n",
        "model_3.compile(loss=\"binary_crossentropy\",\n",
        "                optimizer=\"Adam\",\n",
        "                metrics=[\"accuracy\"])\n",
        "\n",
        "# Fit the model\n",
        "history_3 = model_3.fit(X_train, y_train, epochs=50, verbose=0)"
      ],
      "execution_count": 39,
      "outputs": []
    },
    {
      "cell_type": "code",
      "metadata": {
        "colab": {
          "base_uri": "https://localhost:8080/"
        },
        "id": "p1lFkknA8Q-I",
        "outputId": "27c62469-bbbf-4e92-c739-07b0a0403a4e"
      },
      "source": [
        "model_3.evaluate(X_test, y_test)"
      ],
      "execution_count": 40,
      "outputs": [
        {
          "output_type": "stream",
          "name": "stdout",
          "text": [
            "7/7 [==============================] - 0s 2ms/step - loss: 0.3043 - accuracy: 0.9250\n"
          ]
        },
        {
          "output_type": "execute_result",
          "data": {
            "text/plain": [
              "[0.3043477535247803, 0.925000011920929]"
            ]
          },
          "metadata": {},
          "execution_count": 40
        }
      ]
    },
    {
      "cell_type": "code",
      "metadata": {
        "id": "e6Y0YTYc8RBB"
      },
      "source": [
        "# Let's rebuild our model\n",
        "\n",
        "# Create the model\n",
        "model_4 = tf.keras.Sequential([\n",
        "  tf.keras.layers.Dense(10, activation=\"relu\"),\n",
        "  tf.keras.layers.Dense(6, activation=\"relu\"),\n",
        "  tf.keras.layers.Dense(1, activation=\"sigmoid\")\n",
        "])\n",
        "\n",
        "# Compile the model\n",
        "model_4.compile(loss=\"binary_crossentropy\",\n",
        "                optimizer=\"Adam\",\n",
        "                metrics=[\"accuracy\"])\n",
        "\n",
        "# Fit the model\n",
        "history_4 = model_4.fit(X_train, y_train, epochs=100, verbose=0) # this time we train our model longer"
      ],
      "execution_count": 41,
      "outputs": []
    },
    {
      "cell_type": "code",
      "metadata": {
        "colab": {
          "base_uri": "https://localhost:8080/"
        },
        "id": "ZFcxoLal8REE",
        "outputId": "1cc312bf-8ed0-45e6-a185-793b7a1c9cc0"
      },
      "source": [
        "model_4.evaluate(X_test, y_test)"
      ],
      "execution_count": 42,
      "outputs": [
        {
          "output_type": "stream",
          "name": "stdout",
          "text": [
            "7/7 [==============================] - 0s 2ms/step - loss: 0.2398 - accuracy: 0.8750\n"
          ]
        },
        {
          "output_type": "execute_result",
          "data": {
            "text/plain": [
              "[0.2397901713848114, 0.875]"
            ]
          },
          "metadata": {},
          "execution_count": 42
        }
      ]
    },
    {
      "cell_type": "code",
      "metadata": {
        "colab": {
          "base_uri": "https://localhost:8080/",
          "height": 282
        },
        "id": "TMDqPLJ28RG9",
        "outputId": "24eaa034-15aa-425b-a7a4-ea7fb34e3170"
      },
      "source": [
        "plot_decision_boundary(model_3, X, y)"
      ],
      "execution_count": 43,
      "outputs": [
        {
          "output_type": "stream",
          "name": "stdout",
          "text": [
            "doing binary classification\n"
          ]
        },
        {
          "output_type": "display_data",
          "data": {
            "image/png": "[encoded data removed]",
            "text/plain": [
              "<Figure size 432x288 with 1 Axes>"
            ]
          },
          "metadata": {
            "needs_background": "light"
          }
        }
      ]
    },
    {
      "cell_type": "code",
      "metadata": {
        "colab": {
          "base_uri": "https://localhost:8080/",
          "height": 282
        },
        "id": "ZLl0519z8RJ1",
        "outputId": "5d664714-6757-41a0-dcc7-121a6f654ce5"
      },
      "source": [
        "plot_decision_boundary(model_4, X, y)"
      ],
      "execution_count": 44,
      "outputs": [
        {
          "output_type": "stream",
          "name": "stdout",
          "text": [
            "doing binary classification\n"
          ]
        },
        {
          "output_type": "display_data",
          "data": {
            "image/png": "[encoded data removed]",
            "text/plain": [
              "<Figure size 432x288 with 1 Axes>"
            ]
          },
          "metadata": {
            "needs_background": "light"
          }
        }
      ]
    },
    {
      "cell_type": "code",
      "metadata": {
        "colab": {
          "base_uri": "https://localhost:8080/"
        },
        "id": "r_zGtGvO8RMn",
        "outputId": "3d4b8425-683f-4af3-e38d-16414f28bafb"
      },
      "source": [
        "# Let's rebuild our model\n",
        "\n",
        "# Create the model\n",
        "model_5 = tf.keras.Sequential([\n",
        "  tf.keras.layers.Dense(10, activation=\"relu\"),\n",
        "  tf.keras.layers.Dense(6, activation=\"relu\"),\n",
        "  tf.keras.layers.Dense(1, activation=\"sigmoid\")\n",
        "])\n",
        "\n",
        "# Compile the model\n",
        "model_5.compile(loss=\"binary_crossentropy\",\n",
        "                optimizer=tf.keras.optimizers.Adam(lr=0.01), # increase the learning rate\n",
        "                metrics=[\"accuracy\"])\n",
        "\n",
        "# Fit the model\n",
        "history_5 = model_5.fit(X_train, y_train, epochs=50, verbose=0)"
      ],
      "execution_count": 45,
      "outputs": [
        {
          "output_type": "stream",
          "name": "stderr",
          "text": [
            "/usr/local/lib/python3.7/dist-packages/keras/optimizer_v2/optimizer_v2.py:356: UserWarning: The `lr` argument is deprecated, use `learning_rate` instead.\n",
            "  \"The `lr` argument is deprecated, use `learning_rate` instead.\")\n"
          ]
        }
      ]
    },
    {
      "cell_type": "code",
      "metadata": {
        "colab": {
          "base_uri": "https://localhost:8080/"
        },
        "id": "FKSaSUh2-bPB",
        "outputId": "b24d4ee0-f0fe-4bba-c8a3-e39295b379e6"
      },
      "source": [
        "model_5.evaluate(X_test, y_test)"
      ],
      "execution_count": 46,
      "outputs": [
        {
          "output_type": "stream",
          "name": "stdout",
          "text": [
            "7/7 [==============================] - 0s 2ms/step - loss: 0.0060 - accuracy: 1.0000\n"
          ]
        },
        {
          "output_type": "execute_result",
          "data": {
            "text/plain": [
              "[0.006036013830453157, 1.0]"
            ]
          },
          "metadata": {},
          "execution_count": 46
        }
      ]
    },
    {
      "cell_type": "code",
      "metadata": {
        "colab": {
          "base_uri": "https://localhost:8080/",
          "height": 282
        },
        "id": "lWL0i2X4-bTU",
        "outputId": "fcb6f3f2-9d11-4345-b082-be678e1fdc95"
      },
      "source": [
        "plot_decision_boundary(model_5, X, y)"
      ],
      "execution_count": 47,
      "outputs": [
        {
          "output_type": "stream",
          "name": "stdout",
          "text": [
            "doing binary classification\n"
          ]
        },
        {
          "output_type": "display_data",
          "data": {
            "image/png": "[encoded data removed]",
            "text/plain": [
              "<Figure size 432x288 with 1 Axes>"
            ]
          },
          "metadata": {
            "needs_background": "light"
          }
        }
      ]
    }
  ]
}