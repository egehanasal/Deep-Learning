{
 "cells": [
  {
   "cell_type": "code",
   "execution_count": 1,
   "metadata": {},
   "outputs": [],
   "source": [
    "import tensorflow as tf\n",
    "from tensorflow import keras\n",
    "import numpy as np\n",
    "import matplotlib.pyplot as plt"
   ]
  },
  {
   "cell_type": "code",
   "execution_count": 2,
   "metadata": {},
   "outputs": [],
   "source": [
    "data = keras.datasets.imdb"
   ]
  },
  {
   "cell_type": "code",
   "execution_count": 3,
   "metadata": {},
   "outputs": [],
   "source": [
    "(train_data, train_labels), (test_data, test_labels) = data.load_data(num_words=10000)"
   ]
  },
  {
   "cell_type": "code",
   "execution_count": 4,
   "metadata": {},
   "outputs": [],
   "source": [
    "# train_data[0] is a list of integers."
   ]
  },
  {
   "cell_type": "code",
   "execution_count": 5,
   "metadata": {},
   "outputs": [],
   "source": [
    "word_index = data.get_word_index() #Retrieves a dict mapping words to their index in the IMDB dataset."
   ]
  },
  {
   "cell_type": "code",
   "execution_count": 6,
   "metadata": {},
   "outputs": [],
   "source": [
    "word_index = {k:(v+3) for k, v in word_index.items()}\n",
    "#dictionary.items() returns a view object that displays a list of a given dictionary's (key, value) tuple pair.\n",
    "#by making it a list or dictionary, tuples inside that object is reachable.\n",
    "#we are adding 3 to the each value for each key\n",
    "word_index[\"<PAD>\"] = 0 #will be used to make reviews the same length by adding 0 to the shorter ones\n",
    "word_index[\"<START>\"] = 1 #each texts first element is 1, so \"<START>\" will be printed before anything else\n",
    "word_index[\"<UNK>\"] = 2 #2 represents the unkown words in the data, \"<UNK>\" will be printed when an unknown word comes\n",
    "word_index[\"<UNUSED>\"] = 3 #3 represents the unkown words in the data, \"<UNUSED>\" will be printed when an unknown word comes"
   ]
  },
  {
   "cell_type": "code",
   "execution_count": 7,
   "metadata": {},
   "outputs": [],
   "source": [
    "#Reversing the dict to get a dict that is mapping the index' to their key\n",
    "reverse_word_index = dict([(value, key) for (key, value) in word_index.items()])"
   ]
  },
  {
   "cell_type": "code",
   "execution_count": 8,
   "metadata": {},
   "outputs": [],
   "source": [
    "#decoding the data to readable words\n",
    "#gets the word that corresponds to that index and puts space after every word\n",
    "#if that index doesn't correspond to a word, puts a \"?\"\n",
    "def decode_review(text):\n",
    "    return \" \".join([reverse_word_index.get(i, \"?\") for i in text])"
   ]
  },
  {
   "cell_type": "code",
   "execution_count": 9,
   "metadata": {},
   "outputs": [
    {
     "name": "stdout",
     "output_type": "stream",
     "text": [
      "<START> please give this one a miss br br <UNK> <UNK> and the rest of the cast rendered terrible performances the show is flat flat flat br br i don't know how michael madison could have allowed this one on his plate he almost seemed to know this wasn't going to work out and his performance was quite <UNK> so all you madison fans give this a miss\n"
     ]
    }
   ],
   "source": [
    "print(decode_review(test_data[0]))"
   ]
  },
  {
   "cell_type": "code",
   "execution_count": 10,
   "metadata": {},
   "outputs": [
    {
     "data": {
      "text/plain": [
       "(68, 260)"
      ]
     },
     "execution_count": 10,
     "metadata": {},
     "output_type": "execute_result"
    }
   ],
   "source": [
    "len(test_data[0]), len(test_data[1]) #two different lengths"
   ]
  },
  {
   "cell_type": "markdown",
   "metadata": {},
   "source": [
    "#### We have to know the max length of the texts to determine the number of neurons or we can set a number and rearrange the train_data and test_data "
   ]
  },
  {
   "cell_type": "code",
   "execution_count": 11,
   "metadata": {},
   "outputs": [
    {
     "data": {
      "text/plain": [
       "(218, 189, 68, 260)"
      ]
     },
     "execution_count": 11,
     "metadata": {},
     "output_type": "execute_result"
    }
   ],
   "source": [
    "len(train_data[0]), len(train_data[1]), len(test_data[0]), len(test_data[1])"
   ]
  },
  {
   "cell_type": "markdown",
   "metadata": {},
   "source": [
    "##### By setting maxLen=250, texts that are longer than 250 in train_data and test_data will be deleted and by setting value=word_index[\"<PAD\">\"], we are adding 0's to the texts that has shorter length than 250 and by setting padding=\"post\", we are adding the 0's to the \"end\" of the text"
   ]
  },
  {
   "cell_type": "code",
   "execution_count": 12,
   "metadata": {},
   "outputs": [],
   "source": [
    "train_data = keras.preprocessing.sequence.pad_sequences(train_data, value=word_index[\"<PAD>\"], padding=\"post\", maxlen=250)\n",
    "test_data = keras.preprocessing.sequence.pad_sequences(test_data, value=word_index[\"<PAD>\"], padding=\"post\", maxlen=250)"
   ]
  },
  {
   "cell_type": "code",
   "execution_count": 13,
   "metadata": {},
   "outputs": [
    {
     "data": {
      "text/plain": [
       "(250, 250, 250, 250)"
      ]
     },
     "execution_count": 13,
     "metadata": {},
     "output_type": "execute_result"
    }
   ],
   "source": [
    "len(train_data[0]), len(train_data[1]), len(test_data[0]), len(test_data[1])"
   ]
  },
  {
   "cell_type": "markdown",
   "metadata": {},
   "source": [
    "### Creating the model"
   ]
  },
  {
   "cell_type": "code",
   "execution_count": 14,
   "metadata": {},
   "outputs": [],
   "source": [
    "model = keras.Sequential()"
   ]
  },
  {
   "cell_type": "code",
   "execution_count": 15,
   "metadata": {},
   "outputs": [],
   "source": [
    "model.add(keras.layers.Embedding(10000, 16)) #16 dimensions\n",
    "#created 10000 word vectors. If two words have similar meanings, those vectors are\n",
    "#close to each other so the degree between them is very small.\n",
    "model.add(keras.layers.GlobalAveragePooling1D()) #puts the daha in a lower dimension\n",
    "model.add(keras.layers.Dense(16, activation=\"relu\"))\n",
    "model.add(keras.layers.Dense(1, activation=\"sigmoid\"))"
   ]
  },
  {
   "cell_type": "code",
   "execution_count": 16,
   "metadata": {},
   "outputs": [
    {
     "name": "stdout",
     "output_type": "stream",
     "text": [
      "Model: \"sequential\"\n",
      "_________________________________________________________________\n",
      "Layer (type)                 Output Shape              Param #   \n",
      "=================================================================\n",
      "embedding (Embedding)        (None, None, 16)          160000    \n",
      "_________________________________________________________________\n",
      "global_average_pooling1d (Gl (None, 16)                0         \n",
      "_________________________________________________________________\n",
      "dense (Dense)                (None, 16)                272       \n",
      "_________________________________________________________________\n",
      "dense_1 (Dense)              (None, 1)                 17        \n",
      "=================================================================\n",
      "Total params: 160,289\n",
      "Trainable params: 160,289\n",
      "Non-trainable params: 0\n",
      "_________________________________________________________________\n"
     ]
    }
   ],
   "source": [
    "model.summary()"
   ]
  },
  {
   "cell_type": "code",
   "execution_count": 17,
   "metadata": {},
   "outputs": [],
   "source": [
    "model.compile(optimizer=\"adam\", loss=\"binary_crossentropy\", metrics=[\"accuracy\"])"
   ]
  },
  {
   "cell_type": "code",
   "execution_count": 18,
   "metadata": {},
   "outputs": [],
   "source": [
    "x_val = train_data[:10000]\n",
    "x_train = train_data[10000:]"
   ]
  },
  {
   "cell_type": "code",
   "execution_count": 19,
   "metadata": {},
   "outputs": [],
   "source": [
    "y_val = train_labels[:10000]\n",
    "y_train = train_labels[10000:]"
   ]
  },
  {
   "cell_type": "code",
   "execution_count": 20,
   "metadata": {},
   "outputs": [
    {
     "name": "stdout",
     "output_type": "stream",
     "text": [
      "Epoch 1/40\n",
      "30/30 [==============================] - 1s 23ms/step - loss: 0.6917 - accuracy: 0.5837 - val_loss: 0.6897 - val_accuracy: 0.6809\n",
      "Epoch 2/40\n",
      "30/30 [==============================] - 0s 16ms/step - loss: 0.6858 - accuracy: 0.7165 - val_loss: 0.6816 - val_accuracy: 0.7452\n",
      "Epoch 3/40\n",
      "30/30 [==============================] - 0s 16ms/step - loss: 0.6732 - accuracy: 0.7365 - val_loss: 0.6657 - val_accuracy: 0.7333\n",
      "Epoch 4/40\n",
      "30/30 [==============================] - 0s 16ms/step - loss: 0.6504 - accuracy: 0.7757 - val_loss: 0.6398 - val_accuracy: 0.7685\n",
      "Epoch 5/40\n",
      "30/30 [==============================] - 0s 16ms/step - loss: 0.6163 - accuracy: 0.7959 - val_loss: 0.6030 - val_accuracy: 0.7893\n",
      "Epoch 6/40\n",
      "30/30 [==============================] - 0s 16ms/step - loss: 0.5724 - accuracy: 0.8125 - val_loss: 0.5599 - val_accuracy: 0.8031\n",
      "Epoch 7/40\n",
      "30/30 [==============================] - 0s 16ms/step - loss: 0.5236 - accuracy: 0.8315 - val_loss: 0.5155 - val_accuracy: 0.8147\n",
      "Epoch 8/40\n",
      "30/30 [==============================] - 0s 16ms/step - loss: 0.4749 - accuracy: 0.8479 - val_loss: 0.4739 - val_accuracy: 0.8286\n",
      "Epoch 9/40\n",
      "30/30 [==============================] - 0s 15ms/step - loss: 0.4300 - accuracy: 0.8629 - val_loss: 0.4363 - val_accuracy: 0.8422\n",
      "Epoch 10/40\n",
      "30/30 [==============================] - 0s 15ms/step - loss: 0.3904 - accuracy: 0.8750 - val_loss: 0.4051 - val_accuracy: 0.8538\n",
      "Epoch 11/40\n",
      "30/30 [==============================] - 0s 15ms/step - loss: 0.3579 - accuracy: 0.8834 - val_loss: 0.3802 - val_accuracy: 0.8586\n",
      "Epoch 12/40\n",
      "30/30 [==============================] - 0s 15ms/step - loss: 0.3301 - accuracy: 0.8907 - val_loss: 0.3606 - val_accuracy: 0.8650\n",
      "Epoch 13/40\n",
      "30/30 [==============================] - 0s 16ms/step - loss: 0.3068 - accuracy: 0.8968 - val_loss: 0.3451 - val_accuracy: 0.8697\n",
      "Epoch 14/40\n",
      "30/30 [==============================] - 0s 15ms/step - loss: 0.2870 - accuracy: 0.9025 - val_loss: 0.3323 - val_accuracy: 0.8732\n",
      "Epoch 15/40\n",
      "30/30 [==============================] - 0s 15ms/step - loss: 0.2701 - accuracy: 0.9067 - val_loss: 0.3222 - val_accuracy: 0.8762\n",
      "Epoch 16/40\n",
      "30/30 [==============================] - 0s 15ms/step - loss: 0.2547 - accuracy: 0.9114 - val_loss: 0.3142 - val_accuracy: 0.8783\n",
      "Epoch 17/40\n",
      "30/30 [==============================] - 0s 15ms/step - loss: 0.2411 - accuracy: 0.9163 - val_loss: 0.3074 - val_accuracy: 0.8788\n",
      "Epoch 18/40\n",
      "30/30 [==============================] - 0s 15ms/step - loss: 0.2286 - accuracy: 0.9217 - val_loss: 0.3017 - val_accuracy: 0.8808\n",
      "Epoch 19/40\n",
      "30/30 [==============================] - 0s 16ms/step - loss: 0.2175 - accuracy: 0.9254 - val_loss: 0.2977 - val_accuracy: 0.8819\n",
      "Epoch 20/40\n",
      "30/30 [==============================] - 0s 15ms/step - loss: 0.2075 - accuracy: 0.9275 - val_loss: 0.2944 - val_accuracy: 0.8834\n",
      "Epoch 21/40\n",
      "30/30 [==============================] - 0s 15ms/step - loss: 0.1978 - accuracy: 0.9328 - val_loss: 0.2912 - val_accuracy: 0.8827\n",
      "Epoch 22/40\n",
      "30/30 [==============================] - 0s 16ms/step - loss: 0.1890 - accuracy: 0.9361 - val_loss: 0.2889 - val_accuracy: 0.8848\n",
      "Epoch 23/40\n",
      "30/30 [==============================] - 0s 15ms/step - loss: 0.1805 - accuracy: 0.9412 - val_loss: 0.2875 - val_accuracy: 0.8852\n",
      "Epoch 24/40\n",
      "30/30 [==============================] - 0s 15ms/step - loss: 0.1725 - accuracy: 0.9441 - val_loss: 0.2862 - val_accuracy: 0.8861\n",
      "Epoch 25/40\n",
      "30/30 [==============================] - 0s 16ms/step - loss: 0.1655 - accuracy: 0.9471 - val_loss: 0.2854 - val_accuracy: 0.8855\n",
      "Epoch 26/40\n",
      "30/30 [==============================] - 0s 16ms/step - loss: 0.1583 - accuracy: 0.9497 - val_loss: 0.2855 - val_accuracy: 0.8855\n",
      "Epoch 27/40\n",
      "30/30 [==============================] - 0s 15ms/step - loss: 0.1524 - accuracy: 0.9523 - val_loss: 0.2862 - val_accuracy: 0.8862\n",
      "Epoch 28/40\n",
      "30/30 [==============================] - 0s 15ms/step - loss: 0.1455 - accuracy: 0.9553 - val_loss: 0.2863 - val_accuracy: 0.8858\n",
      "Epoch 29/40\n",
      "30/30 [==============================] - 0s 16ms/step - loss: 0.1399 - accuracy: 0.9575 - val_loss: 0.2873 - val_accuracy: 0.8853\n",
      "Epoch 30/40\n",
      "30/30 [==============================] - 0s 15ms/step - loss: 0.1342 - accuracy: 0.9605 - val_loss: 0.2881 - val_accuracy: 0.8876\n",
      "Epoch 31/40\n",
      "30/30 [==============================] - 0s 16ms/step - loss: 0.1287 - accuracy: 0.9629 - val_loss: 0.2899 - val_accuracy: 0.8865\n",
      "Epoch 32/40\n",
      "30/30 [==============================] - 0s 16ms/step - loss: 0.1238 - accuracy: 0.9645 - val_loss: 0.2914 - val_accuracy: 0.8863\n",
      "Epoch 33/40\n",
      "30/30 [==============================] - 0s 16ms/step - loss: 0.1190 - accuracy: 0.9666 - val_loss: 0.2943 - val_accuracy: 0.8852\n",
      "Epoch 34/40\n",
      "30/30 [==============================] - 0s 15ms/step - loss: 0.1148 - accuracy: 0.9680 - val_loss: 0.2962 - val_accuracy: 0.8861\n",
      "Epoch 35/40\n",
      "30/30 [==============================] - 0s 16ms/step - loss: 0.1102 - accuracy: 0.9688 - val_loss: 0.2995 - val_accuracy: 0.8843\n",
      "Epoch 36/40\n",
      "30/30 [==============================] - 0s 15ms/step - loss: 0.1058 - accuracy: 0.9709 - val_loss: 0.3006 - val_accuracy: 0.8847\n",
      "Epoch 37/40\n",
      "30/30 [==============================] - 0s 15ms/step - loss: 0.1016 - accuracy: 0.9721 - val_loss: 0.3049 - val_accuracy: 0.8836\n",
      "Epoch 38/40\n",
      "30/30 [==============================] - 0s 15ms/step - loss: 0.0981 - accuracy: 0.9741 - val_loss: 0.3090 - val_accuracy: 0.8815\n",
      "Epoch 39/40\n",
      "30/30 [==============================] - 0s 15ms/step - loss: 0.0939 - accuracy: 0.9763 - val_loss: 0.3096 - val_accuracy: 0.8825\n",
      "Epoch 40/40\n",
      "30/30 [==============================] - 0s 15ms/step - loss: 0.0903 - accuracy: 0.9769 - val_loss: 0.3127 - val_accuracy: 0.8825\n"
     ]
    }
   ],
   "source": [
    "fitModel = model.fit(x_train, y_train, epochs=40, batch_size=512, validation_data=(x_val, y_val), verbose=1)\n",
    "#batch_size: number of the movie reviews that we are giving every time"
   ]
  },
  {
   "cell_type": "code",
   "execution_count": 21,
   "metadata": {},
   "outputs": [
    {
     "name": "stdout",
     "output_type": "stream",
     "text": [
      "782/782 [==============================] - 1s 983us/step - loss: 0.3348 - accuracy: 0.8706\n"
     ]
    }
   ],
   "source": [
    "results = model.evaluate(test_data, test_labels)"
   ]
  }
 ],
 "metadata": {
  "kernelspec": {
   "display_name": "Python 3",
   "language": "python",
   "name": "python3"
  },
  "language_info": {
   "codemirror_mode": {
    "name": "ipython",
    "version": 3
   },
   "file_extension": ".py",
   "mimetype": "text/x-python",
   "name": "python",
   "nbconvert_exporter": "python",
   "pygments_lexer": "ipython3",
   "version": "3.8.1"
  }
 },
 "nbformat": 4,
 "nbformat_minor": 4
}
