{
  "nbformat": 4,
  "nbformat_minor": 0,
  "metadata": {
    "colab": {
      "name": "BERT_Embedding.ipynb",
      "provenance": [],
      "collapsed_sections": []
    },
    "kernelspec": {
      "name": "python3",
      "display_name": "Python 3"
    },
    "language_info": {
      "name": "python"
    },
    "accelerator": "GPU"
  },
  "cells": [
    {
      "cell_type": "markdown",
      "metadata": {
        "id": "a5ahIyCKLmFq"
      },
      "source": [
        "## Stage 1: Importing dependencies"
      ]
    },
    {
      "cell_type": "code",
      "metadata": {
        "id": "NDei4dU5Ld-Y"
      },
      "source": [
        "import numpy as np\n",
        "import pandas as pd\n",
        "import re\n",
        "from bs4 import BeautifulSoup\n",
        "import random"
      ],
      "execution_count": 1,
      "outputs": []
    },
    {
      "cell_type": "code",
      "metadata": {
        "colab": {
          "base_uri": "https://localhost:8080/"
        },
        "id": "8_zg_FPRL6cx",
        "outputId": "df7dee7f-52ee-42ea-a151-4de5882f96c2"
      },
      "source": [
        "!pip install bert-for-tf2\n",
        "!pip install sentencepiece"
      ],
      "execution_count": 2,
      "outputs": [
        {
          "output_type": "stream",
          "name": "stdout",
          "text": [
            "Collecting bert-for-tf2\n",
            "  Downloading bert-for-tf2-0.14.9.tar.gz (41 kB)\n",
            "\u001b[?25l\r\u001b[K     |████████                        | 10 kB 19.0 MB/s eta 0:00:01\r\u001b[K     |████████████████                | 20 kB 21.5 MB/s eta 0:00:01\r\u001b[K     |███████████████████████▉        | 30 kB 19.2 MB/s eta 0:00:01\r\u001b[K     |███████████████████████████████▉| 40 kB 16.0 MB/s eta 0:00:01\r\u001b[K     |████████████████████████████████| 41 kB 131 kB/s \n",
            "\u001b[?25hCollecting py-params>=0.9.6\n",
            "  Downloading py-params-0.10.2.tar.gz (7.4 kB)\n",
            "Collecting params-flow>=0.8.0\n",
            "  Downloading params-flow-0.8.2.tar.gz (22 kB)\n",
            "Requirement already satisfied: numpy in /usr/local/lib/python3.7/dist-packages (from params-flow>=0.8.0->bert-for-tf2) (1.19.5)\n",
            "Requirement already satisfied: tqdm in /usr/local/lib/python3.7/dist-packages (from params-flow>=0.8.0->bert-for-tf2) (4.62.3)\n",
            "Building wheels for collected packages: bert-for-tf2, params-flow, py-params\n",
            "  Building wheel for bert-for-tf2 (setup.py) ... \u001b[?25l\u001b[?25hdone\n",
            "  Created wheel for bert-for-tf2: filename=bert_for_tf2-0.14.9-py3-none-any.whl size=30534 sha256=dfeb19994708f50401dfb6c77abd49ddabe5c49c9c0796d0a0683056fc17dd24\n",
            "  Stored in directory: /root/.cache/pip/wheels/47/b6/e5/8c76ec779f54bc5c2f1b57d2200bb9c77616da83873e8acb53\n",
            "  Building wheel for params-flow (setup.py) ... \u001b[?25l\u001b[?25hdone\n",
            "  Created wheel for params-flow: filename=params_flow-0.8.2-py3-none-any.whl size=19473 sha256=7052e289e4c78c33cd2d02497072783822e2dda7d7da94d285446ae0b0ef7345\n",
            "  Stored in directory: /root/.cache/pip/wheels/0e/fc/d2/a44fff33af0f233d7def6e7de413006d57c10e10ad736fe8f5\n",
            "  Building wheel for py-params (setup.py) ... \u001b[?25l\u001b[?25hdone\n",
            "  Created wheel for py-params: filename=py_params-0.10.2-py3-none-any.whl size=7912 sha256=5eb5a467ccfc9e619e304c2496b8b646a34b036887ba9dde693107b505eaffbe\n",
            "  Stored in directory: /root/.cache/pip/wheels/e1/11/67/33cc51bbee127cb8fb2ba549cd29109b2f22da43ddf9969716\n",
            "Successfully built bert-for-tf2 params-flow py-params\n",
            "Installing collected packages: py-params, params-flow, bert-for-tf2\n",
            "Successfully installed bert-for-tf2-0.14.9 params-flow-0.8.2 py-params-0.10.2\n",
            "Collecting sentencepiece\n",
            "  Downloading sentencepiece-0.1.96-cp37-cp37m-manylinux_2_17_x86_64.manylinux2014_x86_64.whl (1.2 MB)\n",
            "\u001b[K     |████████████████████████████████| 1.2 MB 13.5 MB/s \n",
            "\u001b[?25hInstalling collected packages: sentencepiece\n",
            "Successfully installed sentencepiece-0.1.96\n"
          ]
        }
      ]
    },
    {
      "cell_type": "code",
      "metadata": {
        "id": "pCfd4_EbL6aZ"
      },
      "source": [
        "import tensorflow as tf\n",
        "import tensorflow_hub as hub\n",
        "from tensorflow.keras import layers\n",
        "import bert"
      ],
      "execution_count": 20,
      "outputs": []
    },
    {
      "cell_type": "markdown",
      "metadata": {
        "id": "phqcxGR-MQdV"
      },
      "source": [
        "## Stage 2: Data preprocessing"
      ]
    },
    {
      "cell_type": "markdown",
      "metadata": {
        "id": "520mRYRYL6UR"
      },
      "source": [
        "### Get data"
      ]
    },
    {
      "cell_type": "code",
      "metadata": {
        "colab": {
          "base_uri": "https://localhost:8080/"
        },
        "id": "3sB3CSEXL6Ro",
        "outputId": "bade96fd-9022-4526-87d4-76ba83d9b434"
      },
      "source": [
        "!wget !wget http://cs.stanford.edu/people/alecmgo/trainingandtestdata.zip"
      ],
      "execution_count": 4,
      "outputs": [
        {
          "output_type": "stream",
          "name": "stdout",
          "text": [
            "--2021-10-25 19:07:25--  http://!wget/\n",
            "Resolving !wget (!wget)... failed: Name or service not known.\n",
            "wget: unable to resolve host address ‘!wget’\n",
            "--2021-10-25 19:07:25--  http://cs.stanford.edu/people/alecmgo/trainingandtestdata.zip\n",
            "Resolving cs.stanford.edu (cs.stanford.edu)... 171.64.64.64\n",
            "Connecting to cs.stanford.edu (cs.stanford.edu)|171.64.64.64|:80... connected.\n",
            "HTTP request sent, awaiting response... 301 Moved Permanently\n",
            "Location: https://cs.stanford.edu/people/alecmgo/trainingandtestdata.zip [following]\n",
            "--2021-10-25 19:07:25--  https://cs.stanford.edu/people/alecmgo/trainingandtestdata.zip\n",
            "Connecting to cs.stanford.edu (cs.stanford.edu)|171.64.64.64|:443... connected.\n",
            "HTTP request sent, awaiting response... 200 OK\n",
            "Length: 81363704 (78M) [application/zip]\n",
            "Saving to: ‘trainingandtestdata.zip’\n",
            "\n",
            "trainingandtestdata 100%[===================>]  77.59M  20.1MB/s    in 4.9s    \n",
            "\n",
            "2021-10-25 19:07:31 (15.9 MB/s) - ‘trainingandtestdata.zip’ saved [81363704/81363704]\n",
            "\n",
            "FINISHED --2021-10-25 19:07:31--\n",
            "Total wall clock time: 5.8s\n",
            "Downloaded: 1 files, 78M in 4.9s (15.9 MB/s)\n"
          ]
        }
      ]
    },
    {
      "cell_type": "code",
      "metadata": {
        "colab": {
          "base_uri": "https://localhost:8080/"
        },
        "id": "s7vzy-hfL6Ph",
        "outputId": "c96243a7-064c-46bd-e81f-624eba697436"
      },
      "source": [
        "!unzip /content/trainingandtestdata.zip"
      ],
      "execution_count": 5,
      "outputs": [
        {
          "output_type": "stream",
          "name": "stdout",
          "text": [
            "Archive:  /content/trainingandtestdata.zip\n",
            "  inflating: testdata.manual.2009.06.14.csv  \n",
            "  inflating: training.1600000.processed.noemoticon.csv  \n"
          ]
        }
      ]
    },
    {
      "cell_type": "markdown",
      "metadata": {
        "id": "MiKrDgszMf_M"
      },
      "source": [
        "### Preprocess"
      ]
    },
    {
      "cell_type": "code",
      "metadata": {
        "id": "f9psfEyLMYuk"
      },
      "source": [
        "cols = [\"sentiment\", \"id\", \"date\", \"query\", \"user\", \"text\"]\n",
        "data = pd.read_csv(\"/content/training.1600000.processed.noemoticon.csv\",\n",
        "                   names=cols,\n",
        "                   encoding=\"latin1\")"
      ],
      "execution_count": 6,
      "outputs": []
    },
    {
      "cell_type": "code",
      "metadata": {
        "id": "fPagf-mMMYr_"
      },
      "source": [
        "data.drop([\"id\", \"date\", \"query\", \"user\"], axis=1, inplace=True)"
      ],
      "execution_count": 7,
      "outputs": []
    },
    {
      "cell_type": "code",
      "metadata": {
        "colab": {
          "base_uri": "https://localhost:8080/",
          "height": 203
        },
        "id": "qttYHtjJMYpe",
        "outputId": "3bde1368-ce39-4701-e8cf-7623fc1df9f8"
      },
      "source": [
        "data.head()"
      ],
      "execution_count": 8,
      "outputs": [
        {
          "output_type": "execute_result",
          "data": {
            "text/html": [
              "<div>\n",
              "<style scoped>\n",
              "    .dataframe tbody tr th:only-of-type {\n",
              "        vertical-align: middle;\n",
              "    }\n",
              "\n",
              "    .dataframe tbody tr th {\n",
              "        vertical-align: top;\n",
              "    }\n",
              "\n",
              "    .dataframe thead th {\n",
              "        text-align: right;\n",
              "    }\n",
              "</style>\n",
              "<table border=\"1\" class=\"dataframe\">\n",
              "  <thead>\n",
              "    <tr style=\"text-align: right;\">\n",
              "      <th></th>\n",
              "      <th>sentiment</th>\n",
              "      <th>text</th>\n",
              "    </tr>\n",
              "  </thead>\n",
              "  <tbody>\n",
              "    <tr>\n",
              "      <th>0</th>\n",
              "      <td>0</td>\n",
              "      <td>@switchfoot http://twitpic.com/2y1zl - Awww, t...</td>\n",
              "    </tr>\n",
              "    <tr>\n",
              "      <th>1</th>\n",
              "      <td>0</td>\n",
              "      <td>is upset that he can't update his Facebook by ...</td>\n",
              "    </tr>\n",
              "    <tr>\n",
              "      <th>2</th>\n",
              "      <td>0</td>\n",
              "      <td>@Kenichan I dived many times for the ball. Man...</td>\n",
              "    </tr>\n",
              "    <tr>\n",
              "      <th>3</th>\n",
              "      <td>0</td>\n",
              "      <td>my whole body feels itchy and like its on fire</td>\n",
              "    </tr>\n",
              "    <tr>\n",
              "      <th>4</th>\n",
              "      <td>0</td>\n",
              "      <td>@nationwideclass no, it's not behaving at all....</td>\n",
              "    </tr>\n",
              "  </tbody>\n",
              "</table>\n",
              "</div>"
            ],
            "text/plain": [
              "   sentiment                                               text\n",
              "0          0  @switchfoot http://twitpic.com/2y1zl - Awww, t...\n",
              "1          0  is upset that he can't update his Facebook by ...\n",
              "2          0  @Kenichan I dived many times for the ball. Man...\n",
              "3          0    my whole body feels itchy and like its on fire \n",
              "4          0  @nationwideclass no, it's not behaving at all...."
            ]
          },
          "metadata": {},
          "execution_count": 8
        }
      ]
    },
    {
      "cell_type": "code",
      "metadata": {
        "colab": {
          "base_uri": "https://localhost:8080/"
        },
        "id": "OTcOFzMMMYnQ",
        "outputId": "2dadb75f-369b-47f4-ace2-7365cd7c27f6"
      },
      "source": [
        "data.info()"
      ],
      "execution_count": 9,
      "outputs": [
        {
          "output_type": "stream",
          "name": "stdout",
          "text": [
            "<class 'pandas.core.frame.DataFrame'>\n",
            "RangeIndex: 1600000 entries, 0 to 1599999\n",
            "Data columns (total 2 columns):\n",
            " #   Column     Non-Null Count    Dtype \n",
            "---  ------     --------------    ----- \n",
            " 0   sentiment  1600000 non-null  int64 \n",
            " 1   text       1600000 non-null  object\n",
            "dtypes: int64(1), object(1)\n",
            "memory usage: 24.4+ MB\n"
          ]
        }
      ]
    },
    {
      "cell_type": "markdown",
      "metadata": {
        "id": "vELPXKNkMydI"
      },
      "source": [
        "### Cleaning"
      ]
    },
    {
      "cell_type": "code",
      "metadata": {
        "id": "wrQTMRD_MrTE"
      },
      "source": [
        "def clean_tweet(tweet):\n",
        "    tweet = BeautifulSoup(tweet, \"lxml\").get_text()\n",
        "    # Delete the @\n",
        "    tweet = re.sub(r\"@[A-Za-z0-9]+\", ' ', tweet)\n",
        "    # Delete URL links\n",
        "    tweet = re.sub(r\"https?://[A-Za-z0-9./]+\", ' ', tweet)\n",
        "    # Just keep letters and important punctuation\n",
        "    tweet = re.sub(r\"[^a-zA-Z.!?']\", ' ', tweet)\n",
        "    # Remove additional spaces\n",
        "    tweet = re.sub(r\" +\", ' ', tweet)\n",
        "    return tweet"
      ],
      "execution_count": 10,
      "outputs": []
    },
    {
      "cell_type": "code",
      "metadata": {
        "id": "b-5H5NKeMrRD"
      },
      "source": [
        "data_clean = [clean_tweet(tweet) for tweet in data.text]"
      ],
      "execution_count": 11,
      "outputs": []
    },
    {
      "cell_type": "code",
      "metadata": {
        "id": "0gzdcAeWMrO6"
      },
      "source": [
        "data_labels = data.sentiment.values\n",
        "data_labels[data_labels == 4] = 1"
      ],
      "execution_count": 12,
      "outputs": []
    },
    {
      "cell_type": "markdown",
      "metadata": {
        "id": "D2OuKn0URMy-"
      },
      "source": [
        "### Tokenization\n",
        "\n",
        "We need to create a BERT layer to have acces to meta data for the tokenize (like vocab size)"
      ]
    },
    {
      "cell_type": "code",
      "metadata": {
        "id": "PYmTHw3VMrMb"
      },
      "source": [
        "FullTokenizer = bert.bert_tokenization.FullTokenizer\n",
        "bert_layer = hub.KerasLayer(\"https://tfhub.dev/tensorflow/bert_en_uncased_L-12_H-768_A-12/1\",\n",
        "                            trainable=False)\n",
        "vocab_file = bert_layer.resolved_object.vocab_file.asset_path.numpy()\n",
        "do_lower_case = bert_layer.resolved_object.do_lower_case.numpy()\n",
        "tokenizer = FullTokenizer(vocab_file, do_lower_case)"
      ],
      "execution_count": 13,
      "outputs": []
    },
    {
      "cell_type": "markdown",
      "metadata": {
        "id": "teoJPrE4Tmlw"
      },
      "source": [
        "We only use the first sentence for BERT inputs so we add the CLS token at the beginning and the SEP token at the end of each sentence"
      ]
    },
    {
      "cell_type": "code",
      "metadata": {
        "id": "JLYE8uRMMrJ9"
      },
      "source": [
        "def encode_sentence(sent):\n",
        "  return [\"[CLS]\"] + tokenizer.tokenize(sent) + [\"[SEP]\"]"
      ],
      "execution_count": 14,
      "outputs": []
    },
    {
      "cell_type": "code",
      "metadata": {
        "id": "-a632T9mMrHb"
      },
      "source": [
        "data_inputs = [encode_sentence(sentence) for sentence in data_clean]"
      ],
      "execution_count": 15,
      "outputs": []
    },
    {
      "cell_type": "markdown",
      "metadata": {
        "id": "DPxYSvehUACr"
      },
      "source": [
        "## Dataset creation\n",
        "\n",
        "We need to create the 3 different inputs for each sentence"
      ]
    },
    {
      "cell_type": "code",
      "metadata": {
        "id": "V63ezeKGMrE7"
      },
      "source": [
        "def get_ids(tokens):\n",
        "  return tokenizer.convert_tokens_to_ids(tokens)\n",
        "\n",
        "def get_mask(tokens):\n",
        "  return np.char.not_equal(tokens, \"[PAD]\").astype(int)\n",
        "\n",
        "def get_segments(tokens):\n",
        "  seg_ids = []\n",
        "  current_seg_id = 0\n",
        "  for tok in tokens:\n",
        "    seg_ids.append(current_seg_id)\n",
        "    if tok == \"[SEP]\":\n",
        "      current_seg_id = 1 - current_seg_id\n",
        "  return seg_ids"
      ],
      "execution_count": 30,
      "outputs": []
    },
    {
      "cell_type": "markdown",
      "metadata": {
        "id": "Lt41coASMrCZ"
      },
      "source": [
        "We will create padded batches (so we pad sentences for each batch independently), this way we add the minimum of padding tokens possible. For that, we sort sentences by length, apply padded_batches and then shuffle"
      ]
    },
    {
      "cell_type": "code",
      "metadata": {
        "id": "9KxmkjqQT4z4"
      },
      "source": [
        "data_with_len = [[sent, data_labels[i], len(sent)] for i, sent in enumerate(data_inputs)]\n",
        "random.shuffle(data_with_len)\n",
        "data_with_len.sort(key=lambda x: x[2])\n",
        "sorted_all = [([get_ids(sent_lab[0]),\n",
        "                get_mask(sent_lab[0]),\n",
        "                get_segments(sent_lab[0])],\n",
        "               sent_lab[1])\n",
        "              for sent_lab in data_with_len if sent_lab[2] > 7]"
      ],
      "execution_count": 31,
      "outputs": []
    },
    {
      "cell_type": "code",
      "metadata": {
        "id": "nPmlYjoA8VjN"
      },
      "source": [
        "# A list is a type of iterator so it can be used as generator for a dataset\n",
        "all_dataset = tf.data.Dataset.from_generator(lambda: sorted_all,\n",
        "                                             output_types=(tf.int32, tf.int32))"
      ],
      "execution_count": 32,
      "outputs": []
    },
    {
      "cell_type": "code",
      "metadata": {
        "colab": {
          "base_uri": "https://localhost:8080/"
        },
        "id": "eau1ZObX8XJ4",
        "outputId": "53049713-4233-478d-f31b-67bf1d5e3f27"
      },
      "source": [
        "next(iter(all_dataset))"
      ],
      "execution_count": 33,
      "outputs": [
        {
          "output_type": "execute_result",
          "data": {
            "text/plain": [
              "(<tf.Tensor: shape=(3, 8), dtype=int32, numpy=\n",
              " array([[ 101, 8840, 2140,  999, 2215, 2032, 1029,  102],\n",
              "        [   1,    1,    1,    1,    1,    1,    1,    1],\n",
              "        [   0,    0,    0,    0,    0,    0,    0,    0]], dtype=int32)>,\n",
              " <tf.Tensor: shape=(), dtype=int32, numpy=1>)"
            ]
          },
          "metadata": {},
          "execution_count": 33
        }
      ]
    },
    {
      "cell_type": "code",
      "metadata": {
        "id": "g1dlnVoU9BHY"
      },
      "source": [
        "BATCH_SIZE = 32\n",
        "all_batched = all_dataset.padded_batch(BATCH_SIZE, padded_shapes=((None, ), ()))"
      ],
      "execution_count": 34,
      "outputs": []
    },
    {
      "cell_type": "code",
      "metadata": {
        "colab": {
          "base_uri": "https://localhost:8080/"
        },
        "id": "_1AIS4pL9BE9",
        "outputId": "7d8ca66e-bb8b-4e73-d5c6-c87401f1494c"
      },
      "source": [
        "next(iter(all_dataset))"
      ],
      "execution_count": 35,
      "outputs": [
        {
          "output_type": "execute_result",
          "data": {
            "text/plain": [
              "(<tf.Tensor: shape=(3, 8), dtype=int32, numpy=\n",
              " array([[ 101, 8840, 2140,  999, 2215, 2032, 1029,  102],\n",
              "        [   1,    1,    1,    1,    1,    1,    1,    1],\n",
              "        [   0,    0,    0,    0,    0,    0,    0,    0]], dtype=int32)>,\n",
              " <tf.Tensor: shape=(), dtype=int32, numpy=1>)"
            ]
          },
          "metadata": {},
          "execution_count": 35
        }
      ]
    },
    {
      "cell_type": "code",
      "metadata": {
        "id": "7mOG3GNO8Zec"
      },
      "source": [
        "import math\n",
        "NB_BATCHES = math.ceil(len(sorted_all) / BATCH_SIZE)\n",
        "NB_BATCHES_TEST = NB_BATCHES // 10\n",
        "all_batched.shuffle(NB_BATCHES)\n",
        "test_dataset = all_batched.take(NB_BATCHES_TEST)\n",
        "train_dataset = all_batched.skip(NB_BATCHES_TEST)"
      ],
      "execution_count": 46,
      "outputs": []
    },
    {
      "cell_type": "markdown",
      "metadata": {
        "id": "IwsRtKqMaGCP"
      },
      "source": [
        "## Stage 3: Model Building"
      ]
    },
    {
      "cell_type": "code",
      "metadata": {
        "colab": {
          "base_uri": "https://localhost:8080/"
        },
        "id": "MV4oVlkHX90k",
        "outputId": "ba80cf6e-05b7-4504-c1be-70941ab60a05"
      },
      "source": [
        "my_sent = [\"[CLS]\"] + tokenizer.tokenize(\"Roses are red.\") + [\"[SEP]\"]\n",
        "bert_layer([tf.expand_dims(tf.cast(get_ids(my_sent), tf.int32), 0),\n",
        "            tf.expand_dims(tf.cast(get_mask(my_sent), tf.int32), 0),\n",
        "            tf.expand_dims(tf.cast(get_segments(my_sent), tf.int32), 0)])"
      ],
      "execution_count": 36,
      "outputs": [
        {
          "output_type": "execute_result",
          "data": {
            "text/plain": [
              "[<tf.Tensor: shape=(1, 768), dtype=float32, numpy=\n",
              " array([[-9.2793554e-01, -4.1033509e-01, -9.6575499e-01,  9.0731776e-01,\n",
              "          8.1291354e-01, -1.7417417e-01,  9.1123438e-01,  3.4195203e-01,\n",
              "         -8.7452114e-01, -9.9998927e-01, -7.7840972e-01,  9.6938515e-01,\n",
              "          9.8616058e-01,  6.3696289e-01,  9.4863123e-01, -7.5119293e-01,\n",
              "         -4.5833921e-01, -7.0810443e-01,  4.6209815e-01, -6.5792698e-01,\n",
              "          7.6041454e-01,  9.9999493e-01, -3.9686066e-01,  3.4416592e-01,\n",
              "          6.1648852e-01,  9.9440002e-01, -7.7663362e-01,  9.3831646e-01,\n",
              "          9.5945215e-01,  7.3287922e-01, -6.9343668e-01,  2.9308018e-01,\n",
              "         -9.9378544e-01, -1.6455163e-01, -9.6701956e-01, -9.9554962e-01,\n",
              "          5.3293514e-01, -6.8806076e-01,  1.3471684e-02,  2.9819751e-02,\n",
              "         -9.1835642e-01,  4.2052612e-01,  9.9998891e-01,  2.5267610e-01,\n",
              "          6.0623527e-01, -3.5075003e-01, -1.0000000e+00,  4.9758524e-01,\n",
              "         -8.9518732e-01,  9.6256077e-01,  9.4373047e-01,  9.0328538e-01,\n",
              "          1.5469949e-01,  5.8614337e-01,  5.8086026e-01, -4.0505284e-01,\n",
              "         -2.7664354e-02,  2.9804581e-01, -2.8307557e-01, -6.4742422e-01,\n",
              "         -6.5152353e-01,  5.4384702e-01, -9.5630193e-01, -9.2275029e-01,\n",
              "          9.6146280e-01,  8.2747513e-01, -3.5011217e-01, -4.0640545e-01,\n",
              "         -8.7431565e-02, -9.9873975e-02,  8.9668822e-01,  3.0093139e-01,\n",
              "         -1.5112895e-01, -8.5271341e-01,  8.0959225e-01,  4.0098903e-01,\n",
              "         -6.6160589e-01,  1.0000000e+00, -6.1624610e-01, -9.8640716e-01,\n",
              "          8.9094287e-01,  8.1115746e-01,  5.8139467e-01, -6.3387293e-01,\n",
              "          3.7819752e-01, -1.0000000e+00,  6.7635107e-01, -2.3061253e-01,\n",
              "         -9.9255252e-01,  3.8546088e-01,  6.5765035e-01, -2.9010537e-01,\n",
              "          4.4683212e-01,  6.2852418e-01, -5.5840909e-01, -6.6529500e-01,\n",
              "         -4.7227216e-01, -9.2803925e-01, -3.5447222e-01, -6.1973572e-01,\n",
              "          1.2453466e-01, -3.4890547e-01, -4.2318395e-01, -4.2083472e-01,\n",
              "          4.5658839e-01, -6.1447066e-01, -5.1524305e-01,  5.0190949e-01,\n",
              "          4.2914736e-01,  7.5982177e-01,  4.3751654e-01, -4.3359792e-01,\n",
              "          6.3096172e-01, -9.5974308e-01,  7.7387726e-01, -3.9573768e-01,\n",
              "         -9.8735446e-01, -6.7318022e-01, -9.9299634e-01,  7.7780002e-01,\n",
              "         -5.0585598e-01, -3.1999078e-01,  9.6938866e-01, -3.5162017e-01,\n",
              "          3.7909195e-01, -2.2164918e-01, -9.5150560e-01, -1.0000000e+00,\n",
              "         -8.8042670e-01, -8.3471298e-01, -2.7732110e-01, -4.7046104e-01,\n",
              "         -9.8371196e-01, -9.5673019e-01,  6.6112065e-01,  9.5602578e-01,\n",
              "          1.6218896e-01,  9.9996138e-01, -5.1120561e-01,  9.5953053e-01,\n",
              "         -5.5860972e-01, -8.0022097e-01,  8.4854370e-01, -5.5832034e-01,\n",
              "          8.3373833e-01,  2.6314914e-01, -7.3384655e-01,  3.1618926e-01,\n",
              "         -4.8330578e-01,  6.8744981e-01, -7.9488951e-01, -3.8129809e-01,\n",
              "         -8.7170595e-01, -9.4948792e-01, -3.6246008e-01,  9.5117557e-01,\n",
              "         -7.6252037e-01, -9.6127796e-01, -1.5329392e-01, -4.0246326e-01,\n",
              "         -5.6981528e-01,  8.5247582e-01,  7.9981780e-01,  5.3358626e-01,\n",
              "         -6.9654644e-01,  4.8427221e-01,  2.2444043e-01,  7.3119509e-01,\n",
              "         -8.1820792e-01, -3.5814905e-01,  5.3202832e-01, -4.4167599e-01,\n",
              "         -9.2572081e-01, -9.8760724e-01, -5.0700754e-01,  5.3148538e-01,\n",
              "          9.9382716e-01,  7.6617509e-01,  4.1239282e-01,  8.8327014e-01,\n",
              "         -3.8566619e-01,  8.8185012e-01, -9.6734512e-01,  9.8640740e-01,\n",
              "         -3.1353521e-01,  3.5736373e-01, -6.5759009e-01,  2.7009690e-01,\n",
              "         -8.5911286e-01,  2.3200361e-01,  8.6285287e-01, -9.0366226e-01,\n",
              "         -7.9460990e-01, -2.8269887e-01, -4.7658357e-01, -5.0109714e-01,\n",
              "         -8.8042217e-01,  5.4558599e-01, -4.4197729e-01, -5.7772887e-01,\n",
              "         -1.2580985e-01,  9.0603191e-01,  9.8056227e-01,  8.4425324e-01,\n",
              "          5.2011955e-01,  7.8057951e-01, -9.2341423e-01, -5.8724338e-01,\n",
              "          2.3475438e-01,  2.9774669e-01,  3.5446361e-01,  9.9621856e-01,\n",
              "         -8.0123758e-01, -2.7999824e-01, -9.3994880e-01, -9.8375195e-01,\n",
              "          3.8299240e-02, -9.2882174e-01, -2.9413754e-01, -7.0060080e-01,\n",
              "          7.6786357e-01, -3.5192183e-01,  6.5768391e-01,  5.5410677e-01,\n",
              "         -9.9045932e-01, -7.8043401e-01,  5.5027264e-01, -5.0393289e-01,\n",
              "          5.5685246e-01, -3.5322422e-01,  7.8634977e-01,  9.6960706e-01,\n",
              "         -6.5410179e-01,  7.3423278e-01,  8.8199657e-01, -9.1477191e-01,\n",
              "         -7.8253454e-01,  8.5274112e-01, -4.3866757e-01,  8.2417214e-01,\n",
              "         -7.7735442e-01,  9.9162704e-01,  9.4804847e-01,  7.7440131e-01,\n",
              "         -9.5281178e-01, -7.5240028e-01, -8.6539096e-01, -8.1066501e-01,\n",
              "         -1.9108525e-01,  6.2254079e-02,  9.3934274e-01,  6.6015512e-01,\n",
              "          5.1039267e-01,  3.0385536e-01, -7.5878596e-01,  9.9794716e-01,\n",
              "         -8.3939058e-01, -9.7382164e-01, -6.9680810e-01, -4.7122574e-01,\n",
              "         -9.9213988e-01,  9.2733681e-01,  3.1111810e-01,  6.1714846e-01,\n",
              "         -5.9324521e-01, -7.3074394e-01, -9.7408116e-01,  9.1418397e-01,\n",
              "          2.3510671e-01,  9.9023271e-01, -4.9807528e-01, -9.5973951e-01,\n",
              "         -7.6237088e-01, -9.3091327e-01, -4.3206982e-02, -2.1311617e-01,\n",
              "         -6.0608506e-01, -2.8161069e-02, -9.6971846e-01,  6.3624400e-01,\n",
              "          6.3531625e-01,  5.3790540e-01, -8.9103615e-01,  9.9930316e-01,\n",
              "          1.0000000e+00,  9.7300369e-01,  9.0139687e-01,  8.8746637e-01,\n",
              "         -9.9995887e-01, -6.9002151e-01,  9.9999803e-01, -9.9373060e-01,\n",
              "         -1.0000000e+00, -9.3751073e-01, -8.1225318e-01,  2.7066055e-01,\n",
              "         -1.0000000e+00, -2.8707883e-01, -1.5092003e-01, -9.3114030e-01,\n",
              "          8.1855482e-01,  9.7832906e-01,  9.9496561e-01, -1.0000000e+00,\n",
              "          8.8145345e-01,  9.3084300e-01, -7.0602691e-01,  9.7676706e-01,\n",
              "         -6.0832989e-01,  9.7554344e-01,  5.9301919e-01,  5.5431890e-01,\n",
              "         -2.4430706e-01,  4.2284331e-01, -9.6806622e-01, -9.1415834e-01,\n",
              "         -7.7570260e-01, -7.7975315e-01,  9.9887347e-01,  2.6752540e-01,\n",
              "         -7.7068079e-01, -9.3097037e-01,  6.9825810e-01, -1.7943573e-01,\n",
              "          1.4864472e-01, -9.6940428e-01, -3.2719943e-01,  7.6922238e-01,\n",
              "          8.3843738e-01,  2.7436298e-01,  4.4667351e-01, -6.8823385e-01,\n",
              "          4.3852517e-01, -6.9621034e-02,  2.8388527e-01,  6.9668484e-01,\n",
              "         -9.5527273e-01, -5.4968441e-01, -3.8956094e-01,  3.7522241e-01,\n",
              "         -7.6476198e-01, -9.5412296e-01,  9.6972120e-01, -4.8606637e-01,\n",
              "          9.7220576e-01,  1.0000000e+00,  7.6481348e-01, -9.1330361e-01,\n",
              "          6.5708256e-01,  4.3185174e-01, -7.0107925e-01,  1.0000000e+00,\n",
              "          8.6733693e-01, -9.8366958e-01, -5.8447182e-01,  7.7954078e-01,\n",
              "         -6.7788982e-01, -7.7452362e-01,  9.9966103e-01, -3.4109268e-01,\n",
              "         -8.1447965e-01, -6.4806885e-01,  9.8627293e-01, -9.9408931e-01,\n",
              "          9.9764305e-01, -8.9453769e-01, -9.7999704e-01,  9.6047771e-01,\n",
              "          9.4923192e-01, -6.8382794e-01, -7.1789837e-01,  2.8670633e-01,\n",
              "         -7.6004088e-01,  4.7833201e-01, -9.5196331e-01,  8.0832094e-01,\n",
              "          5.2761418e-01, -1.6766554e-01,  9.1626793e-01, -8.8789886e-01,\n",
              "         -5.9343100e-01,  3.9030772e-01, -7.7692300e-01, -3.8481787e-01,\n",
              "          9.5903808e-01,  6.7838109e-01, -4.0870258e-01, -1.9968417e-02,\n",
              "         -4.6842843e-01, -7.4114299e-01, -9.7373438e-01,  6.2325382e-01,\n",
              "          1.0000000e+00, -4.3185487e-01,  8.9434856e-01, -5.7256931e-01,\n",
              "         -1.8949844e-02,  7.2483130e-02,  6.0542125e-01,  5.6456387e-01,\n",
              "         -5.0403476e-01, -8.3365303e-01,  9.2037851e-01, -9.7066468e-01,\n",
              "         -9.9262732e-01,  8.6311936e-01,  2.3281835e-01, -3.0533823e-01,\n",
              "          9.9999923e-01,  6.5102428e-01,  3.6955842e-01,  5.1695120e-01,\n",
              "          9.8993737e-01, -5.1057838e-02,  5.1978070e-01,  9.1351938e-01,\n",
              "          9.8934424e-01, -4.0651417e-01,  6.7222756e-01,  8.6624604e-01,\n",
              "         -9.6332079e-01, -3.9390543e-01, -7.3253411e-01,  6.6649765e-02,\n",
              "         -9.5042896e-01,  5.3676732e-02, -9.6452355e-01,  9.7859114e-01,\n",
              "          9.7252512e-01,  5.0241268e-01,  3.4261245e-01,  8.2006675e-01,\n",
              "          1.0000000e+00, -8.3706760e-01,  5.9741127e-01, -4.1720152e-01,\n",
              "          8.8128603e-01, -9.9991113e-01, -8.3777809e-01, -4.6696192e-01,\n",
              "         -2.7249643e-01, -9.0381426e-01, -4.5863754e-01,  3.9183319e-01,\n",
              "         -9.7905940e-01,  9.1019624e-01,  8.2955515e-01, -9.9289358e-01,\n",
              "         -9.9393338e-01, -5.5882096e-01,  7.8601211e-01,  2.9860073e-01,\n",
              "         -9.9431443e-01, -8.1672519e-01, -6.5843183e-01,  9.0782171e-01,\n",
              "         -4.8459575e-01, -9.5957863e-01, -5.2470052e-01, -4.2652297e-01,\n",
              "          5.3944707e-01, -3.5142952e-01,  6.0398805e-01,  8.8423645e-01,\n",
              "          6.9196039e-01, -7.7355343e-01, -3.4998661e-01, -1.8210579e-01,\n",
              "         -8.0959237e-01,  9.0684152e-01, -8.0970615e-01, -9.7624749e-01,\n",
              "         -2.7070534e-01,  1.0000000e+00, -5.5433244e-01,  8.9376020e-01,\n",
              "          7.5522965e-01,  7.8031600e-01, -1.9922529e-01,  3.3515099e-01,\n",
              "          9.5594394e-01,  3.8226950e-01, -7.5719661e-01, -9.3931985e-01,\n",
              "         -6.3558131e-01, -6.0732895e-01,  7.0057154e-01,  7.2361296e-01,\n",
              "          7.2901094e-01,  8.6588335e-01,  7.6453710e-01,  2.0882085e-01,\n",
              "         -6.9852650e-02, -5.6440977e-04,  9.9979937e-01, -4.4409993e-01,\n",
              "         -1.8067124e-01, -4.8985925e-01, -2.9143131e-01, -4.2540902e-01,\n",
              "         -1.9874924e-01,  1.0000000e+00,  3.5660201e-01,  7.7566141e-01,\n",
              "         -9.9382377e-01, -9.2807084e-01, -9.3173838e-01,  1.0000000e+00,\n",
              "          8.5004026e-01, -7.6071572e-01,  7.1803635e-01,  7.7546901e-01,\n",
              "         -1.7516173e-01,  8.0946916e-01, -3.3654755e-01, -3.0238500e-01,\n",
              "          4.5746776e-01,  3.0804366e-01,  9.7023219e-01, -6.1890370e-01,\n",
              "         -9.7572124e-01, -5.9494877e-01,  5.6339061e-01, -9.6665102e-01,\n",
              "          9.9998140e-01, -6.1034024e-01, -3.6057484e-01, -4.9643549e-01,\n",
              "         -4.9143574e-01,  4.4781718e-01,  2.8738452e-02, -9.8315477e-01,\n",
              "         -3.4738714e-01,  3.0911025e-01,  9.6663898e-01,  3.7586385e-01,\n",
              "         -6.4110661e-01, -8.9026475e-01,  8.9226902e-01,  8.3199978e-01,\n",
              "         -9.5913202e-01, -9.5776635e-01,  9.7116625e-01, -9.8497111e-01,\n",
              "          7.6781911e-01,  1.0000000e+00,  3.8399875e-01,  4.3805075e-01,\n",
              "          3.5229206e-01, -4.4613612e-01,  4.4656894e-01, -6.9063127e-01,\n",
              "          6.7442530e-01, -9.5915586e-01, -4.5328486e-01, -2.9615241e-01,\n",
              "          3.5768425e-01, -2.4115436e-01, -5.8831328e-01,  7.6330817e-01,\n",
              "          3.1366709e-01, -6.0310066e-01, -6.8479538e-01, -2.6014689e-01,\n",
              "          5.7516009e-01,  9.1684419e-01, -3.5679993e-01, -2.3155759e-01,\n",
              "          1.1572769e-01, -1.7711881e-01, -9.4756359e-01, -5.2314180e-01,\n",
              "         -6.0461766e-01, -9.9999851e-01,  5.4166764e-01, -1.0000000e+00,\n",
              "          6.6000175e-01,  3.3903652e-01, -2.5796223e-01,  8.9843392e-01,\n",
              "          3.5850313e-01,  7.8009176e-01, -8.6345607e-01, -9.0424365e-01,\n",
              "          2.3517446e-01,  8.4754211e-01, -4.8370466e-01, -7.7643710e-01,\n",
              "         -7.7708668e-01,  4.5154673e-01, -1.2064376e-01,  3.4533769e-01,\n",
              "         -7.5830436e-01,  7.3866343e-01, -2.5487798e-01,  1.0000000e+00,\n",
              "          1.5672641e-01, -6.4717263e-01, -9.8084646e-01,  3.2154480e-01,\n",
              "         -3.4947979e-01,  1.0000000e+00, -8.8808602e-01, -9.7075868e-01,\n",
              "          4.1761354e-01, -6.5950596e-01, -8.3906168e-01,  4.5644590e-01,\n",
              "          7.0839033e-02, -8.5964870e-01, -9.6872562e-01,  9.5658392e-01,\n",
              "          8.9531106e-01, -6.7916250e-01,  7.9199600e-01, -3.7720475e-01,\n",
              "         -5.9968197e-01,  1.8921919e-01,  9.3477029e-01,  9.8794442e-01,\n",
              "          7.0796484e-01,  9.2108768e-01, -1.5954019e-01, -4.8346758e-01,\n",
              "          9.7664046e-01,  2.9525185e-01,  5.3205329e-01,  3.2265788e-01,\n",
              "          1.0000000e+00,  4.9799159e-01, -9.3100077e-01, -3.2474393e-01,\n",
              "         -9.8284167e-01, -2.6799604e-01, -9.5216602e-01,  4.5391658e-01,\n",
              "          3.9437208e-01,  9.2619008e-01, -3.0975193e-01,  9.6936649e-01,\n",
              "         -9.4026369e-01,  1.6679829e-01, -8.3223283e-01, -7.0441079e-01,\n",
              "          5.4937023e-01, -9.3037331e-01, -9.8870242e-01, -9.9157226e-01,\n",
              "          7.3868251e-01, -5.2632684e-01, -9.2953131e-02,  2.7795574e-01,\n",
              "          2.5438544e-01,  5.5589265e-01,  5.7078016e-01, -1.0000000e+00,\n",
              "          9.5199960e-01,  5.8298081e-01,  9.1339391e-01,  9.7862440e-01,\n",
              "          7.4903202e-01,  7.3997170e-01,  3.7118629e-01, -9.8966068e-01,\n",
              "         -9.8484844e-01, -5.3139764e-01, -3.8897943e-01,  8.4941369e-01,\n",
              "          8.1701684e-01,  8.9269674e-01,  6.1689162e-01, -5.7528448e-01,\n",
              "         -2.8646719e-01, -7.6057053e-01, -7.7893913e-01, -9.9444175e-01,\n",
              "          5.7218796e-01, -7.7219480e-01, -9.5769620e-01,  9.6742070e-01,\n",
              "         -2.1797940e-01, -1.7555270e-01, -3.2655695e-01, -9.0677786e-01,\n",
              "          9.3559736e-01,  7.6623935e-01,  1.9059570e-01,  1.5392874e-01,\n",
              "          5.4021728e-01,  9.0248352e-01,  9.4038892e-01,  9.8888487e-01,\n",
              "         -9.1014391e-01,  7.8835970e-01, -8.3138287e-01,  6.1119515e-01,\n",
              "          8.2166910e-01, -9.4196767e-01,  3.7513292e-01,  5.4940557e-01,\n",
              "         -6.1531830e-01,  3.9150169e-01, -3.6662686e-01, -9.7475243e-01,\n",
              "          8.8887835e-01, -3.6283794e-01,  6.5320539e-01, -5.3506976e-01,\n",
              "         -2.2128008e-02, -4.4015795e-01, -3.8756716e-01, -7.8935486e-01,\n",
              "         -6.7090219e-01,  6.8737006e-01,  4.3467981e-01,  9.0751082e-01,\n",
              "          9.1395396e-01, -1.0754476e-01, -8.5499167e-01, -3.2296565e-01,\n",
              "         -7.8099257e-01, -9.3507534e-01,  9.5662105e-01, -2.4696709e-01,\n",
              "         -1.8467562e-01,  7.1814167e-01,  1.6683371e-01,  9.5427251e-01,\n",
              "          5.2027941e-01, -5.1134628e-01, -3.5843009e-01, -7.7673447e-01,\n",
              "          9.0137887e-01, -6.4581001e-01, -6.6820300e-01, -6.7957550e-01,\n",
              "          8.3088923e-01,  4.5693997e-01,  9.9999809e-01, -8.6158729e-01,\n",
              "         -9.5270854e-01, -5.7405460e-01, -4.7562313e-01,  5.1158571e-01,\n",
              "         -7.0260698e-01, -1.0000000e+00,  5.0562429e-01, -6.5204555e-01,\n",
              "          8.1373060e-01, -8.7213904e-01,  8.0931967e-01, -8.1822187e-01,\n",
              "         -9.8819637e-01, -4.0008229e-01,  3.3894518e-01,  7.6701355e-01,\n",
              "         -5.1635253e-01, -8.7594062e-01,  6.1595225e-01, -7.5270945e-01,\n",
              "          9.8932844e-01,  8.9571065e-01, -6.1425012e-01,  2.1964978e-01,\n",
              "          7.5275433e-01, -8.2038951e-01, -8.0569118e-01,  9.3803924e-01]],\n",
              "       dtype=float32)>, <tf.Tensor: shape=(1, 6, 768), dtype=float32, numpy=\n",
              " array([[[-0.07947466,  0.00580816, -0.31414083, ..., -0.45097268,\n",
              "           0.29333162,  0.2338766 ],\n",
              "         [ 0.39315978,  0.50336254,  0.24021372, ..., -0.32635593,\n",
              "           0.34986055,  0.20673239],\n",
              "         [ 0.357892  ,  0.10767082, -0.04988838, ..., -0.50822735,\n",
              "           0.2504878 , -0.26268777],\n",
              "         [-0.29892215, -0.24708748,  0.07151413, ..., -0.33810112,\n",
              "           0.1269945 , -0.09681904],\n",
              "         [-0.36815402, -0.7146522 , -0.2103253 , ...,  0.3539514 ,\n",
              "           0.334386  , -0.6233475 ],\n",
              "         [ 0.88692254, -0.16996942, -0.29173648, ...,  0.05816409,\n",
              "          -0.57759887, -0.32075337]]], dtype=float32)>]"
            ]
          },
          "metadata": {},
          "execution_count": 36
        }
      ]
    },
    {
      "cell_type": "code",
      "metadata": {
        "id": "Uex6GT0XX9x9"
      },
      "source": [
        "class DCNNBERTEmbedding(tf.keras.Model):\n",
        "    \n",
        "    def __init__(self,\n",
        "                 nb_filters=50,\n",
        "                 FFN_units=512,\n",
        "                 nb_classes=2,\n",
        "                 dropout_rate=0.1,\n",
        "                 name=\"dcnn\"):\n",
        "        super(DCNNBERTEmbedding, self).__init__(name=name)\n",
        "        \n",
        "        self.bert_layer = hub.KerasLayer(\n",
        "            \"https://tfhub.dev/tensorflow/bert_en_uncased_L-12_H-768_A-12/1\",\n",
        "            trainable=False)\n",
        "        \n",
        "        self.bigram = layers.Conv1D(filters=nb_filters,\n",
        "                                    kernel_size=2,\n",
        "                                    padding=\"valid\",\n",
        "                                    activation=\"relu\")\n",
        "        self.trigram = layers.Conv1D(filters=nb_filters,\n",
        "                                     kernel_size=3,\n",
        "                                     padding=\"valid\",\n",
        "                                     activation=\"relu\")\n",
        "        self.fourgram = layers.Conv1D(filters=nb_filters,\n",
        "                                      kernel_size=4,\n",
        "                                      padding=\"valid\",\n",
        "                                      activation=\"relu\")\n",
        "        self.pool = layers.GlobalMaxPool1D()\n",
        "        \n",
        "        self.dense_1 = layers.Dense(units=FFN_units, activation=\"relu\")\n",
        "        self.dropout = layers.Dropout(rate=dropout_rate)\n",
        "        if nb_classes == 2:\n",
        "            self.last_dense = layers.Dense(units=1,\n",
        "                                           activation=\"sigmoid\")\n",
        "        else:\n",
        "            self.last_dense = layers.Dense(units=nb_classes,\n",
        "                                           activation=\"softmax\")\n",
        "    \n",
        "    def embed_with_bert(self, all_tokens):\n",
        "        _, embs = self.bert_layer([all_tokens[:, 0, :],\n",
        "                                   all_tokens[:, 1, :],\n",
        "                                   all_tokens[:, 2, :]])\n",
        "        return embs\n",
        "    \n",
        "    def call(self, inputs, training):\n",
        "        x = self.embed_with_bert(inputs)\n",
        "\n",
        "        x_1 = self.bigram(x) # (batch_size, nb_filters, seq_len-1)\n",
        "        x_1 = self.pool(x_1) # (batch_size, nb_filters)\n",
        "        x_2 = self.trigram(x) # (batch_size, nb_filters, seq_len-2)\n",
        "        x_2 = self.pool(x_2) # (batch_size, nb_filters)\n",
        "        x_3 = self.fourgram(x) # (batch_size, nb_filters, seq_len-3)\n",
        "        x_3 = self.pool(x_3) # (batch_size, nb_filters)\n",
        "        \n",
        "        merged = tf.concat([x_1, x_2, x_3], axis=-1) # (batch_size, 3 * nb_filters)\n",
        "        merged = self.dense_1(merged)\n",
        "        merged = self.dropout(merged, training)\n",
        "        output = self.last_dense(merged)\n",
        "        \n",
        "        return output"
      ],
      "execution_count": 37,
      "outputs": []
    },
    {
      "cell_type": "markdown",
      "metadata": {
        "id": "yY8mLwrcBv05"
      },
      "source": [
        "# Stage 4: Training"
      ]
    },
    {
      "cell_type": "code",
      "metadata": {
        "id": "AcS6SpuGT4v2"
      },
      "source": [
        "NB_FILTERS = 100\n",
        "FFN_UNITS = 256\n",
        "NB_CLASSES = 2\n",
        "DROPOUT_RATE = 0.2\n",
        "BATCH_SIZE = 32\n",
        "NB_EPOCHS = 5"
      ],
      "execution_count": 48,
      "outputs": []
    },
    {
      "cell_type": "code",
      "metadata": {
        "id": "0IevQ2x-T4sm"
      },
      "source": [
        "Dcnn = DCNNBERTEmbedding(nb_filters=NB_FILTERS,\n",
        "                         FFN_units=FFN_UNITS,\n",
        "                         nb_classes=NB_CLASSES,\n",
        "                         dropout_rate=DROPOUT_RATE)"
      ],
      "execution_count": 49,
      "outputs": []
    },
    {
      "cell_type": "code",
      "metadata": {
        "id": "P6EPd40kT4pQ"
      },
      "source": [
        "if NB_CLASSES == 2:\n",
        "    Dcnn.compile(loss=\"binary_crossentropy\",\n",
        "                 optimizer=\"adam\",\n",
        "                 metrics=[\"accuracy\"])\n",
        "else:\n",
        "    Dcnn.compile(loss=\"sparse_categorical_crossentropy\",\n",
        "                 optimizer=\"adam\",\n",
        "                 metrics=[\"sparse_categorical_accuracy\"])"
      ],
      "execution_count": 50,
      "outputs": []
    },
    {
      "cell_type": "code",
      "metadata": {
        "id": "TmqKZPBgT4mK"
      },
      "source": [
        "checkpoint_path = \"./content/checkpoints/\"\n",
        "\n",
        "ckpt = tf.train.Checkpoint(Dcnn=Dcnn)\n",
        "\n",
        "ckpt_manager = tf.train.CheckpointManager(ckpt, checkpoint_path, max_to_keep=1)\n",
        "\n",
        "if ckpt_manager.latest_checkpoint:\n",
        "    ckpt.restore(ckpt_manager.latest_checkpoint)\n",
        "    print(\"Latest Checkpoint restored!\")"
      ],
      "execution_count": 51,
      "outputs": []
    },
    {
      "cell_type": "code",
      "metadata": {
        "id": "GOOk2OQRT4fn"
      },
      "source": [
        "class MyCustomCallback(tf.keras.callbacks.Callback):\n",
        "\n",
        "    def on_epoch_end(self, epoch, logs=None):\n",
        "        ckpt_manager.save()\n",
        "        print(\"Checkpoint saved at {}.\".format(checkpoint_path))"
      ],
      "execution_count": 52,
      "outputs": []
    },
    {
      "cell_type": "code",
      "metadata": {
        "id": "8kANXTP0CF92"
      },
      "source": [
        "Dcnn.fit(train_dataset,\n",
        "         epochs=NB_EPOCHS,\n",
        "         callbacks=[MyCustomCallback()])"
      ],
      "execution_count": null,
      "outputs": []
    },
    {
      "cell_type": "markdown",
      "metadata": {
        "id": "DccLToklDs-9"
      },
      "source": [
        "## Stage 5: Evaluation"
      ]
    },
    {
      "cell_type": "code",
      "metadata": {
        "id": "TCwWxAR5CF7M"
      },
      "source": [
        "results = Dcnn.evaluate(test_dataset)\n",
        "print(results)"
      ],
      "execution_count": null,
      "outputs": []
    },
    {
      "cell_type": "code",
      "metadata": {
        "id": "yBzy1p5ACF43"
      },
      "source": [
        "def get_prediction(sentence):\n",
        "    tokens = encode_sentence(sentence)\n",
        "\n",
        "    input_ids = get_ids(tokens)\n",
        "    input_mask = get_mask(tokens)\n",
        "    segment_ids = get_segments(tokens)\n",
        "\n",
        "    inputs = tf.stack(\n",
        "        [tf.cast(input_ids, dtype=tf.int32),\n",
        "         tf.cast(input_mask, dtype=tf.int32),\n",
        "         tf.cast(segment_ids, dtype=tf.int32)],\n",
        "         axis=0)\n",
        "    inputs = tf.expand_dims(inputs, 0)\n",
        "\n",
        "    output = Dcnn(inputs, training=False)\n",
        "\n",
        "    sentiment = math.floor(output*2)\n",
        "\n",
        "    if sentiment == 0:\n",
        "        print(\"Output of the model: {}\\nPredicted sentiment: negative.\".format(\n",
        "            output))\n",
        "    elif sentiment == 1:\n",
        "        print(\"Output of the model: {}\\nPredicted sentiment: positive.\".format(\n",
        "            output))"
      ],
      "execution_count": null,
      "outputs": []
    },
    {
      "cell_type": "code",
      "metadata": {
        "id": "gPNeSQWSCF18"
      },
      "source": [
        "get_prediction(\"This movie was pretty interesting.\")\n",
        "get_prediction(\"I'd rather not do that again.\")"
      ],
      "execution_count": null,
      "outputs": []
    }
  ]
}